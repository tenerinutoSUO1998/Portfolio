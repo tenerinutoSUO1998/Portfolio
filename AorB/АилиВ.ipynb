{
 "cells": [
  {
   "cell_type": "markdown",
   "metadata": {
    "toc": true
   },
   "source": [
    "<h1>Table of Contents<span class=\"tocSkip\"></span></h1>\n",
    "<div class=\"toc\"><ul class=\"toc-item\"><li><span><a href=\"#Предобработка-данных\" data-toc-modified-id=\"Предобработка-данных-1\"><span class=\"toc-item-num\">1&nbsp;&nbsp;</span>Предобработка данных</a></span></li><li><span><a href=\"#Приоритизация-гипотез\" data-toc-modified-id=\"Приоритизация-гипотез-2\"><span class=\"toc-item-num\">2&nbsp;&nbsp;</span>Приоритизация гипотез</a></span></li><li><span><a href=\"#Анализ-A/B-теста\" data-toc-modified-id=\"Анализ-A/B-теста-3\"><span class=\"toc-item-num\">3&nbsp;&nbsp;</span>Анализ A/B-теста</a></span><ul class=\"toc-item\"><li><span><a href=\"#График-кумулятивной-выручки-по-группам\" data-toc-modified-id=\"График-кумулятивной-выручки-по-группам-3.1\"><span class=\"toc-item-num\">3.1&nbsp;&nbsp;</span>График кумулятивной выручки по группам</a></span></li><li><span><a href=\"#График-кумулятивного-среднего-чека-по-группам\" data-toc-modified-id=\"График-кумулятивного-среднего-чека-по-группам-3.2\"><span class=\"toc-item-num\">3.2&nbsp;&nbsp;</span>График кумулятивного среднего чека по группам</a></span></li><li><span><a href=\"#График-относительного-изменения-кумулятивного-среднего-чека-группы-B-к-группе-A\" data-toc-modified-id=\"График-относительного-изменения-кумулятивного-среднего-чека-группы-B-к-группе-A-3.3\"><span class=\"toc-item-num\">3.3&nbsp;&nbsp;</span>График относительного изменения кумулятивного среднего чека группы B к группе A</a></span></li><li><span><a href=\"#График-кумулятивного-среднего-количества-заказов-на-посетителя-по-группам\" data-toc-modified-id=\"График-кумулятивного-среднего-количества-заказов-на-посетителя-по-группам-3.4\"><span class=\"toc-item-num\">3.4&nbsp;&nbsp;</span>График кумулятивного среднего количества заказов на посетителя по группам</a></span></li><li><span><a href=\"#График-относительного-изменения-кумулятивного-среднего-количества-заказов-на-посетителя-группы-B-к-группе-A\" data-toc-modified-id=\"График-относительного-изменения-кумулятивного-среднего-количества-заказов-на-посетителя-группы-B-к-группе-A-3.5\"><span class=\"toc-item-num\">3.5&nbsp;&nbsp;</span>График относительного изменения кумулятивного среднего количества заказов на посетителя группы B к группе A</a></span></li><li><span><a href=\"#Точечный-график-количества-заказов-по-пользователям\" data-toc-modified-id=\"Точечный-график-количества-заказов-по-пользователям-3.6\"><span class=\"toc-item-num\">3.6&nbsp;&nbsp;</span>Точечный график количества заказов по пользователям</a></span></li><li><span><a href=\"#95-й-и-99-й-перцентили-стоимости-заказов\" data-toc-modified-id=\"95-й-и-99-й-перцентили-стоимости-заказов-3.7\"><span class=\"toc-item-num\">3.7&nbsp;&nbsp;</span>95-й и 99-й перцентили стоимости заказов</a></span></li><li><span><a href=\"#Точечный-график-стоимостей-заказов\" data-toc-modified-id=\"Точечный-график-стоимостей-заказов-3.8\"><span class=\"toc-item-num\">3.8&nbsp;&nbsp;</span>Точечный график стоимостей заказов</a></span></li><li><span><a href=\"#95-й-и-99-й-перцентили-стоимости-заказов\" data-toc-modified-id=\"95-й-и-99-й-перцентили-стоимости-заказов-3.9\"><span class=\"toc-item-num\">3.9&nbsp;&nbsp;</span>95-й и 99-й перцентили стоимости заказов</a></span></li><li><span><a href=\"#Cтатистическая-значимость-различий-в-среднем-количестве-заказов-на-посетителя-между-группами-по-«сырым»-данным\" data-toc-modified-id=\"Cтатистическая-значимость-различий-в-среднем-количестве-заказов-на-посетителя-между-группами-по-«сырым»-данным-3.10\"><span class=\"toc-item-num\">3.10&nbsp;&nbsp;</span>Cтатистическая значимость различий в среднем количестве заказов на посетителя между группами по «сырым» данным</a></span></li><li><span><a href=\"#Статистическая-значимость-различий-в-среднем-чеке-заказа-между-группами-по-«сырым»-данным\" data-toc-modified-id=\"Статистическая-значимость-различий-в-среднем-чеке-заказа-между-группами-по-«сырым»-данным-3.11\"><span class=\"toc-item-num\">3.11&nbsp;&nbsp;</span>Статистическая значимость различий в среднем чеке заказа между группами по «сырым» данным</a></span></li><li><span><a href=\"#Статистическая-значимость-различий-в-среднем-количестве-заказов-на-посетителя-между-группами-по-«очищенным»-данным\" data-toc-modified-id=\"Статистическая-значимость-различий-в-среднем-количестве-заказов-на-посетителя-между-группами-по-«очищенным»-данным-3.12\"><span class=\"toc-item-num\">3.12&nbsp;&nbsp;</span>Статистическая значимость различий в среднем количестве заказов на посетителя между группами по «очищенным» данным</a></span></li><li><span><a href=\"#Статистическая-значимость-различий-в-среднем-чеке-заказа-между-группами-по-«очищенным»-данным\" data-toc-modified-id=\"Статистическая-значимость-различий-в-среднем-чеке-заказа-между-группами-по-«очищенным»-данным-3.13\"><span class=\"toc-item-num\">3.13&nbsp;&nbsp;</span>Статистическая значимость различий в среднем чеке заказа между группами по «очищенным» данным</a></span></li></ul></li><li><span><a href=\"#Результаты-тестирования\" data-toc-modified-id=\"Результаты-тестирования-4\"><span class=\"toc-item-num\">4&nbsp;&nbsp;</span>Результаты тестирования</a></span></li></ul></div>"
   ]
  },
  {
   "cell_type": "markdown",
   "metadata": {},
   "source": [
    "# A или B?"
   ]
  },
  {
   "cell_type": "markdown",
   "metadata": {},
   "source": [
    "Вместе с отделом маркетинга был подготовлен список гипотез для увеличения выручки. \n",
    "\n",
    "*Задачами* данного исследования являются:\n",
    "- приоритизация гипотез;\n",
    "- запуск A/B-теста;\n",
    "- анализ результатов.\n",
    "\n",
    "**Описание данных**\n",
    "- Файл /datasets/hypothesis.csv.\n",
    "  - Hypothesis — краткое описание гипотезы;\n",
    "  - Reach — охват пользователей по 10-балльной шкале;\n",
    "  - Impact — влияние на пользователей по 10-балльной шкале;\n",
    "  - Confidence — уверенность в гипотезе по 10-балльной шкале;\n",
    "  - Efforts — затраты ресурсов на проверку гипотезы по 10-балльной шкале. Чем больше значение Efforts, тем дороже проверка гипотезы.\n",
    "\n",
    "\n",
    "- Файл /datasets/orders.csv.\n",
    "  - transactionId — идентификатор заказа;\n",
    "  - visitorId — идентификатор пользователя, совершившего заказ;\n",
    "  - date — дата, когда был совершён заказ;\n",
    "  - revenue — выручка заказа;\n",
    "  - group — группа A/B-теста, в которую попал заказ.\n",
    "  \n",
    "  \n",
    "- Файл /datasets/visitors.csv. Скачать датасет\n",
    "  - date — дата;\n",
    "  - group — группа A/B-теста;\n",
    "  - visitors — количество пользователей в указанную дату в указанной группе A/B-теста"
   ]
  },
  {
   "cell_type": "code",
   "execution_count": 1,
   "metadata": {},
   "outputs": [],
   "source": [
    "import pandas as pd\n",
    "import numpy as np\n",
    "import matplotlib\n",
    "import matplotlib.pyplot as plt\n",
    "from sklearn import datasets\n",
    "from scipy import stats as st\n",
    "import seaborn as sns\n",
    "import datetime as dt\n",
    "from pandas.plotting import register_matplotlib_converters\n",
    "import warnings"
   ]
  },
  {
   "cell_type": "code",
   "execution_count": 2,
   "metadata": {
    "scrolled": true
   },
   "outputs": [],
   "source": [
    "hypothesis = pd.read_csv('/datasets/hypothesis.csv')\n",
    "orders = pd.read_csv('/datasets/orders.csv')\n",
    "visitors = pd.read_csv('/datasets/visitors.csv')"
   ]
  },
  {
   "cell_type": "code",
   "execution_count": 3,
   "metadata": {
    "scrolled": false
   },
   "outputs": [
    {
     "name": "stdout",
     "output_type": "stream",
     "text": [
      "<class 'pandas.core.frame.DataFrame'>\n",
      "RangeIndex: 9 entries, 0 to 8\n",
      "Data columns (total 5 columns):\n",
      " #   Column      Non-Null Count  Dtype \n",
      "---  ------      --------------  ----- \n",
      " 0   Hypothesis  9 non-null      object\n",
      " 1   Reach       9 non-null      int64 \n",
      " 2   Impact      9 non-null      int64 \n",
      " 3   Confidence  9 non-null      int64 \n",
      " 4   Efforts     9 non-null      int64 \n",
      "dtypes: int64(4), object(1)\n",
      "memory usage: 488.0+ bytes\n"
     ]
    },
    {
     "data": {
      "text/html": [
       "<div>\n",
       "<style scoped>\n",
       "    .dataframe tbody tr th:only-of-type {\n",
       "        vertical-align: middle;\n",
       "    }\n",
       "\n",
       "    .dataframe tbody tr th {\n",
       "        vertical-align: top;\n",
       "    }\n",
       "\n",
       "    .dataframe thead th {\n",
       "        text-align: right;\n",
       "    }\n",
       "</style>\n",
       "<table border=\"1\" class=\"dataframe\">\n",
       "  <thead>\n",
       "    <tr style=\"text-align: right;\">\n",
       "      <th></th>\n",
       "      <th>Hypothesis</th>\n",
       "      <th>Reach</th>\n",
       "      <th>Impact</th>\n",
       "      <th>Confidence</th>\n",
       "      <th>Efforts</th>\n",
       "    </tr>\n",
       "  </thead>\n",
       "  <tbody>\n",
       "    <tr>\n",
       "      <th>0</th>\n",
       "      <td>Добавить два новых канала привлечения трафика, что позволит привлекать на 30% больше пользователей</td>\n",
       "      <td>3</td>\n",
       "      <td>10</td>\n",
       "      <td>8</td>\n",
       "      <td>6</td>\n",
       "    </tr>\n",
       "    <tr>\n",
       "      <th>1</th>\n",
       "      <td>Запустить собственную службу доставки, что сократит срок доставки заказов</td>\n",
       "      <td>2</td>\n",
       "      <td>5</td>\n",
       "      <td>4</td>\n",
       "      <td>10</td>\n",
       "    </tr>\n",
       "    <tr>\n",
       "      <th>2</th>\n",
       "      <td>Добавить блоки рекомендаций товаров на сайт интернет магазина, чтобы повысить конверсию и средний чек заказа</td>\n",
       "      <td>8</td>\n",
       "      <td>3</td>\n",
       "      <td>7</td>\n",
       "      <td>3</td>\n",
       "    </tr>\n",
       "    <tr>\n",
       "      <th>3</th>\n",
       "      <td>Изменить структура категорий, что увеличит конверсию, т.к. пользователи быстрее найдут нужный товар</td>\n",
       "      <td>8</td>\n",
       "      <td>3</td>\n",
       "      <td>3</td>\n",
       "      <td>8</td>\n",
       "    </tr>\n",
       "    <tr>\n",
       "      <th>4</th>\n",
       "      <td>Изменить цвет фона главной страницы, чтобы увеличить вовлеченность пользователей</td>\n",
       "      <td>3</td>\n",
       "      <td>1</td>\n",
       "      <td>1</td>\n",
       "      <td>1</td>\n",
       "    </tr>\n",
       "    <tr>\n",
       "      <th>5</th>\n",
       "      <td>Добавить страницу отзывов клиентов о магазине, что позволит увеличить количество заказов</td>\n",
       "      <td>3</td>\n",
       "      <td>2</td>\n",
       "      <td>2</td>\n",
       "      <td>3</td>\n",
       "    </tr>\n",
       "    <tr>\n",
       "      <th>6</th>\n",
       "      <td>Показать на главной странице баннеры с актуальными акциями и распродажами, чтобы увеличить конверсию</td>\n",
       "      <td>5</td>\n",
       "      <td>3</td>\n",
       "      <td>8</td>\n",
       "      <td>3</td>\n",
       "    </tr>\n",
       "    <tr>\n",
       "      <th>7</th>\n",
       "      <td>Добавить форму подписки на все основные страницы, чтобы собрать базу клиентов для email-рассылок</td>\n",
       "      <td>10</td>\n",
       "      <td>7</td>\n",
       "      <td>8</td>\n",
       "      <td>5</td>\n",
       "    </tr>\n",
       "    <tr>\n",
       "      <th>8</th>\n",
       "      <td>Запустить акцию, дающую скидку на товар в день рождения</td>\n",
       "      <td>1</td>\n",
       "      <td>9</td>\n",
       "      <td>9</td>\n",
       "      <td>5</td>\n",
       "    </tr>\n",
       "  </tbody>\n",
       "</table>\n",
       "</div>"
      ],
      "text/plain": [
       "                                                                                                     Hypothesis  \\\n",
       "0            Добавить два новых канала привлечения трафика, что позволит привлекать на 30% больше пользователей   \n",
       "1                                     Запустить собственную службу доставки, что сократит срок доставки заказов   \n",
       "2  Добавить блоки рекомендаций товаров на сайт интернет магазина, чтобы повысить конверсию и средний чек заказа   \n",
       "3           Изменить структура категорий, что увеличит конверсию, т.к. пользователи быстрее найдут нужный товар   \n",
       "4                              Изменить цвет фона главной страницы, чтобы увеличить вовлеченность пользователей   \n",
       "5                      Добавить страницу отзывов клиентов о магазине, что позволит увеличить количество заказов   \n",
       "6          Показать на главной странице баннеры с актуальными акциями и распродажами, чтобы увеличить конверсию   \n",
       "7              Добавить форму подписки на все основные страницы, чтобы собрать базу клиентов для email-рассылок   \n",
       "8                                                       Запустить акцию, дающую скидку на товар в день рождения   \n",
       "\n",
       "   Reach  Impact  Confidence  Efforts  \n",
       "0      3      10           8        6  \n",
       "1      2       5           4       10  \n",
       "2      8       3           7        3  \n",
       "3      8       3           3        8  \n",
       "4      3       1           1        1  \n",
       "5      3       2           2        3  \n",
       "6      5       3           8        3  \n",
       "7     10       7           8        5  \n",
       "8      1       9           9        5  "
      ]
     },
     "execution_count": 3,
     "metadata": {},
     "output_type": "execute_result"
    }
   ],
   "source": [
    "pd.set_option('max_colwidth', 200)\n",
    "hypothesis.info()\n",
    "hypothesis"
   ]
  },
  {
   "cell_type": "code",
   "execution_count": 4,
   "metadata": {
    "scrolled": false
   },
   "outputs": [
    {
     "name": "stdout",
     "output_type": "stream",
     "text": [
      "<class 'pandas.core.frame.DataFrame'>\n",
      "RangeIndex: 1197 entries, 0 to 1196\n",
      "Data columns (total 5 columns):\n",
      " #   Column         Non-Null Count  Dtype \n",
      "---  ------         --------------  ----- \n",
      " 0   transactionId  1197 non-null   int64 \n",
      " 1   visitorId      1197 non-null   int64 \n",
      " 2   date           1197 non-null   object\n",
      " 3   revenue        1197 non-null   int64 \n",
      " 4   group          1197 non-null   object\n",
      "dtypes: int64(3), object(2)\n",
      "memory usage: 46.9+ KB\n"
     ]
    },
    {
     "data": {
      "text/html": [
       "<div>\n",
       "<style scoped>\n",
       "    .dataframe tbody tr th:only-of-type {\n",
       "        vertical-align: middle;\n",
       "    }\n",
       "\n",
       "    .dataframe tbody tr th {\n",
       "        vertical-align: top;\n",
       "    }\n",
       "\n",
       "    .dataframe thead th {\n",
       "        text-align: right;\n",
       "    }\n",
       "</style>\n",
       "<table border=\"1\" class=\"dataframe\">\n",
       "  <thead>\n",
       "    <tr style=\"text-align: right;\">\n",
       "      <th></th>\n",
       "      <th>transactionId</th>\n",
       "      <th>visitorId</th>\n",
       "      <th>date</th>\n",
       "      <th>revenue</th>\n",
       "      <th>group</th>\n",
       "    </tr>\n",
       "  </thead>\n",
       "  <tbody>\n",
       "    <tr>\n",
       "      <th>0</th>\n",
       "      <td>3667963787</td>\n",
       "      <td>3312258926</td>\n",
       "      <td>2019-08-15</td>\n",
       "      <td>1650</td>\n",
       "      <td>B</td>\n",
       "    </tr>\n",
       "    <tr>\n",
       "      <th>1</th>\n",
       "      <td>2804400009</td>\n",
       "      <td>3642806036</td>\n",
       "      <td>2019-08-15</td>\n",
       "      <td>730</td>\n",
       "      <td>B</td>\n",
       "    </tr>\n",
       "    <tr>\n",
       "      <th>2</th>\n",
       "      <td>2961555356</td>\n",
       "      <td>4069496402</td>\n",
       "      <td>2019-08-15</td>\n",
       "      <td>400</td>\n",
       "      <td>A</td>\n",
       "    </tr>\n",
       "    <tr>\n",
       "      <th>3</th>\n",
       "      <td>3797467345</td>\n",
       "      <td>1196621759</td>\n",
       "      <td>2019-08-15</td>\n",
       "      <td>9759</td>\n",
       "      <td>B</td>\n",
       "    </tr>\n",
       "    <tr>\n",
       "      <th>4</th>\n",
       "      <td>2282983706</td>\n",
       "      <td>2322279887</td>\n",
       "      <td>2019-08-15</td>\n",
       "      <td>2308</td>\n",
       "      <td>B</td>\n",
       "    </tr>\n",
       "    <tr>\n",
       "      <th>...</th>\n",
       "      <td>...</td>\n",
       "      <td>...</td>\n",
       "      <td>...</td>\n",
       "      <td>...</td>\n",
       "      <td>...</td>\n",
       "    </tr>\n",
       "    <tr>\n",
       "      <th>1192</th>\n",
       "      <td>2662137336</td>\n",
       "      <td>3733762160</td>\n",
       "      <td>2019-08-14</td>\n",
       "      <td>6490</td>\n",
       "      <td>B</td>\n",
       "    </tr>\n",
       "    <tr>\n",
       "      <th>1193</th>\n",
       "      <td>2203539145</td>\n",
       "      <td>370388673</td>\n",
       "      <td>2019-08-14</td>\n",
       "      <td>3190</td>\n",
       "      <td>A</td>\n",
       "    </tr>\n",
       "    <tr>\n",
       "      <th>1194</th>\n",
       "      <td>1807773912</td>\n",
       "      <td>573423106</td>\n",
       "      <td>2019-08-14</td>\n",
       "      <td>10550</td>\n",
       "      <td>A</td>\n",
       "    </tr>\n",
       "    <tr>\n",
       "      <th>1195</th>\n",
       "      <td>1947021204</td>\n",
       "      <td>1614305549</td>\n",
       "      <td>2019-08-14</td>\n",
       "      <td>100</td>\n",
       "      <td>A</td>\n",
       "    </tr>\n",
       "    <tr>\n",
       "      <th>1196</th>\n",
       "      <td>3936777065</td>\n",
       "      <td>2108080724</td>\n",
       "      <td>2019-08-15</td>\n",
       "      <td>202740</td>\n",
       "      <td>B</td>\n",
       "    </tr>\n",
       "  </tbody>\n",
       "</table>\n",
       "<p>1197 rows × 5 columns</p>\n",
       "</div>"
      ],
      "text/plain": [
       "      transactionId   visitorId        date  revenue group\n",
       "0        3667963787  3312258926  2019-08-15     1650     B\n",
       "1        2804400009  3642806036  2019-08-15      730     B\n",
       "2        2961555356  4069496402  2019-08-15      400     A\n",
       "3        3797467345  1196621759  2019-08-15     9759     B\n",
       "4        2282983706  2322279887  2019-08-15     2308     B\n",
       "...             ...         ...         ...      ...   ...\n",
       "1192     2662137336  3733762160  2019-08-14     6490     B\n",
       "1193     2203539145   370388673  2019-08-14     3190     A\n",
       "1194     1807773912   573423106  2019-08-14    10550     A\n",
       "1195     1947021204  1614305549  2019-08-14      100     A\n",
       "1196     3936777065  2108080724  2019-08-15   202740     B\n",
       "\n",
       "[1197 rows x 5 columns]"
      ]
     },
     "execution_count": 4,
     "metadata": {},
     "output_type": "execute_result"
    }
   ],
   "source": [
    "orders.info()\n",
    "orders"
   ]
  },
  {
   "cell_type": "code",
   "execution_count": 5,
   "metadata": {
    "scrolled": false
   },
   "outputs": [
    {
     "name": "stdout",
     "output_type": "stream",
     "text": [
      "<class 'pandas.core.frame.DataFrame'>\n",
      "RangeIndex: 62 entries, 0 to 61\n",
      "Data columns (total 3 columns):\n",
      " #   Column    Non-Null Count  Dtype \n",
      "---  ------    --------------  ----- \n",
      " 0   date      62 non-null     object\n",
      " 1   group     62 non-null     object\n",
      " 2   visitors  62 non-null     int64 \n",
      "dtypes: int64(1), object(2)\n",
      "memory usage: 1.6+ KB\n"
     ]
    },
    {
     "data": {
      "text/html": [
       "<div>\n",
       "<style scoped>\n",
       "    .dataframe tbody tr th:only-of-type {\n",
       "        vertical-align: middle;\n",
       "    }\n",
       "\n",
       "    .dataframe tbody tr th {\n",
       "        vertical-align: top;\n",
       "    }\n",
       "\n",
       "    .dataframe thead th {\n",
       "        text-align: right;\n",
       "    }\n",
       "</style>\n",
       "<table border=\"1\" class=\"dataframe\">\n",
       "  <thead>\n",
       "    <tr style=\"text-align: right;\">\n",
       "      <th></th>\n",
       "      <th>date</th>\n",
       "      <th>group</th>\n",
       "      <th>visitors</th>\n",
       "    </tr>\n",
       "  </thead>\n",
       "  <tbody>\n",
       "    <tr>\n",
       "      <th>0</th>\n",
       "      <td>2019-08-01</td>\n",
       "      <td>A</td>\n",
       "      <td>719</td>\n",
       "    </tr>\n",
       "    <tr>\n",
       "      <th>1</th>\n",
       "      <td>2019-08-02</td>\n",
       "      <td>A</td>\n",
       "      <td>619</td>\n",
       "    </tr>\n",
       "    <tr>\n",
       "      <th>2</th>\n",
       "      <td>2019-08-03</td>\n",
       "      <td>A</td>\n",
       "      <td>507</td>\n",
       "    </tr>\n",
       "    <tr>\n",
       "      <th>3</th>\n",
       "      <td>2019-08-04</td>\n",
       "      <td>A</td>\n",
       "      <td>717</td>\n",
       "    </tr>\n",
       "    <tr>\n",
       "      <th>4</th>\n",
       "      <td>2019-08-05</td>\n",
       "      <td>A</td>\n",
       "      <td>756</td>\n",
       "    </tr>\n",
       "    <tr>\n",
       "      <th>...</th>\n",
       "      <td>...</td>\n",
       "      <td>...</td>\n",
       "      <td>...</td>\n",
       "    </tr>\n",
       "    <tr>\n",
       "      <th>57</th>\n",
       "      <td>2019-08-27</td>\n",
       "      <td>B</td>\n",
       "      <td>720</td>\n",
       "    </tr>\n",
       "    <tr>\n",
       "      <th>58</th>\n",
       "      <td>2019-08-28</td>\n",
       "      <td>B</td>\n",
       "      <td>654</td>\n",
       "    </tr>\n",
       "    <tr>\n",
       "      <th>59</th>\n",
       "      <td>2019-08-29</td>\n",
       "      <td>B</td>\n",
       "      <td>531</td>\n",
       "    </tr>\n",
       "    <tr>\n",
       "      <th>60</th>\n",
       "      <td>2019-08-30</td>\n",
       "      <td>B</td>\n",
       "      <td>490</td>\n",
       "    </tr>\n",
       "    <tr>\n",
       "      <th>61</th>\n",
       "      <td>2019-08-31</td>\n",
       "      <td>B</td>\n",
       "      <td>718</td>\n",
       "    </tr>\n",
       "  </tbody>\n",
       "</table>\n",
       "<p>62 rows × 3 columns</p>\n",
       "</div>"
      ],
      "text/plain": [
       "          date group  visitors\n",
       "0   2019-08-01     A       719\n",
       "1   2019-08-02     A       619\n",
       "2   2019-08-03     A       507\n",
       "3   2019-08-04     A       717\n",
       "4   2019-08-05     A       756\n",
       "..         ...   ...       ...\n",
       "57  2019-08-27     B       720\n",
       "58  2019-08-28     B       654\n",
       "59  2019-08-29     B       531\n",
       "60  2019-08-30     B       490\n",
       "61  2019-08-31     B       718\n",
       "\n",
       "[62 rows x 3 columns]"
      ]
     },
     "execution_count": 5,
     "metadata": {},
     "output_type": "execute_result"
    }
   ],
   "source": [
    "visitors.info()\n",
    "visitors"
   ]
  },
  {
   "cell_type": "markdown",
   "metadata": {},
   "source": [
    "На первый взгляд с данными все в порядке. Пропусков нет. Необходимо только изменить тип данных в столбцах date и привести названия всех столбцов к общепринятому стилю."
   ]
  },
  {
   "cell_type": "markdown",
   "metadata": {},
   "source": [
    "## Предобработка данных"
   ]
  },
  {
   "cell_type": "markdown",
   "metadata": {},
   "source": [
    "**Проверим датафреймы на дубликаты.**"
   ]
  },
  {
   "cell_type": "code",
   "execution_count": 6,
   "metadata": {},
   "outputs": [
    {
     "name": "stdout",
     "output_type": "stream",
     "text": [
      "0\n",
      "0\n",
      "0\n"
     ]
    }
   ],
   "source": [
    "print(hypothesis.duplicated().sum())\n",
    "print(orders.duplicated().sum())\n",
    "print(visitors.duplicated().sum())"
   ]
  },
  {
   "cell_type": "markdown",
   "metadata": {},
   "source": [
    "**Проверим датафреймы на наличие пропусков.**"
   ]
  },
  {
   "cell_type": "code",
   "execution_count": 7,
   "metadata": {
    "scrolled": false
   },
   "outputs": [
    {
     "name": "stdout",
     "output_type": "stream",
     "text": [
      "Hypothesis    0\n",
      "Reach         0\n",
      "Impact        0\n",
      "Confidence    0\n",
      "Efforts       0\n",
      "dtype: int64\n",
      "transactionId    0\n",
      "visitorId        0\n",
      "date             0\n",
      "revenue          0\n",
      "group            0\n",
      "dtype: int64\n",
      "date        0\n",
      "group       0\n",
      "visitors    0\n",
      "dtype: int64\n"
     ]
    }
   ],
   "source": [
    "print(hypothesis.isna().sum())\n",
    "print(orders.isna().sum())\n",
    "print(visitors.isna().sum())"
   ]
  },
  {
   "cell_type": "markdown",
   "metadata": {},
   "source": [
    "**Приведем название столбцов датафреймов к нижнему регистру.**"
   ]
  },
  {
   "cell_type": "code",
   "execution_count": 8,
   "metadata": {},
   "outputs": [],
   "source": [
    "hypothesis.columns = hypothesis.columns.str.lower()\n",
    "orders.columns = orders.columns.str.lower()\n",
    "visitors.columns = visitors.columns.str.lower()"
   ]
  },
  {
   "cell_type": "markdown",
   "metadata": {},
   "source": [
    "**Поменяем названия столбцов в соответсвии с общепринятым стилем.**"
   ]
  },
  {
   "cell_type": "code",
   "execution_count": 9,
   "metadata": {},
   "outputs": [],
   "source": [
    "orders=orders.rename(columns={'transactionid':'transaction_id', 'visitorid':'visitor_id'})"
   ]
  },
  {
   "cell_type": "markdown",
   "metadata": {},
   "source": [
    "**Изменим тип данных в столбцах date.**"
   ]
  },
  {
   "cell_type": "code",
   "execution_count": 10,
   "metadata": {},
   "outputs": [],
   "source": [
    "orders['date'] = orders['date'].astype('datetime64')\n",
    "visitors['date'] = visitors['date'].astype('datetime64')"
   ]
  },
  {
   "cell_type": "markdown",
   "metadata": {},
   "source": [
    "Предобработка данных завершена, можно приступать с следующим шагам исследования."
   ]
  },
  {
   "cell_type": "markdown",
   "metadata": {},
   "source": [
    "## Приоритизация гипотез"
   ]
  },
  {
   "cell_type": "markdown",
   "metadata": {},
   "source": [
    "**Применим фреймворк ICE для приоритизации гипотез.**"
   ]
  },
  {
   "cell_type": "code",
   "execution_count": 11,
   "metadata": {},
   "outputs": [],
   "source": [
    "hypothesis['ICE'] = round(hypothesis['impact']*hypothesis['confidence']/hypothesis['efforts'])"
   ]
  },
  {
   "cell_type": "code",
   "execution_count": 12,
   "metadata": {
    "scrolled": true
   },
   "outputs": [
    {
     "data": {
      "text/html": [
       "<div>\n",
       "<style scoped>\n",
       "    .dataframe tbody tr th:only-of-type {\n",
       "        vertical-align: middle;\n",
       "    }\n",
       "\n",
       "    .dataframe tbody tr th {\n",
       "        vertical-align: top;\n",
       "    }\n",
       "\n",
       "    .dataframe thead th {\n",
       "        text-align: right;\n",
       "    }\n",
       "</style>\n",
       "<table border=\"1\" class=\"dataframe\">\n",
       "  <thead>\n",
       "    <tr style=\"text-align: right;\">\n",
       "      <th></th>\n",
       "      <th>hypothesis</th>\n",
       "      <th>reach</th>\n",
       "      <th>impact</th>\n",
       "      <th>confidence</th>\n",
       "      <th>efforts</th>\n",
       "      <th>ICE</th>\n",
       "    </tr>\n",
       "  </thead>\n",
       "  <tbody>\n",
       "    <tr>\n",
       "      <th>8</th>\n",
       "      <td>Запустить акцию, дающую скидку на товар в день рождения</td>\n",
       "      <td>1</td>\n",
       "      <td>9</td>\n",
       "      <td>9</td>\n",
       "      <td>5</td>\n",
       "      <td>16.0</td>\n",
       "    </tr>\n",
       "    <tr>\n",
       "      <th>0</th>\n",
       "      <td>Добавить два новых канала привлечения трафика, что позволит привлекать на 30% больше пользователей</td>\n",
       "      <td>3</td>\n",
       "      <td>10</td>\n",
       "      <td>8</td>\n",
       "      <td>6</td>\n",
       "      <td>13.0</td>\n",
       "    </tr>\n",
       "    <tr>\n",
       "      <th>7</th>\n",
       "      <td>Добавить форму подписки на все основные страницы, чтобы собрать базу клиентов для email-рассылок</td>\n",
       "      <td>10</td>\n",
       "      <td>7</td>\n",
       "      <td>8</td>\n",
       "      <td>5</td>\n",
       "      <td>11.0</td>\n",
       "    </tr>\n",
       "    <tr>\n",
       "      <th>6</th>\n",
       "      <td>Показать на главной странице баннеры с актуальными акциями и распродажами, чтобы увеличить конверсию</td>\n",
       "      <td>5</td>\n",
       "      <td>3</td>\n",
       "      <td>8</td>\n",
       "      <td>3</td>\n",
       "      <td>8.0</td>\n",
       "    </tr>\n",
       "    <tr>\n",
       "      <th>2</th>\n",
       "      <td>Добавить блоки рекомендаций товаров на сайт интернет магазина, чтобы повысить конверсию и средний чек заказа</td>\n",
       "      <td>8</td>\n",
       "      <td>3</td>\n",
       "      <td>7</td>\n",
       "      <td>3</td>\n",
       "      <td>7.0</td>\n",
       "    </tr>\n",
       "    <tr>\n",
       "      <th>1</th>\n",
       "      <td>Запустить собственную службу доставки, что сократит срок доставки заказов</td>\n",
       "      <td>2</td>\n",
       "      <td>5</td>\n",
       "      <td>4</td>\n",
       "      <td>10</td>\n",
       "      <td>2.0</td>\n",
       "    </tr>\n",
       "    <tr>\n",
       "      <th>3</th>\n",
       "      <td>Изменить структура категорий, что увеличит конверсию, т.к. пользователи быстрее найдут нужный товар</td>\n",
       "      <td>8</td>\n",
       "      <td>3</td>\n",
       "      <td>3</td>\n",
       "      <td>8</td>\n",
       "      <td>1.0</td>\n",
       "    </tr>\n",
       "    <tr>\n",
       "      <th>4</th>\n",
       "      <td>Изменить цвет фона главной страницы, чтобы увеличить вовлеченность пользователей</td>\n",
       "      <td>3</td>\n",
       "      <td>1</td>\n",
       "      <td>1</td>\n",
       "      <td>1</td>\n",
       "      <td>1.0</td>\n",
       "    </tr>\n",
       "    <tr>\n",
       "      <th>5</th>\n",
       "      <td>Добавить страницу отзывов клиентов о магазине, что позволит увеличить количество заказов</td>\n",
       "      <td>3</td>\n",
       "      <td>2</td>\n",
       "      <td>2</td>\n",
       "      <td>3</td>\n",
       "      <td>1.0</td>\n",
       "    </tr>\n",
       "  </tbody>\n",
       "</table>\n",
       "</div>"
      ],
      "text/plain": [
       "                                                                                                     hypothesis  \\\n",
       "8                                                       Запустить акцию, дающую скидку на товар в день рождения   \n",
       "0            Добавить два новых канала привлечения трафика, что позволит привлекать на 30% больше пользователей   \n",
       "7              Добавить форму подписки на все основные страницы, чтобы собрать базу клиентов для email-рассылок   \n",
       "6          Показать на главной странице баннеры с актуальными акциями и распродажами, чтобы увеличить конверсию   \n",
       "2  Добавить блоки рекомендаций товаров на сайт интернет магазина, чтобы повысить конверсию и средний чек заказа   \n",
       "1                                     Запустить собственную службу доставки, что сократит срок доставки заказов   \n",
       "3           Изменить структура категорий, что увеличит конверсию, т.к. пользователи быстрее найдут нужный товар   \n",
       "4                              Изменить цвет фона главной страницы, чтобы увеличить вовлеченность пользователей   \n",
       "5                      Добавить страницу отзывов клиентов о магазине, что позволит увеличить количество заказов   \n",
       "\n",
       "   reach  impact  confidence  efforts   ICE  \n",
       "8      1       9           9        5  16.0  \n",
       "0      3      10           8        6  13.0  \n",
       "7     10       7           8        5  11.0  \n",
       "6      5       3           8        3   8.0  \n",
       "2      8       3           7        3   7.0  \n",
       "1      2       5           4       10   2.0  \n",
       "3      8       3           3        8   1.0  \n",
       "4      3       1           1        1   1.0  \n",
       "5      3       2           2        3   1.0  "
      ]
     },
     "metadata": {},
     "output_type": "display_data"
    }
   ],
   "source": [
    "display(hypothesis.sort_values(by='ICE', ascending=False))"
   ]
  },
  {
   "cell_type": "markdown",
   "metadata": {},
   "source": [
    "По методу ICE в топ-3 входят гипотезы:\n",
    "1. \"Запустить акцию, дающую скидку на товар в день рождения\" - 16 баллов;\n",
    "2. \"Добавить два новых канала привлечения трафика, что позволит привлекать на 30% больше пользователей\" - 13 баллов;\n",
    "3. \"Добавить форму подписки на все основные страницы, чтобы собрать базу клиентов для email-рассылок\" - 11 баллов."
   ]
  },
  {
   "cell_type": "markdown",
   "metadata": {},
   "source": [
    "**Применим фреймворк RICE для приоритизации гипотез.**"
   ]
  },
  {
   "cell_type": "code",
   "execution_count": 13,
   "metadata": {},
   "outputs": [],
   "source": [
    "hypothesis['RICE'] = round(hypothesis['impact']*hypothesis['confidence']*hypothesis['reach']/hypothesis['efforts'])"
   ]
  },
  {
   "cell_type": "code",
   "execution_count": 14,
   "metadata": {
    "scrolled": true
   },
   "outputs": [
    {
     "data": {
      "text/html": [
       "<div>\n",
       "<style scoped>\n",
       "    .dataframe tbody tr th:only-of-type {\n",
       "        vertical-align: middle;\n",
       "    }\n",
       "\n",
       "    .dataframe tbody tr th {\n",
       "        vertical-align: top;\n",
       "    }\n",
       "\n",
       "    .dataframe thead th {\n",
       "        text-align: right;\n",
       "    }\n",
       "</style>\n",
       "<table border=\"1\" class=\"dataframe\">\n",
       "  <thead>\n",
       "    <tr style=\"text-align: right;\">\n",
       "      <th></th>\n",
       "      <th>hypothesis</th>\n",
       "      <th>reach</th>\n",
       "      <th>impact</th>\n",
       "      <th>confidence</th>\n",
       "      <th>efforts</th>\n",
       "      <th>ICE</th>\n",
       "      <th>RICE</th>\n",
       "    </tr>\n",
       "  </thead>\n",
       "  <tbody>\n",
       "    <tr>\n",
       "      <th>7</th>\n",
       "      <td>Добавить форму подписки на все основные страницы, чтобы собрать базу клиентов для email-рассылок</td>\n",
       "      <td>10</td>\n",
       "      <td>7</td>\n",
       "      <td>8</td>\n",
       "      <td>5</td>\n",
       "      <td>11.0</td>\n",
       "      <td>112.0</td>\n",
       "    </tr>\n",
       "    <tr>\n",
       "      <th>2</th>\n",
       "      <td>Добавить блоки рекомендаций товаров на сайт интернет магазина, чтобы повысить конверсию и средний чек заказа</td>\n",
       "      <td>8</td>\n",
       "      <td>3</td>\n",
       "      <td>7</td>\n",
       "      <td>3</td>\n",
       "      <td>7.0</td>\n",
       "      <td>56.0</td>\n",
       "    </tr>\n",
       "    <tr>\n",
       "      <th>0</th>\n",
       "      <td>Добавить два новых канала привлечения трафика, что позволит привлекать на 30% больше пользователей</td>\n",
       "      <td>3</td>\n",
       "      <td>10</td>\n",
       "      <td>8</td>\n",
       "      <td>6</td>\n",
       "      <td>13.0</td>\n",
       "      <td>40.0</td>\n",
       "    </tr>\n",
       "    <tr>\n",
       "      <th>6</th>\n",
       "      <td>Показать на главной странице баннеры с актуальными акциями и распродажами, чтобы увеличить конверсию</td>\n",
       "      <td>5</td>\n",
       "      <td>3</td>\n",
       "      <td>8</td>\n",
       "      <td>3</td>\n",
       "      <td>8.0</td>\n",
       "      <td>40.0</td>\n",
       "    </tr>\n",
       "    <tr>\n",
       "      <th>8</th>\n",
       "      <td>Запустить акцию, дающую скидку на товар в день рождения</td>\n",
       "      <td>1</td>\n",
       "      <td>9</td>\n",
       "      <td>9</td>\n",
       "      <td>5</td>\n",
       "      <td>16.0</td>\n",
       "      <td>16.0</td>\n",
       "    </tr>\n",
       "    <tr>\n",
       "      <th>3</th>\n",
       "      <td>Изменить структура категорий, что увеличит конверсию, т.к. пользователи быстрее найдут нужный товар</td>\n",
       "      <td>8</td>\n",
       "      <td>3</td>\n",
       "      <td>3</td>\n",
       "      <td>8</td>\n",
       "      <td>1.0</td>\n",
       "      <td>9.0</td>\n",
       "    </tr>\n",
       "    <tr>\n",
       "      <th>1</th>\n",
       "      <td>Запустить собственную службу доставки, что сократит срок доставки заказов</td>\n",
       "      <td>2</td>\n",
       "      <td>5</td>\n",
       "      <td>4</td>\n",
       "      <td>10</td>\n",
       "      <td>2.0</td>\n",
       "      <td>4.0</td>\n",
       "    </tr>\n",
       "    <tr>\n",
       "      <th>5</th>\n",
       "      <td>Добавить страницу отзывов клиентов о магазине, что позволит увеличить количество заказов</td>\n",
       "      <td>3</td>\n",
       "      <td>2</td>\n",
       "      <td>2</td>\n",
       "      <td>3</td>\n",
       "      <td>1.0</td>\n",
       "      <td>4.0</td>\n",
       "    </tr>\n",
       "    <tr>\n",
       "      <th>4</th>\n",
       "      <td>Изменить цвет фона главной страницы, чтобы увеличить вовлеченность пользователей</td>\n",
       "      <td>3</td>\n",
       "      <td>1</td>\n",
       "      <td>1</td>\n",
       "      <td>1</td>\n",
       "      <td>1.0</td>\n",
       "      <td>3.0</td>\n",
       "    </tr>\n",
       "  </tbody>\n",
       "</table>\n",
       "</div>"
      ],
      "text/plain": [
       "                                                                                                     hypothesis  \\\n",
       "7              Добавить форму подписки на все основные страницы, чтобы собрать базу клиентов для email-рассылок   \n",
       "2  Добавить блоки рекомендаций товаров на сайт интернет магазина, чтобы повысить конверсию и средний чек заказа   \n",
       "0            Добавить два новых канала привлечения трафика, что позволит привлекать на 30% больше пользователей   \n",
       "6          Показать на главной странице баннеры с актуальными акциями и распродажами, чтобы увеличить конверсию   \n",
       "8                                                       Запустить акцию, дающую скидку на товар в день рождения   \n",
       "3           Изменить структура категорий, что увеличит конверсию, т.к. пользователи быстрее найдут нужный товар   \n",
       "1                                     Запустить собственную службу доставки, что сократит срок доставки заказов   \n",
       "5                      Добавить страницу отзывов клиентов о магазине, что позволит увеличить количество заказов   \n",
       "4                              Изменить цвет фона главной страницы, чтобы увеличить вовлеченность пользователей   \n",
       "\n",
       "   reach  impact  confidence  efforts   ICE   RICE  \n",
       "7     10       7           8        5  11.0  112.0  \n",
       "2      8       3           7        3   7.0   56.0  \n",
       "0      3      10           8        6  13.0   40.0  \n",
       "6      5       3           8        3   8.0   40.0  \n",
       "8      1       9           9        5  16.0   16.0  \n",
       "3      8       3           3        8   1.0    9.0  \n",
       "1      2       5           4       10   2.0    4.0  \n",
       "5      3       2           2        3   1.0    4.0  \n",
       "4      3       1           1        1   1.0    3.0  "
      ]
     },
     "metadata": {},
     "output_type": "display_data"
    }
   ],
   "source": [
    "display(hypothesis.sort_values(by='RICE', ascending=False))"
   ]
  },
  {
   "cell_type": "markdown",
   "metadata": {},
   "source": [
    "Однако по методу RICE в топ-3 входят гипотезы:\n",
    "1. \"Добавить форму подписки на все основные страницы, чтобы собрать базу клиентов для email-рассылок\" - 112 баллов;\n",
    "2. \"Добавить блоки рекомендаций товаров на сайт интернет магазина, чтобы повысить конверсию и средний чек заказа\" - 56 баллов;\n",
    "3. \"Добавить два новых канала привлечения трафика, что позволит привлекать на 30% больше пользователей\" - 40 баллов.\n",
    "\n",
    "Так произошло из-за показателя Reach (скольких пользователей затронут изменения), который у гипотезы  \"Добавить форму подписки на все основные страницы, чтобы собрать базу клиентов для email-рассылок\" равен 10, а у  гипотезы \"Запустить акцию, дающую скидку на товар в день рождения\" равен 1."
   ]
  },
  {
   "cell_type": "markdown",
   "metadata": {},
   "source": [
    "## Анализ A/B-теста"
   ]
  },
  {
   "cell_type": "code",
   "execution_count": 15,
   "metadata": {},
   "outputs": [
    {
     "name": "stdout",
     "output_type": "stream",
     "text": [
      "2019-08-31 00:00:00\n",
      "2019-08-01 00:00:00\n"
     ]
    }
   ],
   "source": [
    "print(orders['date'].max())\n",
    "print(orders['date'].min())"
   ]
  },
  {
   "cell_type": "code",
   "execution_count": 16,
   "metadata": {},
   "outputs": [
    {
     "name": "stdout",
     "output_type": "stream",
     "text": [
      "2019-08-31 00:00:00\n",
      "2019-08-01 00:00:00\n"
     ]
    }
   ],
   "source": [
    "print(visitors['date'].max())\n",
    "print(visitors['date'].min())"
   ]
  },
  {
   "cell_type": "code",
   "execution_count": 17,
   "metadata": {
    "scrolled": true
   },
   "outputs": [
    {
     "data": {
      "text/plain": [
       "group\n",
       "A    112473\n",
       "B    147274\n",
       "Name: revenue, dtype: int64"
      ]
     },
     "execution_count": 17,
     "metadata": {},
     "output_type": "execute_result"
    }
   ],
   "source": [
    "orders.groupby(['date','group'])['revenue'].sum().groupby('group').median()"
   ]
  },
  {
   "cell_type": "markdown",
   "metadata": {},
   "source": [
    "### График кумулятивной выручки по группам"
   ]
  },
  {
   "cell_type": "code",
   "execution_count": 18,
   "metadata": {},
   "outputs": [
    {
     "data": {
      "text/html": [
       "<div>\n",
       "<style scoped>\n",
       "    .dataframe tbody tr th:only-of-type {\n",
       "        vertical-align: middle;\n",
       "    }\n",
       "\n",
       "    .dataframe tbody tr th {\n",
       "        vertical-align: top;\n",
       "    }\n",
       "\n",
       "    .dataframe thead th {\n",
       "        text-align: right;\n",
       "    }\n",
       "</style>\n",
       "<table border=\"1\" class=\"dataframe\">\n",
       "  <thead>\n",
       "    <tr style=\"text-align: right;\">\n",
       "      <th></th>\n",
       "      <th>date</th>\n",
       "      <th>group</th>\n",
       "      <th>orders</th>\n",
       "      <th>buyers</th>\n",
       "      <th>revenue</th>\n",
       "      <th>visitors</th>\n",
       "    </tr>\n",
       "  </thead>\n",
       "  <tbody>\n",
       "    <tr>\n",
       "      <th>0</th>\n",
       "      <td>2019-08-01</td>\n",
       "      <td>A</td>\n",
       "      <td>24</td>\n",
       "      <td>20</td>\n",
       "      <td>148579</td>\n",
       "      <td>719</td>\n",
       "    </tr>\n",
       "    <tr>\n",
       "      <th>1</th>\n",
       "      <td>2019-08-01</td>\n",
       "      <td>B</td>\n",
       "      <td>21</td>\n",
       "      <td>20</td>\n",
       "      <td>101217</td>\n",
       "      <td>713</td>\n",
       "    </tr>\n",
       "    <tr>\n",
       "      <th>2</th>\n",
       "      <td>2019-08-02</td>\n",
       "      <td>A</td>\n",
       "      <td>44</td>\n",
       "      <td>38</td>\n",
       "      <td>242401</td>\n",
       "      <td>1338</td>\n",
       "    </tr>\n",
       "    <tr>\n",
       "      <th>3</th>\n",
       "      <td>2019-08-02</td>\n",
       "      <td>B</td>\n",
       "      <td>45</td>\n",
       "      <td>43</td>\n",
       "      <td>266748</td>\n",
       "      <td>1294</td>\n",
       "    </tr>\n",
       "    <tr>\n",
       "      <th>4</th>\n",
       "      <td>2019-08-03</td>\n",
       "      <td>A</td>\n",
       "      <td>68</td>\n",
       "      <td>62</td>\n",
       "      <td>354874</td>\n",
       "      <td>1845</td>\n",
       "    </tr>\n",
       "  </tbody>\n",
       "</table>\n",
       "</div>"
      ],
      "text/plain": [
       "        date group  orders  buyers  revenue  visitors\n",
       "0 2019-08-01     A      24      20   148579       719\n",
       "1 2019-08-01     B      21      20   101217       713\n",
       "2 2019-08-02     A      44      38   242401      1338\n",
       "3 2019-08-02     B      45      43   266748      1294\n",
       "4 2019-08-03     A      68      62   354874      1845"
      ]
     },
     "metadata": {},
     "output_type": "display_data"
    }
   ],
   "source": [
    "# создаем массив уникальных пар значений дат и групп теста\n",
    "datesGroups = orders[['date','group']].drop_duplicates()\n",
    "\n",
    "# получаем агрегированные кумулятивные по дням данные о заказах \n",
    "ordersAggregated = datesGroups.apply(lambda x: orders[np.logical_and(orders['date'] <= x['date'], orders['group'] == x['group'])].agg({'date' : 'max', 'group' : 'max', 'transaction_id' : 'nunique', 'visitor_id' : 'nunique', 'revenue' : 'sum'}), axis=1).sort_values(by=['date','group'])\n",
    "\n",
    "# получаем агрегированные кумулятивные по дням данные о посетителях интернет-магазина \n",
    "visitorsAggregated = datesGroups.apply(lambda x: visitors[np.logical_and(visitors['date'] <= x['date'], visitors['group'] == x['group'])].agg({'date' : 'max', 'group' : 'max', 'visitors' : 'sum'}), axis=1).sort_values(by=['date','group'])\n",
    "\n",
    "# объединяем кумулятивные данные в одной таблице и присваиваем ее столбцам понятные названия\n",
    "cumulativeData = ordersAggregated.merge(visitorsAggregated, left_on=['date', 'group'], right_on=['date', 'group'])\n",
    "cumulativeData.columns = ['date', 'group', 'orders', 'buyers', 'revenue', 'visitors']\n",
    "\n",
    "display(cumulativeData.head(5))"
   ]
  },
  {
   "cell_type": "code",
   "execution_count": 19,
   "metadata": {
    "scrolled": true
   },
   "outputs": [
    {
     "data": {
      "image/png": "[encoded data removed]",
      "text/plain": [
       "<Figure size 864x360 with 1 Axes>"
      ]
     },
     "metadata": {
      "needs_background": "light"
     },
     "output_type": "display_data"
    }
   ],
   "source": [
    "\n",
    "# датафрейм с кумулятивным количеством заказов и кумулятивной выручкой по дням в группе А\n",
    "cumulativeRevenueA = cumulativeData[cumulativeData['group']=='A'][['date','revenue', 'orders']]\n",
    "\n",
    "# датафрейм с кумулятивным количеством заказов и кумулятивной выручкой по дням в группе B\n",
    "cumulativeRevenueB = cumulativeData[cumulativeData['group']=='B'][['date','revenue', 'orders']]\n",
    "\n",
    "plt.figure(figsize=(12,5))\n",
    "\n",
    "# Строим график выручки группы А\n",
    "plt.plot(cumulativeRevenueA['date'],\n",
    "         cumulativeRevenueA['revenue'],\n",
    "         label='Кумулятивная вычука группы А',\n",
    "         color = '#adb512')\n",
    "\n",
    "# Строим график выручки группы B\n",
    "plt.plot(cumulativeRevenueB['date'],\n",
    "         cumulativeRevenueB['revenue'],\n",
    "         label='Кумулятивная вычука группы B',\n",
    "         color = '#a33731')\n",
    "plt.title('График кумулятивной выручки')\n",
    "plt.xlabel('Дата')\n",
    "plt.ylabel('Выручка')\n",
    "plt.grid()\n",
    "plt.legend();"
   ]
  },
  {
   "cell_type": "markdown",
   "metadata": {},
   "source": [
    "Выручка стабильно растет в обеих группах на протяжении всего теста, однако между 17 августа и 21 августа в группе В присутствует резкий скачок. Скорее всего это аномально крупный заказ. Проверим."
   ]
  },
  {
   "cell_type": "code",
   "execution_count": 20,
   "metadata": {},
   "outputs": [
    {
     "data": {
      "text/html": [
       "<div>\n",
       "<style scoped>\n",
       "    .dataframe tbody tr th:only-of-type {\n",
       "        vertical-align: middle;\n",
       "    }\n",
       "\n",
       "    .dataframe tbody tr th {\n",
       "        vertical-align: top;\n",
       "    }\n",
       "\n",
       "    .dataframe thead th {\n",
       "        text-align: right;\n",
       "    }\n",
       "</style>\n",
       "<table border=\"1\" class=\"dataframe\">\n",
       "  <thead>\n",
       "    <tr style=\"text-align: right;\">\n",
       "      <th></th>\n",
       "      <th>transaction_id</th>\n",
       "      <th>visitor_id</th>\n",
       "      <th>date</th>\n",
       "      <th>revenue</th>\n",
       "      <th>group</th>\n",
       "    </tr>\n",
       "  </thead>\n",
       "  <tbody>\n",
       "    <tr>\n",
       "      <th>425</th>\n",
       "      <td>590470918</td>\n",
       "      <td>1920142716</td>\n",
       "      <td>2019-08-19</td>\n",
       "      <td>1294500</td>\n",
       "      <td>B</td>\n",
       "    </tr>\n",
       "    <tr>\n",
       "      <th>530</th>\n",
       "      <td>3970235543</td>\n",
       "      <td>2912540959</td>\n",
       "      <td>2019-08-19</td>\n",
       "      <td>43990</td>\n",
       "      <td>A</td>\n",
       "    </tr>\n",
       "    <tr>\n",
       "      <th>751</th>\n",
       "      <td>348143148</td>\n",
       "      <td>689129267</td>\n",
       "      <td>2019-08-20</td>\n",
       "      <td>37150</td>\n",
       "      <td>B</td>\n",
       "    </tr>\n",
       "    <tr>\n",
       "      <th>527</th>\n",
       "      <td>1570513684</td>\n",
       "      <td>2837914161</td>\n",
       "      <td>2019-08-19</td>\n",
       "      <td>33405</td>\n",
       "      <td>B</td>\n",
       "    </tr>\n",
       "    <tr>\n",
       "      <th>421</th>\n",
       "      <td>3765974140</td>\n",
       "      <td>1357170471</td>\n",
       "      <td>2019-08-19</td>\n",
       "      <td>31680</td>\n",
       "      <td>A</td>\n",
       "    </tr>\n",
       "    <tr>\n",
       "      <th>...</th>\n",
       "      <td>...</td>\n",
       "      <td>...</td>\n",
       "      <td>...</td>\n",
       "      <td>...</td>\n",
       "      <td>...</td>\n",
       "    </tr>\n",
       "    <tr>\n",
       "      <th>592</th>\n",
       "      <td>1661608904</td>\n",
       "      <td>199874245</td>\n",
       "      <td>2019-08-20</td>\n",
       "      <td>240</td>\n",
       "      <td>A</td>\n",
       "    </tr>\n",
       "    <tr>\n",
       "      <th>264</th>\n",
       "      <td>3795138501</td>\n",
       "      <td>887812064</td>\n",
       "      <td>2019-08-18</td>\n",
       "      <td>170</td>\n",
       "      <td>A</td>\n",
       "    </tr>\n",
       "    <tr>\n",
       "      <th>307</th>\n",
       "      <td>1404959653</td>\n",
       "      <td>3896738923</td>\n",
       "      <td>2019-08-18</td>\n",
       "      <td>76</td>\n",
       "      <td>A</td>\n",
       "    </tr>\n",
       "    <tr>\n",
       "      <th>459</th>\n",
       "      <td>863448794</td>\n",
       "      <td>2738601405</td>\n",
       "      <td>2019-08-19</td>\n",
       "      <td>50</td>\n",
       "      <td>B</td>\n",
       "    </tr>\n",
       "    <tr>\n",
       "      <th>584</th>\n",
       "      <td>1126146019</td>\n",
       "      <td>2705308997</td>\n",
       "      <td>2019-08-20</td>\n",
       "      <td>50</td>\n",
       "      <td>A</td>\n",
       "    </tr>\n",
       "  </tbody>\n",
       "</table>\n",
       "<p>101 rows × 5 columns</p>\n",
       "</div>"
      ],
      "text/plain": [
       "     transaction_id  visitor_id       date  revenue group\n",
       "425       590470918  1920142716 2019-08-19  1294500     B\n",
       "530      3970235543  2912540959 2019-08-19    43990     A\n",
       "751       348143148   689129267 2019-08-20    37150     B\n",
       "527      1570513684  2837914161 2019-08-19    33405     B\n",
       "421      3765974140  1357170471 2019-08-19    31680     A\n",
       "..              ...         ...        ...      ...   ...\n",
       "592      1661608904   199874245 2019-08-20      240     A\n",
       "264      3795138501   887812064 2019-08-18      170     A\n",
       "307      1404959653  3896738923 2019-08-18       76     A\n",
       "459       863448794  2738601405 2019-08-19       50     B\n",
       "584      1126146019  2705308997 2019-08-20       50     A\n",
       "\n",
       "[101 rows x 5 columns]"
      ]
     },
     "metadata": {},
     "output_type": "display_data"
    }
   ],
   "source": [
    "display(orders.query('\"2019-08-17\" < date < \"2019-08-21\"').sort_values(by='revenue', ascending = False))"
   ]
  },
  {
   "cell_type": "markdown",
   "metadata": {},
   "source": [
    "Действительно, стоимость заказа от 19 августа номер 590470918 составляет 1 294 500 млн. (это аномально дорого). Следующий по стоимости заказ почти в 30 раз меньше. "
   ]
  },
  {
   "cell_type": "markdown",
   "metadata": {},
   "source": [
    "### График кумулятивного среднего чека по группам"
   ]
  },
  {
   "cell_type": "code",
   "execution_count": 21,
   "metadata": {
    "scrolled": true
   },
   "outputs": [
    {
     "data": {
      "image/png": "[encoded data removed]",
      "text/plain": [
       "<Figure size 864x360 with 1 Axes>"
      ]
     },
     "metadata": {
      "needs_background": "light"
     },
     "output_type": "display_data"
    }
   ],
   "source": [
    "plt.figure(figsize=(12,5))\n",
    "plt.plot(cumulativeRevenueA['date'],\n",
    "         cumulativeRevenueA['revenue']/cumulativeRevenueA['orders'],\n",
    "         label='Средний кумулятивный чек группы A', color = '#792c41')\n",
    "plt.plot(cumulativeRevenueB['date'],\n",
    "         cumulativeRevenueB['revenue']/cumulativeRevenueB['orders'],\n",
    "         label='Средний кумулятивный чек группы B', color = '#00847f')\n",
    "plt.title('График среднего кумулятивного чека')\n",
    "plt.xlabel('Дата')\n",
    "plt.ylabel('Средний чек')\n",
    "plt.grid()\n",
    "plt.legend();"
   ]
  },
  {
   "cell_type": "markdown",
   "metadata": {},
   "source": [
    "Данный график уже более скачкообразный. У группы А есть два скачка: в районе 6 августа средний чек достигает минимума, а вот 13 августа максимума, а затем стабилизируется. На графике также явно виден заказ номер 590470918 от 19 августа."
   ]
  },
  {
   "cell_type": "markdown",
   "metadata": {},
   "source": [
    "### График относительного изменения кумулятивного среднего чека группы B к группе A"
   ]
  },
  {
   "cell_type": "code",
   "execution_count": 22,
   "metadata": {
    "scrolled": true
   },
   "outputs": [
    {
     "data": {
      "image/png": "[encoded data removed]",
      "text/plain": [
       "<Figure size 864x360 with 1 Axes>"
      ]
     },
     "metadata": {
      "needs_background": "light"
     },
     "output_type": "display_data"
    }
   ],
   "source": [
    "mergedCumulativeRevenue = cumulativeRevenueA.merge(cumulativeRevenueB, left_on='date', right_on='date', how='left', suffixes=['A', 'B'])\n",
    "\n",
    "plt.figure(figsize=(12,5))\n",
    "plt.grid()\n",
    "plt.plot(mergedCumulativeRevenue['date'],\n",
    "         (mergedCumulativeRevenue['revenueB']/mergedCumulativeRevenue['ordersB'])/ \\\n",
    "         (mergedCumulativeRevenue['revenueA']/mergedCumulativeRevenue['ordersA'])-1,\n",
    "         color = '#a06999')\n",
    "plt.title('Относительное изменение кумулятивного среднего чека групп \"B\" к \"А\"')\n",
    "plt.xlabel('Дата')\n",
    "plt.ylabel('Относительное изменение')\n",
    "plt.axhline(y=0, color='gray', linestyle='--') ;"
   ]
  },
  {
   "cell_type": "markdown",
   "metadata": {},
   "source": [
    "Средний чек группы В больше группы А все время, кроме одного дня - 13 августа, скорее всего просто в группе А в этот день был крупный заказ-выброс."
   ]
  },
  {
   "cell_type": "markdown",
   "metadata": {},
   "source": [
    "### График кумулятивного среднего количества заказов на посетителя по группам"
   ]
  },
  {
   "cell_type": "code",
   "execution_count": 23,
   "metadata": {
    "scrolled": true
   },
   "outputs": [
    {
     "data": {
      "image/png": "[encoded data removed]",
      "text/plain": [
       "<Figure size 864x360 with 1 Axes>"
      ]
     },
     "metadata": {
      "needs_background": "light"
     },
     "output_type": "display_data"
    }
   ],
   "source": [
    "\n",
    "cumulativeData['conversion'] = cumulativeData['orders']/cumulativeData['visitors']\n",
    "\n",
    "# отделяем данные по группе A\n",
    "cumulativeDataA = cumulativeData[cumulativeData['group']=='A']\n",
    "\n",
    "# отделяем данные по группе B\n",
    "cumulativeDataB = cumulativeData[cumulativeData['group']=='B']\n",
    "\n",
    "# строим графики\n",
    "plt.figure(figsize=(12,5))\n",
    "plt.grid()\n",
    "plt.plot(cumulativeDataA['date'], cumulativeDataA['conversion'], label='Кумулятивное среднее количество заказов на посетителя группы A')\n",
    "plt.plot(cumulativeDataB['date'], cumulativeDataB['conversion'], label='Кумулятивное среднее количество заказов на посетителя группы B')\n",
    "plt.title('График кумулятивного среднего количества заказов на посетителя по группам')\n",
    "plt.xlabel('Дата')\n",
    "plt.ylabel('Среднее количество заказов на посетителя')\n",
    "plt.legend();\n",
    " "
   ]
  },
  {
   "cell_type": "markdown",
   "metadata": {},
   "source": [
    "График очень скачкообразный. Среднее количество заказов на посетителя группы А больше, чем у группы В только в первые пять дней теста, все остальное время она остается существенно ниже среднего количества заказов на посетителя группы В. Однако с 17 августа среднее количество заказов на посетителя группы В начинает медленно снижаться."
   ]
  },
  {
   "cell_type": "markdown",
   "metadata": {},
   "source": [
    "### График относительного изменения кумулятивного среднего количества заказов на посетителя группы B к группе A"
   ]
  },
  {
   "cell_type": "code",
   "execution_count": 24,
   "metadata": {
    "scrolled": false
   },
   "outputs": [
    {
     "data": {
      "image/png": "[encoded data removed]",
      "text/plain": [
       "<Figure size 864x360 with 1 Axes>"
      ]
     },
     "metadata": {
      "needs_background": "light"
     },
     "output_type": "display_data"
    }
   ],
   "source": [
    "mergedCumulativeConversions = cumulativeDataA[['date','conversion']].merge(cumulativeDataB[['date','conversion']], left_on='date', right_on='date', how='left', suffixes=['A', 'B'])\n",
    "\n",
    "plt.figure(figsize=(12,5))\n",
    "plt.plot(mergedCumulativeConversions['date'],\n",
    "         mergedCumulativeConversions['conversionB']/mergedCumulativeConversions['conversionA']-1,\n",
    "        color = '#a06999')\n",
    "plt.title('Относительный прирост среднего количества заказов на посетителя группы B относительно группы A')\n",
    "plt.grid()\n",
    "plt.xlabel('Дата')\n",
    "plt.ylabel('Относительный прирост')\n",
    "plt.axhline(y=0, color='black', linestyle='--')\n",
    "plt.axhline(y=-0.1, color='grey', linestyle='--')\n",
    "plt.axhline(y=0.15, color='grey', linestyle='--');"
   ]
  },
  {
   "cell_type": "markdown",
   "metadata": {},
   "source": [
    "Кроме первых пяти дней среднее количество заказов на посетителя группы В стабильно больше группы А."
   ]
  },
  {
   "cell_type": "markdown",
   "metadata": {},
   "source": [
    "### Точечный график количества заказов по пользователям"
   ]
  },
  {
   "cell_type": "code",
   "execution_count": 25,
   "metadata": {
    "scrolled": true
   },
   "outputs": [
    {
     "name": "stdout",
     "output_type": "stream",
     "text": [
      "      visitor_id  orders\n",
      "1023  4256040402      11\n",
      "591   2458001652      11\n",
      "569   2378935119       9\n",
      "487   2038680547       8\n",
      "44     199603092       5\n",
      "744   3062433592       5\n",
      "55     237748145       5\n",
      "917   3803269165       5\n",
      "299   1230306981       5\n",
      "897   3717692402       5\n"
     ]
    }
   ],
   "source": [
    "ordersByUsers = (\n",
    "    orders.groupby('visitor_id', as_index=False)\n",
    "    .agg({'transaction_id': 'nunique'})\n",
    ")\n",
    "\n",
    "ordersByUsers.columns = ['visitor_id', 'orders']\n",
    "\n",
    "print(ordersByUsers.sort_values(by='orders', ascending=False).head(10)) "
   ]
  },
  {
   "cell_type": "code",
   "execution_count": 26,
   "metadata": {
    "scrolled": true
   },
   "outputs": [
    {
     "data": {
      "image/png": "[encoded data removed]",
      "text/plain": [
       "<Figure size 864x360 with 1 Axes>"
      ]
     },
     "metadata": {
      "needs_background": "light"
     },
     "output_type": "display_data"
    }
   ],
   "source": [
    "plt.figure(figsize=(12,5))\n",
    "\n",
    "x_values = pd.Series(range(0,len(ordersByUsers)))\n",
    "plt.scatter(x_values, ordersByUsers['orders'], color = '#e5a900') \n",
    "plt.title('Количество заказов по пользователю')\n",
    "plt.xlabel('Дата')\n",
    "plt.ylabel('Заказы')\n",
    "plt.grid();"
   ]
  },
  {
   "cell_type": "markdown",
   "metadata": {},
   "source": [
    "По графику видно, что большинство пользователей делают не больше двух заказов."
   ]
  },
  {
   "cell_type": "markdown",
   "metadata": {},
   "source": [
    "### 95-й и 99-й перцентили стоимости заказов"
   ]
  },
  {
   "cell_type": "code",
   "execution_count": 27,
   "metadata": {},
   "outputs": [
    {
     "name": "stdout",
     "output_type": "stream",
     "text": [
      "[2. 2. 2. 3. 4.]\n"
     ]
    }
   ],
   "source": [
    "print(np.percentile(ordersByUsers['orders'], [95,96,97,98, 99])) "
   ]
  },
  {
   "cell_type": "markdown",
   "metadata": {},
   "source": [
    "Всего 3 % пользователей делают больше двух заказов, следовательно наша граница для определения аномальных заказов - 2 заказа."
   ]
  },
  {
   "cell_type": "code",
   "execution_count": 28,
   "metadata": {},
   "outputs": [],
   "source": [
    "limit_orders = np.percentile(ordersByUsers['orders'], [97])"
   ]
  },
  {
   "cell_type": "markdown",
   "metadata": {},
   "source": [
    "### Точечный график стоимостей заказов"
   ]
  },
  {
   "cell_type": "code",
   "execution_count": 29,
   "metadata": {
    "scrolled": true
   },
   "outputs": [
    {
     "data": {
      "image/png": "[encoded data removed]",
      "text/plain": [
       "<Figure size 864x360 with 1 Axes>"
      ]
     },
     "metadata": {
      "needs_background": "light"
     },
     "output_type": "display_data"
    }
   ],
   "source": [
    "plt.figure(figsize=(12,5))\n",
    "x_values = pd.Series(range(0,len(orders['revenue'])))\n",
    "plt.grid()\n",
    "plt.title('График стоимостей заказов')\n",
    "plt.xlabel('Дата')\n",
    "plt.ylabel('Стоимость заказа')\n",
    "plt.scatter(x_values, orders['revenue'], color = '#e5a900');"
   ]
  },
  {
   "cell_type": "markdown",
   "metadata": {},
   "source": [
    "Построим точечный график заказов без двух аномально дорогих."
   ]
  },
  {
   "cell_type": "code",
   "execution_count": 30,
   "metadata": {},
   "outputs": [
    {
     "data": {
      "image/png": "[encoded data removed]",
      "text/plain": [
       "<Figure size 864x360 with 1 Axes>"
      ]
     },
     "metadata": {
      "needs_background": "light"
     },
     "output_type": "display_data"
    }
   ],
   "source": [
    "clean_orders = orders.query('revenue < 200000')\n",
    "plt.figure(figsize=(12,5))\n",
    "x_values = pd.Series(range(0,len(clean_orders['revenue'])))\n",
    "plt.grid()\n",
    "plt.title('График стоимостей заказов')\n",
    "plt.xlabel('Дата')\n",
    "plt.ylabel('Стоимость заказа')\n",
    "plt.scatter(x_values, clean_orders['revenue'], color = '#e5a900');"
   ]
  },
  {
   "cell_type": "markdown",
   "metadata": {},
   "source": [
    "Вот на этом графике хорошо видно, что чаще всего стоимость заказа составляет не больше 40 000 тыс."
   ]
  },
  {
   "cell_type": "markdown",
   "metadata": {},
   "source": [
    "### 95-й и 99-й перцентили стоимости заказов"
   ]
  },
  {
   "cell_type": "code",
   "execution_count": 31,
   "metadata": {},
   "outputs": [
    {
     "name": "stdout",
     "output_type": "stream",
     "text": [
      "Рассчитаем 95 и 99 перцентили по выручке заказов :  [28000.  31382.  35485.  44133.2 58233.2]\n"
     ]
    }
   ],
   "source": [
    "print('Рассчитаем 95 и 99 перцентили по выручке заказов : ', np.percentile(orders['revenue'], [95, 96,97,98, 99])) "
   ]
  },
  {
   "cell_type": "markdown",
   "metadata": {},
   "source": [
    "Границей для аномальных заказов по стоимости будет 95 процентиль - 28 000 тыс."
   ]
  },
  {
   "cell_type": "code",
   "execution_count": 32,
   "metadata": {},
   "outputs": [],
   "source": [
    "limit_revenue = np.percentile(orders['revenue'], [95])"
   ]
  },
  {
   "cell_type": "markdown",
   "metadata": {},
   "source": [
    "### Cтатистическая значимость различий в среднем количестве заказов на посетителя между группами по «сырым» данным"
   ]
  },
  {
   "cell_type": "markdown",
   "metadata": {},
   "source": [
    "В данном случае мы будем использовать U-критерий Манна-Уитни, так как он является непараметрическим эквивалентом и подходит для двух независимых выборок и выборок маленького размера.\n",
    "\n",
    "Уровень значимости определим в 0,5 (далее alpha)."
   ]
  },
  {
   "cell_type": "markdown",
   "metadata": {},
   "source": [
    "Подготовим данные к подсчету статистической значимости."
   ]
  },
  {
   "cell_type": "code",
   "execution_count": 33,
   "metadata": {},
   "outputs": [],
   "source": [
    "visitorsADaily = visitors[visitors['group'] == 'A'][['date', 'visitors']]\n",
    "visitorsADaily.columns = ['date', 'visitorsPerDateA']\n",
    "visitorsACummulative = visitorsADaily.apply(\n",
    "    lambda x: visitorsADaily[visitorsADaily['date'] <= x['date']].agg(\n",
    "        {'date': 'max', 'visitorsPerDateA': 'sum'}\n",
    "    ),\n",
    "    axis=1,\n",
    ")\n",
    "visitorsACummulative.columns = ['date', 'visitorsCummulativeA']\n",
    "\n",
    "visitorsBDaily = visitors[visitors['group'] == 'B'][['date', 'visitors']]\n",
    "visitorsBDaily.columns = ['date', 'visitorsPerDateB']\n",
    "\n",
    "visitorsBCummulative = visitorsBDaily.apply(\n",
    "    lambda x: visitorsBDaily[visitorsBDaily['date'] <= x['date']].agg(\n",
    "        {'date': 'max', 'visitorsPerDateB': 'sum'}\n",
    "    ),\n",
    "    axis=1,\n",
    ")\n",
    "visitorsBCummulative.columns = ['date', 'visitorsCummulativeB']\n",
    "\n",
    "ordersADaily = (\n",
    "    orders[orders['group'] == 'A'][['date', 'transaction_id', 'visitor_id', 'revenue']]\n",
    "    .groupby('date', as_index=False)\n",
    "    .agg({'transaction_id': pd.Series.nunique, 'revenue': 'sum'})\n",
    ")\n",
    "ordersADaily.columns = ['date', 'ordersPerDateA', 'revenuePerDateA']\n",
    "\n",
    "ordersACummulative = ordersADaily.apply(\n",
    "    lambda x: ordersADaily[ordersADaily['date'] <= x['date']].agg(\n",
    "        {'date': 'max', 'ordersPerDateA': 'sum', 'revenuePerDateA': 'sum'}\n",
    "    ),\n",
    "    axis=1,\n",
    ").sort_values(by=['date'])\n",
    "ordersACummulative.columns = [\n",
    "    'date',\n",
    "    'ordersCummulativeA',\n",
    "    'revenueCummulativeA',\n",
    "]\n",
    "\n",
    "ordersBDaily = (\n",
    "    orders[orders['group'] == 'B'][['date', 'transaction_id', 'visitor_id', 'revenue']]\n",
    "    .groupby('date', as_index=False)\n",
    "    .agg({'transaction_id': pd.Series.nunique, 'revenue': 'sum'})\n",
    ")\n",
    "ordersBDaily.columns = ['date', 'ordersPerDateB', 'revenuePerDateB']\n",
    "\n",
    "ordersBCummulative = ordersBDaily.apply(\n",
    "    lambda x: ordersBDaily[ordersBDaily['date'] <= x['date']].agg(\n",
    "        {'date': 'max', 'ordersPerDateB': 'sum', 'revenuePerDateB': 'sum'}\n",
    "    ),\n",
    "    axis=1,\n",
    ").sort_values(by=['date'])\n",
    "ordersBCummulative.columns = [\n",
    "    'date',\n",
    "    'ordersCummulativeB',\n",
    "    'revenueCummulativeB',\n",
    "]\n",
    "\n",
    "data = (\n",
    "    ordersADaily.merge(\n",
    "        ordersBDaily, left_on='date', right_on='date', how='left'\n",
    "    )\n",
    "    .merge(ordersACummulative, left_on='date', right_on='date', how='left')\n",
    "    .merge(ordersBCummulative, left_on='date', right_on='date', how='left')\n",
    "    .merge(visitorsADaily, left_on='date', right_on='date', how='left')\n",
    "    .merge(visitorsBDaily, left_on='date', right_on='date', how='left')\n",
    "    .merge(visitorsACummulative, left_on='date', right_on='date', how='left')\n",
    "    .merge(visitorsBCummulative, left_on='date', right_on='date', how='left')\n",
    ")"
   ]
  },
  {
   "cell_type": "markdown",
   "metadata": {},
   "source": [
    "Сформулируем гипотезы:\n",
    "- **H0:** Статистически значимых различий в среднем количестве заказов между группами по \"сырым\" данным нет.\n",
    "- **H1:**  Статистически значимые различия в среднем количестве заказов между группами по \"сырым\" данным есть."
   ]
  },
  {
   "cell_type": "code",
   "execution_count": 34,
   "metadata": {
    "scrolled": false
   },
   "outputs": [
    {
     "name": "stdout",
     "output_type": "stream",
     "text": [
      "p-значение:  0.016792355056752608\n",
      "Отвергаем нулевую гипотезу: разница статистически значима\n",
      "Относительный показатель 'B' и 'A' = 0.138\n"
     ]
    }
   ],
   "source": [
    "ordersByUsersA = (\n",
    "    orders[orders['group'] == 'A']\n",
    "    .groupby('visitor_id', as_index=False)\n",
    "    .agg({'transaction_id': pd.Series.nunique})\n",
    ")\n",
    "ordersByUsersA.columns = ['visitor_id', 'orders']\n",
    "\n",
    "ordersByUsersB = (\n",
    "    orders[orders['group'] == 'B']\n",
    "    .groupby('visitor_id', as_index=False)\n",
    "    .agg({'transaction_id': pd.Series.nunique})\n",
    ")\n",
    "ordersByUsersB.columns = ['visitor_id', 'orders']\n",
    "\n",
    "sampleA = pd.concat([ordersByUsersA['orders'],pd.Series(0, index=np.arange(data['visitorsPerDateA'].sum() - len(ordersByUsersA['orders'])), name='orders')],axis=0)\n",
    "\n",
    "sampleB = pd.concat([ordersByUsersB['orders'],pd.Series(0, index=np.arange(data['visitorsPerDateB'].sum() - len(ordersByUsersB['orders'])), name='orders')],axis=0)\n",
    "\n",
    "results = st.mannwhitneyu(sampleA, sampleB)\n",
    "alpha = 0.05\n",
    "\n",
    "\n",
    "print('p-значение: ', results.pvalue)\n",
    "\n",
    "if results.pvalue < alpha:\n",
    "    print('Отвергаем нулевую гипотезу: разница статистически значима')\n",
    "else:\n",
    "    print('Не получилось отвергнуть нулевую гипотезу, вывод о различии сделать нельзя')\n",
    "    \n",
    "print(\"Относительный показатель 'B' и 'A' = {0:.3f}\".format(sampleB.mean()/sampleA.mean()-1)) "
   ]
  },
  {
   "cell_type": "markdown",
   "metadata": {},
   "source": [
    "**Вывод:** различия в среднем количестве заказов между группами А и В по «сырым» данным **есть**, при этом у группы В в среднем заказов больше на 13,8 %."
   ]
  },
  {
   "cell_type": "markdown",
   "metadata": {},
   "source": [
    "### Статистическая значимость различий в среднем чеке заказа между группами по «сырым» данным"
   ]
  },
  {
   "cell_type": "markdown",
   "metadata": {},
   "source": [
    "Сформулируем гипотезы:\n",
    "- **H0:** Статистически значимых различий в среднем чеке между группами по \"сырым\" данным нет.\n",
    "- **H1:**  Статистически значимые различия в среднем чеке  между группами по \"сырым\" данным есть."
   ]
  },
  {
   "cell_type": "code",
   "execution_count": 35,
   "metadata": {
    "scrolled": false
   },
   "outputs": [
    {
     "name": "stdout",
     "output_type": "stream",
     "text": [
      "p-значение:  0.23941730737669098\n",
      "Не получилось отвергнуть нулевую гипотезу, вывод о различии сделать нельзя\n",
      "Относительный показатель 'B' и 'A' = 0.259\n"
     ]
    }
   ],
   "source": [
    "results = st.mannwhitneyu(orders[orders['group']=='A']['revenue'], orders[orders['group']=='B']['revenue'][1])\n",
    "alpha = 0.05\n",
    "\n",
    "\n",
    "print('p-значение: ', results.pvalue)\n",
    "\n",
    "if results.pvalue < alpha:\n",
    "    print('Отвергаем нулевую гипотезу: разница статистически значима')\n",
    "else:\n",
    "    print('Не получилось отвергнуть нулевую гипотезу, вывод о различии сделать нельзя')\n",
    "    \n",
    "\n",
    "print(\"Относительный показатель 'B' и 'A' = {0:.3f}\".format(orders[orders['group']=='B']['revenue'].mean()/orders[orders['group']=='A']['revenue'].mean()-1))"
   ]
  },
  {
   "cell_type": "markdown",
   "metadata": {},
   "source": [
    "**Вывод:** вывод о различии в среднем чеке заказа между группами по «сырым» данным **сделать нельзя**, при этом различие в среднем чеке у групп почти в 26 %."
   ]
  },
  {
   "cell_type": "markdown",
   "metadata": {},
   "source": [
    "### Статистическая значимость различий в среднем количестве заказов на посетителя между группами по «очищенным» данным"
   ]
  },
  {
   "cell_type": "markdown",
   "metadata": {},
   "source": [
    "В данном случае также будем использовать U-критерий Манна-Уитни, так как он является непараметрическим эквивалентом и подходит для двух независимых выборок и выборок маленького размера.\n",
    "\n",
    "Уровень значимости определим в 0,5 (далее alpha)."
   ]
  },
  {
   "cell_type": "markdown",
   "metadata": {},
   "source": [
    "Сформулируем гипотезы:\n",
    "\n",
    "- H0: Статистически значимых различий в среднем количестве заказов между группами по \"очищенным\" данным нет.\n",
    "- H1: Статистически значимые различия в среднем количестве заказов между группами по \"очищенным\" данным есть"
   ]
  },
  {
   "cell_type": "markdown",
   "metadata": {},
   "source": [
    "Для начала определим аномальных пользователей."
   ]
  },
  {
   "cell_type": "code",
   "execution_count": 36,
   "metadata": {},
   "outputs": [
    {
     "data": {
      "text/plain": [
       "array([2.])"
      ]
     },
     "execution_count": 36,
     "metadata": {},
     "output_type": "execute_result"
    }
   ],
   "source": [
    "limit_orders"
   ]
  },
  {
   "cell_type": "code",
   "execution_count": 37,
   "metadata": {
    "scrolled": false
   },
   "outputs": [
    {
     "name": "stdout",
     "output_type": "stream",
     "text": [
      "1099    148427295\n",
      "18      199603092\n",
      "928     204675465\n",
      "23      237748145\n",
      "37      249864742\n",
      "Name: visitor_id, dtype: int64\n",
      "74\n"
     ]
    }
   ],
   "source": [
    "usersWithManyOrders = pd.concat(\n",
    "    [\n",
    "        ordersByUsersA[ordersByUsersA['orders'] > limit_orders[0]]['visitor_id'],\n",
    "        ordersByUsersB[ordersByUsersB['orders'] > limit_orders[0]]['visitor_id'],\n",
    "    ],\n",
    "    axis=0,\n",
    ")\n",
    "usersWithExpensiveOrders = orders[orders['revenue'] > limit_revenue[0]]['visitor_id']\n",
    "abnormalUsers = (\n",
    "    pd.concat([usersWithManyOrders, usersWithExpensiveOrders], axis=0)\n",
    "    .drop_duplicates()\n",
    "    .sort_values()\n",
    ")\n",
    "print(abnormalUsers.head(5))\n",
    "print(abnormalUsers.shape[0]) "
   ]
  },
  {
   "cell_type": "markdown",
   "metadata": {},
   "source": [
    "Аномальных пользователей 74, очистим данные от них."
   ]
  },
  {
   "cell_type": "code",
   "execution_count": 38,
   "metadata": {},
   "outputs": [],
   "source": [
    "sampleAFiltered = pd.concat(\n",
    "    [\n",
    "        ordersByUsersA[\n",
    "            np.logical_not(ordersByUsersA['visitor_id'].isin(abnormalUsers))\n",
    "        ]['orders'],\n",
    "        pd.Series(\n",
    "            0,\n",
    "            index=np.arange(\n",
    "                data['visitorsPerDateA'].sum() - len(ordersByUsersA['orders'])\n",
    "            ),\n",
    "            name='orders',\n",
    "        ),\n",
    "    ],\n",
    "    axis=0,\n",
    ")\n",
    "\n",
    "sampleBFiltered = pd.concat(\n",
    "    [\n",
    "        ordersByUsersB[\n",
    "            np.logical_not(ordersByUsersB['visitor_id'].isin(abnormalUsers))\n",
    "        ]['orders'],\n",
    "        pd.Series(\n",
    "            0,\n",
    "            index=np.arange(\n",
    "                data['visitorsPerDateB'].sum() - len(ordersByUsersB['orders'])\n",
    "            ),\n",
    "            name='orders',\n",
    "        ),\n",
    "    ],\n",
    "    axis=0,\n",
    ") "
   ]
  },
  {
   "cell_type": "code",
   "execution_count": 39,
   "metadata": {},
   "outputs": [
    {
     "name": "stdout",
     "output_type": "stream",
     "text": [
      "p-значение:  0.013042592743036745\n",
      "Отвергаем нулевую гипотезу: разница статистически значима\n",
      "Относительный показатель 'B' и 'A' = 0.173\n"
     ]
    }
   ],
   "source": [
    "results = st.mannwhitneyu(sampleAFiltered, sampleBFiltered)\n",
    "alpha = 0.05\n",
    "\n",
    "print('p-значение: ', results.pvalue)\n",
    "\n",
    "if results.pvalue < alpha:\n",
    "    print('Отвергаем нулевую гипотезу: разница статистически значима')\n",
    "else:\n",
    "    print('Не получилось отвергнуть нулевую гипотезу, вывод о различии сделать нельзя')\n",
    "    \n",
    "\n",
    "print(\"Относительный показатель 'B' и 'A' = {0:.3f}\".format(sampleBFiltered.mean()/sampleAFiltered.mean()-1))\n"
   ]
  },
  {
   "cell_type": "markdown",
   "metadata": {},
   "source": [
    "По \"очищенным\" данным различия в среднем количестве заказов между группами А и В тоже есть, однако у группы В заказов стало больше на 17,3 %."
   ]
  },
  {
   "cell_type": "markdown",
   "metadata": {},
   "source": [
    "### Статистическая значимость различий в среднем чеке заказа между группами по «очищенным» данным"
   ]
  },
  {
   "cell_type": "markdown",
   "metadata": {},
   "source": [
    "Сформулируем гипотезы:\n",
    "\n",
    "- H0: Статистически значимых различий в среднем чеке между группами по \"очищенным\" данным нет.\n",
    "- H1: Статистически значимые различия в среднем чеке между группами по \"очищенным\" данным есть."
   ]
  },
  {
   "cell_type": "code",
   "execution_count": 40,
   "metadata": {},
   "outputs": [
    {
     "name": "stdout",
     "output_type": "stream",
     "text": [
      "p-значение:  0.738481751314565\n",
      "Не получилось отвергнуть нулевую гипотезу, вывод о различии сделать нельзя\n",
      "Относительный показатель 'B' и 'A' = -0.020\n"
     ]
    }
   ],
   "source": [
    "results = st.mannwhitneyu(orders[np.logical_and(orders['group'] == 'A',np.logical_not(orders['visitor_id'].isin(abnormalUsers)),)]['revenue'],\n",
    "                          orders[np.logical_and(orders['group'] == 'B',np.logical_not(orders['visitor_id'].isin(abnormalUsers)),)]['revenue'])\n",
    "alpha = 0.05\n",
    "\n",
    "print('p-значение: ', results.pvalue)\n",
    "\n",
    "if results.pvalue < alpha:\n",
    "    print('Отвергаем нулевую гипотезу: разница статистически значима')\n",
    "else:\n",
    "    print('Не получилось отвергнуть нулевую гипотезу, вывод о различии сделать нельзя')\n",
    "    \n",
    "\n",
    "print(\"Относительный показатель 'B' и 'A' = {0:.3f}\".format(orders[np.logical_and(orders['group'] == 'B',np.logical_not(orders['visitor_id'].isin(abnormalUsers)),)]['revenue'].mean()/\n",
    "                                                            orders[np.logical_and(orders['group'] == 'A',np.logical_not(orders['visitor_id'].isin(abnormalUsers)),)]['revenue'].mean()- 1))\n"
   ]
  },
  {
   "cell_type": "markdown",
   "metadata": {},
   "source": [
    "О различии в среднем чеке заказа между группами по «очищенным» данным тоже сделать нельзя, а вот средний чек у группы В стал меньше среднего чека группы А на 2 %."
   ]
  },
  {
   "cell_type": "markdown",
   "metadata": {},
   "source": [
    "## Результаты тестирования"
   ]
  },
  {
   "cell_type": "markdown",
   "metadata": {},
   "source": [
    "**Исходя из результатов проведенного выше исследования, следует остановить тест и зафиксировать победу группы В**, так как:\n",
    "- присутствуют  различия в среднем количестве заказов между группами:\n",
    "  - по \"сырым\" данным **перевес группы В** по количеству заказов составляет 13,8 %;\n",
    "  - по \"очищенным\" данным **перевес группы В** по количеству заказов составляет 17,3 %.\n",
    "- вывод о различии в среднем чеке заказа между группами сделать нельзя, однако:\n",
    "  - по \"сырым\" данным **перевес группы В** в среднем чеке заказа составляет 25, 9 %;\n",
    "  - по \"очищенным\" данным **перевес группы А** в среднем чеке заказа составляет 2 %.\n",
    "Стоит отметить, что на вывод о различии в среднем чеке заказа между группами большое влияние оказывает самый аномальный заказ номер 590470918 на 1,3 млн."
   ]
  }
 ],
 "metadata": {
  "ExecuteTimeLog": [
   {
    "duration": 1770,
    "start_time": "2023-07-26T09:41:47.787Z"
   },
   {
    "duration": 76,
    "start_time": "2023-07-26T09:42:38.463Z"
   },
   {
    "duration": 40,
    "start_time": "2023-07-26T09:42:56.590Z"
   },
   {
    "duration": 46,
    "start_time": "2023-07-26T09:43:08.571Z"
   },
   {
    "duration": 6,
    "start_time": "2023-07-26T09:48:31.441Z"
   },
   {
    "duration": 11,
    "start_time": "2023-07-26T09:49:28.154Z"
   },
   {
    "duration": 9,
    "start_time": "2023-07-26T09:49:40.291Z"
   },
   {
    "duration": 5,
    "start_time": "2023-07-26T09:51:54.971Z"
   },
   {
    "duration": 14,
    "start_time": "2023-07-26T09:52:09.554Z"
   },
   {
    "duration": 142,
    "start_time": "2023-07-26T10:03:31.639Z"
   },
   {
    "duration": 16,
    "start_time": "2023-07-26T10:03:43.888Z"
   },
   {
    "duration": 15,
    "start_time": "2023-07-26T10:04:06.105Z"
   },
   {
    "duration": 11,
    "start_time": "2023-07-26T10:04:22.537Z"
   },
   {
    "duration": 12,
    "start_time": "2023-07-26T10:04:56.313Z"
   },
   {
    "duration": 48,
    "start_time": "2023-07-27T10:55:00.872Z"
   },
   {
    "duration": 1785,
    "start_time": "2023-07-27T10:55:05.250Z"
   },
   {
    "duration": 193,
    "start_time": "2023-07-27T10:55:07.037Z"
   },
   {
    "duration": 22,
    "start_time": "2023-07-27T10:55:07.232Z"
   },
   {
    "duration": 33,
    "start_time": "2023-07-27T10:55:07.255Z"
   },
   {
    "duration": 35,
    "start_time": "2023-07-27T10:55:07.290Z"
   },
   {
    "duration": 12,
    "start_time": "2023-07-27T10:55:07.326Z"
   },
   {
    "duration": 73,
    "start_time": "2023-07-27T10:55:07.339Z"
   },
   {
    "duration": 11,
    "start_time": "2023-07-27T10:55:07.413Z"
   },
   {
    "duration": 14,
    "start_time": "2023-07-27T10:55:07.425Z"
   },
   {
    "duration": 15,
    "start_time": "2023-07-27T10:55:07.441Z"
   },
   {
    "duration": 12,
    "start_time": "2023-07-27T10:55:40.250Z"
   },
   {
    "duration": 12,
    "start_time": "2023-07-27T10:55:43.706Z"
   },
   {
    "duration": 23,
    "start_time": "2023-07-27T10:55:58.802Z"
   },
   {
    "duration": 80,
    "start_time": "2023-07-27T10:56:23.670Z"
   },
   {
    "duration": 19,
    "start_time": "2023-07-27T10:56:33.890Z"
   },
   {
    "duration": 8,
    "start_time": "2023-07-27T11:11:30.262Z"
   },
   {
    "duration": 9,
    "start_time": "2023-07-27T11:13:41.167Z"
   },
   {
    "duration": 13,
    "start_time": "2023-07-27T11:14:31.608Z"
   },
   {
    "duration": 10,
    "start_time": "2023-07-27T11:14:48.805Z"
   },
   {
    "duration": 4,
    "start_time": "2023-07-27T11:17:43.460Z"
   },
   {
    "duration": 7,
    "start_time": "2023-07-27T11:21:30.292Z"
   },
   {
    "duration": 17,
    "start_time": "2023-07-27T11:30:47.476Z"
   },
   {
    "duration": 3,
    "start_time": "2023-07-27T11:31:29.452Z"
   },
   {
    "duration": 5,
    "start_time": "2023-07-27T11:31:34.103Z"
   },
   {
    "duration": 90,
    "start_time": "2023-07-27T11:31:34.110Z"
   },
   {
    "duration": 0,
    "start_time": "2023-07-27T11:31:34.202Z"
   },
   {
    "duration": 0,
    "start_time": "2023-07-27T11:31:34.204Z"
   },
   {
    "duration": 0,
    "start_time": "2023-07-27T11:31:34.206Z"
   },
   {
    "duration": 0,
    "start_time": "2023-07-27T11:31:34.207Z"
   },
   {
    "duration": 0,
    "start_time": "2023-07-27T11:31:34.209Z"
   },
   {
    "duration": 0,
    "start_time": "2023-07-27T11:31:34.210Z"
   },
   {
    "duration": 0,
    "start_time": "2023-07-27T11:31:34.211Z"
   },
   {
    "duration": 0,
    "start_time": "2023-07-27T11:31:34.213Z"
   },
   {
    "duration": 0,
    "start_time": "2023-07-27T11:31:34.215Z"
   },
   {
    "duration": 0,
    "start_time": "2023-07-27T11:31:34.216Z"
   },
   {
    "duration": 0,
    "start_time": "2023-07-27T11:31:34.217Z"
   },
   {
    "duration": 0,
    "start_time": "2023-07-27T11:31:34.219Z"
   },
   {
    "duration": 75,
    "start_time": "2023-07-27T11:31:55.393Z"
   },
   {
    "duration": 3,
    "start_time": "2023-07-27T11:31:59.112Z"
   },
   {
    "duration": 83,
    "start_time": "2023-07-27T11:31:59.117Z"
   },
   {
    "duration": 17,
    "start_time": "2023-07-27T11:31:59.201Z"
   },
   {
    "duration": 19,
    "start_time": "2023-07-27T11:31:59.220Z"
   },
   {
    "duration": 16,
    "start_time": "2023-07-27T11:31:59.240Z"
   },
   {
    "duration": 15,
    "start_time": "2023-07-27T11:31:59.257Z"
   },
   {
    "duration": 8,
    "start_time": "2023-07-27T11:31:59.273Z"
   },
   {
    "duration": 4,
    "start_time": "2023-07-27T11:31:59.283Z"
   },
   {
    "duration": 8,
    "start_time": "2023-07-27T11:31:59.288Z"
   },
   {
    "duration": 3648,
    "start_time": "2023-07-27T11:31:59.298Z"
   },
   {
    "duration": 0,
    "start_time": "2023-07-27T11:32:02.947Z"
   },
   {
    "duration": 0,
    "start_time": "2023-07-27T11:32:02.949Z"
   },
   {
    "duration": 0,
    "start_time": "2023-07-27T11:32:02.950Z"
   },
   {
    "duration": 0,
    "start_time": "2023-07-27T11:32:02.951Z"
   },
   {
    "duration": 4,
    "start_time": "2023-07-27T11:32:24.385Z"
   },
   {
    "duration": 1488,
    "start_time": "2023-07-27T11:32:38.670Z"
   },
   {
    "duration": 1066,
    "start_time": "2023-07-27T11:32:42.363Z"
   },
   {
    "duration": 434,
    "start_time": "2023-07-27T11:35:09.879Z"
   },
   {
    "duration": 3,
    "start_time": "2023-07-27T11:35:33.484Z"
   },
   {
    "duration": 90,
    "start_time": "2023-07-27T11:35:33.491Z"
   },
   {
    "duration": 15,
    "start_time": "2023-07-27T11:35:33.583Z"
   },
   {
    "duration": 18,
    "start_time": "2023-07-27T11:35:33.600Z"
   },
   {
    "duration": 16,
    "start_time": "2023-07-27T11:35:33.620Z"
   },
   {
    "duration": 24,
    "start_time": "2023-07-27T11:35:33.638Z"
   },
   {
    "duration": 30,
    "start_time": "2023-07-27T11:35:33.664Z"
   },
   {
    "duration": 9,
    "start_time": "2023-07-27T11:35:33.695Z"
   },
   {
    "duration": 13,
    "start_time": "2023-07-27T11:35:33.705Z"
   },
   {
    "duration": 10,
    "start_time": "2023-07-27T11:35:33.720Z"
   },
   {
    "duration": 15,
    "start_time": "2023-07-27T11:35:33.732Z"
   },
   {
    "duration": 1774,
    "start_time": "2023-07-27T11:35:33.748Z"
   },
   {
    "duration": 0,
    "start_time": "2023-07-27T11:35:35.525Z"
   },
   {
    "duration": 0,
    "start_time": "2023-07-27T11:35:35.526Z"
   },
   {
    "duration": 5,
    "start_time": "2023-07-27T11:35:50.087Z"
   },
   {
    "duration": 1651,
    "start_time": "2023-07-27T11:35:55.778Z"
   },
   {
    "duration": 6,
    "start_time": "2023-07-27T11:36:14.357Z"
   },
   {
    "duration": 84,
    "start_time": "2023-07-27T11:36:14.365Z"
   },
   {
    "duration": 17,
    "start_time": "2023-07-27T11:36:14.451Z"
   },
   {
    "duration": 34,
    "start_time": "2023-07-27T11:36:14.471Z"
   },
   {
    "duration": 25,
    "start_time": "2023-07-27T11:36:14.507Z"
   },
   {
    "duration": 9,
    "start_time": "2023-07-27T11:36:14.534Z"
   },
   {
    "duration": 9,
    "start_time": "2023-07-27T11:36:14.558Z"
   },
   {
    "duration": 17,
    "start_time": "2023-07-27T11:36:14.569Z"
   },
   {
    "duration": 4,
    "start_time": "2023-07-27T11:36:14.589Z"
   },
   {
    "duration": 26,
    "start_time": "2023-07-27T11:36:14.595Z"
   },
   {
    "duration": 20,
    "start_time": "2023-07-27T11:36:14.623Z"
   },
   {
    "duration": 21,
    "start_time": "2023-07-27T11:36:14.645Z"
   },
   {
    "duration": 89,
    "start_time": "2023-07-27T11:36:14.668Z"
   },
   {
    "duration": 405,
    "start_time": "2023-07-27T11:36:14.759Z"
   },
   {
    "duration": 502,
    "start_time": "2023-07-27T11:37:41.217Z"
   },
   {
    "duration": 30,
    "start_time": "2023-07-27T11:44:17.188Z"
   },
   {
    "duration": 310,
    "start_time": "2023-07-27T11:44:46.364Z"
   },
   {
    "duration": 336,
    "start_time": "2023-07-27T11:45:32.757Z"
   },
   {
    "duration": 9,
    "start_time": "2023-07-27T11:47:21.221Z"
   },
   {
    "duration": 6,
    "start_time": "2023-07-27T11:48:16.270Z"
   },
   {
    "duration": 5,
    "start_time": "2023-07-27T11:48:41.570Z"
   },
   {
    "duration": 5,
    "start_time": "2023-07-27T11:49:10.454Z"
   },
   {
    "duration": 306,
    "start_time": "2023-07-27T11:49:32.475Z"
   },
   {
    "duration": 298,
    "start_time": "2023-07-27T11:50:58.429Z"
   },
   {
    "duration": 272,
    "start_time": "2023-07-27T11:51:04.779Z"
   },
   {
    "duration": 311,
    "start_time": "2023-07-27T11:51:16.363Z"
   },
   {
    "duration": 308,
    "start_time": "2023-07-27T11:51:25.122Z"
   },
   {
    "duration": 327,
    "start_time": "2023-07-27T11:51:42.771Z"
   },
   {
    "duration": 330,
    "start_time": "2023-07-27T11:53:55.510Z"
   },
   {
    "duration": 353,
    "start_time": "2023-07-27T11:54:06.879Z"
   },
   {
    "duration": 313,
    "start_time": "2023-07-27T12:02:45.887Z"
   },
   {
    "duration": 378,
    "start_time": "2023-07-27T12:03:36.386Z"
   },
   {
    "duration": 320,
    "start_time": "2023-07-27T12:04:05.978Z"
   },
   {
    "duration": 517,
    "start_time": "2023-07-27T12:04:43.570Z"
   },
   {
    "duration": 18,
    "start_time": "2023-07-27T12:06:50.208Z"
   },
   {
    "duration": 364,
    "start_time": "2023-07-27T12:07:23.903Z"
   },
   {
    "duration": 295,
    "start_time": "2023-07-27T12:07:30.078Z"
   },
   {
    "duration": 384,
    "start_time": "2023-07-27T12:07:34.081Z"
   },
   {
    "duration": 306,
    "start_time": "2023-07-27T12:07:46.086Z"
   },
   {
    "duration": 292,
    "start_time": "2023-07-27T12:16:06.072Z"
   },
   {
    "duration": 280,
    "start_time": "2023-07-27T12:16:29.115Z"
   },
   {
    "duration": 294,
    "start_time": "2023-07-27T12:16:35.208Z"
   },
   {
    "duration": 306,
    "start_time": "2023-07-27T12:16:56.960Z"
   },
   {
    "duration": 288,
    "start_time": "2023-07-27T12:17:02.701Z"
   },
   {
    "duration": 291,
    "start_time": "2023-07-27T12:18:12.117Z"
   },
   {
    "duration": 31,
    "start_time": "2023-07-27T12:33:50.066Z"
   },
   {
    "duration": 26,
    "start_time": "2023-07-27T12:34:17.146Z"
   },
   {
    "duration": 26,
    "start_time": "2023-07-27T12:35:07.258Z"
   },
   {
    "duration": 3,
    "start_time": "2023-07-27T12:35:39.312Z"
   },
   {
    "duration": 82,
    "start_time": "2023-07-27T12:35:39.317Z"
   },
   {
    "duration": 15,
    "start_time": "2023-07-27T12:35:39.401Z"
   },
   {
    "duration": 20,
    "start_time": "2023-07-27T12:35:39.417Z"
   },
   {
    "duration": 15,
    "start_time": "2023-07-27T12:35:39.439Z"
   },
   {
    "duration": 7,
    "start_time": "2023-07-27T12:35:39.456Z"
   },
   {
    "duration": 8,
    "start_time": "2023-07-27T12:35:39.465Z"
   },
   {
    "duration": 4,
    "start_time": "2023-07-27T12:35:39.474Z"
   },
   {
    "duration": 5,
    "start_time": "2023-07-27T12:35:39.480Z"
   },
   {
    "duration": 8,
    "start_time": "2023-07-27T12:35:39.486Z"
   },
   {
    "duration": 10,
    "start_time": "2023-07-27T12:35:39.496Z"
   },
   {
    "duration": 9,
    "start_time": "2023-07-27T12:35:39.508Z"
   },
   {
    "duration": 15,
    "start_time": "2023-07-27T12:35:39.518Z"
   },
   {
    "duration": 26,
    "start_time": "2023-07-27T12:35:39.536Z"
   },
   {
    "duration": 7,
    "start_time": "2023-07-27T12:35:39.564Z"
   },
   {
    "duration": 10,
    "start_time": "2023-07-27T12:35:39.572Z"
   },
   {
    "duration": 20,
    "start_time": "2023-07-27T12:35:39.584Z"
   },
   {
    "duration": 284,
    "start_time": "2023-07-27T12:35:39.605Z"
   },
   {
    "duration": 26,
    "start_time": "2023-07-27T12:35:39.891Z"
   },
   {
    "duration": 0,
    "start_time": "2023-07-27T12:35:39.919Z"
   },
   {
    "duration": 0,
    "start_time": "2023-07-27T12:35:39.920Z"
   },
   {
    "duration": 0,
    "start_time": "2023-07-27T12:35:39.921Z"
   },
   {
    "duration": 0,
    "start_time": "2023-07-27T12:35:39.922Z"
   },
   {
    "duration": 0,
    "start_time": "2023-07-27T12:35:39.923Z"
   },
   {
    "duration": 6,
    "start_time": "2023-07-27T12:37:02.966Z"
   },
   {
    "duration": 3,
    "start_time": "2023-07-27T12:37:06.390Z"
   },
   {
    "duration": 88,
    "start_time": "2023-07-27T12:37:06.395Z"
   },
   {
    "duration": 16,
    "start_time": "2023-07-27T12:37:06.485Z"
   },
   {
    "duration": 36,
    "start_time": "2023-07-27T12:37:06.503Z"
   },
   {
    "duration": 52,
    "start_time": "2023-07-27T12:37:06.541Z"
   },
   {
    "duration": 32,
    "start_time": "2023-07-27T12:37:06.595Z"
   },
   {
    "duration": 17,
    "start_time": "2023-07-27T12:37:06.629Z"
   },
   {
    "duration": 8,
    "start_time": "2023-07-27T12:37:06.647Z"
   },
   {
    "duration": 15,
    "start_time": "2023-07-27T12:37:06.657Z"
   },
   {
    "duration": 11,
    "start_time": "2023-07-27T12:37:06.674Z"
   },
   {
    "duration": 14,
    "start_time": "2023-07-27T12:37:06.687Z"
   },
   {
    "duration": 13,
    "start_time": "2023-07-27T12:37:06.703Z"
   },
   {
    "duration": 23,
    "start_time": "2023-07-27T12:37:06.718Z"
   },
   {
    "duration": 14,
    "start_time": "2023-07-27T12:37:06.743Z"
   },
   {
    "duration": 22,
    "start_time": "2023-07-27T12:37:06.759Z"
   },
   {
    "duration": 32,
    "start_time": "2023-07-27T12:37:06.782Z"
   },
   {
    "duration": 19,
    "start_time": "2023-07-27T12:37:06.815Z"
   },
   {
    "duration": 287,
    "start_time": "2023-07-27T12:37:06.835Z"
   },
   {
    "duration": 36,
    "start_time": "2023-07-27T12:37:07.124Z"
   },
   {
    "duration": 0,
    "start_time": "2023-07-27T12:37:07.162Z"
   },
   {
    "duration": 0,
    "start_time": "2023-07-27T12:37:07.163Z"
   },
   {
    "duration": 0,
    "start_time": "2023-07-27T12:37:07.164Z"
   },
   {
    "duration": 0,
    "start_time": "2023-07-27T12:37:07.165Z"
   },
   {
    "duration": 0,
    "start_time": "2023-07-27T12:37:07.166Z"
   },
   {
    "duration": 365,
    "start_time": "2023-07-27T12:41:57.119Z"
   },
   {
    "duration": 264,
    "start_time": "2023-07-27T12:42:17.065Z"
   },
   {
    "duration": 294,
    "start_time": "2023-07-27T12:42:28.912Z"
   },
   {
    "duration": 247,
    "start_time": "2023-07-27T12:43:26.438Z"
   },
   {
    "duration": 207,
    "start_time": "2023-07-27T12:58:21.354Z"
   },
   {
    "duration": 278,
    "start_time": "2023-07-27T12:58:26.600Z"
   },
   {
    "duration": 247,
    "start_time": "2023-07-27T12:58:29.615Z"
   },
   {
    "duration": 333,
    "start_time": "2023-07-27T12:58:32.358Z"
   },
   {
    "duration": 173,
    "start_time": "2023-07-27T13:00:17.382Z"
   },
   {
    "duration": 4,
    "start_time": "2023-07-27T13:06:17.409Z"
   },
   {
    "duration": 15,
    "start_time": "2023-07-27T13:16:48.875Z"
   },
   {
    "duration": 14,
    "start_time": "2023-07-27T13:17:06.566Z"
   },
   {
    "duration": 9,
    "start_time": "2023-07-27T13:17:20.796Z"
   },
   {
    "duration": 4,
    "start_time": "2023-07-27T13:18:41.639Z"
   },
   {
    "duration": 14,
    "start_time": "2023-07-27T13:18:52.773Z"
   },
   {
    "duration": 15,
    "start_time": "2023-07-27T13:19:30.284Z"
   },
   {
    "duration": 18,
    "start_time": "2023-07-27T13:19:40.455Z"
   },
   {
    "duration": 5,
    "start_time": "2023-07-27T13:19:42.969Z"
   },
   {
    "duration": 98,
    "start_time": "2023-07-27T13:19:42.977Z"
   },
   {
    "duration": 23,
    "start_time": "2023-07-27T13:19:43.080Z"
   },
   {
    "duration": 33,
    "start_time": "2023-07-27T13:19:43.105Z"
   },
   {
    "duration": 28,
    "start_time": "2023-07-27T13:19:43.143Z"
   },
   {
    "duration": 10,
    "start_time": "2023-07-27T13:19:43.174Z"
   },
   {
    "duration": 15,
    "start_time": "2023-07-27T13:19:43.186Z"
   },
   {
    "duration": 14,
    "start_time": "2023-07-27T13:19:43.203Z"
   },
   {
    "duration": 20,
    "start_time": "2023-07-27T13:19:43.221Z"
   },
   {
    "duration": 32,
    "start_time": "2023-07-27T13:19:43.243Z"
   },
   {
    "duration": 14,
    "start_time": "2023-07-27T13:19:43.279Z"
   },
   {
    "duration": 34,
    "start_time": "2023-07-27T13:19:43.295Z"
   },
   {
    "duration": 16,
    "start_time": "2023-07-27T13:19:43.331Z"
   },
   {
    "duration": 40,
    "start_time": "2023-07-27T13:19:43.348Z"
   },
   {
    "duration": 27,
    "start_time": "2023-07-27T13:19:43.390Z"
   },
   {
    "duration": 26,
    "start_time": "2023-07-27T13:19:43.419Z"
   },
   {
    "duration": 31,
    "start_time": "2023-07-27T13:19:43.446Z"
   },
   {
    "duration": 32,
    "start_time": "2023-07-27T13:19:43.479Z"
   },
   {
    "duration": 323,
    "start_time": "2023-07-27T13:19:43.513Z"
   },
   {
    "duration": 259,
    "start_time": "2023-07-27T13:19:43.837Z"
   },
   {
    "duration": 242,
    "start_time": "2023-07-27T13:19:44.098Z"
   },
   {
    "duration": 267,
    "start_time": "2023-07-27T13:19:44.343Z"
   },
   {
    "duration": 326,
    "start_time": "2023-07-27T13:19:44.611Z"
   },
   {
    "duration": 276,
    "start_time": "2023-07-27T13:19:44.940Z"
   },
   {
    "duration": 392,
    "start_time": "2023-07-27T13:19:45.218Z"
   },
   {
    "duration": 3,
    "start_time": "2023-07-27T13:20:56.435Z"
   },
   {
    "duration": 107,
    "start_time": "2023-07-27T13:20:56.441Z"
   },
   {
    "duration": 22,
    "start_time": "2023-07-27T13:20:56.551Z"
   },
   {
    "duration": 21,
    "start_time": "2023-07-27T13:20:56.579Z"
   },
   {
    "duration": 20,
    "start_time": "2023-07-27T13:20:56.602Z"
   },
   {
    "duration": 10,
    "start_time": "2023-07-27T13:20:56.624Z"
   },
   {
    "duration": 15,
    "start_time": "2023-07-27T13:20:56.659Z"
   },
   {
    "duration": 4,
    "start_time": "2023-07-27T13:20:56.677Z"
   },
   {
    "duration": 21,
    "start_time": "2023-07-27T13:20:56.682Z"
   },
   {
    "duration": 9,
    "start_time": "2023-07-27T13:20:56.705Z"
   },
   {
    "duration": 142,
    "start_time": "2023-07-27T13:20:56.716Z"
   },
   {
    "duration": 13,
    "start_time": "2023-07-27T13:20:56.860Z"
   },
   {
    "duration": 9,
    "start_time": "2023-07-27T13:20:56.874Z"
   },
   {
    "duration": 43,
    "start_time": "2023-07-27T13:20:56.885Z"
   },
   {
    "duration": 14,
    "start_time": "2023-07-27T13:20:56.930Z"
   },
   {
    "duration": 9,
    "start_time": "2023-07-27T13:20:56.946Z"
   },
   {
    "duration": 32,
    "start_time": "2023-07-27T13:20:56.957Z"
   },
   {
    "duration": 21,
    "start_time": "2023-07-27T13:20:56.990Z"
   },
   {
    "duration": 291,
    "start_time": "2023-07-27T13:20:57.012Z"
   },
   {
    "duration": 232,
    "start_time": "2023-07-27T13:20:57.304Z"
   },
   {
    "duration": 198,
    "start_time": "2023-07-27T13:20:57.538Z"
   },
   {
    "duration": 224,
    "start_time": "2023-07-27T13:20:57.737Z"
   },
   {
    "duration": 337,
    "start_time": "2023-07-27T13:20:57.966Z"
   },
   {
    "duration": 255,
    "start_time": "2023-07-27T13:20:58.304Z"
   },
   {
    "duration": 322,
    "start_time": "2023-07-27T13:20:58.570Z"
   },
   {
    "duration": 4,
    "start_time": "2023-07-27T13:21:27.975Z"
   },
   {
    "duration": 94,
    "start_time": "2023-07-27T13:21:27.981Z"
   },
   {
    "duration": 17,
    "start_time": "2023-07-27T13:21:28.077Z"
   },
   {
    "duration": 22,
    "start_time": "2023-07-27T13:21:28.096Z"
   },
   {
    "duration": 18,
    "start_time": "2023-07-27T13:21:28.120Z"
   },
   {
    "duration": 34,
    "start_time": "2023-07-27T13:21:28.140Z"
   },
   {
    "duration": 16,
    "start_time": "2023-07-27T13:21:28.177Z"
   },
   {
    "duration": 11,
    "start_time": "2023-07-27T13:21:28.195Z"
   },
   {
    "duration": 24,
    "start_time": "2023-07-27T13:21:28.210Z"
   },
   {
    "duration": 14,
    "start_time": "2023-07-27T13:21:28.236Z"
   },
   {
    "duration": 20,
    "start_time": "2023-07-27T13:21:28.252Z"
   },
   {
    "duration": 11,
    "start_time": "2023-07-27T13:21:28.276Z"
   },
   {
    "duration": 9,
    "start_time": "2023-07-27T13:21:28.289Z"
   },
   {
    "duration": 20,
    "start_time": "2023-07-27T13:21:28.303Z"
   },
   {
    "duration": 8,
    "start_time": "2023-07-27T13:21:28.325Z"
   },
   {
    "duration": 10,
    "start_time": "2023-07-27T13:21:28.334Z"
   },
   {
    "duration": 22,
    "start_time": "2023-07-27T13:21:28.359Z"
   },
   {
    "duration": 26,
    "start_time": "2023-07-27T13:21:28.383Z"
   },
   {
    "duration": 315,
    "start_time": "2023-07-27T13:21:28.411Z"
   },
   {
    "duration": 225,
    "start_time": "2023-07-27T13:21:28.727Z"
   },
   {
    "duration": 200,
    "start_time": "2023-07-27T13:21:28.954Z"
   },
   {
    "duration": 248,
    "start_time": "2023-07-27T13:21:29.159Z"
   },
   {
    "duration": 312,
    "start_time": "2023-07-27T13:21:29.408Z"
   },
   {
    "duration": 257,
    "start_time": "2023-07-27T13:21:29.723Z"
   },
   {
    "duration": 325,
    "start_time": "2023-07-27T13:21:29.982Z"
   },
   {
    "duration": 30,
    "start_time": "2023-07-27T13:21:49.346Z"
   },
   {
    "duration": 4,
    "start_time": "2023-07-27T13:23:26.149Z"
   },
   {
    "duration": 16,
    "start_time": "2023-07-27T13:23:38.748Z"
   },
   {
    "duration": 4,
    "start_time": "2023-07-27T13:23:57.585Z"
   },
   {
    "duration": 3,
    "start_time": "2023-07-27T13:24:00.352Z"
   },
   {
    "duration": 3,
    "start_time": "2023-07-27T13:24:03.052Z"
   },
   {
    "duration": 13,
    "start_time": "2023-07-27T13:25:51.488Z"
   },
   {
    "duration": 4,
    "start_time": "2023-07-27T13:26:18.755Z"
   },
   {
    "duration": 81,
    "start_time": "2023-07-27T13:26:18.762Z"
   },
   {
    "duration": 20,
    "start_time": "2023-07-27T13:26:18.845Z"
   },
   {
    "duration": 24,
    "start_time": "2023-07-27T13:26:18.867Z"
   },
   {
    "duration": 18,
    "start_time": "2023-07-27T13:26:18.894Z"
   },
   {
    "duration": 18,
    "start_time": "2023-07-27T13:26:18.913Z"
   },
   {
    "duration": 27,
    "start_time": "2023-07-27T13:26:18.933Z"
   },
   {
    "duration": 8,
    "start_time": "2023-07-27T13:26:18.965Z"
   },
   {
    "duration": 32,
    "start_time": "2023-07-27T13:26:18.975Z"
   },
   {
    "duration": 0,
    "start_time": "2023-07-27T13:26:19.009Z"
   },
   {
    "duration": 0,
    "start_time": "2023-07-27T13:26:19.010Z"
   },
   {
    "duration": 0,
    "start_time": "2023-07-27T13:26:19.012Z"
   },
   {
    "duration": 0,
    "start_time": "2023-07-27T13:26:19.013Z"
   },
   {
    "duration": 0,
    "start_time": "2023-07-27T13:26:19.014Z"
   },
   {
    "duration": 0,
    "start_time": "2023-07-27T13:26:19.015Z"
   },
   {
    "duration": 0,
    "start_time": "2023-07-27T13:26:19.016Z"
   },
   {
    "duration": 0,
    "start_time": "2023-07-27T13:26:19.017Z"
   },
   {
    "duration": 0,
    "start_time": "2023-07-27T13:26:19.018Z"
   },
   {
    "duration": 0,
    "start_time": "2023-07-27T13:26:19.020Z"
   },
   {
    "duration": 0,
    "start_time": "2023-07-27T13:26:19.021Z"
   },
   {
    "duration": 0,
    "start_time": "2023-07-27T13:26:19.022Z"
   },
   {
    "duration": 1,
    "start_time": "2023-07-27T13:26:19.023Z"
   },
   {
    "duration": 0,
    "start_time": "2023-07-27T13:26:19.025Z"
   },
   {
    "duration": 0,
    "start_time": "2023-07-27T13:26:19.026Z"
   },
   {
    "duration": 0,
    "start_time": "2023-07-27T13:26:19.027Z"
   },
   {
    "duration": 3,
    "start_time": "2023-07-27T13:26:36.446Z"
   },
   {
    "duration": 13,
    "start_time": "2023-07-27T13:26:43.004Z"
   },
   {
    "duration": 4,
    "start_time": "2023-07-27T13:27:16.907Z"
   },
   {
    "duration": 115,
    "start_time": "2023-07-27T13:27:16.913Z"
   },
   {
    "duration": 17,
    "start_time": "2023-07-27T13:27:17.030Z"
   },
   {
    "duration": 43,
    "start_time": "2023-07-27T13:27:17.049Z"
   },
   {
    "duration": 19,
    "start_time": "2023-07-27T13:27:17.093Z"
   },
   {
    "duration": 16,
    "start_time": "2023-07-27T13:27:17.114Z"
   },
   {
    "duration": 9,
    "start_time": "2023-07-27T13:27:17.131Z"
   },
   {
    "duration": 20,
    "start_time": "2023-07-27T13:27:17.142Z"
   },
   {
    "duration": 18,
    "start_time": "2023-07-27T13:27:17.164Z"
   },
   {
    "duration": 5,
    "start_time": "2023-07-27T13:27:22.274Z"
   },
   {
    "duration": 94,
    "start_time": "2023-07-27T13:27:22.281Z"
   },
   {
    "duration": 16,
    "start_time": "2023-07-27T13:27:22.377Z"
   },
   {
    "duration": 27,
    "start_time": "2023-07-27T13:27:22.395Z"
   },
   {
    "duration": 29,
    "start_time": "2023-07-27T13:27:22.425Z"
   },
   {
    "duration": 19,
    "start_time": "2023-07-27T13:27:22.459Z"
   },
   {
    "duration": 9,
    "start_time": "2023-07-27T13:27:22.480Z"
   },
   {
    "duration": 13,
    "start_time": "2023-07-27T13:27:22.491Z"
   },
   {
    "duration": 45,
    "start_time": "2023-07-27T13:27:22.506Z"
   },
   {
    "duration": 22,
    "start_time": "2023-07-27T13:27:22.553Z"
   },
   {
    "duration": 25,
    "start_time": "2023-07-27T13:27:22.579Z"
   },
   {
    "duration": 42,
    "start_time": "2023-07-27T13:27:22.606Z"
   },
   {
    "duration": 23,
    "start_time": "2023-07-27T13:27:22.650Z"
   },
   {
    "duration": 33,
    "start_time": "2023-07-27T13:27:22.675Z"
   },
   {
    "duration": 96,
    "start_time": "2023-07-27T13:27:22.711Z"
   },
   {
    "duration": 121,
    "start_time": "2023-07-27T13:27:22.810Z"
   },
   {
    "duration": 32,
    "start_time": "2023-07-27T13:27:22.934Z"
   },
   {
    "duration": 34,
    "start_time": "2023-07-27T13:27:22.968Z"
   },
   {
    "duration": 319,
    "start_time": "2023-07-27T13:27:23.004Z"
   },
   {
    "duration": 359,
    "start_time": "2023-07-27T13:27:23.324Z"
   },
   {
    "duration": 205,
    "start_time": "2023-07-27T13:27:23.685Z"
   },
   {
    "duration": 262,
    "start_time": "2023-07-27T13:27:23.892Z"
   },
   {
    "duration": 368,
    "start_time": "2023-07-27T13:27:24.159Z"
   },
   {
    "duration": 262,
    "start_time": "2023-07-27T13:27:24.529Z"
   },
   {
    "duration": 315,
    "start_time": "2023-07-27T13:27:24.793Z"
   },
   {
    "duration": 23,
    "start_time": "2023-07-27T13:27:44.397Z"
   },
   {
    "duration": 5,
    "start_time": "2023-07-27T13:30:11.469Z"
   },
   {
    "duration": 14,
    "start_time": "2023-07-27T13:30:47.685Z"
   },
   {
    "duration": 4,
    "start_time": "2023-07-27T13:30:53.483Z"
   },
   {
    "duration": 136,
    "start_time": "2023-07-27T13:30:53.489Z"
   },
   {
    "duration": 18,
    "start_time": "2023-07-27T13:30:53.627Z"
   },
   {
    "duration": 30,
    "start_time": "2023-07-27T13:30:53.648Z"
   },
   {
    "duration": 19,
    "start_time": "2023-07-27T13:30:53.680Z"
   },
   {
    "duration": 10,
    "start_time": "2023-07-27T13:30:53.701Z"
   },
   {
    "duration": 8,
    "start_time": "2023-07-27T13:30:53.713Z"
   },
   {
    "duration": 7,
    "start_time": "2023-07-27T13:30:53.723Z"
   },
   {
    "duration": 19,
    "start_time": "2023-07-27T13:30:53.759Z"
   },
   {
    "duration": 4,
    "start_time": "2023-07-27T13:32:30.452Z"
   },
   {
    "duration": 123,
    "start_time": "2023-07-27T13:32:30.468Z"
   },
   {
    "duration": 16,
    "start_time": "2023-07-27T13:32:30.594Z"
   },
   {
    "duration": 79,
    "start_time": "2023-07-27T13:32:30.612Z"
   },
   {
    "duration": 55,
    "start_time": "2023-07-27T13:32:30.692Z"
   },
   {
    "duration": 64,
    "start_time": "2023-07-27T13:32:30.749Z"
   },
   {
    "duration": 62,
    "start_time": "2023-07-27T13:32:30.815Z"
   },
   {
    "duration": 44,
    "start_time": "2023-07-27T13:32:30.878Z"
   },
   {
    "duration": 63,
    "start_time": "2023-07-27T13:32:30.924Z"
   },
   {
    "duration": 53,
    "start_time": "2023-07-27T13:32:30.989Z"
   },
   {
    "duration": 51,
    "start_time": "2023-07-27T13:32:31.044Z"
   },
   {
    "duration": 45,
    "start_time": "2023-07-27T13:32:31.097Z"
   },
   {
    "duration": 70,
    "start_time": "2023-07-27T13:32:31.144Z"
   },
   {
    "duration": 31,
    "start_time": "2023-07-27T13:32:31.216Z"
   },
   {
    "duration": 36,
    "start_time": "2023-07-27T13:32:31.249Z"
   },
   {
    "duration": 72,
    "start_time": "2023-07-27T13:32:31.287Z"
   },
   {
    "duration": 50,
    "start_time": "2023-07-27T13:32:31.360Z"
   },
   {
    "duration": 59,
    "start_time": "2023-07-27T13:32:31.412Z"
   },
   {
    "duration": 59,
    "start_time": "2023-07-27T13:32:31.472Z"
   },
   {
    "duration": 366,
    "start_time": "2023-07-27T13:32:31.533Z"
   },
   {
    "duration": 245,
    "start_time": "2023-07-27T13:32:31.902Z"
   },
   {
    "duration": 192,
    "start_time": "2023-07-27T13:32:32.150Z"
   },
   {
    "duration": 392,
    "start_time": "2023-07-27T13:32:32.344Z"
   },
   {
    "duration": 365,
    "start_time": "2023-07-27T13:32:32.738Z"
   },
   {
    "duration": 270,
    "start_time": "2023-07-27T13:32:33.105Z"
   },
   {
    "duration": 331,
    "start_time": "2023-07-27T13:32:33.377Z"
   },
   {
    "duration": 16,
    "start_time": "2023-07-27T13:35:43.294Z"
   },
   {
    "duration": 91,
    "start_time": "2023-07-27T13:35:43.312Z"
   },
   {
    "duration": 23,
    "start_time": "2023-07-27T13:35:43.406Z"
   },
   {
    "duration": 31,
    "start_time": "2023-07-27T13:35:43.431Z"
   },
   {
    "duration": 30,
    "start_time": "2023-07-27T13:35:43.466Z"
   },
   {
    "duration": 9,
    "start_time": "2023-07-27T13:35:43.498Z"
   },
   {
    "duration": 19,
    "start_time": "2023-07-27T13:35:43.510Z"
   },
   {
    "duration": 5,
    "start_time": "2023-07-27T13:35:43.532Z"
   },
   {
    "duration": 23,
    "start_time": "2023-07-27T13:35:43.539Z"
   },
   {
    "duration": 15,
    "start_time": "2023-07-27T13:35:43.572Z"
   },
   {
    "duration": 8,
    "start_time": "2023-07-27T13:35:43.590Z"
   },
   {
    "duration": 17,
    "start_time": "2023-07-27T13:35:43.600Z"
   },
   {
    "duration": 27,
    "start_time": "2023-07-27T13:35:43.620Z"
   },
   {
    "duration": 22,
    "start_time": "2023-07-27T13:35:43.649Z"
   },
   {
    "duration": 16,
    "start_time": "2023-07-27T13:35:43.676Z"
   },
   {
    "duration": 9,
    "start_time": "2023-07-27T13:35:43.694Z"
   },
   {
    "duration": 6,
    "start_time": "2023-07-27T13:35:43.705Z"
   },
   {
    "duration": 14,
    "start_time": "2023-07-27T13:35:43.712Z"
   },
   {
    "duration": 20,
    "start_time": "2023-07-27T13:35:43.728Z"
   },
   {
    "duration": 314,
    "start_time": "2023-07-27T13:35:43.749Z"
   },
   {
    "duration": 261,
    "start_time": "2023-07-27T13:35:44.068Z"
   },
   {
    "duration": 263,
    "start_time": "2023-07-27T13:35:44.331Z"
   },
   {
    "duration": 271,
    "start_time": "2023-07-27T13:35:44.596Z"
   },
   {
    "duration": 337,
    "start_time": "2023-07-27T13:35:44.869Z"
   },
   {
    "duration": 293,
    "start_time": "2023-07-27T13:35:45.208Z"
   },
   {
    "duration": 314,
    "start_time": "2023-07-27T13:35:45.503Z"
   },
   {
    "duration": 5,
    "start_time": "2023-07-27T13:37:39.875Z"
   },
   {
    "duration": 102,
    "start_time": "2023-07-27T13:37:39.882Z"
   },
   {
    "duration": 16,
    "start_time": "2023-07-27T13:37:39.986Z"
   },
   {
    "duration": 27,
    "start_time": "2023-07-27T13:37:40.004Z"
   },
   {
    "duration": 41,
    "start_time": "2023-07-27T13:37:40.033Z"
   },
   {
    "duration": 9,
    "start_time": "2023-07-27T13:37:40.078Z"
   },
   {
    "duration": 9,
    "start_time": "2023-07-27T13:37:40.089Z"
   },
   {
    "duration": 15,
    "start_time": "2023-07-27T13:37:40.100Z"
   },
   {
    "duration": 18,
    "start_time": "2023-07-27T13:37:40.117Z"
   },
   {
    "duration": 14,
    "start_time": "2023-07-27T13:37:40.137Z"
   },
   {
    "duration": 10,
    "start_time": "2023-07-27T13:37:40.158Z"
   },
   {
    "duration": 24,
    "start_time": "2023-07-27T13:37:40.174Z"
   },
   {
    "duration": 24,
    "start_time": "2023-07-27T13:37:40.201Z"
   },
   {
    "duration": 30,
    "start_time": "2023-07-27T13:37:40.242Z"
   },
   {
    "duration": 14,
    "start_time": "2023-07-27T13:37:40.274Z"
   },
   {
    "duration": 62,
    "start_time": "2023-07-27T13:37:40.290Z"
   },
   {
    "duration": 42,
    "start_time": "2023-07-27T13:37:40.356Z"
   },
   {
    "duration": 42,
    "start_time": "2023-07-27T13:37:40.400Z"
   },
   {
    "duration": 345,
    "start_time": "2023-07-27T13:37:40.444Z"
   },
   {
    "duration": 225,
    "start_time": "2023-07-27T13:37:40.791Z"
   },
   {
    "duration": 198,
    "start_time": "2023-07-27T13:37:41.018Z"
   },
   {
    "duration": 220,
    "start_time": "2023-07-27T13:37:41.218Z"
   },
   {
    "duration": 352,
    "start_time": "2023-07-27T13:37:41.440Z"
   },
   {
    "duration": 399,
    "start_time": "2023-07-27T13:37:41.794Z"
   },
   {
    "duration": 331,
    "start_time": "2023-07-27T13:37:42.195Z"
   },
   {
    "duration": 5,
    "start_time": "2023-07-27T13:37:42.527Z"
   },
   {
    "duration": 17,
    "start_time": "2023-07-27T13:41:51.865Z"
   },
   {
    "duration": 50,
    "start_time": "2023-07-27T16:02:08.645Z"
   },
   {
    "duration": 8,
    "start_time": "2023-07-27T16:03:16.915Z"
   },
   {
    "duration": 8,
    "start_time": "2023-07-27T16:03:32.666Z"
   },
   {
    "duration": 11,
    "start_time": "2023-07-27T16:03:40.166Z"
   },
   {
    "duration": 1660,
    "start_time": "2023-07-27T16:03:43.146Z"
   },
   {
    "duration": 192,
    "start_time": "2023-07-27T16:03:44.808Z"
   },
   {
    "duration": 23,
    "start_time": "2023-07-27T16:03:45.001Z"
   },
   {
    "duration": 66,
    "start_time": "2023-07-27T16:03:45.026Z"
   },
   {
    "duration": 23,
    "start_time": "2023-07-27T16:03:45.094Z"
   },
   {
    "duration": 13,
    "start_time": "2023-07-27T16:03:45.118Z"
   },
   {
    "duration": 15,
    "start_time": "2023-07-27T16:03:45.133Z"
   },
   {
    "duration": 8,
    "start_time": "2023-07-27T16:03:45.149Z"
   },
   {
    "duration": 8,
    "start_time": "2023-07-27T16:03:45.158Z"
   },
   {
    "duration": 22,
    "start_time": "2023-07-27T16:03:45.167Z"
   },
   {
    "duration": 14,
    "start_time": "2023-07-27T16:03:45.190Z"
   },
   {
    "duration": 15,
    "start_time": "2023-07-27T16:03:45.206Z"
   },
   {
    "duration": 11,
    "start_time": "2023-07-27T16:03:45.222Z"
   },
   {
    "duration": 11,
    "start_time": "2023-07-27T16:03:45.236Z"
   },
   {
    "duration": 25,
    "start_time": "2023-07-27T16:03:45.249Z"
   },
   {
    "duration": 7,
    "start_time": "2023-07-27T16:03:45.276Z"
   },
   {
    "duration": 6,
    "start_time": "2023-07-27T16:03:45.285Z"
   },
   {
    "duration": 26,
    "start_time": "2023-07-27T16:03:45.292Z"
   },
   {
    "duration": 21,
    "start_time": "2023-07-27T16:03:45.319Z"
   },
   {
    "duration": 310,
    "start_time": "2023-07-27T16:03:45.342Z"
   },
   {
    "duration": 300,
    "start_time": "2023-07-27T16:03:45.654Z"
   },
   {
    "duration": 191,
    "start_time": "2023-07-27T16:03:45.959Z"
   },
   {
    "duration": 219,
    "start_time": "2023-07-27T16:03:46.152Z"
   },
   {
    "duration": 440,
    "start_time": "2023-07-27T16:03:46.372Z"
   },
   {
    "duration": 231,
    "start_time": "2023-07-27T16:03:46.813Z"
   },
   {
    "duration": 338,
    "start_time": "2023-07-27T16:03:47.047Z"
   },
   {
    "duration": 217,
    "start_time": "2023-07-27T16:06:04.250Z"
   },
   {
    "duration": 156,
    "start_time": "2023-07-27T16:10:34.970Z"
   },
   {
    "duration": 211,
    "start_time": "2023-07-27T16:10:55.892Z"
   },
   {
    "duration": 215,
    "start_time": "2023-07-27T16:12:12.350Z"
   },
   {
    "duration": 223,
    "start_time": "2023-07-27T16:12:35.406Z"
   },
   {
    "duration": 222,
    "start_time": "2023-07-27T16:16:11.711Z"
   },
   {
    "duration": 200,
    "start_time": "2023-07-27T16:16:22.542Z"
   },
   {
    "duration": 239,
    "start_time": "2023-07-27T16:16:32.257Z"
   },
   {
    "duration": 176,
    "start_time": "2023-07-27T16:23:49.674Z"
   },
   {
    "duration": 183,
    "start_time": "2023-07-27T16:24:25.811Z"
   },
   {
    "duration": 297,
    "start_time": "2023-07-27T16:26:52.803Z"
   },
   {
    "duration": 281,
    "start_time": "2023-07-27T16:33:31.301Z"
   },
   {
    "duration": 303,
    "start_time": "2023-07-27T16:35:05.564Z"
   },
   {
    "duration": 283,
    "start_time": "2023-07-27T16:35:16.991Z"
   },
   {
    "duration": 278,
    "start_time": "2023-07-27T16:39:48.945Z"
   },
   {
    "duration": 225,
    "start_time": "2023-07-27T16:40:33.857Z"
   },
   {
    "duration": 216,
    "start_time": "2023-07-27T16:40:55.691Z"
   },
   {
    "duration": 218,
    "start_time": "2023-07-27T16:41:05.597Z"
   },
   {
    "duration": 206,
    "start_time": "2023-07-27T16:41:27.568Z"
   },
   {
    "duration": 207,
    "start_time": "2023-07-27T16:42:01.569Z"
   },
   {
    "duration": 307,
    "start_time": "2023-07-27T16:42:46.409Z"
   },
   {
    "duration": 333,
    "start_time": "2023-07-27T16:43:24.215Z"
   },
   {
    "duration": 395,
    "start_time": "2023-07-27T16:44:05.107Z"
   },
   {
    "duration": 286,
    "start_time": "2023-07-27T16:44:22.591Z"
   },
   {
    "duration": 269,
    "start_time": "2023-07-27T16:44:36.899Z"
   },
   {
    "duration": 277,
    "start_time": "2023-07-27T16:44:57.299Z"
   },
   {
    "duration": 331,
    "start_time": "2023-07-27T16:45:02.219Z"
   },
   {
    "duration": 342,
    "start_time": "2023-07-27T16:46:02.140Z"
   },
   {
    "duration": 299,
    "start_time": "2023-07-27T16:47:44.411Z"
   },
   {
    "duration": 317,
    "start_time": "2023-07-27T16:48:09.153Z"
   },
   {
    "duration": 287,
    "start_time": "2023-07-27T16:48:34.187Z"
   },
   {
    "duration": 11,
    "start_time": "2023-07-27T16:52:15.965Z"
   },
   {
    "duration": 124,
    "start_time": "2023-07-27T16:52:22.565Z"
   },
   {
    "duration": 154,
    "start_time": "2023-07-27T16:58:32.165Z"
   },
   {
    "duration": 254,
    "start_time": "2023-07-27T16:59:28.549Z"
   },
   {
    "duration": 214,
    "start_time": "2023-07-27T16:59:54.073Z"
   },
   {
    "duration": 267,
    "start_time": "2023-07-27T17:00:30.099Z"
   },
   {
    "duration": 153,
    "start_time": "2023-07-27T17:02:46.895Z"
   },
   {
    "duration": 13,
    "start_time": "2023-07-27T17:06:40.793Z"
   },
   {
    "duration": 9,
    "start_time": "2023-07-27T17:07:21.522Z"
   },
   {
    "duration": 135,
    "start_time": "2023-07-27T17:08:47.802Z"
   },
   {
    "duration": 5,
    "start_time": "2023-07-27T17:13:36.552Z"
   },
   {
    "duration": 4,
    "start_time": "2023-07-27T17:15:38.700Z"
   },
   {
    "duration": 10,
    "start_time": "2023-07-27T17:19:47.356Z"
   },
   {
    "duration": 9,
    "start_time": "2023-07-27T17:20:10.994Z"
   },
   {
    "duration": 156,
    "start_time": "2023-07-27T17:20:44.472Z"
   },
   {
    "duration": 148,
    "start_time": "2023-07-27T17:20:52.002Z"
   },
   {
    "duration": 140,
    "start_time": "2023-07-27T17:21:07.821Z"
   },
   {
    "duration": 144,
    "start_time": "2023-07-27T17:21:39.364Z"
   },
   {
    "duration": 5,
    "start_time": "2023-07-27T17:22:51.622Z"
   },
   {
    "duration": 18,
    "start_time": "2023-07-27T17:29:06.716Z"
   },
   {
    "duration": 115,
    "start_time": "2023-07-27T17:30:09.065Z"
   },
   {
    "duration": 108,
    "start_time": "2023-07-27T17:31:24.312Z"
   },
   {
    "duration": 215,
    "start_time": "2023-07-27T17:32:19.109Z"
   },
   {
    "duration": 277,
    "start_time": "2023-07-27T17:32:33.948Z"
   },
   {
    "duration": 131,
    "start_time": "2023-07-27T17:34:13.656Z"
   },
   {
    "duration": 148,
    "start_time": "2023-07-27T17:35:13.573Z"
   },
   {
    "duration": 172,
    "start_time": "2023-07-27T17:36:03.893Z"
   },
   {
    "duration": 172,
    "start_time": "2023-07-27T17:37:52.207Z"
   },
   {
    "duration": 1791,
    "start_time": "2023-07-28T12:45:28.620Z"
   },
   {
    "duration": 231,
    "start_time": "2023-07-28T12:45:30.414Z"
   },
   {
    "duration": 19,
    "start_time": "2023-07-28T12:45:30.647Z"
   },
   {
    "duration": 69,
    "start_time": "2023-07-28T12:45:30.668Z"
   },
   {
    "duration": 113,
    "start_time": "2023-07-28T12:45:30.739Z"
   },
   {
    "duration": 49,
    "start_time": "2023-07-28T12:45:30.853Z"
   },
   {
    "duration": 82,
    "start_time": "2023-07-28T12:45:30.904Z"
   },
   {
    "duration": 40,
    "start_time": "2023-07-28T12:45:30.988Z"
   },
   {
    "duration": 56,
    "start_time": "2023-07-28T12:45:31.030Z"
   },
   {
    "duration": 48,
    "start_time": "2023-07-28T12:45:31.088Z"
   },
   {
    "duration": 48,
    "start_time": "2023-07-28T12:45:31.138Z"
   },
   {
    "duration": 101,
    "start_time": "2023-07-28T12:45:31.189Z"
   },
   {
    "duration": 43,
    "start_time": "2023-07-28T12:45:31.292Z"
   },
   {
    "duration": 64,
    "start_time": "2023-07-28T12:45:31.339Z"
   },
   {
    "duration": 84,
    "start_time": "2023-07-28T12:45:31.405Z"
   },
   {
    "duration": 37,
    "start_time": "2023-07-28T12:45:31.493Z"
   },
   {
    "duration": 41,
    "start_time": "2023-07-28T12:45:31.532Z"
   },
   {
    "duration": 71,
    "start_time": "2023-07-28T12:45:31.582Z"
   },
   {
    "duration": 340,
    "start_time": "2023-07-28T12:45:31.654Z"
   },
   {
    "duration": 304,
    "start_time": "2023-07-28T12:45:31.995Z"
   },
   {
    "duration": 244,
    "start_time": "2023-07-28T12:45:32.301Z"
   },
   {
    "duration": 385,
    "start_time": "2023-07-28T12:45:32.547Z"
   },
   {
    "duration": 300,
    "start_time": "2023-07-28T12:45:32.933Z"
   },
   {
    "duration": 309,
    "start_time": "2023-07-28T12:45:33.235Z"
   },
   {
    "duration": 10,
    "start_time": "2023-07-28T12:45:33.546Z"
   },
   {
    "duration": 259,
    "start_time": "2023-07-28T12:45:33.558Z"
   },
   {
    "duration": 5,
    "start_time": "2023-07-28T12:45:33.819Z"
   },
   {
    "duration": 29,
    "start_time": "2023-07-28T12:45:33.825Z"
   },
   {
    "duration": 202,
    "start_time": "2023-07-28T12:45:33.856Z"
   },
   {
    "duration": 4,
    "start_time": "2023-07-28T12:45:34.060Z"
   },
   {
    "duration": 267,
    "start_time": "2023-07-28T12:45:34.066Z"
   },
   {
    "duration": 200,
    "start_time": "2023-07-28T12:45:34.335Z"
   },
   {
    "duration": 112,
    "start_time": "2023-07-28T13:02:37.209Z"
   },
   {
    "duration": 86,
    "start_time": "2023-07-28T13:03:19.303Z"
   },
   {
    "duration": 100,
    "start_time": "2023-07-28T13:04:17.842Z"
   },
   {
    "duration": 16,
    "start_time": "2023-07-28T13:16:37.106Z"
   },
   {
    "duration": 13,
    "start_time": "2023-07-28T13:16:53.936Z"
   },
   {
    "duration": 12,
    "start_time": "2023-07-28T13:17:30.117Z"
   },
   {
    "duration": 57,
    "start_time": "2023-07-28T16:34:08.491Z"
   },
   {
    "duration": 17,
    "start_time": "2023-07-28T16:34:26.591Z"
   },
   {
    "duration": 1813,
    "start_time": "2023-07-28T16:34:34.316Z"
   },
   {
    "duration": 303,
    "start_time": "2023-07-28T16:34:36.132Z"
   },
   {
    "duration": 26,
    "start_time": "2023-07-28T16:34:36.438Z"
   },
   {
    "duration": 87,
    "start_time": "2023-07-28T16:34:36.466Z"
   },
   {
    "duration": 59,
    "start_time": "2023-07-28T16:34:36.555Z"
   },
   {
    "duration": 30,
    "start_time": "2023-07-28T16:34:36.616Z"
   },
   {
    "duration": 36,
    "start_time": "2023-07-28T16:34:36.649Z"
   },
   {
    "duration": 55,
    "start_time": "2023-07-28T16:34:36.686Z"
   },
   {
    "duration": 61,
    "start_time": "2023-07-28T16:34:36.742Z"
   },
   {
    "duration": 26,
    "start_time": "2023-07-28T16:34:36.805Z"
   },
   {
    "duration": 51,
    "start_time": "2023-07-28T16:34:36.833Z"
   },
   {
    "duration": 29,
    "start_time": "2023-07-28T16:34:36.892Z"
   },
   {
    "duration": 30,
    "start_time": "2023-07-28T16:34:36.923Z"
   },
   {
    "duration": 56,
    "start_time": "2023-07-28T16:34:36.955Z"
   },
   {
    "duration": 18,
    "start_time": "2023-07-28T16:34:37.013Z"
   },
   {
    "duration": 20,
    "start_time": "2023-07-28T16:34:37.032Z"
   },
   {
    "duration": 10,
    "start_time": "2023-07-28T16:34:37.054Z"
   },
   {
    "duration": 56,
    "start_time": "2023-07-28T16:34:37.066Z"
   },
   {
    "duration": 308,
    "start_time": "2023-07-28T16:34:37.124Z"
   },
   {
    "duration": 320,
    "start_time": "2023-07-28T16:34:37.434Z"
   },
   {
    "duration": 215,
    "start_time": "2023-07-28T16:34:37.755Z"
   },
   {
    "duration": 350,
    "start_time": "2023-07-28T16:34:37.972Z"
   },
   {
    "duration": 310,
    "start_time": "2023-07-28T16:34:38.323Z"
   },
   {
    "duration": 316,
    "start_time": "2023-07-28T16:34:38.635Z"
   },
   {
    "duration": 19,
    "start_time": "2023-07-28T16:34:38.953Z"
   },
   {
    "duration": 182,
    "start_time": "2023-07-28T16:34:38.978Z"
   },
   {
    "duration": 14,
    "start_time": "2023-07-28T16:34:39.162Z"
   },
   {
    "duration": 33,
    "start_time": "2023-07-28T16:34:39.184Z"
   },
   {
    "duration": 185,
    "start_time": "2023-07-28T16:34:39.219Z"
   },
   {
    "duration": 5,
    "start_time": "2023-07-28T16:34:39.407Z"
   },
   {
    "duration": 245,
    "start_time": "2023-07-28T16:34:39.413Z"
   },
   {
    "duration": 194,
    "start_time": "2023-07-28T16:34:39.659Z"
   },
   {
    "duration": 29,
    "start_time": "2023-07-28T16:34:39.855Z"
   },
   {
    "duration": 137,
    "start_time": "2023-07-28T16:34:39.888Z"
   },
   {
    "duration": 18,
    "start_time": "2023-07-28T16:37:18.227Z"
   },
   {
    "duration": 9,
    "start_time": "2023-07-28T16:40:42.071Z"
   },
   {
    "duration": 8,
    "start_time": "2023-07-28T16:42:22.314Z"
   },
   {
    "duration": 11,
    "start_time": "2023-07-28T16:42:41.105Z"
   },
   {
    "duration": 25,
    "start_time": "2023-07-28T16:42:49.394Z"
   },
   {
    "duration": 5,
    "start_time": "2023-07-28T17:03:24.147Z"
   },
   {
    "duration": 14,
    "start_time": "2023-07-28T17:03:32.671Z"
   },
   {
    "duration": 11,
    "start_time": "2023-07-28T17:03:44.742Z"
   },
   {
    "duration": 3,
    "start_time": "2023-07-28T17:03:57.530Z"
   },
   {
    "duration": 98,
    "start_time": "2023-07-28T17:03:57.535Z"
   },
   {
    "duration": 16,
    "start_time": "2023-07-28T17:03:57.635Z"
   },
   {
    "duration": 32,
    "start_time": "2023-07-28T17:03:57.652Z"
   },
   {
    "duration": 21,
    "start_time": "2023-07-28T17:03:57.687Z"
   },
   {
    "duration": 18,
    "start_time": "2023-07-28T17:03:57.710Z"
   },
   {
    "duration": 26,
    "start_time": "2023-07-28T17:03:57.730Z"
   },
   {
    "duration": 15,
    "start_time": "2023-07-28T17:03:57.758Z"
   },
   {
    "duration": 27,
    "start_time": "2023-07-28T17:03:57.783Z"
   },
   {
    "duration": 33,
    "start_time": "2023-07-28T17:03:57.811Z"
   },
   {
    "duration": 44,
    "start_time": "2023-07-28T17:03:57.846Z"
   },
   {
    "duration": 39,
    "start_time": "2023-07-28T17:03:57.891Z"
   },
   {
    "duration": 31,
    "start_time": "2023-07-28T17:03:57.931Z"
   },
   {
    "duration": 29,
    "start_time": "2023-07-28T17:03:57.965Z"
   },
   {
    "duration": 26,
    "start_time": "2023-07-28T17:03:57.996Z"
   },
   {
    "duration": 24,
    "start_time": "2023-07-28T17:03:58.023Z"
   },
   {
    "duration": 32,
    "start_time": "2023-07-28T17:03:58.049Z"
   },
   {
    "duration": 340,
    "start_time": "2023-07-28T17:03:58.084Z"
   },
   {
    "duration": 226,
    "start_time": "2023-07-28T17:03:58.426Z"
   },
   {
    "duration": 243,
    "start_time": "2023-07-28T17:03:58.654Z"
   },
   {
    "duration": 329,
    "start_time": "2023-07-28T17:03:58.899Z"
   },
   {
    "duration": 239,
    "start_time": "2023-07-28T17:03:59.229Z"
   },
   {
    "duration": 337,
    "start_time": "2023-07-28T17:03:59.474Z"
   },
   {
    "duration": 10,
    "start_time": "2023-07-28T17:03:59.812Z"
   },
   {
    "duration": 162,
    "start_time": "2023-07-28T17:03:59.823Z"
   },
   {
    "duration": 4,
    "start_time": "2023-07-28T17:03:59.987Z"
   },
   {
    "duration": 64,
    "start_time": "2023-07-28T17:03:59.993Z"
   },
   {
    "duration": 203,
    "start_time": "2023-07-28T17:04:00.059Z"
   },
   {
    "duration": 5,
    "start_time": "2023-07-28T17:04:00.264Z"
   },
   {
    "duration": 291,
    "start_time": "2023-07-28T17:04:00.270Z"
   },
   {
    "duration": 189,
    "start_time": "2023-07-28T17:04:00.563Z"
   },
   {
    "duration": 29,
    "start_time": "2023-07-28T17:04:00.754Z"
   },
   {
    "duration": 70,
    "start_time": "2023-07-28T17:04:00.785Z"
   },
   {
    "duration": 61,
    "start_time": "2023-07-28T17:04:00.858Z"
   },
   {
    "duration": 45,
    "start_time": "2023-07-28T17:04:00.922Z"
   },
   {
    "duration": 73,
    "start_time": "2023-07-28T17:04:00.969Z"
   },
   {
    "duration": 30,
    "start_time": "2023-07-28T17:04:01.043Z"
   },
   {
    "duration": 4,
    "start_time": "2023-07-28T17:05:19.415Z"
   },
   {
    "duration": 12,
    "start_time": "2023-07-28T17:05:27.152Z"
   },
   {
    "duration": 175,
    "start_time": "2023-07-29T08:45:13.114Z"
   },
   {
    "duration": 5,
    "start_time": "2023-07-29T08:45:17.669Z"
   },
   {
    "duration": 116,
    "start_time": "2023-07-29T08:45:17.676Z"
   },
   {
    "duration": 20,
    "start_time": "2023-07-29T08:45:17.794Z"
   },
   {
    "duration": 38,
    "start_time": "2023-07-29T08:45:17.817Z"
   },
   {
    "duration": 53,
    "start_time": "2023-07-29T08:45:17.858Z"
   },
   {
    "duration": 35,
    "start_time": "2023-07-29T08:45:17.913Z"
   },
   {
    "duration": 41,
    "start_time": "2023-07-29T08:45:17.950Z"
   },
   {
    "duration": 30,
    "start_time": "2023-07-29T08:45:17.993Z"
   },
   {
    "duration": 28,
    "start_time": "2023-07-29T08:45:18.025Z"
   },
   {
    "duration": 37,
    "start_time": "2023-07-29T08:45:18.055Z"
   },
   {
    "duration": 39,
    "start_time": "2023-07-29T08:45:18.096Z"
   },
   {
    "duration": 36,
    "start_time": "2023-07-29T08:45:18.138Z"
   },
   {
    "duration": 66,
    "start_time": "2023-07-29T08:45:18.176Z"
   },
   {
    "duration": 35,
    "start_time": "2023-07-29T08:45:18.244Z"
   },
   {
    "duration": 21,
    "start_time": "2023-07-29T08:45:18.285Z"
   },
   {
    "duration": 30,
    "start_time": "2023-07-29T08:45:18.308Z"
   },
   {
    "duration": 35,
    "start_time": "2023-07-29T08:45:18.340Z"
   },
   {
    "duration": 348,
    "start_time": "2023-07-29T08:45:18.377Z"
   },
   {
    "duration": 364,
    "start_time": "2023-07-29T08:45:18.726Z"
   },
   {
    "duration": 236,
    "start_time": "2023-07-29T08:45:19.092Z"
   },
   {
    "duration": 382,
    "start_time": "2023-07-29T08:45:19.330Z"
   },
   {
    "duration": 282,
    "start_time": "2023-07-29T08:45:19.714Z"
   },
   {
    "duration": 315,
    "start_time": "2023-07-29T08:45:19.998Z"
   },
   {
    "duration": 10,
    "start_time": "2023-07-29T08:45:20.314Z"
   },
   {
    "duration": 199,
    "start_time": "2023-07-29T08:45:20.326Z"
   },
   {
    "duration": 5,
    "start_time": "2023-07-29T08:45:20.527Z"
   },
   {
    "duration": 41,
    "start_time": "2023-07-29T08:45:20.533Z"
   },
   {
    "duration": 199,
    "start_time": "2023-07-29T08:45:20.582Z"
   },
   {
    "duration": 8,
    "start_time": "2023-07-29T08:45:20.784Z"
   },
   {
    "duration": 256,
    "start_time": "2023-07-29T08:45:20.794Z"
   },
   {
    "duration": 162,
    "start_time": "2023-07-29T08:45:21.052Z"
   },
   {
    "duration": 0,
    "start_time": "2023-07-29T08:45:21.216Z"
   },
   {
    "duration": 0,
    "start_time": "2023-07-29T08:45:21.217Z"
   },
   {
    "duration": 0,
    "start_time": "2023-07-29T08:45:21.218Z"
   },
   {
    "duration": 0,
    "start_time": "2023-07-29T08:45:21.219Z"
   },
   {
    "duration": 0,
    "start_time": "2023-07-29T08:45:21.221Z"
   },
   {
    "duration": 0,
    "start_time": "2023-07-29T08:45:21.222Z"
   },
   {
    "duration": 226,
    "start_time": "2023-07-29T08:45:54.468Z"
   },
   {
    "duration": 165,
    "start_time": "2023-07-29T08:46:07.914Z"
   },
   {
    "duration": 231,
    "start_time": "2023-07-29T08:56:38.511Z"
   },
   {
    "duration": 211,
    "start_time": "2023-07-29T08:57:37.989Z"
   },
   {
    "duration": 172,
    "start_time": "2023-07-29T08:59:41.007Z"
   },
   {
    "duration": 80,
    "start_time": "2023-07-29T09:01:39.759Z"
   },
   {
    "duration": 175,
    "start_time": "2023-07-29T09:02:05.320Z"
   },
   {
    "duration": 164,
    "start_time": "2023-07-29T09:02:36.103Z"
   },
   {
    "duration": 237,
    "start_time": "2023-07-29T09:12:31.910Z"
   },
   {
    "duration": 12,
    "start_time": "2023-07-29T09:16:21.051Z"
   },
   {
    "duration": 19,
    "start_time": "2023-07-29T09:19:23.069Z"
   },
   {
    "duration": 16,
    "start_time": "2023-07-29T09:36:43.307Z"
   },
   {
    "duration": 5,
    "start_time": "2023-07-29T09:42:27.895Z"
   },
   {
    "duration": 13,
    "start_time": "2023-07-29T09:44:41.816Z"
   },
   {
    "duration": 27,
    "start_time": "2023-07-29T09:44:54.612Z"
   },
   {
    "duration": 15,
    "start_time": "2023-07-29T09:45:02.211Z"
   },
   {
    "duration": 9,
    "start_time": "2023-07-29T09:47:31.245Z"
   },
   {
    "duration": 11,
    "start_time": "2023-07-29T09:47:44.259Z"
   },
   {
    "duration": 26,
    "start_time": "2023-07-29T09:47:50.644Z"
   },
   {
    "duration": 36,
    "start_time": "2023-07-29T09:50:21.712Z"
   },
   {
    "duration": 33,
    "start_time": "2023-07-29T09:53:30.226Z"
   },
   {
    "duration": 26,
    "start_time": "2023-07-29T09:53:45.230Z"
   },
   {
    "duration": 32,
    "start_time": "2023-07-29T09:56:09.160Z"
   },
   {
    "duration": 25,
    "start_time": "2023-07-29T09:57:56.235Z"
   },
   {
    "duration": 21,
    "start_time": "2023-07-29T09:59:10.634Z"
   },
   {
    "duration": 58,
    "start_time": "2023-07-29T13:02:58.200Z"
   },
   {
    "duration": 1618,
    "start_time": "2023-07-29T13:03:04.940Z"
   },
   {
    "duration": 201,
    "start_time": "2023-07-29T13:03:06.561Z"
   },
   {
    "duration": 19,
    "start_time": "2023-07-29T13:03:06.763Z"
   },
   {
    "duration": 30,
    "start_time": "2023-07-29T13:03:06.784Z"
   },
   {
    "duration": 16,
    "start_time": "2023-07-29T13:03:06.816Z"
   },
   {
    "duration": 8,
    "start_time": "2023-07-29T13:03:06.834Z"
   },
   {
    "duration": 7,
    "start_time": "2023-07-29T13:03:06.844Z"
   },
   {
    "duration": 6,
    "start_time": "2023-07-29T13:03:06.853Z"
   },
   {
    "duration": 5,
    "start_time": "2023-07-29T13:03:06.860Z"
   },
   {
    "duration": 9,
    "start_time": "2023-07-29T13:03:06.867Z"
   },
   {
    "duration": 6,
    "start_time": "2023-07-29T13:03:06.877Z"
   },
   {
    "duration": 14,
    "start_time": "2023-07-29T13:03:06.905Z"
   },
   {
    "duration": 15,
    "start_time": "2023-07-29T13:03:06.920Z"
   },
   {
    "duration": 13,
    "start_time": "2023-07-29T13:03:06.936Z"
   },
   {
    "duration": 9,
    "start_time": "2023-07-29T13:03:06.951Z"
   },
   {
    "duration": 5,
    "start_time": "2023-07-29T13:03:06.961Z"
   },
   {
    "duration": 11,
    "start_time": "2023-07-29T13:03:06.968Z"
   },
   {
    "duration": 272,
    "start_time": "2023-07-29T13:03:06.980Z"
   },
   {
    "duration": 278,
    "start_time": "2023-07-29T13:03:07.254Z"
   },
   {
    "duration": 191,
    "start_time": "2023-07-29T13:03:07.534Z"
   },
   {
    "duration": 362,
    "start_time": "2023-07-29T13:03:07.727Z"
   },
   {
    "duration": 262,
    "start_time": "2023-07-29T13:03:08.090Z"
   },
   {
    "duration": 273,
    "start_time": "2023-07-29T13:03:08.354Z"
   },
   {
    "duration": 8,
    "start_time": "2023-07-29T13:03:08.628Z"
   },
   {
    "duration": 128,
    "start_time": "2023-07-29T13:03:08.637Z"
   },
   {
    "duration": 4,
    "start_time": "2023-07-29T13:03:08.766Z"
   },
   {
    "duration": 7,
    "start_time": "2023-07-29T13:03:08.771Z"
   },
   {
    "duration": 151,
    "start_time": "2023-07-29T13:03:08.780Z"
   },
   {
    "duration": 4,
    "start_time": "2023-07-29T13:03:08.933Z"
   },
   {
    "duration": 205,
    "start_time": "2023-07-29T13:03:08.938Z"
   },
   {
    "duration": 169,
    "start_time": "2023-07-29T13:03:09.144Z"
   },
   {
    "duration": 11,
    "start_time": "2023-07-29T13:03:09.315Z"
   },
   {
    "duration": 8,
    "start_time": "2023-07-29T13:03:09.327Z"
   },
   {
    "duration": 13,
    "start_time": "2023-07-29T13:03:09.337Z"
   },
   {
    "duration": 20,
    "start_time": "2023-07-29T13:03:09.351Z"
   },
   {
    "duration": 43,
    "start_time": "2023-07-29T13:03:09.372Z"
   },
   {
    "duration": 55,
    "start_time": "2023-07-29T19:56:51.707Z"
   },
   {
    "duration": 10,
    "start_time": "2023-07-29T19:57:04.301Z"
   },
   {
    "duration": 8,
    "start_time": "2023-07-29T19:57:36.110Z"
   },
   {
    "duration": 6,
    "start_time": "2023-07-29T19:57:50.342Z"
   },
   {
    "duration": 20,
    "start_time": "2023-07-29T19:58:02.481Z"
   },
   {
    "duration": 2281,
    "start_time": "2023-07-29T19:58:06.197Z"
   },
   {
    "duration": 255,
    "start_time": "2023-07-29T19:58:08.488Z"
   },
   {
    "duration": 52,
    "start_time": "2023-07-29T19:58:08.745Z"
   },
   {
    "duration": 42,
    "start_time": "2023-07-29T19:58:08.811Z"
   },
   {
    "duration": 63,
    "start_time": "2023-07-29T19:58:08.855Z"
   },
   {
    "duration": 18,
    "start_time": "2023-07-29T19:58:08.919Z"
   },
   {
    "duration": 9,
    "start_time": "2023-07-29T19:58:08.939Z"
   },
   {
    "duration": 12,
    "start_time": "2023-07-29T19:58:08.950Z"
   },
   {
    "duration": 20,
    "start_time": "2023-07-29T19:58:08.965Z"
   },
   {
    "duration": 39,
    "start_time": "2023-07-29T19:58:08.991Z"
   },
   {
    "duration": 18,
    "start_time": "2023-07-29T19:58:09.033Z"
   },
   {
    "duration": 35,
    "start_time": "2023-07-29T19:58:09.054Z"
   },
   {
    "duration": 27,
    "start_time": "2023-07-29T19:58:09.093Z"
   },
   {
    "duration": 20,
    "start_time": "2023-07-29T19:58:09.123Z"
   },
   {
    "duration": 11,
    "start_time": "2023-07-29T19:58:09.146Z"
   },
   {
    "duration": 29,
    "start_time": "2023-07-29T19:58:09.160Z"
   },
   {
    "duration": 58,
    "start_time": "2023-07-29T19:58:09.194Z"
   },
   {
    "duration": 362,
    "start_time": "2023-07-29T19:58:09.254Z"
   },
   {
    "duration": 352,
    "start_time": "2023-07-29T19:58:09.617Z"
   },
   {
    "duration": 101,
    "start_time": "2023-07-29T19:58:09.978Z"
   },
   {
    "duration": 0,
    "start_time": "2023-07-29T19:58:10.081Z"
   },
   {
    "duration": 0,
    "start_time": "2023-07-29T19:58:10.082Z"
   },
   {
    "duration": 0,
    "start_time": "2023-07-29T19:58:10.083Z"
   },
   {
    "duration": 0,
    "start_time": "2023-07-29T19:58:10.084Z"
   },
   {
    "duration": 0,
    "start_time": "2023-07-29T19:58:10.085Z"
   },
   {
    "duration": 0,
    "start_time": "2023-07-29T19:58:10.086Z"
   },
   {
    "duration": 0,
    "start_time": "2023-07-29T19:58:10.087Z"
   },
   {
    "duration": 0,
    "start_time": "2023-07-29T19:58:10.089Z"
   },
   {
    "duration": 0,
    "start_time": "2023-07-29T19:58:10.090Z"
   },
   {
    "duration": 0,
    "start_time": "2023-07-29T19:58:10.092Z"
   },
   {
    "duration": 0,
    "start_time": "2023-07-29T19:58:10.093Z"
   },
   {
    "duration": 0,
    "start_time": "2023-07-29T19:58:10.094Z"
   },
   {
    "duration": 0,
    "start_time": "2023-07-29T19:58:10.095Z"
   },
   {
    "duration": 0,
    "start_time": "2023-07-29T19:58:10.096Z"
   },
   {
    "duration": 0,
    "start_time": "2023-07-29T19:58:10.097Z"
   },
   {
    "duration": 0,
    "start_time": "2023-07-29T19:58:10.097Z"
   },
   {
    "duration": 0,
    "start_time": "2023-07-29T19:58:10.100Z"
   },
   {
    "duration": 0,
    "start_time": "2023-07-29T19:58:10.101Z"
   },
   {
    "duration": 3,
    "start_time": "2023-07-29T19:58:25.222Z"
   },
   {
    "duration": 105,
    "start_time": "2023-07-29T19:58:26.309Z"
   },
   {
    "duration": 20,
    "start_time": "2023-07-29T19:58:27.205Z"
   },
   {
    "duration": 20,
    "start_time": "2023-07-29T19:58:27.917Z"
   },
   {
    "duration": 18,
    "start_time": "2023-07-29T19:58:28.627Z"
   },
   {
    "duration": 10,
    "start_time": "2023-07-29T19:58:30.535Z"
   },
   {
    "duration": 20,
    "start_time": "2023-07-29T19:58:31.868Z"
   },
   {
    "duration": 4,
    "start_time": "2023-07-29T19:58:33.556Z"
   },
   {
    "duration": 5,
    "start_time": "2023-07-29T19:58:34.806Z"
   },
   {
    "duration": 18,
    "start_time": "2023-07-29T19:58:39.869Z"
   },
   {
    "duration": 18,
    "start_time": "2023-07-29T19:58:46.713Z"
   },
   {
    "duration": 5,
    "start_time": "2023-07-29T19:59:12.604Z"
   },
   {
    "duration": 111,
    "start_time": "2023-07-29T19:59:12.611Z"
   },
   {
    "duration": 17,
    "start_time": "2023-07-29T19:59:12.724Z"
   },
   {
    "duration": 21,
    "start_time": "2023-07-29T19:59:12.742Z"
   },
   {
    "duration": 36,
    "start_time": "2023-07-29T19:59:12.766Z"
   },
   {
    "duration": 23,
    "start_time": "2023-07-29T19:59:12.804Z"
   },
   {
    "duration": 16,
    "start_time": "2023-07-29T19:59:12.829Z"
   },
   {
    "duration": 6,
    "start_time": "2023-07-29T19:59:12.847Z"
   },
   {
    "duration": 8,
    "start_time": "2023-07-29T19:59:12.855Z"
   },
   {
    "duration": 41,
    "start_time": "2023-07-29T19:59:12.866Z"
   },
   {
    "duration": 11,
    "start_time": "2023-07-29T19:59:12.911Z"
   },
   {
    "duration": 16,
    "start_time": "2023-07-29T19:59:12.924Z"
   },
   {
    "duration": 12,
    "start_time": "2023-07-29T19:59:12.942Z"
   },
   {
    "duration": 23,
    "start_time": "2023-07-29T19:59:12.958Z"
   },
   {
    "duration": 38,
    "start_time": "2023-07-29T19:59:12.984Z"
   },
   {
    "duration": 6,
    "start_time": "2023-07-29T19:59:13.024Z"
   },
   {
    "duration": 13,
    "start_time": "2023-07-29T19:59:13.032Z"
   },
   {
    "duration": 373,
    "start_time": "2023-07-29T19:59:13.047Z"
   },
   {
    "duration": 299,
    "start_time": "2023-07-29T19:59:13.422Z"
   },
   {
    "duration": 9,
    "start_time": "2023-07-29T19:59:13.723Z"
   },
   {
    "duration": 0,
    "start_time": "2023-07-29T19:59:13.734Z"
   },
   {
    "duration": 0,
    "start_time": "2023-07-29T19:59:13.736Z"
   },
   {
    "duration": 0,
    "start_time": "2023-07-29T19:59:13.737Z"
   },
   {
    "duration": 0,
    "start_time": "2023-07-29T19:59:13.739Z"
   },
   {
    "duration": 0,
    "start_time": "2023-07-29T19:59:13.741Z"
   },
   {
    "duration": 0,
    "start_time": "2023-07-29T19:59:13.743Z"
   },
   {
    "duration": 0,
    "start_time": "2023-07-29T19:59:13.744Z"
   },
   {
    "duration": 0,
    "start_time": "2023-07-29T19:59:13.745Z"
   },
   {
    "duration": 0,
    "start_time": "2023-07-29T19:59:13.780Z"
   },
   {
    "duration": 0,
    "start_time": "2023-07-29T19:59:13.782Z"
   },
   {
    "duration": 0,
    "start_time": "2023-07-29T19:59:13.783Z"
   },
   {
    "duration": 0,
    "start_time": "2023-07-29T19:59:13.784Z"
   },
   {
    "duration": 0,
    "start_time": "2023-07-29T19:59:13.793Z"
   },
   {
    "duration": 0,
    "start_time": "2023-07-29T19:59:13.794Z"
   },
   {
    "duration": 0,
    "start_time": "2023-07-29T19:59:13.795Z"
   },
   {
    "duration": 0,
    "start_time": "2023-07-29T19:59:13.796Z"
   },
   {
    "duration": 0,
    "start_time": "2023-07-29T19:59:13.797Z"
   },
   {
    "duration": 0,
    "start_time": "2023-07-29T19:59:13.798Z"
   },
   {
    "duration": 14,
    "start_time": "2023-07-29T19:59:33.022Z"
   },
   {
    "duration": 44,
    "start_time": "2023-07-29T20:01:53.103Z"
   },
   {
    "duration": 85,
    "start_time": "2023-07-29T20:02:20.936Z"
   },
   {
    "duration": 14,
    "start_time": "2023-07-29T20:03:26.143Z"
   },
   {
    "duration": 15,
    "start_time": "2023-07-29T20:03:33.582Z"
   },
   {
    "duration": 15,
    "start_time": "2023-07-29T20:03:50.395Z"
   },
   {
    "duration": 228,
    "start_time": "2023-07-29T20:26:40.822Z"
   },
   {
    "duration": 271,
    "start_time": "2023-07-29T20:28:01.254Z"
   },
   {
    "duration": 385,
    "start_time": "2023-07-29T20:31:49.639Z"
   },
   {
    "duration": 250,
    "start_time": "2023-07-29T20:39:57.007Z"
   },
   {
    "duration": 264,
    "start_time": "2023-07-29T20:42:54.302Z"
   },
   {
    "duration": 324,
    "start_time": "2023-07-29T20:48:30.025Z"
   },
   {
    "duration": 11,
    "start_time": "2023-07-29T20:51:27.834Z"
   },
   {
    "duration": 248,
    "start_time": "2023-07-29T20:51:38.796Z"
   },
   {
    "duration": 6,
    "start_time": "2023-07-29T20:54:56.393Z"
   },
   {
    "duration": 7,
    "start_time": "2023-07-29T20:55:02.298Z"
   },
   {
    "duration": 5,
    "start_time": "2023-07-29T20:56:53.436Z"
   },
   {
    "duration": 5,
    "start_time": "2023-07-29T20:57:05.164Z"
   },
   {
    "duration": 187,
    "start_time": "2023-07-29T21:00:10.220Z"
   },
   {
    "duration": 23,
    "start_time": "2023-07-29T21:03:05.298Z"
   },
   {
    "duration": 185,
    "start_time": "2023-07-29T21:04:19.518Z"
   },
   {
    "duration": 5,
    "start_time": "2023-07-29T21:11:51.651Z"
   },
   {
    "duration": 7,
    "start_time": "2023-07-29T21:12:14.256Z"
   },
   {
    "duration": 247,
    "start_time": "2023-07-29T21:19:34.210Z"
   },
   {
    "duration": 187,
    "start_time": "2023-07-29T21:19:43.548Z"
   },
   {
    "duration": 16,
    "start_time": "2023-07-29T21:19:53.053Z"
   },
   {
    "duration": 27,
    "start_time": "2023-07-29T21:20:33.997Z"
   },
   {
    "duration": 21,
    "start_time": "2023-07-29T21:20:49.965Z"
   },
   {
    "duration": 27,
    "start_time": "2023-07-29T21:20:53.915Z"
   },
   {
    "duration": 29,
    "start_time": "2023-07-29T21:21:09.469Z"
   },
   {
    "duration": 1656,
    "start_time": "2023-07-30T02:47:54.508Z"
   },
   {
    "duration": 200,
    "start_time": "2023-07-30T02:47:56.166Z"
   },
   {
    "duration": 32,
    "start_time": "2023-07-30T02:47:56.367Z"
   },
   {
    "duration": 24,
    "start_time": "2023-07-30T02:47:56.404Z"
   },
   {
    "duration": 22,
    "start_time": "2023-07-30T02:47:56.430Z"
   },
   {
    "duration": 7,
    "start_time": "2023-07-30T02:47:56.454Z"
   },
   {
    "duration": 20,
    "start_time": "2023-07-30T02:47:56.463Z"
   },
   {
    "duration": 13,
    "start_time": "2023-07-30T02:47:56.485Z"
   },
   {
    "duration": 7,
    "start_time": "2023-07-30T02:47:56.509Z"
   },
   {
    "duration": 7,
    "start_time": "2023-07-30T02:47:56.518Z"
   },
   {
    "duration": 7,
    "start_time": "2023-07-30T02:47:56.527Z"
   },
   {
    "duration": 15,
    "start_time": "2023-07-30T02:47:56.535Z"
   },
   {
    "duration": 4,
    "start_time": "2023-07-30T02:47:56.552Z"
   },
   {
    "duration": 13,
    "start_time": "2023-07-30T02:47:56.559Z"
   },
   {
    "duration": 23,
    "start_time": "2023-07-30T02:47:56.573Z"
   },
   {
    "duration": 11,
    "start_time": "2023-07-30T02:47:56.598Z"
   },
   {
    "duration": 14,
    "start_time": "2023-07-30T02:47:56.614Z"
   },
   {
    "duration": 298,
    "start_time": "2023-07-30T02:47:56.629Z"
   },
   {
    "duration": 326,
    "start_time": "2023-07-30T02:47:56.928Z"
   },
   {
    "duration": 15,
    "start_time": "2023-07-30T02:47:57.256Z"
   },
   {
    "duration": 245,
    "start_time": "2023-07-30T02:47:57.272Z"
   },
   {
    "duration": 317,
    "start_time": "2023-07-30T02:47:57.519Z"
   },
   {
    "duration": 315,
    "start_time": "2023-07-30T02:47:57.838Z"
   },
   {
    "duration": 357,
    "start_time": "2023-07-30T02:47:58.155Z"
   },
   {
    "duration": 12,
    "start_time": "2023-07-30T02:47:58.515Z"
   },
   {
    "duration": 206,
    "start_time": "2023-07-30T02:47:58.529Z"
   },
   {
    "duration": 5,
    "start_time": "2023-07-30T02:47:58.736Z"
   },
   {
    "duration": 224,
    "start_time": "2023-07-30T02:47:58.742Z"
   },
   {
    "duration": 166,
    "start_time": "2023-07-30T02:47:58.968Z"
   },
   {
    "duration": 4,
    "start_time": "2023-07-30T02:47:59.136Z"
   },
   {
    "duration": 288,
    "start_time": "2023-07-30T02:47:59.142Z"
   },
   {
    "duration": 204,
    "start_time": "2023-07-30T02:47:59.432Z"
   },
   {
    "duration": 13,
    "start_time": "2023-07-30T02:47:59.637Z"
   },
   {
    "duration": 33,
    "start_time": "2023-07-30T02:47:59.652Z"
   },
   {
    "duration": 50,
    "start_time": "2023-07-30T02:47:59.687Z"
   },
   {
    "duration": 90,
    "start_time": "2023-07-30T02:47:59.742Z"
   },
   {
    "duration": 36,
    "start_time": "2023-07-30T02:47:59.834Z"
   },
   {
    "duration": 1569,
    "start_time": "2023-07-30T08:55:38.813Z"
   },
   {
    "duration": 189,
    "start_time": "2023-07-30T08:55:40.385Z"
   },
   {
    "duration": 4,
    "start_time": "2023-07-30T08:55:41.931Z"
   },
   {
    "duration": 77,
    "start_time": "2023-07-30T08:55:41.937Z"
   },
   {
    "duration": 19,
    "start_time": "2023-07-30T08:55:42.016Z"
   },
   {
    "duration": 19,
    "start_time": "2023-07-30T08:55:42.037Z"
   },
   {
    "duration": 16,
    "start_time": "2023-07-30T08:55:42.058Z"
   },
   {
    "duration": 7,
    "start_time": "2023-07-30T08:55:42.075Z"
   },
   {
    "duration": 8,
    "start_time": "2023-07-30T08:55:42.083Z"
   },
   {
    "duration": 5,
    "start_time": "2023-07-30T08:55:42.093Z"
   },
   {
    "duration": 5,
    "start_time": "2023-07-30T08:55:42.099Z"
   },
   {
    "duration": 54,
    "start_time": "2023-07-30T08:55:42.106Z"
   },
   {
    "duration": 5,
    "start_time": "2023-07-30T08:55:42.163Z"
   },
   {
    "duration": 11,
    "start_time": "2023-07-30T08:55:42.170Z"
   },
   {
    "duration": 6,
    "start_time": "2023-07-30T08:55:42.183Z"
   },
   {
    "duration": 13,
    "start_time": "2023-07-30T08:55:42.190Z"
   },
   {
    "duration": 5,
    "start_time": "2023-07-30T08:55:42.205Z"
   },
   {
    "duration": 48,
    "start_time": "2023-07-30T08:55:42.211Z"
   },
   {
    "duration": 14,
    "start_time": "2023-07-30T08:55:42.260Z"
   },
   {
    "duration": 287,
    "start_time": "2023-07-30T08:55:42.275Z"
   },
   {
    "duration": 282,
    "start_time": "2023-07-30T08:55:42.563Z"
   },
   {
    "duration": 21,
    "start_time": "2023-07-30T08:55:42.847Z"
   },
   {
    "duration": 204,
    "start_time": "2023-07-30T08:55:42.870Z"
   },
   {
    "duration": 350,
    "start_time": "2023-07-30T08:55:43.076Z"
   },
   {
    "duration": 303,
    "start_time": "2023-07-30T08:55:43.427Z"
   },
   {
    "duration": 336,
    "start_time": "2023-07-30T08:55:43.732Z"
   },
   {
    "duration": 10,
    "start_time": "2023-07-30T08:55:44.070Z"
   },
   {
    "duration": 162,
    "start_time": "2023-07-30T08:55:44.082Z"
   },
   {
    "duration": 11,
    "start_time": "2023-07-30T08:55:44.245Z"
   },
   {
    "duration": 158,
    "start_time": "2023-07-30T08:55:44.258Z"
   },
   {
    "duration": 154,
    "start_time": "2023-07-30T08:55:44.418Z"
   },
   {
    "duration": 4,
    "start_time": "2023-07-30T08:55:44.574Z"
   },
   {
    "duration": 219,
    "start_time": "2023-07-30T08:55:44.580Z"
   },
   {
    "duration": 168,
    "start_time": "2023-07-30T08:55:44.801Z"
   },
   {
    "duration": 12,
    "start_time": "2023-07-30T08:55:44.971Z"
   },
   {
    "duration": 32,
    "start_time": "2023-07-30T08:55:44.984Z"
   },
   {
    "duration": 55,
    "start_time": "2023-07-30T08:55:45.017Z"
   },
   {
    "duration": 43,
    "start_time": "2023-07-30T08:55:45.074Z"
   },
   {
    "duration": 16,
    "start_time": "2023-07-30T08:55:45.119Z"
   },
   {
    "duration": 14,
    "start_time": "2023-07-30T09:03:02.570Z"
   },
   {
    "duration": 19,
    "start_time": "2023-07-30T09:03:26.763Z"
   },
   {
    "duration": 5,
    "start_time": "2023-07-30T09:03:54.812Z"
   },
   {
    "duration": 83,
    "start_time": "2023-07-30T09:03:54.820Z"
   },
   {
    "duration": 26,
    "start_time": "2023-07-30T09:03:54.906Z"
   },
   {
    "duration": 34,
    "start_time": "2023-07-30T09:03:54.934Z"
   },
   {
    "duration": 18,
    "start_time": "2023-07-30T09:03:54.970Z"
   },
   {
    "duration": 8,
    "start_time": "2023-07-30T09:03:54.990Z"
   },
   {
    "duration": 10,
    "start_time": "2023-07-30T09:03:55.000Z"
   },
   {
    "duration": 47,
    "start_time": "2023-07-30T09:03:55.012Z"
   },
   {
    "duration": 24,
    "start_time": "2023-07-30T09:03:55.062Z"
   },
   {
    "duration": 26,
    "start_time": "2023-07-30T09:03:55.089Z"
   },
   {
    "duration": 18,
    "start_time": "2023-07-30T09:03:55.117Z"
   },
   {
    "duration": 24,
    "start_time": "2023-07-30T09:03:55.137Z"
   },
   {
    "duration": 27,
    "start_time": "2023-07-30T09:03:55.163Z"
   },
   {
    "duration": 23,
    "start_time": "2023-07-30T09:03:55.192Z"
   },
   {
    "duration": 21,
    "start_time": "2023-07-30T09:03:55.217Z"
   },
   {
    "duration": 37,
    "start_time": "2023-07-30T09:03:55.240Z"
   },
   {
    "duration": 39,
    "start_time": "2023-07-30T09:03:55.278Z"
   },
   {
    "duration": 315,
    "start_time": "2023-07-30T09:03:55.318Z"
   },
   {
    "duration": 231,
    "start_time": "2023-07-30T09:03:55.635Z"
   },
   {
    "duration": 16,
    "start_time": "2023-07-30T09:03:55.868Z"
   },
   {
    "duration": 251,
    "start_time": "2023-07-30T09:03:55.886Z"
   },
   {
    "duration": 333,
    "start_time": "2023-07-30T09:03:56.139Z"
   },
   {
    "duration": 243,
    "start_time": "2023-07-30T09:03:56.474Z"
   },
   {
    "duration": 346,
    "start_time": "2023-07-30T09:03:56.720Z"
   },
   {
    "duration": 12,
    "start_time": "2023-07-30T09:03:57.067Z"
   },
   {
    "duration": 162,
    "start_time": "2023-07-30T09:03:57.081Z"
   },
   {
    "duration": 6,
    "start_time": "2023-07-30T09:03:57.245Z"
   },
   {
    "duration": 325,
    "start_time": "2023-07-30T09:03:57.256Z"
   },
   {
    "duration": 182,
    "start_time": "2023-07-30T09:03:57.582Z"
   },
   {
    "duration": 6,
    "start_time": "2023-07-30T09:03:57.766Z"
   },
   {
    "duration": 271,
    "start_time": "2023-07-30T09:03:57.774Z"
   },
   {
    "duration": 184,
    "start_time": "2023-07-30T09:03:58.047Z"
   },
   {
    "duration": 12,
    "start_time": "2023-07-30T09:03:58.232Z"
   },
   {
    "duration": 10,
    "start_time": "2023-07-30T09:03:58.257Z"
   },
   {
    "duration": 11,
    "start_time": "2023-07-30T09:03:58.268Z"
   },
   {
    "duration": 22,
    "start_time": "2023-07-30T09:03:58.280Z"
   },
   {
    "duration": 18,
    "start_time": "2023-07-30T09:03:58.304Z"
   },
   {
    "duration": 281,
    "start_time": "2023-07-30T09:15:01.768Z"
   },
   {
    "duration": 219,
    "start_time": "2023-07-30T09:17:12.373Z"
   },
   {
    "duration": 200,
    "start_time": "2023-07-30T09:18:37.897Z"
   },
   {
    "duration": 209,
    "start_time": "2023-07-30T09:19:30.019Z"
   },
   {
    "duration": 243,
    "start_time": "2023-07-30T09:22:29.117Z"
   },
   {
    "duration": 296,
    "start_time": "2023-07-30T09:26:51.568Z"
   },
   {
    "duration": 317,
    "start_time": "2023-07-30T09:27:02.779Z"
   },
   {
    "duration": 149,
    "start_time": "2023-07-30T09:28:49.113Z"
   },
   {
    "duration": 147,
    "start_time": "2023-07-30T09:29:23.385Z"
   },
   {
    "duration": 147,
    "start_time": "2023-07-30T09:29:46.465Z"
   },
   {
    "duration": 448,
    "start_time": "2023-07-30T09:52:20.003Z"
   },
   {
    "duration": 287,
    "start_time": "2023-07-30T09:53:36.806Z"
   },
   {
    "duration": 226,
    "start_time": "2023-07-30T09:54:11.918Z"
   },
   {
    "duration": 328,
    "start_time": "2023-07-30T09:56:25.750Z"
   },
   {
    "duration": 328,
    "start_time": "2023-07-30T09:56:38.710Z"
   },
   {
    "duration": 311,
    "start_time": "2023-07-30T09:57:36.992Z"
   },
   {
    "duration": 120,
    "start_time": "2023-07-30T10:06:30.984Z"
   },
   {
    "duration": 4,
    "start_time": "2023-07-30T10:06:50.169Z"
   },
   {
    "duration": 78,
    "start_time": "2023-07-30T10:06:50.175Z"
   },
   {
    "duration": 19,
    "start_time": "2023-07-30T10:06:50.255Z"
   },
   {
    "duration": 26,
    "start_time": "2023-07-30T10:06:50.277Z"
   },
   {
    "duration": 61,
    "start_time": "2023-07-30T10:06:50.306Z"
   },
   {
    "duration": 15,
    "start_time": "2023-07-30T10:06:50.368Z"
   },
   {
    "duration": 10,
    "start_time": "2023-07-30T10:06:50.385Z"
   },
   {
    "duration": 13,
    "start_time": "2023-07-30T10:06:50.397Z"
   },
   {
    "duration": 5,
    "start_time": "2023-07-30T10:06:50.412Z"
   },
   {
    "duration": 52,
    "start_time": "2023-07-30T10:06:50.420Z"
   },
   {
    "duration": 13,
    "start_time": "2023-07-30T10:06:50.474Z"
   },
   {
    "duration": 12,
    "start_time": "2023-07-30T10:06:50.490Z"
   },
   {
    "duration": 6,
    "start_time": "2023-07-30T10:06:50.505Z"
   },
   {
    "duration": 14,
    "start_time": "2023-07-30T10:06:50.515Z"
   },
   {
    "duration": 7,
    "start_time": "2023-07-30T10:06:50.532Z"
   },
   {
    "duration": 5,
    "start_time": "2023-07-30T10:06:50.558Z"
   },
   {
    "duration": 25,
    "start_time": "2023-07-30T10:06:50.565Z"
   },
   {
    "duration": 346,
    "start_time": "2023-07-30T10:06:50.592Z"
   },
   {
    "duration": 234,
    "start_time": "2023-07-30T10:06:50.939Z"
   },
   {
    "duration": 18,
    "start_time": "2023-07-30T10:06:51.174Z"
   },
   {
    "duration": 244,
    "start_time": "2023-07-30T10:06:51.194Z"
   },
   {
    "duration": 334,
    "start_time": "2023-07-30T10:06:51.440Z"
   },
   {
    "duration": 249,
    "start_time": "2023-07-30T10:06:51.776Z"
   },
   {
    "duration": 357,
    "start_time": "2023-07-30T10:06:52.027Z"
   },
   {
    "duration": 11,
    "start_time": "2023-07-30T10:06:52.386Z"
   },
   {
    "duration": 281,
    "start_time": "2023-07-30T10:06:52.399Z"
   },
   {
    "duration": 6,
    "start_time": "2023-07-30T10:06:52.682Z"
   },
   {
    "duration": 181,
    "start_time": "2023-07-30T10:06:52.690Z"
   },
   {
    "duration": 196,
    "start_time": "2023-07-30T10:06:52.873Z"
   },
   {
    "duration": 6,
    "start_time": "2023-07-30T10:06:53.071Z"
   },
   {
    "duration": 274,
    "start_time": "2023-07-30T10:06:53.079Z"
   },
   {
    "duration": 218,
    "start_time": "2023-07-30T10:06:53.355Z"
   },
   {
    "duration": 14,
    "start_time": "2023-07-30T10:06:53.575Z"
   },
   {
    "duration": 85,
    "start_time": "2023-07-30T10:06:53.591Z"
   },
   {
    "duration": 0,
    "start_time": "2023-07-30T10:06:53.678Z"
   },
   {
    "duration": 0,
    "start_time": "2023-07-30T10:06:53.681Z"
   },
   {
    "duration": 0,
    "start_time": "2023-07-30T10:06:53.682Z"
   },
   {
    "duration": 4,
    "start_time": "2023-07-30T10:09:14.538Z"
   },
   {
    "duration": 6,
    "start_time": "2023-07-30T10:10:36.618Z"
   },
   {
    "duration": 7,
    "start_time": "2023-07-30T10:10:40.026Z"
   },
   {
    "duration": 6,
    "start_time": "2023-07-30T10:10:42.787Z"
   },
   {
    "duration": 4,
    "start_time": "2023-07-30T10:12:00.010Z"
   },
   {
    "duration": 4,
    "start_time": "2023-07-30T10:12:14.594Z"
   },
   {
    "duration": 18,
    "start_time": "2023-07-30T10:12:53.859Z"
   },
   {
    "duration": 5,
    "start_time": "2023-07-30T10:15:00.491Z"
   },
   {
    "duration": 7,
    "start_time": "2023-07-30T10:15:06.595Z"
   },
   {
    "duration": 58,
    "start_time": "2023-07-30T19:49:59.497Z"
   },
   {
    "duration": 1639,
    "start_time": "2023-07-30T19:50:04.433Z"
   },
   {
    "duration": 191,
    "start_time": "2023-07-30T19:50:06.074Z"
   },
   {
    "duration": 22,
    "start_time": "2023-07-30T19:50:06.268Z"
   },
   {
    "duration": 23,
    "start_time": "2023-07-30T19:50:06.292Z"
   },
   {
    "duration": 39,
    "start_time": "2023-07-30T19:50:06.317Z"
   },
   {
    "duration": 11,
    "start_time": "2023-07-30T19:50:06.357Z"
   },
   {
    "duration": 8,
    "start_time": "2023-07-30T19:50:06.370Z"
   },
   {
    "duration": 6,
    "start_time": "2023-07-30T19:50:06.380Z"
   },
   {
    "duration": 11,
    "start_time": "2023-07-30T19:50:06.388Z"
   },
   {
    "duration": 24,
    "start_time": "2023-07-30T19:50:06.400Z"
   },
   {
    "duration": 8,
    "start_time": "2023-07-30T19:50:06.426Z"
   },
   {
    "duration": 22,
    "start_time": "2023-07-30T19:50:06.436Z"
   },
   {
    "duration": 23,
    "start_time": "2023-07-30T19:50:06.460Z"
   },
   {
    "duration": 23,
    "start_time": "2023-07-30T19:50:06.487Z"
   },
   {
    "duration": 9,
    "start_time": "2023-07-30T19:50:06.512Z"
   },
   {
    "duration": 5,
    "start_time": "2023-07-30T19:50:06.523Z"
   },
   {
    "duration": 14,
    "start_time": "2023-07-30T19:50:06.530Z"
   },
   {
    "duration": 287,
    "start_time": "2023-07-30T19:50:06.545Z"
   },
   {
    "duration": 292,
    "start_time": "2023-07-30T19:50:06.834Z"
   },
   {
    "duration": 31,
    "start_time": "2023-07-30T19:50:07.128Z"
   },
   {
    "duration": 242,
    "start_time": "2023-07-30T19:50:07.161Z"
   },
   {
    "duration": 491,
    "start_time": "2023-07-30T19:50:07.405Z"
   },
   {
    "duration": 283,
    "start_time": "2023-07-30T19:50:07.898Z"
   },
   {
    "duration": 311,
    "start_time": "2023-07-30T19:50:08.184Z"
   },
   {
    "duration": 11,
    "start_time": "2023-07-30T19:50:08.497Z"
   },
   {
    "duration": 170,
    "start_time": "2023-07-30T19:50:08.510Z"
   },
   {
    "duration": 6,
    "start_time": "2023-07-30T19:50:08.682Z"
   },
   {
    "duration": 14,
    "start_time": "2023-07-30T19:50:08.690Z"
   },
   {
    "duration": 192,
    "start_time": "2023-07-30T19:50:08.706Z"
   },
   {
    "duration": 228,
    "start_time": "2023-07-30T19:50:08.900Z"
   },
   {
    "duration": 5,
    "start_time": "2023-07-30T19:50:09.130Z"
   },
   {
    "duration": 20,
    "start_time": "2023-07-30T19:50:09.137Z"
   },
   {
    "duration": 231,
    "start_time": "2023-07-30T19:50:09.159Z"
   },
   {
    "duration": 19,
    "start_time": "2023-07-30T19:50:09.391Z"
   },
   {
    "duration": 157,
    "start_time": "2023-07-30T19:50:09.412Z"
   },
   {
    "duration": 11,
    "start_time": "2023-07-30T19:50:09.570Z"
   },
   {
    "duration": 85,
    "start_time": "2023-07-30T19:50:09.582Z"
   },
   {
    "duration": 0,
    "start_time": "2023-07-30T19:50:09.669Z"
   },
   {
    "duration": 0,
    "start_time": "2023-07-30T19:50:09.670Z"
   },
   {
    "duration": 0,
    "start_time": "2023-07-30T19:50:09.671Z"
   },
   {
    "duration": 12,
    "start_time": "2023-07-30T20:03:55.586Z"
   },
   {
    "duration": 1812,
    "start_time": "2023-07-31T10:46:59.299Z"
   },
   {
    "duration": 307,
    "start_time": "2023-07-31T10:47:01.113Z"
   },
   {
    "duration": 31,
    "start_time": "2023-07-31T10:47:01.422Z"
   },
   {
    "duration": 53,
    "start_time": "2023-07-31T10:47:01.454Z"
   },
   {
    "duration": 61,
    "start_time": "2023-07-31T10:47:01.508Z"
   },
   {
    "duration": 59,
    "start_time": "2023-07-31T10:47:01.571Z"
   },
   {
    "duration": 133,
    "start_time": "2023-07-31T10:47:01.633Z"
   },
   {
    "duration": 67,
    "start_time": "2023-07-31T10:47:01.768Z"
   },
   {
    "duration": 55,
    "start_time": "2023-07-31T10:47:01.840Z"
   },
   {
    "duration": 70,
    "start_time": "2023-07-31T10:47:01.897Z"
   },
   {
    "duration": 77,
    "start_time": "2023-07-31T10:47:01.969Z"
   },
   {
    "duration": 157,
    "start_time": "2023-07-31T10:47:02.050Z"
   },
   {
    "duration": 242,
    "start_time": "2023-07-31T10:47:02.208Z"
   },
   {
    "duration": 166,
    "start_time": "2023-07-31T10:47:02.451Z"
   },
   {
    "duration": 89,
    "start_time": "2023-07-31T10:47:02.618Z"
   },
   {
    "duration": 65,
    "start_time": "2023-07-31T10:47:02.709Z"
   },
   {
    "duration": 250,
    "start_time": "2023-07-31T10:47:02.775Z"
   },
   {
    "duration": 385,
    "start_time": "2023-07-31T10:47:03.027Z"
   },
   {
    "duration": 320,
    "start_time": "2023-07-31T10:47:03.413Z"
   },
   {
    "duration": 25,
    "start_time": "2023-07-31T10:47:03.734Z"
   },
   {
    "duration": 232,
    "start_time": "2023-07-31T10:47:03.762Z"
   },
   {
    "duration": 368,
    "start_time": "2023-07-31T10:47:03.996Z"
   },
   {
    "duration": 298,
    "start_time": "2023-07-31T10:47:04.365Z"
   },
   {
    "duration": 299,
    "start_time": "2023-07-31T10:47:04.664Z"
   },
   {
    "duration": 9,
    "start_time": "2023-07-31T10:47:04.966Z"
   },
   {
    "duration": 226,
    "start_time": "2023-07-31T10:47:04.977Z"
   },
   {
    "duration": 4,
    "start_time": "2023-07-31T10:47:05.205Z"
   },
   {
    "duration": 73,
    "start_time": "2023-07-31T10:47:05.212Z"
   },
   {
    "duration": 195,
    "start_time": "2023-07-31T10:47:05.287Z"
   },
   {
    "duration": 190,
    "start_time": "2023-07-31T10:47:05.484Z"
   },
   {
    "duration": 3,
    "start_time": "2023-07-31T10:47:05.676Z"
   },
   {
    "duration": 32,
    "start_time": "2023-07-31T10:47:05.680Z"
   },
   {
    "duration": 268,
    "start_time": "2023-07-31T10:47:05.714Z"
   },
   {
    "duration": 183,
    "start_time": "2023-07-31T10:47:05.983Z"
   },
   {
    "duration": 97,
    "start_time": "2023-07-31T10:47:06.168Z"
   },
   {
    "duration": 97,
    "start_time": "2023-07-31T10:47:06.267Z"
   },
   {
    "duration": 138,
    "start_time": "2023-07-31T10:47:06.365Z"
   },
   {
    "duration": 64,
    "start_time": "2023-07-31T10:47:06.505Z"
   },
   {
    "duration": 12,
    "start_time": "2023-07-31T10:47:06.570Z"
   },
   {
    "duration": 138,
    "start_time": "2023-07-31T10:49:08.569Z"
   },
   {
    "duration": 4,
    "start_time": "2023-07-31T11:09:32.455Z"
   },
   {
    "duration": 15,
    "start_time": "2023-07-31T12:14:51.587Z"
   },
   {
    "duration": 4,
    "start_time": "2023-07-31T12:15:16.757Z"
   },
   {
    "duration": 11,
    "start_time": "2023-07-31T12:15:26.158Z"
   },
   {
    "duration": 1802,
    "start_time": "2023-07-31T12:24:50.605Z"
   },
   {
    "duration": 188,
    "start_time": "2023-07-31T12:24:52.409Z"
   },
   {
    "duration": 22,
    "start_time": "2023-07-31T12:24:52.599Z"
   },
   {
    "duration": 28,
    "start_time": "2023-07-31T12:24:52.623Z"
   },
   {
    "duration": 50,
    "start_time": "2023-07-31T12:24:52.653Z"
   },
   {
    "duration": 16,
    "start_time": "2023-07-31T12:24:52.705Z"
   },
   {
    "duration": 22,
    "start_time": "2023-07-31T12:24:52.724Z"
   },
   {
    "duration": 15,
    "start_time": "2023-07-31T12:24:52.748Z"
   },
   {
    "duration": 12,
    "start_time": "2023-07-31T12:24:52.765Z"
   },
   {
    "duration": 12,
    "start_time": "2023-07-31T12:24:52.780Z"
   },
   {
    "duration": 13,
    "start_time": "2023-07-31T12:24:52.793Z"
   },
   {
    "duration": 16,
    "start_time": "2023-07-31T12:24:52.807Z"
   },
   {
    "duration": 7,
    "start_time": "2023-07-31T12:24:52.825Z"
   },
   {
    "duration": 16,
    "start_time": "2023-07-31T12:24:52.833Z"
   },
   {
    "duration": 15,
    "start_time": "2023-07-31T12:24:52.851Z"
   },
   {
    "duration": 10,
    "start_time": "2023-07-31T12:24:52.868Z"
   },
   {
    "duration": 18,
    "start_time": "2023-07-31T12:24:52.880Z"
   },
   {
    "duration": 267,
    "start_time": "2023-07-31T12:24:52.899Z"
   },
   {
    "duration": 313,
    "start_time": "2023-07-31T12:24:53.168Z"
   },
   {
    "duration": 15,
    "start_time": "2023-07-31T12:24:53.483Z"
   },
   {
    "duration": 243,
    "start_time": "2023-07-31T12:24:53.500Z"
   },
   {
    "duration": 373,
    "start_time": "2023-07-31T12:24:53.744Z"
   },
   {
    "duration": 347,
    "start_time": "2023-07-31T12:24:54.118Z"
   },
   {
    "duration": 309,
    "start_time": "2023-07-31T12:24:54.467Z"
   },
   {
    "duration": 9,
    "start_time": "2023-07-31T12:24:54.779Z"
   },
   {
    "duration": 152,
    "start_time": "2023-07-31T12:24:54.790Z"
   },
   {
    "duration": 5,
    "start_time": "2023-07-31T12:24:54.943Z"
   },
   {
    "duration": 6,
    "start_time": "2023-07-31T12:24:54.956Z"
   },
   {
    "duration": 158,
    "start_time": "2023-07-31T12:24:54.964Z"
   },
   {
    "duration": 163,
    "start_time": "2023-07-31T12:24:55.124Z"
   },
   {
    "duration": 4,
    "start_time": "2023-07-31T12:24:55.289Z"
   },
   {
    "duration": 23,
    "start_time": "2023-07-31T12:24:55.295Z"
   },
   {
    "duration": 227,
    "start_time": "2023-07-31T12:24:55.320Z"
   },
   {
    "duration": 167,
    "start_time": "2023-07-31T12:24:55.557Z"
   },
   {
    "duration": 12,
    "start_time": "2023-07-31T12:24:55.726Z"
   },
   {
    "duration": 19,
    "start_time": "2023-07-31T12:24:55.739Z"
   },
   {
    "duration": 12,
    "start_time": "2023-07-31T12:24:55.759Z"
   },
   {
    "duration": 18,
    "start_time": "2023-07-31T12:24:55.773Z"
   },
   {
    "duration": 24,
    "start_time": "2023-07-31T12:24:55.793Z"
   },
   {
    "duration": 14,
    "start_time": "2023-07-31T12:24:55.818Z"
   }
  ],
  "kernelspec": {
   "display_name": "Python 3 (ipykernel)",
   "language": "python",
   "name": "python3"
  },
  "language_info": {
   "codemirror_mode": {
    "name": "ipython",
    "version": 3
   },
   "file_extension": ".py",
   "mimetype": "text/x-python",
   "name": "python",
   "nbconvert_exporter": "python",
   "pygments_lexer": "ipython3",
   "version": "3.9.13"
  },
  "toc": {
   "base_numbering": 1,
   "nav_menu": {},
   "number_sections": true,
   "sideBar": true,
   "skip_h1_title": true,
   "title_cell": "Table of Contents",
   "title_sidebar": "Contents",
   "toc_cell": true,
   "toc_position": {},
   "toc_section_display": true,
   "toc_window_display": false
  },
  "varInspector": {
   "cols": {
    "lenName": 16,
    "lenType": 16,
    "lenVar": 40
   },
   "kernels_config": {
    "python": {
     "delete_cmd_postfix": "",
     "delete_cmd_prefix": "del ",
     "library": "var_list.py",
     "varRefreshCmd": "print(var_dic_list())"
    },
    "r": {
     "delete_cmd_postfix": ") ",
     "delete_cmd_prefix": "rm(",
     "library": "var_list.r",
     "varRefreshCmd": "cat(var_dic_list()) "
    }
   },
   "types_to_exclude": [
    "module",
    "function",
    "builtin_function_or_method",
    "instance",
    "_Feature"
   ],
   "window_display": false
  }
 },
 "nbformat": 4,
 "nbformat_minor": 2
}
