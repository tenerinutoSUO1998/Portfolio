{
 "cells": [
  {
   "cell_type": "markdown",
   "id": "3224ae81",
   "metadata": {
    "toc": true
   },
   "source": [
    "<h1>Table of Contents<span class=\"tocSkip\"></span></h1>\n",
    "<div class=\"toc\"><ul class=\"toc-item\"><li><span><a href=\"#Загрузка-данных\" data-toc-modified-id=\"Загрузка-данных-1\"><span class=\"toc-item-num\">1&nbsp;&nbsp;</span>Загрузка данных</a></span></li><li><span><a href=\"#Предобработка-данных\" data-toc-modified-id=\"Предобработка-данных-2\"><span class=\"toc-item-num\">2&nbsp;&nbsp;</span>Предобработка данных</a></span><ul class=\"toc-item\"><li><span><a href=\"#Дубликаты\" data-toc-modified-id=\"Дубликаты-2.1\"><span class=\"toc-item-num\">2.1&nbsp;&nbsp;</span>Дубликаты</a></span></li><li><span><a href=\"#Выбросы\" data-toc-modified-id=\"Выбросы-2.2\"><span class=\"toc-item-num\">2.2&nbsp;&nbsp;</span>Выбросы</a></span></li><li><span><a href=\"#Вывод\" data-toc-modified-id=\"Вывод-2.3\"><span class=\"toc-item-num\">2.3&nbsp;&nbsp;</span>Вывод</a></span></li></ul></li><li><span><a href=\"#Исследовательский-анализ-данных\" data-toc-modified-id=\"Исследовательский-анализ-данных-3\"><span class=\"toc-item-num\">3&nbsp;&nbsp;</span>Исследовательский анализ данных</a></span><ul class=\"toc-item\"><li><span><a href=\"#Частота-встречаемости-городов\" data-toc-modified-id=\"Частота-встречаемости-городов-3.1\"><span class=\"toc-item-num\">3.1&nbsp;&nbsp;</span>Частота встречаемости городов</a></span></li><li><span><a href=\"#Соотношение-пользователей-с-подпиской-и-без-подписки\" data-toc-modified-id=\"Соотношение-пользователей-с-подпиской-и-без-подписки-3.2\"><span class=\"toc-item-num\">3.2&nbsp;&nbsp;</span>Соотношение пользователей с подпиской и без подписки</a></span></li><li><span><a href=\"#Возраст-пользователей\" data-toc-modified-id=\"Возраст-пользователей-3.3\"><span class=\"toc-item-num\">3.3&nbsp;&nbsp;</span>Возраст пользователей</a></span></li><li><span><a href=\"#Расстояние,-которое-пользователь-преодалел-за-одну-поездку\" data-toc-modified-id=\"Расстояние,-которое-пользователь-преодалел-за-одну-поездку-3.4\"><span class=\"toc-item-num\">3.4&nbsp;&nbsp;</span>Расстояние, которое пользователь преодалел за одну поездку</a></span></li><li><span><a href=\"#Продолжительность-поездок\" data-toc-modified-id=\"Продолжительность-поездок-3.5\"><span class=\"toc-item-num\">3.5&nbsp;&nbsp;</span>Продолжительность поездок</a></span></li><li><span><a href=\"#Вывод\" data-toc-modified-id=\"Вывод-3.6\"><span class=\"toc-item-num\">3.6&nbsp;&nbsp;</span>Вывод</a></span></li></ul></li><li><span><a href=\"#Объединение-данных\" data-toc-modified-id=\"Объединение-данных-4\"><span class=\"toc-item-num\">4&nbsp;&nbsp;</span>Объединение данных</a></span><ul class=\"toc-item\"><li><span><a href=\"#Вывод\" data-toc-modified-id=\"Вывод-4.1\"><span class=\"toc-item-num\">4.1&nbsp;&nbsp;</span>Вывод</a></span></li></ul></li><li><span><a href=\"#Подсчёт-выручки\" data-toc-modified-id=\"Подсчёт-выручки-5\"><span class=\"toc-item-num\">5&nbsp;&nbsp;</span>Подсчёт выручки</a></span></li><li><span><a href=\"#Шаг-6.-Проверка-гипотез\" data-toc-modified-id=\"Шаг-6.-Проверка-гипотез-6\"><span class=\"toc-item-num\">6&nbsp;&nbsp;</span>Шаг 6. Проверка гипотез</a></span><ul class=\"toc-item\"><li><span><a href=\"#\" data-toc-modified-id=\"-6.1\"><span class=\"toc-item-num\">6.1&nbsp;&nbsp;</span></a></span></li><li><span><a href=\"#\" data-toc-modified-id=\"-6.2\"><span class=\"toc-item-num\">6.2&nbsp;&nbsp;</span></a></span></li><li><span><a href=\"#\" data-toc-modified-id=\"-6.3\"><span class=\"toc-item-num\">6.3&nbsp;&nbsp;</span></a></span></li><li><span><a href=\"#\" data-toc-modified-id=\"-6.4\"><span class=\"toc-item-num\">6.4&nbsp;&nbsp;</span></a></span></li><li><span><a href=\"#Вывод\" data-toc-modified-id=\"Вывод-6.5\"><span class=\"toc-item-num\">6.5&nbsp;&nbsp;</span>Вывод</a></span></li></ul></li><li><span><a href=\"#Общий-вывод\" data-toc-modified-id=\"Общий-вывод-7\"><span class=\"toc-item-num\">7&nbsp;&nbsp;</span>Общий вывод</a></span></li></ul></div>"
   ]
  },
  {
   "cell_type": "markdown",
   "id": "59c8cf3e",
   "metadata": {},
   "source": [
    "#  GoFast. Free or Ultra?\n",
    "В нашем распоряжении данные о некоторых пользователях из нескольких городов, а также об их поездках популярного сервиса аренды самокатов GoFast.\n",
    "\n",
    "Сервисом можно пользоваться:\n",
    "- **без подписки** абонентская плата отсутствует;\n",
    "- стоимость одной минуты поездки — 8 рублей;\n",
    "- стоимость старта (начала поездки) — 50 рублей;\n",
    "\n",
    "**с подпиской Ultra**\n",
    "- абонентская плата — 199 рублей в месяц;\n",
    "- стоимость одной минуты поездки — 6 рублей;\n",
    "- стоимость старта — бесплатно.\n",
    "\n",
    "**Описание данных**\n",
    "\n",
    "В основных данных есть информация о пользователях, их поездках и подписках.\n",
    "- Пользователи — users_go.csv\n",
    "  - user_id\t- уникальный идентификатор пользователя\n",
    "  - name имя - пользователя\n",
    "  - age\t- возраст\n",
    "  - city - город\n",
    "  - subscription_type - тип подписки (free, ultra)\n",
    "- Поездки — rides_go.csv\n",
    "  - user_id\t- уникальный идентификатор пользователя\n",
    "  - distance - расстояние, которое пользователь проехал в текущей сессии (в метрах)\n",
    "  - duration - продолжительность сессии (в минутах) — время с того момента, как пользователь нажал кнопку «Начать поездку» до момента, как он нажал кнопку «Завершить поездку»\n",
    "  - date - дата совершения поездки\n",
    "- Подписки — subscriptions_go.csv\n",
    "  - subscription_type - тип подписки\n",
    "  - minute_price - стоимость одной минуты поездки по данной подписке\n",
    "  - start_ride_price - стоимость начала поездки\n",
    "  - subscription_fee - стоимость ежемесячного платежа\n",
    "  \n",
    "  <h1>Оглавление проекта<span class=\"tocSkip\"></span></h1>\n",
    "<div class=\"toc\"><ul class=\"toc-item\"><li><span><a href=\"#Шаг-1.-Загрузка-данных\" data-toc-modified-id=\"Шаг-1.-Загрузка-данных-1\"><span class=\"toc-item-num\">1&nbsp;&nbsp;</span>Шаг 1. Загрузка данных</a></span></li><li><span><a href=\"#Шаг-2.-Предобработка-данных\" data-toc-modified-id=\"Шаг-2.-Предобработка-данных-2\"><span class=\"toc-item-num\">2&nbsp;&nbsp;</span>Шаг 2. Предобработка данных</a></span><ul class=\"toc-item\"><li><span><a href=\"#Дубликаты\" data-toc-modified-id=\"Дубликаты-2.1\"><span class=\"toc-item-num\">2.1&nbsp;&nbsp;</span>Дубликаты</a></span></li><li><span><a href=\"#Выбросы\" data-toc-modified-id=\"Выбросы-2.2\"><span class=\"toc-item-num\">2.2&nbsp;&nbsp;</span>Выбросы</a></span></li><li><span><a href=\"#Вывод\" data-toc-modified-id=\"Вывод-2.3\"><span class=\"toc-item-num\">2.3&nbsp;&nbsp;</span>Вывод</a></span></li></ul></li><li><span><a href=\"#Шаг-3.-Исследовательский-анализ-данных\" data-toc-modified-id=\"Шаг-3.-Исследовательский-анализ-данных-3\"><span class=\"toc-item-num\">3&nbsp;&nbsp;</span>Шаг 3. Исследовательский анализ данных</a></span><ul class=\"toc-item\"><li><span><a href=\"#Частота-встречаемости-городов\" data-toc-modified-id=\"Частота-встречаемости-городов-3.1\"><span class=\"toc-item-num\">3.1&nbsp;&nbsp;</span>Частота встречаемости городов</a></span></li><li><span><a href=\"#Соотношение-пользователей-с-подпиской-и-без-подписки\" data-toc-modified-id=\"Соотношение-пользователей-с-подпиской-и-без-подписки-3.2\"><span class=\"toc-item-num\">3.2&nbsp;&nbsp;</span>Соотношение пользователей с подпиской и без подписки</a></span></li><li><span><a href=\"#Возраст-пользователей\" data-toc-modified-id=\"Возраст-пользователей-3.3\"><span class=\"toc-item-num\">3.3&nbsp;&nbsp;</span>Возраст пользователей</a></span></li><li><span><a href=\"#Расстояние,-которое-пользователь-преодалел-за-одну-поездку\" data-toc-modified-id=\"Расстояние,-которое-пользователь-преодалел-за-одну-поездку-3.4\"><span class=\"toc-item-num\">3.4&nbsp;&nbsp;</span>Расстояние, которое пользователь преодалел за одну поездку</a></span></li><li><span><a href=\"#Продолжительность-поездок\" data-toc-modified-id=\"Продолжительность-поездок-3.5\"><span class=\"toc-item-num\">3.5&nbsp;&nbsp;</span>Продолжительность поездок</a></span></li><li><span><a href=\"#Вывод\" data-toc-modified-id=\"Вывод-3.6\"><span class=\"toc-item-num\">3.6&nbsp;&nbsp;</span>Вывод</a></span></li></ul></li><li><span><a href=\"#Шаг-4.-Объединение-данных\" data-toc-modified-id=\"Шаг-4.-Объединение-данных-4\"><span class=\"toc-item-num\">4&nbsp;&nbsp;</span>Шаг 4. Объединение данных</a></span><ul class=\"toc-item\"><li><span><a href=\"#Вывод\" data-toc-modified-id=\"Вывод-4.1\"><span class=\"toc-item-num\">4.1&nbsp;&nbsp;</span>Вывод</a></span></li></ul></li><li><span><a href=\"#Шаг-5.-Подсчёт-выручки\" data-toc-modified-id=\"Шаг-5.-Подсчёт-выручки-5\"><span class=\"toc-item-num\">5&nbsp;&nbsp;</span>Шаг 5. Подсчёт выручки</a></span></li><li><span><a href=\"#Шаг-6.-Проверка-гипотез\" data-toc-modified-id=\"Шаг-6.-Проверка-гипотез-6\"><span class=\"toc-item-num\">6&nbsp;&nbsp;</span>Шаг 6. Проверка гипотез</a></span><ul class=\"toc-item\"><li><span><a href=\"#6.1\" data-toc-modified-id=\"6.1-6.1\"><span class=\"toc-item-num\">6.1&nbsp;&nbsp;</span>6.1</a></span></li><li><span><a href=\"#6.2\" data-toc-modified-id=\"6.2-6.2\"><span class=\"toc-item-num\">6.2&nbsp;&nbsp;</span>6.2</a></span></li><li><span><a href=\"#6.3\" data-toc-modified-id=\"6.3-6.3\"><span class=\"toc-item-num\">6.3&nbsp;&nbsp;</span>6.3</a></span></li><li><span><a href=\"#6.4\" data-toc-modified-id=\"6.4-6.4\"><span class=\"toc-item-num\">6.4&nbsp;&nbsp;</span>6.4</a></span></li><li><span><a href=\"#Вывод\" data-toc-modified-id=\"Вывод-6.5\"><span class=\"toc-item-num\">6.5&nbsp;&nbsp;</span>Вывод</a></span></li></ul></li><li><span><a href=\"#Общий-вывод\" data-toc-modified-id=\"Общий-вывод-7\"><span class=\"toc-item-num\">7&nbsp;&nbsp;</span>Общий вывод</a></span></li></ul></div>\n"
   ]
  },
  {
   "cell_type": "code",
   "execution_count": 1,
   "id": "72576667",
   "metadata": {},
   "outputs": [],
   "source": [
    "import pandas as pd\n",
    "import numpy as np\n",
    "import matplotlib\n",
    "import matplotlib.pyplot as plt\n",
    "from sklearn import datasets\n",
    "from scipy import stats as st\n",
    "import seaborn as sns"
   ]
  },
  {
   "cell_type": "markdown",
   "id": "c42cbe00",
   "metadata": {},
   "source": [
    "## Загрузка данных"
   ]
  },
  {
   "cell_type": "code",
   "execution_count": 2,
   "id": "eff9f206",
   "metadata": {
    "scrolled": true
   },
   "outputs": [],
   "source": [
    "users = pd.read_csv('/datasets/users_go.csv')\n",
    "rides = pd.read_csv('/datasets/rides_go.csv')\n",
    "sub = pd.read_csv('/datasets/subscriptions_go.csv')"
   ]
  },
  {
   "cell_type": "code",
   "execution_count": 3,
   "id": "beaa3aff",
   "metadata": {
    "scrolled": false
   },
   "outputs": [
    {
     "data": {
      "text/html": [
       "<div>\n",
       "<style scoped>\n",
       "    .dataframe tbody tr th:only-of-type {\n",
       "        vertical-align: middle;\n",
       "    }\n",
       "\n",
       "    .dataframe tbody tr th {\n",
       "        vertical-align: top;\n",
       "    }\n",
       "\n",
       "    .dataframe thead th {\n",
       "        text-align: right;\n",
       "    }\n",
       "</style>\n",
       "<table border=\"1\" class=\"dataframe\">\n",
       "  <thead>\n",
       "    <tr style=\"text-align: right;\">\n",
       "      <th></th>\n",
       "      <th>user_id</th>\n",
       "      <th>name</th>\n",
       "      <th>age</th>\n",
       "      <th>city</th>\n",
       "      <th>subscription_type</th>\n",
       "    </tr>\n",
       "  </thead>\n",
       "  <tbody>\n",
       "    <tr>\n",
       "      <th>0</th>\n",
       "      <td>1</td>\n",
       "      <td>Кира</td>\n",
       "      <td>22</td>\n",
       "      <td>Тюмень</td>\n",
       "      <td>ultra</td>\n",
       "    </tr>\n",
       "    <tr>\n",
       "      <th>1</th>\n",
       "      <td>2</td>\n",
       "      <td>Станислав</td>\n",
       "      <td>31</td>\n",
       "      <td>Омск</td>\n",
       "      <td>ultra</td>\n",
       "    </tr>\n",
       "    <tr>\n",
       "      <th>2</th>\n",
       "      <td>3</td>\n",
       "      <td>Алексей</td>\n",
       "      <td>20</td>\n",
       "      <td>Москва</td>\n",
       "      <td>ultra</td>\n",
       "    </tr>\n",
       "    <tr>\n",
       "      <th>3</th>\n",
       "      <td>4</td>\n",
       "      <td>Константин</td>\n",
       "      <td>26</td>\n",
       "      <td>Ростов-на-Дону</td>\n",
       "      <td>ultra</td>\n",
       "    </tr>\n",
       "    <tr>\n",
       "      <th>4</th>\n",
       "      <td>5</td>\n",
       "      <td>Адель</td>\n",
       "      <td>28</td>\n",
       "      <td>Омск</td>\n",
       "      <td>ultra</td>\n",
       "    </tr>\n",
       "  </tbody>\n",
       "</table>\n",
       "</div>"
      ],
      "text/plain": [
       "   user_id        name  age            city subscription_type\n",
       "0        1        Кира   22          Тюмень             ultra\n",
       "1        2   Станислав   31            Омск             ultra\n",
       "2        3     Алексей   20          Москва             ultra\n",
       "3        4  Константин   26  Ростов-на-Дону             ultra\n",
       "4        5       Адель   28            Омск             ultra"
      ]
     },
     "metadata": {},
     "output_type": "display_data"
    },
    {
     "data": {
      "text/plain": [
       "count    1565.000000\n",
       "mean       24.922045\n",
       "std         4.553496\n",
       "min        12.000000\n",
       "25%        22.000000\n",
       "50%        25.000000\n",
       "75%        28.000000\n",
       "max        43.000000\n",
       "Name: age, dtype: float64"
      ]
     },
     "metadata": {},
     "output_type": "display_data"
    },
    {
     "name": "stdout",
     "output_type": "stream",
     "text": [
      "<class 'pandas.core.frame.DataFrame'>\n",
      "RangeIndex: 1565 entries, 0 to 1564\n",
      "Data columns (total 5 columns):\n",
      " #   Column             Non-Null Count  Dtype \n",
      "---  ------             --------------  ----- \n",
      " 0   user_id            1565 non-null   int64 \n",
      " 1   name               1565 non-null   object\n",
      " 2   age                1565 non-null   int64 \n",
      " 3   city               1565 non-null   object\n",
      " 4   subscription_type  1565 non-null   object\n",
      "dtypes: int64(2), object(3)\n",
      "memory usage: 61.3+ KB\n"
     ]
    }
   ],
   "source": [
    "display(users.head())\n",
    "display(users['age'].describe())\n",
    "users.info()"
   ]
  },
  {
   "cell_type": "code",
   "execution_count": 4,
   "id": "bf08808a",
   "metadata": {},
   "outputs": [
    {
     "data": {
      "text/html": [
       "<div>\n",
       "<style scoped>\n",
       "    .dataframe tbody tr th:only-of-type {\n",
       "        vertical-align: middle;\n",
       "    }\n",
       "\n",
       "    .dataframe tbody tr th {\n",
       "        vertical-align: top;\n",
       "    }\n",
       "\n",
       "    .dataframe thead th {\n",
       "        text-align: right;\n",
       "    }\n",
       "</style>\n",
       "<table border=\"1\" class=\"dataframe\">\n",
       "  <thead>\n",
       "    <tr style=\"text-align: right;\">\n",
       "      <th></th>\n",
       "      <th>user_id</th>\n",
       "      <th>distance</th>\n",
       "      <th>duration</th>\n",
       "      <th>date</th>\n",
       "    </tr>\n",
       "  </thead>\n",
       "  <tbody>\n",
       "    <tr>\n",
       "      <th>0</th>\n",
       "      <td>1</td>\n",
       "      <td>4409.919140</td>\n",
       "      <td>25.599769</td>\n",
       "      <td>2021-01-01</td>\n",
       "    </tr>\n",
       "    <tr>\n",
       "      <th>1</th>\n",
       "      <td>1</td>\n",
       "      <td>2617.592153</td>\n",
       "      <td>15.816871</td>\n",
       "      <td>2021-01-18</td>\n",
       "    </tr>\n",
       "    <tr>\n",
       "      <th>2</th>\n",
       "      <td>1</td>\n",
       "      <td>754.159807</td>\n",
       "      <td>6.232113</td>\n",
       "      <td>2021-04-20</td>\n",
       "    </tr>\n",
       "    <tr>\n",
       "      <th>3</th>\n",
       "      <td>1</td>\n",
       "      <td>2694.783254</td>\n",
       "      <td>18.511000</td>\n",
       "      <td>2021-08-11</td>\n",
       "    </tr>\n",
       "    <tr>\n",
       "      <th>4</th>\n",
       "      <td>1</td>\n",
       "      <td>4028.687306</td>\n",
       "      <td>26.265803</td>\n",
       "      <td>2021-08-28</td>\n",
       "    </tr>\n",
       "  </tbody>\n",
       "</table>\n",
       "</div>"
      ],
      "text/plain": [
       "   user_id     distance   duration        date\n",
       "0        1  4409.919140  25.599769  2021-01-01\n",
       "1        1  2617.592153  15.816871  2021-01-18\n",
       "2        1   754.159807   6.232113  2021-04-20\n",
       "3        1  2694.783254  18.511000  2021-08-11\n",
       "4        1  4028.687306  26.265803  2021-08-28"
      ]
     },
     "metadata": {},
     "output_type": "display_data"
    },
    {
     "data": {
      "text/html": [
       "<div>\n",
       "<style scoped>\n",
       "    .dataframe tbody tr th:only-of-type {\n",
       "        vertical-align: middle;\n",
       "    }\n",
       "\n",
       "    .dataframe tbody tr th {\n",
       "        vertical-align: top;\n",
       "    }\n",
       "\n",
       "    .dataframe thead th {\n",
       "        text-align: right;\n",
       "    }\n",
       "</style>\n",
       "<table border=\"1\" class=\"dataframe\">\n",
       "  <thead>\n",
       "    <tr style=\"text-align: right;\">\n",
       "      <th></th>\n",
       "      <th>user_id</th>\n",
       "      <th>distance</th>\n",
       "      <th>duration</th>\n",
       "    </tr>\n",
       "  </thead>\n",
       "  <tbody>\n",
       "    <tr>\n",
       "      <th>count</th>\n",
       "      <td>18068.000000</td>\n",
       "      <td>18068.000000</td>\n",
       "      <td>18068.000000</td>\n",
       "    </tr>\n",
       "    <tr>\n",
       "      <th>mean</th>\n",
       "      <td>842.869936</td>\n",
       "      <td>3070.659976</td>\n",
       "      <td>17.805011</td>\n",
       "    </tr>\n",
       "    <tr>\n",
       "      <th>std</th>\n",
       "      <td>434.734317</td>\n",
       "      <td>1116.831209</td>\n",
       "      <td>6.091051</td>\n",
       "    </tr>\n",
       "    <tr>\n",
       "      <th>min</th>\n",
       "      <td>1.000000</td>\n",
       "      <td>0.855683</td>\n",
       "      <td>0.500000</td>\n",
       "    </tr>\n",
       "    <tr>\n",
       "      <th>25%</th>\n",
       "      <td>487.000000</td>\n",
       "      <td>2543.226360</td>\n",
       "      <td>13.597563</td>\n",
       "    </tr>\n",
       "    <tr>\n",
       "      <th>50%</th>\n",
       "      <td>889.000000</td>\n",
       "      <td>3133.609994</td>\n",
       "      <td>17.678395</td>\n",
       "    </tr>\n",
       "    <tr>\n",
       "      <th>75%</th>\n",
       "      <td>1213.250000</td>\n",
       "      <td>3776.222735</td>\n",
       "      <td>21.724800</td>\n",
       "    </tr>\n",
       "    <tr>\n",
       "      <th>max</th>\n",
       "      <td>1534.000000</td>\n",
       "      <td>7211.007745</td>\n",
       "      <td>40.823963</td>\n",
       "    </tr>\n",
       "  </tbody>\n",
       "</table>\n",
       "</div>"
      ],
      "text/plain": [
       "            user_id      distance      duration\n",
       "count  18068.000000  18068.000000  18068.000000\n",
       "mean     842.869936   3070.659976     17.805011\n",
       "std      434.734317   1116.831209      6.091051\n",
       "min        1.000000      0.855683      0.500000\n",
       "25%      487.000000   2543.226360     13.597563\n",
       "50%      889.000000   3133.609994     17.678395\n",
       "75%     1213.250000   3776.222735     21.724800\n",
       "max     1534.000000   7211.007745     40.823963"
      ]
     },
     "metadata": {},
     "output_type": "display_data"
    },
    {
     "name": "stdout",
     "output_type": "stream",
     "text": [
      "<class 'pandas.core.frame.DataFrame'>\n",
      "RangeIndex: 18068 entries, 0 to 18067\n",
      "Data columns (total 4 columns):\n",
      " #   Column    Non-Null Count  Dtype  \n",
      "---  ------    --------------  -----  \n",
      " 0   user_id   18068 non-null  int64  \n",
      " 1   distance  18068 non-null  float64\n",
      " 2   duration  18068 non-null  float64\n",
      " 3   date      18068 non-null  object \n",
      "dtypes: float64(2), int64(1), object(1)\n",
      "memory usage: 564.8+ KB\n"
     ]
    }
   ],
   "source": [
    "display(rides.head())\n",
    "display(rides.describe())\n",
    "rides.info()"
   ]
  },
  {
   "cell_type": "code",
   "execution_count": 5,
   "id": "e50d381d",
   "metadata": {
    "scrolled": true
   },
   "outputs": [
    {
     "data": {
      "text/html": [
       "<div>\n",
       "<style scoped>\n",
       "    .dataframe tbody tr th:only-of-type {\n",
       "        vertical-align: middle;\n",
       "    }\n",
       "\n",
       "    .dataframe tbody tr th {\n",
       "        vertical-align: top;\n",
       "    }\n",
       "\n",
       "    .dataframe thead th {\n",
       "        text-align: right;\n",
       "    }\n",
       "</style>\n",
       "<table border=\"1\" class=\"dataframe\">\n",
       "  <thead>\n",
       "    <tr style=\"text-align: right;\">\n",
       "      <th></th>\n",
       "      <th>subscription_type</th>\n",
       "      <th>minute_price</th>\n",
       "      <th>start_ride_price</th>\n",
       "      <th>subscription_fee</th>\n",
       "    </tr>\n",
       "  </thead>\n",
       "  <tbody>\n",
       "    <tr>\n",
       "      <th>0</th>\n",
       "      <td>free</td>\n",
       "      <td>8</td>\n",
       "      <td>50</td>\n",
       "      <td>0</td>\n",
       "    </tr>\n",
       "    <tr>\n",
       "      <th>1</th>\n",
       "      <td>ultra</td>\n",
       "      <td>6</td>\n",
       "      <td>0</td>\n",
       "      <td>199</td>\n",
       "    </tr>\n",
       "  </tbody>\n",
       "</table>\n",
       "</div>"
      ],
      "text/plain": [
       "  subscription_type  minute_price  start_ride_price  subscription_fee\n",
       "0              free             8                50                 0\n",
       "1             ultra             6                 0               199"
      ]
     },
     "metadata": {},
     "output_type": "display_data"
    },
    {
     "name": "stdout",
     "output_type": "stream",
     "text": [
      "<class 'pandas.core.frame.DataFrame'>\n",
      "RangeIndex: 2 entries, 0 to 1\n",
      "Data columns (total 4 columns):\n",
      " #   Column             Non-Null Count  Dtype \n",
      "---  ------             --------------  ----- \n",
      " 0   subscription_type  2 non-null      object\n",
      " 1   minute_price       2 non-null      int64 \n",
      " 2   start_ride_price   2 non-null      int64 \n",
      " 3   subscription_fee   2 non-null      int64 \n",
      "dtypes: int64(3), object(1)\n",
      "memory usage: 192.0+ bytes\n"
     ]
    }
   ],
   "source": [
    "display(sub)\n",
    "sub.info()"
   ]
  },
  {
   "cell_type": "markdown",
   "id": "17d20cb7",
   "metadata": {},
   "source": [
    "На первый взгляд с данными все в порядке. Пропусков нет. Необходимо только изменить тип данных в столбце date в датафрейме rides."
   ]
  },
  {
   "cell_type": "markdown",
   "id": "e95ebca7",
   "metadata": {},
   "source": [
    "## Предобработка данных"
   ]
  },
  {
   "cell_type": "markdown",
   "id": "61a3e4de",
   "metadata": {},
   "source": [
    "Поменяем тип данных в столбце date на верный и проверим за какой период времени представлены данные."
   ]
  },
  {
   "cell_type": "code",
   "execution_count": 6,
   "id": "068d902d",
   "metadata": {},
   "outputs": [],
   "source": [
    "rides['date'] = rides['date'].astype('datetime64')"
   ]
  },
  {
   "cell_type": "markdown",
   "id": "fa56a7f5",
   "metadata": {},
   "source": [
    "Создадим отдельный столбец только с месяцем, в который была совершена поездка."
   ]
  },
  {
   "cell_type": "code",
   "execution_count": 7,
   "id": "c4149b16",
   "metadata": {},
   "outputs": [
    {
     "name": "stdout",
     "output_type": "stream",
     "text": [
      "2021-01-01 00:00:00\n",
      "2021-12-30 00:00:00\n"
     ]
    }
   ],
   "source": [
    "print(rides['date'].min())\n",
    "print(rides['date'].max())\n",
    "rides['month'] = rides['date'].dt.month"
   ]
  },
  {
   "cell_type": "markdown",
   "id": "9e9f7a7b",
   "metadata": {},
   "source": [
    "### Дубликаты\n",
    "Проверим данные на наличие дубликатов, удалим их, если они есть."
   ]
  },
  {
   "cell_type": "code",
   "execution_count": 8,
   "id": "6ac6eb56",
   "metadata": {},
   "outputs": [
    {
     "data": {
      "text/plain": [
       "31"
      ]
     },
     "execution_count": 8,
     "metadata": {},
     "output_type": "execute_result"
    }
   ],
   "source": [
    "users.duplicated().sum()"
   ]
  },
  {
   "cell_type": "code",
   "execution_count": 9,
   "id": "4321aa8e",
   "metadata": {
    "scrolled": false
   },
   "outputs": [
    {
     "data": {
      "text/html": [
       "<div>\n",
       "<style scoped>\n",
       "    .dataframe tbody tr th:only-of-type {\n",
       "        vertical-align: middle;\n",
       "    }\n",
       "\n",
       "    .dataframe tbody tr th {\n",
       "        vertical-align: top;\n",
       "    }\n",
       "\n",
       "    .dataframe thead th {\n",
       "        text-align: right;\n",
       "    }\n",
       "</style>\n",
       "<table border=\"1\" class=\"dataframe\">\n",
       "  <thead>\n",
       "    <tr style=\"text-align: right;\">\n",
       "      <th></th>\n",
       "      <th>user_id</th>\n",
       "      <th>name</th>\n",
       "      <th>age</th>\n",
       "      <th>city</th>\n",
       "      <th>subscription_type</th>\n",
       "    </tr>\n",
       "  </thead>\n",
       "  <tbody>\n",
       "    <tr>\n",
       "      <th>0</th>\n",
       "      <td>1</td>\n",
       "      <td>Кира</td>\n",
       "      <td>22</td>\n",
       "      <td>Тюмень</td>\n",
       "      <td>ultra</td>\n",
       "    </tr>\n",
       "    <tr>\n",
       "      <th>1</th>\n",
       "      <td>2</td>\n",
       "      <td>Станислав</td>\n",
       "      <td>31</td>\n",
       "      <td>Омск</td>\n",
       "      <td>ultra</td>\n",
       "    </tr>\n",
       "    <tr>\n",
       "      <th>2</th>\n",
       "      <td>3</td>\n",
       "      <td>Алексей</td>\n",
       "      <td>20</td>\n",
       "      <td>Москва</td>\n",
       "      <td>ultra</td>\n",
       "    </tr>\n",
       "    <tr>\n",
       "      <th>3</th>\n",
       "      <td>4</td>\n",
       "      <td>Константин</td>\n",
       "      <td>26</td>\n",
       "      <td>Ростов-на-Дону</td>\n",
       "      <td>ultra</td>\n",
       "    </tr>\n",
       "    <tr>\n",
       "      <th>4</th>\n",
       "      <td>5</td>\n",
       "      <td>Адель</td>\n",
       "      <td>28</td>\n",
       "      <td>Омск</td>\n",
       "      <td>ultra</td>\n",
       "    </tr>\n",
       "    <tr>\n",
       "      <th>...</th>\n",
       "      <td>...</td>\n",
       "      <td>...</td>\n",
       "      <td>...</td>\n",
       "      <td>...</td>\n",
       "      <td>...</td>\n",
       "    </tr>\n",
       "    <tr>\n",
       "      <th>1529</th>\n",
       "      <td>1530</td>\n",
       "      <td>Ростислав</td>\n",
       "      <td>29</td>\n",
       "      <td>Сочи</td>\n",
       "      <td>free</td>\n",
       "    </tr>\n",
       "    <tr>\n",
       "      <th>1530</th>\n",
       "      <td>1531</td>\n",
       "      <td>Никита</td>\n",
       "      <td>25</td>\n",
       "      <td>Пятигорск</td>\n",
       "      <td>free</td>\n",
       "    </tr>\n",
       "    <tr>\n",
       "      <th>1531</th>\n",
       "      <td>1532</td>\n",
       "      <td>Алексей</td>\n",
       "      <td>26</td>\n",
       "      <td>Тюмень</td>\n",
       "      <td>free</td>\n",
       "    </tr>\n",
       "    <tr>\n",
       "      <th>1532</th>\n",
       "      <td>1533</td>\n",
       "      <td>Степан</td>\n",
       "      <td>22</td>\n",
       "      <td>Краснодар</td>\n",
       "      <td>free</td>\n",
       "    </tr>\n",
       "    <tr>\n",
       "      <th>1533</th>\n",
       "      <td>1534</td>\n",
       "      <td>Альберт</td>\n",
       "      <td>25</td>\n",
       "      <td>Краснодар</td>\n",
       "      <td>free</td>\n",
       "    </tr>\n",
       "  </tbody>\n",
       "</table>\n",
       "<p>1534 rows × 5 columns</p>\n",
       "</div>"
      ],
      "text/plain": [
       "      user_id        name  age            city subscription_type\n",
       "0           1        Кира   22          Тюмень             ultra\n",
       "1           2   Станислав   31            Омск             ultra\n",
       "2           3     Алексей   20          Москва             ultra\n",
       "3           4  Константин   26  Ростов-на-Дону             ultra\n",
       "4           5       Адель   28            Омск             ultra\n",
       "...       ...         ...  ...             ...               ...\n",
       "1529     1530   Ростислав   29            Сочи              free\n",
       "1530     1531      Никита   25       Пятигорск              free\n",
       "1531     1532     Алексей   26          Тюмень              free\n",
       "1532     1533      Степан   22       Краснодар              free\n",
       "1533     1534     Альберт   25       Краснодар              free\n",
       "\n",
       "[1534 rows x 5 columns]"
      ]
     },
     "execution_count": 9,
     "metadata": {},
     "output_type": "execute_result"
    }
   ],
   "source": [
    "users = users.drop(users[users.duplicated()].index)\n",
    "users"
   ]
  },
  {
   "cell_type": "code",
   "execution_count": 10,
   "id": "ab374436",
   "metadata": {},
   "outputs": [
    {
     "data": {
      "text/plain": [
       "0"
      ]
     },
     "execution_count": 10,
     "metadata": {},
     "output_type": "execute_result"
    }
   ],
   "source": [
    "rides.duplicated().sum()"
   ]
  },
  {
   "cell_type": "markdown",
   "id": "37636c64",
   "metadata": {},
   "source": [
    "Проверим данные на неявные дубликаты."
   ]
  },
  {
   "cell_type": "code",
   "execution_count": 11,
   "id": "25742cc1",
   "metadata": {},
   "outputs": [
    {
     "data": {
      "text/plain": [
       "array(['Тюмень', 'Омск', 'Москва', 'Ростов-на-Дону', 'Краснодар',\n",
       "       'Пятигорск', 'Екатеринбург', 'Сочи'], dtype=object)"
      ]
     },
     "execution_count": 11,
     "metadata": {},
     "output_type": "execute_result"
    }
   ],
   "source": [
    "users['city'].unique()"
   ]
  },
  {
   "cell_type": "code",
   "execution_count": 12,
   "id": "03503c08",
   "metadata": {
    "scrolled": true
   },
   "outputs": [
    {
     "data": {
      "text/plain": [
       "array(['Кира', 'Станислав', 'Алексей', 'Константин', 'Адель', 'Регина',\n",
       "       'Игорь', 'Юрий', 'Ян', 'Валерий', 'Агата', 'Марк', 'Ева',\n",
       "       'Антонина', 'Валерия', 'Амалия', 'Даниил', 'Аделина', 'Святогор',\n",
       "       'Борис', 'Вероника', 'Ростислав', 'Назар', 'Эдуард', 'Василий',\n",
       "       'Денис', 'Тамара', 'Николай', 'Эвелина', 'Федор', 'Руслан', 'Иван',\n",
       "       'Любовь', 'Ярослава', 'Майя', 'Ильдар', 'Данила', 'Нина',\n",
       "       'Стефания', 'Ясмина', 'Дмитрий', 'Александр', 'Одиссей', 'Арсений',\n",
       "       'Алла', 'Таисия', 'Максим', 'Юлиана', 'Павел', 'Карина', 'Алиса',\n",
       "       'Лидия', 'Рамиль', 'Родион', 'Ника', 'Оксана', 'Анастасия',\n",
       "       'Маргарита', 'Вера', 'Тимур', 'Никита', 'Лев', 'Влад', 'Артур',\n",
       "       'Анна', 'Ольга', 'Вячеслав', 'Ксения', 'Виталина', 'Владислав',\n",
       "       'Тамерлан', 'Амина', 'Вадим', 'Олеся', 'Зарина', 'Егор', 'Гордей',\n",
       "       'Лилия', 'Святослав', 'Роберт', 'Амир', 'Влада', 'Богдан',\n",
       "       'Полина', 'Марат', 'Елисей', 'Макар', 'Алина', 'Глеб', 'Андрей',\n",
       "       'Альбина', 'Людмила', 'Марсель', 'Милена', 'Диана', 'Дарина',\n",
       "       'Данил', 'Артемий', 'Лиана', 'Альберт', 'Герман', 'Жанна', 'Нелли',\n",
       "       'Евгения', 'Ариана', 'Самира', 'Захар', 'Эльвира', 'Екатерина',\n",
       "       'Инна', 'Демид', 'Яна', 'Михаил', 'Татьяна', 'Степан', 'Мелания',\n",
       "       'Тимофей', 'Ирина', 'Анжелика', 'Владислава', 'Елизавета',\n",
       "       'Мадина', 'Снежана', 'Даниэль', 'Рустам', 'Каролина', 'Ангелина',\n",
       "       'Владимир', 'Виктория', 'Валентина', 'Семен', 'Арина', 'Лариса',\n",
       "       'Есения', 'Галина', 'Кирилл', 'Игнат', 'Виталий', 'Эмилия',\n",
       "       'Виолетта', 'Яромир', 'Софья', 'Мирослава', 'Евгений', 'Варвара',\n",
       "       'Платон', 'Наталия', 'Анатолий', 'Кристина', 'Всеволод', 'Дарья',\n",
       "       'Наташа', 'Мария', 'Марина', 'Василиса', 'Юлия', 'Илья', 'Злата',\n",
       "       'Роман', 'Наталья', 'Элина', 'Арсен', 'Айдар', 'Алия', 'Виктор',\n",
       "       'Мирон', 'Ульяна', 'Георгий', 'Петр', 'Эльмира', 'Олег', 'Дамир',\n",
       "       'Самир', 'Ярослав', 'Камилла', 'Сергей', 'Эмиль', 'Радмир',\n",
       "       'Савелий', 'Елена', 'Антон', 'Мирослав', 'София', 'Тихон', 'Артём',\n",
       "       'Давид', 'Григорий', 'Алёна', 'Светлана', 'Леонид', 'Александра',\n",
       "       'Василина', 'Милана', 'Матвей'], dtype=object)"
      ]
     },
     "execution_count": 12,
     "metadata": {},
     "output_type": "execute_result"
    }
   ],
   "source": [
    "users['name'].unique()"
   ]
  },
  {
   "cell_type": "markdown",
   "id": "0332a0a7",
   "metadata": {},
   "source": [
    "Неявные дубликаты отсутствуют."
   ]
  },
  {
   "cell_type": "markdown",
   "id": "31c9f34a",
   "metadata": {},
   "source": [
    "### Выбросы\n",
    "Теперь проверим данные на наличие выбросов."
   ]
  },
  {
   "cell_type": "markdown",
   "id": "b34acc64",
   "metadata": {},
   "source": [
    "Изучим столбец с дистанцией."
   ]
  },
  {
   "cell_type": "code",
   "execution_count": 13,
   "id": "1584f1af",
   "metadata": {
    "scrolled": true
   },
   "outputs": [
    {
     "name": "stdout",
     "output_type": "stream",
     "text": [
      "293\n"
     ]
    },
    {
     "data": {
      "image/png": "[encoded data removed]",
      "text/plain": [
       "<Figure size 720x360 with 1 Axes>"
      ]
     },
     "metadata": {
      "needs_background": "light"
     },
     "output_type": "display_data"
    },
    {
     "data": {
      "image/png": "[encoded data removed]",
      "text/plain": [
       "<Figure size 720x360 with 1 Axes>"
      ]
     },
     "metadata": {
      "needs_background": "light"
     },
     "output_type": "display_data"
    },
    {
     "data": {
      "text/html": [
       "<div>\n",
       "<style scoped>\n",
       "    .dataframe tbody tr th:only-of-type {\n",
       "        vertical-align: middle;\n",
       "    }\n",
       "\n",
       "    .dataframe tbody tr th {\n",
       "        vertical-align: top;\n",
       "    }\n",
       "\n",
       "    .dataframe thead th {\n",
       "        text-align: right;\n",
       "    }\n",
       "</style>\n",
       "<table border=\"1\" class=\"dataframe\">\n",
       "  <thead>\n",
       "    <tr style=\"text-align: right;\">\n",
       "      <th></th>\n",
       "      <th>user_id</th>\n",
       "      <th>distance</th>\n",
       "      <th>duration</th>\n",
       "      <th>month</th>\n",
       "    </tr>\n",
       "  </thead>\n",
       "  <tbody>\n",
       "    <tr>\n",
       "      <th>count</th>\n",
       "      <td>18068.000000</td>\n",
       "      <td>18068.000000</td>\n",
       "      <td>18068.000000</td>\n",
       "      <td>18068.000000</td>\n",
       "    </tr>\n",
       "    <tr>\n",
       "      <th>mean</th>\n",
       "      <td>842.869936</td>\n",
       "      <td>3070.659976</td>\n",
       "      <td>17.805011</td>\n",
       "      <td>6.486772</td>\n",
       "    </tr>\n",
       "    <tr>\n",
       "      <th>std</th>\n",
       "      <td>434.734317</td>\n",
       "      <td>1116.831209</td>\n",
       "      <td>6.091051</td>\n",
       "      <td>3.437410</td>\n",
       "    </tr>\n",
       "    <tr>\n",
       "      <th>min</th>\n",
       "      <td>1.000000</td>\n",
       "      <td>0.855683</td>\n",
       "      <td>0.500000</td>\n",
       "      <td>1.000000</td>\n",
       "    </tr>\n",
       "    <tr>\n",
       "      <th>25%</th>\n",
       "      <td>487.000000</td>\n",
       "      <td>2543.226360</td>\n",
       "      <td>13.597563</td>\n",
       "      <td>4.000000</td>\n",
       "    </tr>\n",
       "    <tr>\n",
       "      <th>50%</th>\n",
       "      <td>889.000000</td>\n",
       "      <td>3133.609994</td>\n",
       "      <td>17.678395</td>\n",
       "      <td>6.000000</td>\n",
       "    </tr>\n",
       "    <tr>\n",
       "      <th>75%</th>\n",
       "      <td>1213.250000</td>\n",
       "      <td>3776.222735</td>\n",
       "      <td>21.724800</td>\n",
       "      <td>9.000000</td>\n",
       "    </tr>\n",
       "    <tr>\n",
       "      <th>max</th>\n",
       "      <td>1534.000000</td>\n",
       "      <td>7211.007745</td>\n",
       "      <td>40.823963</td>\n",
       "      <td>12.000000</td>\n",
       "    </tr>\n",
       "  </tbody>\n",
       "</table>\n",
       "</div>"
      ],
      "text/plain": [
       "            user_id      distance      duration         month\n",
       "count  18068.000000  18068.000000  18068.000000  18068.000000\n",
       "mean     842.869936   3070.659976     17.805011      6.486772\n",
       "std      434.734317   1116.831209      6.091051      3.437410\n",
       "min        1.000000      0.855683      0.500000      1.000000\n",
       "25%      487.000000   2543.226360     13.597563      4.000000\n",
       "50%      889.000000   3133.609994     17.678395      6.000000\n",
       "75%     1213.250000   3776.222735     21.724800      9.000000\n",
       "max     1534.000000   7211.007745     40.823963     12.000000"
      ]
     },
     "execution_count": 13,
     "metadata": {},
     "output_type": "execute_result"
    }
   ],
   "source": [
    "print(rides.loc[rides['distance'] < 300].value_counts().sum())\n",
    "rides['distance'].hist(bins = 50, figsize=(10,5), color='#F4A460')\n",
    "plt.show()\n",
    "rides.boxplot(column=['distance'], figsize=(10,5), grid=True, color='red')\n",
    "plt.show()\n",
    "rides.describe()\n"
   ]
  },
  {
   "cell_type": "markdown",
   "id": "fe117151",
   "metadata": {},
   "source": [
    "У нас есть 293 поездки, которые по дистанции меньше 300 метров. Скорее всего это выброс, так как расстояние слишком маленькое. А если взглянуть на боксплот, то можно увидеть выбросы снизу (примерно от 800 и до 0) и выбросы сверху (примерно от 5600 до 7200). Все таки оставим только поездки больше 300 метров и меньше 6000."
   ]
  },
  {
   "cell_type": "code",
   "execution_count": 14,
   "id": "00e68a12",
   "metadata": {
    "scrolled": true
   },
   "outputs": [
    {
     "data": {
      "image/png": "[encoded data removed]",
      "text/plain": [
       "<Figure size 720x360 with 1 Axes>"
      ]
     },
     "metadata": {
      "needs_background": "light"
     },
     "output_type": "display_data"
    },
    {
     "data": {
      "image/png": "[encoded data removed]",
      "text/plain": [
       "<Figure size 720x360 with 1 Axes>"
      ]
     },
     "metadata": {
      "needs_background": "light"
     },
     "output_type": "display_data"
    }
   ],
   "source": [
    "rides = rides.loc[(rides['distance'] > 300)&(rides['distance'] < 6000)].reset_index(drop=True)\n",
    "rides['distance'].hist(bins = 50, figsize=(10,5), color='#F4A460')\n",
    "plt.show()\n",
    "rides.boxplot(column=['distance'], figsize=(10,5), grid=True, color='red')\n",
    "plt.show()"
   ]
  },
  {
   "cell_type": "markdown",
   "id": "448cb3b3",
   "metadata": {},
   "source": [
    "Теперь изучим столбец с продолжительностью поездок. "
   ]
  },
  {
   "cell_type": "code",
   "execution_count": 15,
   "id": "07983bef",
   "metadata": {
    "scrolled": true
   },
   "outputs": [
    {
     "name": "stdout",
     "output_type": "stream",
     "text": [
      "200\n"
     ]
    },
    {
     "data": {
      "image/png": "[encoded data removed]",
      "text/plain": [
       "<Figure size 720x360 with 1 Axes>"
      ]
     },
     "metadata": {
      "needs_background": "light"
     },
     "output_type": "display_data"
    },
    {
     "data": {
      "image/png": "[encoded data removed]",
      "text/plain": [
       "<Figure size 720x360 with 1 Axes>"
      ]
     },
     "metadata": {
      "needs_background": "light"
     },
     "output_type": "display_data"
    },
    {
     "data": {
      "text/plain": [
       "count    17729.000000\n",
       "mean        17.958477\n",
       "std          5.976209\n",
       "min          0.500000\n",
       "25%         13.783817\n",
       "50%         17.783630\n",
       "75%         21.780333\n",
       "max         40.823963\n",
       "Name: duration, dtype: float64"
      ]
     },
     "execution_count": 15,
     "metadata": {},
     "output_type": "execute_result"
    }
   ],
   "source": [
    "print(rides.loc[rides['duration'] < 5].value_counts().sum())\n",
    "rides['duration'].hist(bins = 50, figsize=(10,5), color='#F4A460')\n",
    "plt.show()\n",
    "rides.boxplot(column=['duration'], figsize=(10,5), grid=True, color='red')\n",
    "plt.show()\n",
    "rides['duration'].describe()"
   ]
  },
  {
   "cell_type": "markdown",
   "id": "8d5ed3ce",
   "metadata": {},
   "source": [
    "Минимальное значение 0,5. Это явный выброс. Также есть 200 поездок меньше 5 минут(слишком мало) по продолжительности и выбросы на боксплот. Избавимся от выбросов и оставим только поезди продолжительностью от 5 и до 35 минут."
   ]
  },
  {
   "cell_type": "code",
   "execution_count": 16,
   "id": "62165307",
   "metadata": {
    "scrolled": false
   },
   "outputs": [
    {
     "data": {
      "image/png": "[encoded data removed]",
      "text/plain": [
       "<Figure size 720x360 with 1 Axes>"
      ]
     },
     "metadata": {
      "needs_background": "light"
     },
     "output_type": "display_data"
    },
    {
     "data": {
      "image/png": "[encoded data removed]",
      "text/plain": [
       "<Figure size 720x360 with 1 Axes>"
      ]
     },
     "metadata": {
      "needs_background": "light"
     },
     "output_type": "display_data"
    }
   ],
   "source": [
    "rides = rides.loc[(rides['duration'] > 5)&(rides['duration'] < 35)].reset_index(drop=True)\n",
    "rides['duration'].hist(bins = 50, figsize=(10,5), color='#F4A460')\n",
    "plt.show()\n",
    "rides.boxplot(column=['duration'], figsize=(10,5), grid=True, color='red')\n",
    "plt.show()"
   ]
  },
  {
   "cell_type": "markdown",
   "id": "438811bf",
   "metadata": {},
   "source": []
  },
  {
   "cell_type": "code",
   "execution_count": 17,
   "id": "3afef9e0",
   "metadata": {
    "scrolled": true
   },
   "outputs": [
    {
     "data": {
      "text/html": [
       "<div>\n",
       "<style scoped>\n",
       "    .dataframe tbody tr th:only-of-type {\n",
       "        vertical-align: middle;\n",
       "    }\n",
       "\n",
       "    .dataframe tbody tr th {\n",
       "        vertical-align: top;\n",
       "    }\n",
       "\n",
       "    .dataframe thead th {\n",
       "        text-align: right;\n",
       "    }\n",
       "</style>\n",
       "<table border=\"1\" class=\"dataframe\">\n",
       "  <thead>\n",
       "    <tr style=\"text-align: right;\">\n",
       "      <th></th>\n",
       "      <th>user_id</th>\n",
       "      <th>distance</th>\n",
       "      <th>duration</th>\n",
       "      <th>date</th>\n",
       "      <th>month</th>\n",
       "    </tr>\n",
       "  </thead>\n",
       "  <tbody>\n",
       "    <tr>\n",
       "      <th>0</th>\n",
       "      <td>1</td>\n",
       "      <td>4409.919140</td>\n",
       "      <td>25.599769</td>\n",
       "      <td>2021-01-01</td>\n",
       "      <td>1</td>\n",
       "    </tr>\n",
       "    <tr>\n",
       "      <th>1</th>\n",
       "      <td>1</td>\n",
       "      <td>2617.592153</td>\n",
       "      <td>15.816871</td>\n",
       "      <td>2021-01-18</td>\n",
       "      <td>1</td>\n",
       "    </tr>\n",
       "    <tr>\n",
       "      <th>2</th>\n",
       "      <td>1</td>\n",
       "      <td>754.159807</td>\n",
       "      <td>6.232113</td>\n",
       "      <td>2021-04-20</td>\n",
       "      <td>4</td>\n",
       "    </tr>\n",
       "    <tr>\n",
       "      <th>3</th>\n",
       "      <td>1</td>\n",
       "      <td>2694.783254</td>\n",
       "      <td>18.511000</td>\n",
       "      <td>2021-08-11</td>\n",
       "      <td>8</td>\n",
       "    </tr>\n",
       "    <tr>\n",
       "      <th>4</th>\n",
       "      <td>1</td>\n",
       "      <td>4028.687306</td>\n",
       "      <td>26.265803</td>\n",
       "      <td>2021-08-28</td>\n",
       "      <td>8</td>\n",
       "    </tr>\n",
       "    <tr>\n",
       "      <th>...</th>\n",
       "      <td>...</td>\n",
       "      <td>...</td>\n",
       "      <td>...</td>\n",
       "      <td>...</td>\n",
       "      <td>...</td>\n",
       "    </tr>\n",
       "    <tr>\n",
       "      <th>17496</th>\n",
       "      <td>1534</td>\n",
       "      <td>3781.098080</td>\n",
       "      <td>19.822962</td>\n",
       "      <td>2021-11-04</td>\n",
       "      <td>11</td>\n",
       "    </tr>\n",
       "    <tr>\n",
       "      <th>17497</th>\n",
       "      <td>1534</td>\n",
       "      <td>2840.423057</td>\n",
       "      <td>21.409799</td>\n",
       "      <td>2021-11-16</td>\n",
       "      <td>11</td>\n",
       "    </tr>\n",
       "    <tr>\n",
       "      <th>17498</th>\n",
       "      <td>1534</td>\n",
       "      <td>3826.185507</td>\n",
       "      <td>18.435051</td>\n",
       "      <td>2021-11-18</td>\n",
       "      <td>11</td>\n",
       "    </tr>\n",
       "    <tr>\n",
       "      <th>17499</th>\n",
       "      <td>1534</td>\n",
       "      <td>2902.308661</td>\n",
       "      <td>16.674362</td>\n",
       "      <td>2021-11-27</td>\n",
       "      <td>11</td>\n",
       "    </tr>\n",
       "    <tr>\n",
       "      <th>17500</th>\n",
       "      <td>1534</td>\n",
       "      <td>2371.711192</td>\n",
       "      <td>15.893917</td>\n",
       "      <td>2021-12-29</td>\n",
       "      <td>12</td>\n",
       "    </tr>\n",
       "  </tbody>\n",
       "</table>\n",
       "<p>17501 rows × 5 columns</p>\n",
       "</div>"
      ],
      "text/plain": [
       "       user_id     distance   duration       date  month\n",
       "0            1  4409.919140  25.599769 2021-01-01      1\n",
       "1            1  2617.592153  15.816871 2021-01-18      1\n",
       "2            1   754.159807   6.232113 2021-04-20      4\n",
       "3            1  2694.783254  18.511000 2021-08-11      8\n",
       "4            1  4028.687306  26.265803 2021-08-28      8\n",
       "...        ...          ...        ...        ...    ...\n",
       "17496     1534  3781.098080  19.822962 2021-11-04     11\n",
       "17497     1534  2840.423057  21.409799 2021-11-16     11\n",
       "17498     1534  3826.185507  18.435051 2021-11-18     11\n",
       "17499     1534  2902.308661  16.674362 2021-11-27     11\n",
       "17500     1534  2371.711192  15.893917 2021-12-29     12\n",
       "\n",
       "[17501 rows x 5 columns]"
      ]
     },
     "execution_count": 17,
     "metadata": {},
     "output_type": "execute_result"
    }
   ],
   "source": [
    "rides"
   ]
  },
  {
   "cell_type": "markdown",
   "id": "68135db2",
   "metadata": {},
   "source": [
    "Посчитаем сколько процентов данных мы удалили."
   ]
  },
  {
   "cell_type": "code",
   "execution_count": 18,
   "id": "c7138b80",
   "metadata": {
    "scrolled": true
   },
   "outputs": [
    {
     "name": "stdout",
     "output_type": "stream",
     "text": [
      "2.728580916537525\n"
     ]
    }
   ],
   "source": [
    "print(493/18068*100)"
   ]
  },
  {
   "cell_type": "markdown",
   "id": "7bcb656f",
   "metadata": {},
   "source": [
    "Удалили почти 3% данных, это никак не повлияет на результаты исследования."
   ]
  },
  {
   "cell_type": "markdown",
   "id": "06216eac",
   "metadata": {},
   "source": [
    "### Вывод\n",
    "\n",
    "Подведем итоги:\n",
    "- в столбцах, где это необходимо изменен тип данных;\n",
    "- пропуски в данных отсутствуют;\n",
    "- дубликаты устранены;\n",
    "- неявные дубликаты отсутствуют;\n",
    "- выбросы устранены."
   ]
  },
  {
   "cell_type": "markdown",
   "id": "212593c7",
   "metadata": {},
   "source": [
    "## Исследовательский анализ данных"
   ]
  },
  {
   "cell_type": "markdown",
   "id": "93a953ce",
   "metadata": {},
   "source": [
    "### Частота встречаемости городов"
   ]
  },
  {
   "cell_type": "code",
   "execution_count": 19,
   "id": "c1ff321e",
   "metadata": {},
   "outputs": [
    {
     "name": "stdout",
     "output_type": "stream",
     "text": [
      "Пятигорск         219\n",
      "Екатеринбург      204\n",
      "Ростов-на-Дону    198\n",
      "Краснодар         193\n",
      "Сочи              189\n",
      "Омск              183\n",
      "Тюмень            180\n",
      "Москва            168\n",
      "Name: city, dtype: int64\n"
     ]
    },
    {
     "data": {
      "image/png": "[encoded data removed]",
      "text/plain": [
       "<Figure size 720x360 with 1 Axes>"
      ]
     },
     "metadata": {
      "needs_background": "light"
     },
     "output_type": "display_data"
    }
   ],
   "source": [
    "print(users['city'].value_counts())\n",
    "user_city_pivot = users.pivot_table(index='city', values='user_id', aggfunc={'user_id':'count'})\n",
    "user_city_pivot = user_city_pivot.sort_values(by='user_id', ascending=True)\n",
    "user_city_pivot.plot.barh(title='Частота встречаемости городов', color='pink',edgecolor = 'black',  figsize=(10,5), legend=False)\n",
    "plt.ylabel('Количество пользователей')\n",
    "plt.show()"
   ]
  },
  {
   "cell_type": "markdown",
   "id": "c4da2710",
   "metadata": {},
   "source": [
    "По столбчатой диаграмме видно, что больше всего пользователей из Пятигорска, а меньше всего из Москвы. Также стоит заметить, что разница между городами на количество пользователей не значительная."
   ]
  },
  {
   "cell_type": "markdown",
   "id": "9b47f193",
   "metadata": {},
   "source": [
    "### Соотношение пользователей с подпиской и без подписки"
   ]
  },
  {
   "cell_type": "code",
   "execution_count": 20,
   "id": "58fb6c48",
   "metadata": {},
   "outputs": [
    {
     "data": {
      "image/png": "[encoded data removed]",
      "text/plain": [
       "<Figure size 576x576 with 1 Axes>"
      ]
     },
     "metadata": {},
     "output_type": "display_data"
    }
   ],
   "source": [
    "colors = ['pink', 'steelblue']\n",
    "explode = (0.05, 0.05)\n",
    "users['subscription_type'].value_counts().plot.pie(autopct='%1.0f%%', \n",
    "                                                   figsize=(8, 8), legend=True, colors=colors, labeldistance=1.15, explode=explode)\n",
    "plt.ylabel('Количество пользователей')\n",
    "plt.title('Соотношение пользователей с подпиской и без подписки')\n",
    "plt.show()\n"
   ]
  },
  {
   "cell_type": "markdown",
   "id": "86454f12",
   "metadata": {},
   "source": [
    "Пользователи без подписки составляют 54% от общего числа пользователей, а пользователи с подпиской 46%."
   ]
  },
  {
   "cell_type": "markdown",
   "id": "b45b7ef4",
   "metadata": {},
   "source": [
    "### Возраст пользователей"
   ]
  },
  {
   "cell_type": "code",
   "execution_count": 21,
   "id": "5790ddd1",
   "metadata": {},
   "outputs": [
    {
     "data": {
      "image/png": "[encoded data removed]",
      "text/plain": [
       "<Figure size 720x360 with 1 Axes>"
      ]
     },
     "metadata": {
      "needs_background": "light"
     },
     "output_type": "display_data"
    }
   ],
   "source": [
    "users['age'].hist(bins = 30, figsize=(10, 5), ec='black', legend=True, color='pink')\n",
    "plt.xlabel('Возраст')\n",
    "plt.ylabel('Количество пользователей')\n",
    "plt.title('Возраст пользователей')\n",
    "plt.show()"
   ]
  },
  {
   "cell_type": "markdown",
   "id": "eb4f605d",
   "metadata": {},
   "source": [
    "Больше всего пользователей возрастом 25 лет. Возраст основной массы пользователей 22-27 лет."
   ]
  },
  {
   "cell_type": "markdown",
   "id": "58210378",
   "metadata": {},
   "source": [
    "### Расстояние, которое пользователь преодалел за одну поездку"
   ]
  },
  {
   "cell_type": "code",
   "execution_count": 22,
   "id": "f43517b9",
   "metadata": {},
   "outputs": [
    {
     "data": {
      "image/png": "[encoded data removed]",
      "text/plain": [
       "<Figure size 720x360 with 1 Axes>"
      ]
     },
     "metadata": {
      "needs_background": "light"
     },
     "output_type": "display_data"
    }
   ],
   "source": [
    "rides['distance'].hist(bins = 30, figsize=(10, 5), ec='black', legend=True,color = 'pink')\n",
    "plt.xlabel('Расстояние')\n",
    "plt.ylabel('Количество пользователей')\n",
    "plt.title('Расстояние, которое пользователь преодалел за одну поездку')\n",
    "plt.show()"
   ]
  },
  {
   "cell_type": "markdown",
   "id": "149b8106",
   "metadata": {},
   "source": [
    "Чаще всего пользователи проезжают в районе 3 км.\n",
    "\n",
    "Поездки можно разделить на два вида: короткие (поездки до 1,5 км) и длинные ( от 1,5 км). "
   ]
  },
  {
   "cell_type": "markdown",
   "id": "44c59ae4",
   "metadata": {},
   "source": [
    "### Продолжительность поездок"
   ]
  },
  {
   "cell_type": "code",
   "execution_count": 23,
   "id": "dfce9ae3",
   "metadata": {},
   "outputs": [
    {
     "data": {
      "image/png": "[encoded data removed]",
      "text/plain": [
       "<Figure size 720x360 with 1 Axes>"
      ]
     },
     "metadata": {
      "needs_background": "light"
     },
     "output_type": "display_data"
    }
   ],
   "source": [
    "rides['duration'].hist(bins = 30, figsize=(10, 5), ec='black', legend=True, color='pink')\n",
    "plt.xlabel('Время поездки')\n",
    "plt.ylabel('Количество пользователей')\n",
    "plt.title('Продолжительность поездок')\n",
    "plt.show()"
   ]
  },
  {
   "cell_type": "markdown",
   "id": "1dad5bb0",
   "metadata": {},
   "source": [
    "Чаще всего пользователи тратят на поездку от 15-22 минут."
   ]
  },
  {
   "cell_type": "markdown",
   "id": "548d6841",
   "metadata": {},
   "source": [
    "### Вывод\n",
    "Подведем итоги:\n",
    "- больше всего пользователей из Пятигорска;\n",
    "- количество пользователей с подпиской и без почти одинаковое;\n",
    "- возраст основной массы пользователей 22-27 лет;\n",
    "- чаще всего пользователи проезжают в районе 3 км;\n",
    "- Чаще всего пользователи тратят на поездку от 15-22 минут."
   ]
  },
  {
   "cell_type": "markdown",
   "id": "4ef51331",
   "metadata": {},
   "source": [
    "## Объединение данных"
   ]
  },
  {
   "cell_type": "markdown",
   "id": "be11d663",
   "metadata": {},
   "source": [
    "Объединим все три датафрейма в один."
   ]
  },
  {
   "cell_type": "code",
   "execution_count": 24,
   "id": "6bf288b5",
   "metadata": {
    "scrolled": true
   },
   "outputs": [
    {
     "data": {
      "text/html": [
       "<div>\n",
       "<style scoped>\n",
       "    .dataframe tbody tr th:only-of-type {\n",
       "        vertical-align: middle;\n",
       "    }\n",
       "\n",
       "    .dataframe tbody tr th {\n",
       "        vertical-align: top;\n",
       "    }\n",
       "\n",
       "    .dataframe thead th {\n",
       "        text-align: right;\n",
       "    }\n",
       "</style>\n",
       "<table border=\"1\" class=\"dataframe\">\n",
       "  <thead>\n",
       "    <tr style=\"text-align: right;\">\n",
       "      <th></th>\n",
       "      <th>user_id</th>\n",
       "      <th>name</th>\n",
       "      <th>age</th>\n",
       "      <th>city</th>\n",
       "      <th>subscription_type</th>\n",
       "      <th>distance</th>\n",
       "      <th>duration</th>\n",
       "      <th>date</th>\n",
       "      <th>month</th>\n",
       "      <th>minute_price</th>\n",
       "      <th>start_ride_price</th>\n",
       "      <th>subscription_fee</th>\n",
       "    </tr>\n",
       "  </thead>\n",
       "  <tbody>\n",
       "    <tr>\n",
       "      <th>0</th>\n",
       "      <td>1</td>\n",
       "      <td>Кира</td>\n",
       "      <td>22</td>\n",
       "      <td>Тюмень</td>\n",
       "      <td>ultra</td>\n",
       "      <td>4409.919140</td>\n",
       "      <td>25.599769</td>\n",
       "      <td>2021-01-01</td>\n",
       "      <td>1</td>\n",
       "      <td>6</td>\n",
       "      <td>0</td>\n",
       "      <td>199</td>\n",
       "    </tr>\n",
       "    <tr>\n",
       "      <th>1</th>\n",
       "      <td>1</td>\n",
       "      <td>Кира</td>\n",
       "      <td>22</td>\n",
       "      <td>Тюмень</td>\n",
       "      <td>ultra</td>\n",
       "      <td>2617.592153</td>\n",
       "      <td>15.816871</td>\n",
       "      <td>2021-01-18</td>\n",
       "      <td>1</td>\n",
       "      <td>6</td>\n",
       "      <td>0</td>\n",
       "      <td>199</td>\n",
       "    </tr>\n",
       "    <tr>\n",
       "      <th>2</th>\n",
       "      <td>1</td>\n",
       "      <td>Кира</td>\n",
       "      <td>22</td>\n",
       "      <td>Тюмень</td>\n",
       "      <td>ultra</td>\n",
       "      <td>754.159807</td>\n",
       "      <td>6.232113</td>\n",
       "      <td>2021-04-20</td>\n",
       "      <td>4</td>\n",
       "      <td>6</td>\n",
       "      <td>0</td>\n",
       "      <td>199</td>\n",
       "    </tr>\n",
       "    <tr>\n",
       "      <th>3</th>\n",
       "      <td>1</td>\n",
       "      <td>Кира</td>\n",
       "      <td>22</td>\n",
       "      <td>Тюмень</td>\n",
       "      <td>ultra</td>\n",
       "      <td>2694.783254</td>\n",
       "      <td>18.511000</td>\n",
       "      <td>2021-08-11</td>\n",
       "      <td>8</td>\n",
       "      <td>6</td>\n",
       "      <td>0</td>\n",
       "      <td>199</td>\n",
       "    </tr>\n",
       "    <tr>\n",
       "      <th>4</th>\n",
       "      <td>1</td>\n",
       "      <td>Кира</td>\n",
       "      <td>22</td>\n",
       "      <td>Тюмень</td>\n",
       "      <td>ultra</td>\n",
       "      <td>4028.687306</td>\n",
       "      <td>26.265803</td>\n",
       "      <td>2021-08-28</td>\n",
       "      <td>8</td>\n",
       "      <td>6</td>\n",
       "      <td>0</td>\n",
       "      <td>199</td>\n",
       "    </tr>\n",
       "  </tbody>\n",
       "</table>\n",
       "</div>"
      ],
      "text/plain": [
       "   user_id  name  age    city subscription_type     distance   duration  \\\n",
       "0        1  Кира   22  Тюмень             ultra  4409.919140  25.599769   \n",
       "1        1  Кира   22  Тюмень             ultra  2617.592153  15.816871   \n",
       "2        1  Кира   22  Тюмень             ultra   754.159807   6.232113   \n",
       "3        1  Кира   22  Тюмень             ultra  2694.783254  18.511000   \n",
       "4        1  Кира   22  Тюмень             ultra  4028.687306  26.265803   \n",
       "\n",
       "        date  month  minute_price  start_ride_price  subscription_fee  \n",
       "0 2021-01-01      1             6                 0               199  \n",
       "1 2021-01-18      1             6                 0               199  \n",
       "2 2021-04-20      4             6                 0               199  \n",
       "3 2021-08-11      8             6                 0               199  \n",
       "4 2021-08-28      8             6                 0               199  "
      ]
     },
     "execution_count": 24,
     "metadata": {},
     "output_type": "execute_result"
    }
   ],
   "source": [
    "df = users.merge(rides)\n",
    "data = df.merge(sub)\n",
    "data.head()"
   ]
  },
  {
   "cell_type": "markdown",
   "id": "dd57bfcf",
   "metadata": {},
   "source": [
    "После объединения данных сравним количество строк в таблицах до объединения и после, посчитаем количество уникальных пользователей, а также проверим новый датасет на наличие пропусков."
   ]
  },
  {
   "cell_type": "code",
   "execution_count": 25,
   "id": "9389d6d2",
   "metadata": {
    "scrolled": true
   },
   "outputs": [
    {
     "name": "stdout",
     "output_type": "stream",
     "text": [
      "17501\n",
      "1534\n",
      "17501\n",
      "1534\n"
     ]
    },
    {
     "data": {
      "text/plain": [
       "user_id              0\n",
       "name                 0\n",
       "age                  0\n",
       "city                 0\n",
       "subscription_type    0\n",
       "distance             0\n",
       "duration             0\n",
       "date                 0\n",
       "month                0\n",
       "minute_price         0\n",
       "start_ride_price     0\n",
       "subscription_fee     0\n",
       "dtype: int64"
      ]
     },
     "execution_count": 25,
     "metadata": {},
     "output_type": "execute_result"
    }
   ],
   "source": [
    "print(len(rides.index))\n",
    "print(len(users.index))\n",
    "print(len(data.index))\n",
    "print(data['user_id'].nunique())\n",
    "data.isnull().sum()"
   ]
  },
  {
   "cell_type": "markdown",
   "id": "b1e533e1",
   "metadata": {},
   "source": [
    "Никакую информацию не потеряли, пропуски отсутствуют."
   ]
  },
  {
   "cell_type": "markdown",
   "id": "c52183de",
   "metadata": {},
   "source": [
    "Создадим два новых датафрейма с данными о пользователях с подпиской и без нее."
   ]
  },
  {
   "cell_type": "code",
   "execution_count": 26,
   "id": "e79b8736",
   "metadata": {},
   "outputs": [],
   "source": [
    "data_free = data.query('subscription_type == \"free\"').reset_index(drop=True)\n",
    "data_ultra = data.query('subscription_type == \"ultra\"')"
   ]
  },
  {
   "cell_type": "markdown",
   "id": "a09876e1",
   "metadata": {},
   "source": [
    "Визуализируем информацию о расстоянии и времени поездок для пользователей обеих категорий."
   ]
  },
  {
   "cell_type": "code",
   "execution_count": 27,
   "id": "28bc7009",
   "metadata": {
    "scrolled": true
   },
   "outputs": [
    {
     "data": {
      "image/png": "[encoded data removed]",
      "text/plain": [
       "<Figure size 720x360 with 1 Axes>"
      ]
     },
     "metadata": {
      "needs_background": "light"
     },
     "output_type": "display_data"
    },
    {
     "data": {
      "text/plain": [
       "count    11041.000000\n",
       "mean      3116.545204\n",
       "std       1127.083188\n",
       "min        300.332354\n",
       "25%       2440.286751\n",
       "50%       3146.816577\n",
       "75%       3905.977940\n",
       "max       5991.817697\n",
       "Name: distance, dtype: float64"
      ]
     },
     "metadata": {},
     "output_type": "display_data"
    },
    {
     "data": {
      "text/plain": [
       "count    6460.000000\n",
       "mean     3114.743782\n",
       "std       827.381511\n",
       "min       307.532350\n",
       "25%      2785.768431\n",
       "50%      3147.454740\n",
       "75%      3555.913268\n",
       "max      5699.769662\n",
       "Name: distance, dtype: float64"
      ]
     },
     "metadata": {},
     "output_type": "display_data"
    }
   ],
   "source": [
    "names = ['без подписки', 'с подпиской']\n",
    "data_free['distance'].hist(bins = 30, figsize=(10, 5), ec='black', color = 'pink', label='без подписки')\n",
    "data_ultra['distance'].hist(bins = 30, figsize=(10, 5), ec='black', color = 'steelblue', label='с подпиской')\n",
    "plt.legend()\n",
    "plt.xlabel('Расстояние')\n",
    "plt.ylabel('Количество пользователей')\n",
    "plt.title('Расстояние, которое пользователь преодалел за одну поездку')\n",
    "plt.show()\n",
    "display(data_free['distance'].describe(), data_ultra['distance'].describe())"
   ]
  },
  {
   "cell_type": "code",
   "execution_count": 28,
   "id": "1e63a2e6",
   "metadata": {},
   "outputs": [
    {
     "data": {
      "image/png": "[encoded data removed]",
      "text/plain": [
       "<Figure size 720x360 with 1 Axes>"
      ]
     },
     "metadata": {
      "needs_background": "light"
     },
     "output_type": "display_data"
    },
    {
     "data": {
      "text/plain": [
       "count    11041.000000\n",
       "mean        17.879610\n",
       "std          5.891041\n",
       "min          5.030094\n",
       "25%         13.499110\n",
       "50%         17.645781\n",
       "75%         21.802901\n",
       "max         34.948498\n",
       "Name: duration, dtype: float64"
      ]
     },
     "metadata": {},
     "output_type": "display_data"
    },
    {
     "data": {
      "text/plain": [
       "count    6460.000000\n",
       "mean       18.488055\n",
       "std         5.429756\n",
       "min         5.100749\n",
       "25%        14.528982\n",
       "50%        18.166735\n",
       "75%        21.827939\n",
       "max        34.962659\n",
       "Name: duration, dtype: float64"
      ]
     },
     "metadata": {},
     "output_type": "display_data"
    }
   ],
   "source": [
    "data_free['duration'].hist(bins = 30, figsize=(10, 5), ec='black', color = 'pink', label='без подписки')\n",
    "data_ultra['duration'].hist(bins = 30, figsize=(10, 5), ec='black', color = 'steelblue', label='с подпиской')\n",
    "plt.xlabel('Время поездки')\n",
    "plt.ylabel('Количество пользователей')\n",
    "plt.title('Продолжительность поездок пользователей без подписки')\n",
    "plt.legend()\n",
    "plt.show()\n",
    "display(data_free['duration'].describe(), data_ultra['duration'].describe())"
   ]
  },
  {
   "cell_type": "markdown",
   "id": "27c87c2e",
   "metadata": {},
   "source": [
    "### Вывод\n",
    "\n",
    "Вне зависимость от наличия подписки пользователи тратят на поездки одинаковое количество времени, а вот проезжают разное расстояние. Пользователи без подписки имеют больше коротких проездок. Больше всего пользователей без подписки проезжают от 2,5 до 4 км, а вот пользователи с подпиской проезжают примерно 3 км."
   ]
  },
  {
   "cell_type": "markdown",
   "id": "402d620f",
   "metadata": {},
   "source": [
    "## Подсчёт выручки"
   ]
  },
  {
   "cell_type": "markdown",
   "id": "517a8bdc",
   "metadata": {},
   "source": [
    "Округлим общую продолжительность до целых."
   ]
  },
  {
   "cell_type": "code",
   "execution_count": 29,
   "id": "b4c81480",
   "metadata": {},
   "outputs": [
    {
     "data": {
      "text/html": [
       "<div>\n",
       "<style scoped>\n",
       "    .dataframe tbody tr th:only-of-type {\n",
       "        vertical-align: middle;\n",
       "    }\n",
       "\n",
       "    .dataframe tbody tr th {\n",
       "        vertical-align: top;\n",
       "    }\n",
       "\n",
       "    .dataframe thead th {\n",
       "        text-align: right;\n",
       "    }\n",
       "</style>\n",
       "<table border=\"1\" class=\"dataframe\">\n",
       "  <thead>\n",
       "    <tr style=\"text-align: right;\">\n",
       "      <th></th>\n",
       "      <th>user_id</th>\n",
       "      <th>name</th>\n",
       "      <th>age</th>\n",
       "      <th>city</th>\n",
       "      <th>subscription_type</th>\n",
       "      <th>distance</th>\n",
       "      <th>duration</th>\n",
       "      <th>date</th>\n",
       "      <th>month</th>\n",
       "      <th>minute_price</th>\n",
       "      <th>start_ride_price</th>\n",
       "      <th>subscription_fee</th>\n",
       "    </tr>\n",
       "  </thead>\n",
       "  <tbody>\n",
       "    <tr>\n",
       "      <th>0</th>\n",
       "      <td>1</td>\n",
       "      <td>Кира</td>\n",
       "      <td>22</td>\n",
       "      <td>Тюмень</td>\n",
       "      <td>ultra</td>\n",
       "      <td>4409.919140</td>\n",
       "      <td>26</td>\n",
       "      <td>2021-01-01</td>\n",
       "      <td>1</td>\n",
       "      <td>6</td>\n",
       "      <td>0</td>\n",
       "      <td>199</td>\n",
       "    </tr>\n",
       "    <tr>\n",
       "      <th>1</th>\n",
       "      <td>1</td>\n",
       "      <td>Кира</td>\n",
       "      <td>22</td>\n",
       "      <td>Тюмень</td>\n",
       "      <td>ultra</td>\n",
       "      <td>2617.592153</td>\n",
       "      <td>16</td>\n",
       "      <td>2021-01-18</td>\n",
       "      <td>1</td>\n",
       "      <td>6</td>\n",
       "      <td>0</td>\n",
       "      <td>199</td>\n",
       "    </tr>\n",
       "    <tr>\n",
       "      <th>2</th>\n",
       "      <td>1</td>\n",
       "      <td>Кира</td>\n",
       "      <td>22</td>\n",
       "      <td>Тюмень</td>\n",
       "      <td>ultra</td>\n",
       "      <td>754.159807</td>\n",
       "      <td>7</td>\n",
       "      <td>2021-04-20</td>\n",
       "      <td>4</td>\n",
       "      <td>6</td>\n",
       "      <td>0</td>\n",
       "      <td>199</td>\n",
       "    </tr>\n",
       "    <tr>\n",
       "      <th>3</th>\n",
       "      <td>1</td>\n",
       "      <td>Кира</td>\n",
       "      <td>22</td>\n",
       "      <td>Тюмень</td>\n",
       "      <td>ultra</td>\n",
       "      <td>2694.783254</td>\n",
       "      <td>19</td>\n",
       "      <td>2021-08-11</td>\n",
       "      <td>8</td>\n",
       "      <td>6</td>\n",
       "      <td>0</td>\n",
       "      <td>199</td>\n",
       "    </tr>\n",
       "    <tr>\n",
       "      <th>4</th>\n",
       "      <td>1</td>\n",
       "      <td>Кира</td>\n",
       "      <td>22</td>\n",
       "      <td>Тюмень</td>\n",
       "      <td>ultra</td>\n",
       "      <td>4028.687306</td>\n",
       "      <td>27</td>\n",
       "      <td>2021-08-28</td>\n",
       "      <td>8</td>\n",
       "      <td>6</td>\n",
       "      <td>0</td>\n",
       "      <td>199</td>\n",
       "    </tr>\n",
       "  </tbody>\n",
       "</table>\n",
       "</div>"
      ],
      "text/plain": [
       "   user_id  name  age    city subscription_type     distance  duration  \\\n",
       "0        1  Кира   22  Тюмень             ultra  4409.919140        26   \n",
       "1        1  Кира   22  Тюмень             ultra  2617.592153        16   \n",
       "2        1  Кира   22  Тюмень             ultra   754.159807         7   \n",
       "3        1  Кира   22  Тюмень             ultra  2694.783254        19   \n",
       "4        1  Кира   22  Тюмень             ultra  4028.687306        27   \n",
       "\n",
       "        date  month  minute_price  start_ride_price  subscription_fee  \n",
       "0 2021-01-01      1             6                 0               199  \n",
       "1 2021-01-18      1             6                 0               199  \n",
       "2 2021-04-20      4             6                 0               199  \n",
       "3 2021-08-11      8             6                 0               199  \n",
       "4 2021-08-28      8             6                 0               199  "
      ]
     },
     "execution_count": 29,
     "metadata": {},
     "output_type": "execute_result"
    }
   ],
   "source": [
    "data['duration'] = np.ceil(data['duration'])\n",
    "data['duration'] = data['duration'].astype('int64')\n",
    "data.head()"
   ]
  },
  {
   "cell_type": "markdown",
   "id": "e2988a00",
   "metadata": {},
   "source": [
    "Создадим датафрейм с агрегированными данными о поездках на основе датафрейма с объединёнными данными из шага 4: найдем суммарное расстояние, количество поездок и суммарное время для каждого пользователя за каждый месяц."
   ]
  },
  {
   "cell_type": "code",
   "execution_count": 30,
   "id": "53049e0a",
   "metadata": {
    "scrolled": false
   },
   "outputs": [
    {
     "data": {
      "text/html": [
       "<div>\n",
       "<style scoped>\n",
       "    .dataframe tbody tr th:only-of-type {\n",
       "        vertical-align: middle;\n",
       "    }\n",
       "\n",
       "    .dataframe tbody tr th {\n",
       "        vertical-align: top;\n",
       "    }\n",
       "\n",
       "    .dataframe thead th {\n",
       "        text-align: right;\n",
       "    }\n",
       "</style>\n",
       "<table border=\"1\" class=\"dataframe\">\n",
       "  <thead>\n",
       "    <tr style=\"text-align: right;\">\n",
       "      <th></th>\n",
       "      <th>user_id</th>\n",
       "      <th>month</th>\n",
       "      <th>total_distance</th>\n",
       "      <th>total_duration</th>\n",
       "      <th>trip_count</th>\n",
       "      <th>subscription_type</th>\n",
       "    </tr>\n",
       "  </thead>\n",
       "  <tbody>\n",
       "    <tr>\n",
       "      <th>0</th>\n",
       "      <td>1</td>\n",
       "      <td>1</td>\n",
       "      <td>7027.511294</td>\n",
       "      <td>42</td>\n",
       "      <td>2</td>\n",
       "      <td>ultra</td>\n",
       "    </tr>\n",
       "    <tr>\n",
       "      <th>1</th>\n",
       "      <td>1</td>\n",
       "      <td>4</td>\n",
       "      <td>754.159807</td>\n",
       "      <td>7</td>\n",
       "      <td>1</td>\n",
       "      <td>ultra</td>\n",
       "    </tr>\n",
       "    <tr>\n",
       "      <th>2</th>\n",
       "      <td>1</td>\n",
       "      <td>8</td>\n",
       "      <td>6723.470560</td>\n",
       "      <td>46</td>\n",
       "      <td>2</td>\n",
       "      <td>ultra</td>\n",
       "    </tr>\n",
       "    <tr>\n",
       "      <th>3</th>\n",
       "      <td>1</td>\n",
       "      <td>10</td>\n",
       "      <td>5809.911100</td>\n",
       "      <td>32</td>\n",
       "      <td>2</td>\n",
       "      <td>ultra</td>\n",
       "    </tr>\n",
       "    <tr>\n",
       "      <th>4</th>\n",
       "      <td>1</td>\n",
       "      <td>11</td>\n",
       "      <td>7003.499363</td>\n",
       "      <td>56</td>\n",
       "      <td>3</td>\n",
       "      <td>ultra</td>\n",
       "    </tr>\n",
       "  </tbody>\n",
       "</table>\n",
       "</div>"
      ],
      "text/plain": [
       "   user_id  month  total_distance  total_duration  trip_count  \\\n",
       "0        1      1     7027.511294              42           2   \n",
       "1        1      4      754.159807               7           1   \n",
       "2        1      8     6723.470560              46           2   \n",
       "3        1     10     5809.911100              32           2   \n",
       "4        1     11     7003.499363              56           3   \n",
       "\n",
       "  subscription_type  \n",
       "0             ultra  \n",
       "1             ultra  \n",
       "2             ultra  \n",
       "3             ultra  \n",
       "4             ultra  "
      ]
     },
     "execution_count": 30,
     "metadata": {},
     "output_type": "execute_result"
    }
   ],
   "source": [
    "data_pivot = data.pivot_table(index=['user_id', 'month'], values = ['distance', 'duration', 'name', 'subscription_type'], \n",
    "                              aggfunc={'distance':'sum', 'duration':'sum', 'name':'count', 'subscription_type': 'min'})\n",
    "data_pivot.columns = ['total_distance', 'total_duration', 'trip_count', 'subscription_type']\n",
    "data_pivot = data_pivot.reset_index()\n",
    "data_pivot.head()"
   ]
  },
  {
   "cell_type": "markdown",
   "id": "1e4a2c13",
   "metadata": {},
   "source": [
    "В этот же датафрейм добавим столбец с помесячной выручкой, которую принёс каждый пользователь."
   ]
  },
  {
   "cell_type": "code",
   "execution_count": 31,
   "id": "b31478e5",
   "metadata": {},
   "outputs": [
    {
     "data": {
      "text/html": [
       "<div>\n",
       "<style scoped>\n",
       "    .dataframe tbody tr th:only-of-type {\n",
       "        vertical-align: middle;\n",
       "    }\n",
       "\n",
       "    .dataframe tbody tr th {\n",
       "        vertical-align: top;\n",
       "    }\n",
       "\n",
       "    .dataframe thead th {\n",
       "        text-align: right;\n",
       "    }\n",
       "</style>\n",
       "<table border=\"1\" class=\"dataframe\">\n",
       "  <thead>\n",
       "    <tr style=\"text-align: right;\">\n",
       "      <th></th>\n",
       "      <th>subscription_type</th>\n",
       "      <th>minute_price</th>\n",
       "      <th>start_ride_price</th>\n",
       "      <th>subscription_fee</th>\n",
       "    </tr>\n",
       "  </thead>\n",
       "  <tbody>\n",
       "    <tr>\n",
       "      <th>0</th>\n",
       "      <td>free</td>\n",
       "      <td>8</td>\n",
       "      <td>50</td>\n",
       "      <td>0</td>\n",
       "    </tr>\n",
       "    <tr>\n",
       "      <th>1</th>\n",
       "      <td>ultra</td>\n",
       "      <td>6</td>\n",
       "      <td>0</td>\n",
       "      <td>199</td>\n",
       "    </tr>\n",
       "  </tbody>\n",
       "</table>\n",
       "</div>"
      ],
      "text/plain": [
       "  subscription_type  minute_price  start_ride_price  subscription_fee\n",
       "0              free             8                50                 0\n",
       "1             ultra             6                 0               199"
      ]
     },
     "execution_count": 31,
     "metadata": {},
     "output_type": "execute_result"
    }
   ],
   "source": [
    "sub"
   ]
  },
  {
   "cell_type": "code",
   "execution_count": 32,
   "id": "f02a72dc",
   "metadata": {
    "scrolled": true
   },
   "outputs": [
    {
     "data": {
      "text/html": [
       "<div>\n",
       "<style scoped>\n",
       "    .dataframe tbody tr th:only-of-type {\n",
       "        vertical-align: middle;\n",
       "    }\n",
       "\n",
       "    .dataframe tbody tr th {\n",
       "        vertical-align: top;\n",
       "    }\n",
       "\n",
       "    .dataframe thead th {\n",
       "        text-align: right;\n",
       "    }\n",
       "</style>\n",
       "<table border=\"1\" class=\"dataframe\">\n",
       "  <thead>\n",
       "    <tr style=\"text-align: right;\">\n",
       "      <th></th>\n",
       "      <th>user_id</th>\n",
       "      <th>month</th>\n",
       "      <th>total_distance</th>\n",
       "      <th>total_duration</th>\n",
       "      <th>trip_count</th>\n",
       "      <th>subscription_type</th>\n",
       "      <th>gain</th>\n",
       "    </tr>\n",
       "  </thead>\n",
       "  <tbody>\n",
       "    <tr>\n",
       "      <th>0</th>\n",
       "      <td>1</td>\n",
       "      <td>1</td>\n",
       "      <td>7027.511294</td>\n",
       "      <td>42</td>\n",
       "      <td>2</td>\n",
       "      <td>ultra</td>\n",
       "      <td>451</td>\n",
       "    </tr>\n",
       "    <tr>\n",
       "      <th>1</th>\n",
       "      <td>1</td>\n",
       "      <td>4</td>\n",
       "      <td>754.159807</td>\n",
       "      <td>7</td>\n",
       "      <td>1</td>\n",
       "      <td>ultra</td>\n",
       "      <td>241</td>\n",
       "    </tr>\n",
       "    <tr>\n",
       "      <th>2</th>\n",
       "      <td>1</td>\n",
       "      <td>8</td>\n",
       "      <td>6723.470560</td>\n",
       "      <td>46</td>\n",
       "      <td>2</td>\n",
       "      <td>ultra</td>\n",
       "      <td>475</td>\n",
       "    </tr>\n",
       "    <tr>\n",
       "      <th>3</th>\n",
       "      <td>1</td>\n",
       "      <td>10</td>\n",
       "      <td>5809.911100</td>\n",
       "      <td>32</td>\n",
       "      <td>2</td>\n",
       "      <td>ultra</td>\n",
       "      <td>391</td>\n",
       "    </tr>\n",
       "    <tr>\n",
       "      <th>4</th>\n",
       "      <td>1</td>\n",
       "      <td>11</td>\n",
       "      <td>7003.499363</td>\n",
       "      <td>56</td>\n",
       "      <td>3</td>\n",
       "      <td>ultra</td>\n",
       "      <td>535</td>\n",
       "    </tr>\n",
       "  </tbody>\n",
       "</table>\n",
       "</div>"
      ],
      "text/plain": [
       "   user_id  month  total_distance  total_duration  trip_count  \\\n",
       "0        1      1     7027.511294              42           2   \n",
       "1        1      4      754.159807               7           1   \n",
       "2        1      8     6723.470560              46           2   \n",
       "3        1     10     5809.911100              32           2   \n",
       "4        1     11     7003.499363              56           3   \n",
       "\n",
       "  subscription_type  gain  \n",
       "0             ultra   451  \n",
       "1             ultra   241  \n",
       "2             ultra   475  \n",
       "3             ultra   391  \n",
       "4             ultra   535  "
      ]
     },
     "execution_count": 32,
     "metadata": {},
     "output_type": "execute_result"
    }
   ],
   "source": [
    "def gain (row):\n",
    "    if row['subscription_type'] == \"free\":\n",
    "        gain = (sub.loc[0, 'start_ride_price'] * row['trip_count']) + (sub.loc[0, 'minute_price'] * row['total_duration'])\n",
    "    if row['subscription_type'] == \"ultra\":\n",
    "        gain = sub.loc[1, 'minute_price'] * row['total_duration'] + sub.loc[1, 'subscription_fee']\n",
    "    return gain\n",
    "data_pivot['gain'] = data_pivot.apply(gain, axis=1)\n",
    "data_pivot['gain'] = np.ceil(data_pivot['gain'])\n",
    "data_pivot['gain'] = data_pivot['gain'].astype('int64')\n",
    "data_pivot.head()"
   ]
  },
  {
   "cell_type": "markdown",
   "id": "41545ac0",
   "metadata": {},
   "source": [
    "## Шаг 6. Проверка гипотез"
   ]
  },
  {
   "cell_type": "markdown",
   "id": "6ba50230",
   "metadata": {},
   "source": [
    "### "
   ]
  },
  {
   "cell_type": "markdown",
   "id": "f2db5200",
   "metadata": {},
   "source": [
    "Важно понять, тратят ли пользователи с подпиской больше времени на поездки? Если да, то пользователи с подпиской могут быть «выгоднее» для компании. Проверим гипотезу. Используем исходные данные о продолжительности каждой сессии — отдельно для подписчиков и тех, у кого нет подписки."
   ]
  },
  {
   "cell_type": "markdown",
   "id": "2e8c4f59",
   "metadata": {},
   "source": [
    "**Можно сформулирвать гипотезы так:**\n",
    "- H0 - пользователи с подпиской тратят столько же времени на поездки.\n",
    "- Н1 - пользователи с подпиской тратят больше времени на поездки."
   ]
  },
  {
   "cell_type": "code",
   "execution_count": 34,
   "id": "958a88bb",
   "metadata": {},
   "outputs": [
    {
     "name": "stdout",
     "output_type": "stream",
     "text": [
      "p-значение: 2.989594162878436e-12\n",
      "Отвергаем нулевую гипотезу\n"
     ]
    }
   ],
   "source": [
    "results = st.ttest_ind(data.query('subscription_type == \"ultra\"')['duration'],\n",
    "                       data.query('subscription_type == \"free\"')['duration'], \n",
    "                       equal_var = False, alternative='greater')\n",
    "\n",
    "alpha = 0.05\n",
    "\n",
    "print('p-значение:', results.pvalue)\n",
    "\n",
    "if (results.pvalue < alpha):\n",
    "    print(\"Отвергаем нулевую гипотезу\")\n",
    "else:\n",
    "    print(\"Не получилось отвергнуть нулевую гипотезу\")"
   ]
  },
  {
   "cell_type": "markdown",
   "id": "488428d2",
   "metadata": {},
   "source": [
    "Делаем вывод, что пользователи с подпиской тратят больше времени на поездки."
   ]
  },
  {
   "cell_type": "markdown",
   "id": "530245f8",
   "metadata": {},
   "source": [
    "### "
   ]
  },
  {
   "cell_type": "markdown",
   "id": "2f3558b0",
   "metadata": {},
   "source": [
    "Расстояние одной поездки в 3130 метров — оптимальное с точки зрения износа самоката. Можно ли сказать, что расстояние, которое проезжают пользователи с подпиской за одну поездку, не превышает 3130 метров? Проверьте гипотезу и сделайте выводы.\n",
    "\n",
    "**Сформулируем гипотезы так:**\n",
    "- H0 - поездки пользователей с подпиской не превышают 3130 метров.\n",
    "- Н1 - поездки пользователей с подпиской больше 3130 метров."
   ]
  },
  {
   "cell_type": "code",
   "execution_count": 35,
   "id": "c9e0649b",
   "metadata": {},
   "outputs": [
    {
     "data": {
      "text/html": [
       "<div>\n",
       "<style scoped>\n",
       "    .dataframe tbody tr th:only-of-type {\n",
       "        vertical-align: middle;\n",
       "    }\n",
       "\n",
       "    .dataframe tbody tr th {\n",
       "        vertical-align: top;\n",
       "    }\n",
       "\n",
       "    .dataframe thead th {\n",
       "        text-align: right;\n",
       "    }\n",
       "</style>\n",
       "<table border=\"1\" class=\"dataframe\">\n",
       "  <thead>\n",
       "    <tr style=\"text-align: right;\">\n",
       "      <th></th>\n",
       "      <th>user_id</th>\n",
       "      <th>name</th>\n",
       "      <th>age</th>\n",
       "      <th>city</th>\n",
       "      <th>subscription_type</th>\n",
       "      <th>distance</th>\n",
       "      <th>duration</th>\n",
       "      <th>date</th>\n",
       "      <th>month</th>\n",
       "      <th>minute_price</th>\n",
       "      <th>start_ride_price</th>\n",
       "      <th>subscription_fee</th>\n",
       "    </tr>\n",
       "  </thead>\n",
       "  <tbody>\n",
       "    <tr>\n",
       "      <th>0</th>\n",
       "      <td>1</td>\n",
       "      <td>Кира</td>\n",
       "      <td>22</td>\n",
       "      <td>Тюмень</td>\n",
       "      <td>ultra</td>\n",
       "      <td>4410</td>\n",
       "      <td>26</td>\n",
       "      <td>2021-01-01</td>\n",
       "      <td>1</td>\n",
       "      <td>6</td>\n",
       "      <td>0</td>\n",
       "      <td>199</td>\n",
       "    </tr>\n",
       "    <tr>\n",
       "      <th>1</th>\n",
       "      <td>1</td>\n",
       "      <td>Кира</td>\n",
       "      <td>22</td>\n",
       "      <td>Тюмень</td>\n",
       "      <td>ultra</td>\n",
       "      <td>2618</td>\n",
       "      <td>16</td>\n",
       "      <td>2021-01-18</td>\n",
       "      <td>1</td>\n",
       "      <td>6</td>\n",
       "      <td>0</td>\n",
       "      <td>199</td>\n",
       "    </tr>\n",
       "    <tr>\n",
       "      <th>2</th>\n",
       "      <td>1</td>\n",
       "      <td>Кира</td>\n",
       "      <td>22</td>\n",
       "      <td>Тюмень</td>\n",
       "      <td>ultra</td>\n",
       "      <td>755</td>\n",
       "      <td>7</td>\n",
       "      <td>2021-04-20</td>\n",
       "      <td>4</td>\n",
       "      <td>6</td>\n",
       "      <td>0</td>\n",
       "      <td>199</td>\n",
       "    </tr>\n",
       "    <tr>\n",
       "      <th>3</th>\n",
       "      <td>1</td>\n",
       "      <td>Кира</td>\n",
       "      <td>22</td>\n",
       "      <td>Тюмень</td>\n",
       "      <td>ultra</td>\n",
       "      <td>2695</td>\n",
       "      <td>19</td>\n",
       "      <td>2021-08-11</td>\n",
       "      <td>8</td>\n",
       "      <td>6</td>\n",
       "      <td>0</td>\n",
       "      <td>199</td>\n",
       "    </tr>\n",
       "    <tr>\n",
       "      <th>4</th>\n",
       "      <td>1</td>\n",
       "      <td>Кира</td>\n",
       "      <td>22</td>\n",
       "      <td>Тюмень</td>\n",
       "      <td>ultra</td>\n",
       "      <td>4029</td>\n",
       "      <td>27</td>\n",
       "      <td>2021-08-28</td>\n",
       "      <td>8</td>\n",
       "      <td>6</td>\n",
       "      <td>0</td>\n",
       "      <td>199</td>\n",
       "    </tr>\n",
       "  </tbody>\n",
       "</table>\n",
       "</div>"
      ],
      "text/plain": [
       "   user_id  name  age    city subscription_type  distance  duration  \\\n",
       "0        1  Кира   22  Тюмень             ultra      4410        26   \n",
       "1        1  Кира   22  Тюмень             ultra      2618        16   \n",
       "2        1  Кира   22  Тюмень             ultra       755         7   \n",
       "3        1  Кира   22  Тюмень             ultra      2695        19   \n",
       "4        1  Кира   22  Тюмень             ultra      4029        27   \n",
       "\n",
       "        date  month  minute_price  start_ride_price  subscription_fee  \n",
       "0 2021-01-01      1             6                 0               199  \n",
       "1 2021-01-18      1             6                 0               199  \n",
       "2 2021-04-20      4             6                 0               199  \n",
       "3 2021-08-11      8             6                 0               199  \n",
       "4 2021-08-28      8             6                 0               199  "
      ]
     },
     "execution_count": 35,
     "metadata": {},
     "output_type": "execute_result"
    }
   ],
   "source": [
    "data['distance'] = np.ceil(data['distance'])\n",
    "data['distance'] = data['distance'].astype('int64')\n",
    "data.head()"
   ]
  },
  {
   "cell_type": "code",
   "execution_count": 36,
   "id": "872e6588",
   "metadata": {},
   "outputs": [
    {
     "name": "stdout",
     "output_type": "stream",
     "text": [
      "p-значение: 0.9240649260966081\n",
      "Не получилось отвергнуть нулевую гипотезу\n"
     ]
    }
   ],
   "source": [
    "interested_value = 3130\n",
    "distance_ultra = data.query('subscription_type == \"ultra\"')['distance']\n",
    "alpha = 0.05\n",
    "\n",
    "results = st.ttest_1samp(\n",
    "    distance_ultra, \n",
    "    interested_value, alternative='greater')\n",
    "\n",
    "print('p-значение:', results.pvalue)\n",
    "\n",
    "if results.pvalue < alpha:\n",
    "    print('Отвергаем нулевую гипотезу')\n",
    "else:\n",
    "    print('Не получилось отвергнуть нулевую гипотезу')"
   ]
  },
  {
   "cell_type": "markdown",
   "id": "d4ed39a1",
   "metadata": {},
   "source": [
    "На имеющихся данных, на уровне значимости 5% нет оснований отвергнуть нулевую гипотезу в пользу альтернативы."
   ]
  },
  {
   "cell_type": "markdown",
   "id": "67ba045d",
   "metadata": {},
   "source": [
    "### \n",
    "\n",
    "Проверьте гипотезу о том, будет ли помесячная выручка от пользователей с подпиской по месяцам выше, чем выручка от пользователей без подписки.\n",
    "\n",
    "**Сформулируем гипотезы так:**\n",
    "- H0 - помесячная выручка от пользователей с подпиской такая же как и помесячная выручка от пользователей без подписки.\n",
    "- Н1 -  помесячная выручка от пользователей с подпиской больше помесячной выручки от пользователей без подписки."
   ]
  },
  {
   "cell_type": "code",
   "execution_count": 37,
   "id": "98cdbe4c",
   "metadata": {},
   "outputs": [
    {
     "data": {
      "text/html": [
       "<div>\n",
       "<style scoped>\n",
       "    .dataframe tbody tr th:only-of-type {\n",
       "        vertical-align: middle;\n",
       "    }\n",
       "\n",
       "    .dataframe tbody tr th {\n",
       "        vertical-align: top;\n",
       "    }\n",
       "\n",
       "    .dataframe thead th {\n",
       "        text-align: right;\n",
       "    }\n",
       "</style>\n",
       "<table border=\"1\" class=\"dataframe\">\n",
       "  <thead>\n",
       "    <tr style=\"text-align: right;\">\n",
       "      <th></th>\n",
       "      <th></th>\n",
       "      <th></th>\n",
       "      <th>gain</th>\n",
       "    </tr>\n",
       "    <tr>\n",
       "      <th>user_id</th>\n",
       "      <th>month</th>\n",
       "      <th>subscription_type</th>\n",
       "      <th></th>\n",
       "    </tr>\n",
       "  </thead>\n",
       "  <tbody>\n",
       "    <tr>\n",
       "      <th rowspan=\"5\" valign=\"top\">1</th>\n",
       "      <th>1</th>\n",
       "      <th>ultra</th>\n",
       "      <td>451</td>\n",
       "    </tr>\n",
       "    <tr>\n",
       "      <th>4</th>\n",
       "      <th>ultra</th>\n",
       "      <td>241</td>\n",
       "    </tr>\n",
       "    <tr>\n",
       "      <th>8</th>\n",
       "      <th>ultra</th>\n",
       "      <td>475</td>\n",
       "    </tr>\n",
       "    <tr>\n",
       "      <th>10</th>\n",
       "      <th>ultra</th>\n",
       "      <td>391</td>\n",
       "    </tr>\n",
       "    <tr>\n",
       "      <th>11</th>\n",
       "      <th>ultra</th>\n",
       "      <td>535</td>\n",
       "    </tr>\n",
       "    <tr>\n",
       "      <th>...</th>\n",
       "      <th>...</th>\n",
       "      <th>...</th>\n",
       "      <td>...</td>\n",
       "    </tr>\n",
       "    <tr>\n",
       "      <th rowspan=\"5\" valign=\"top\">1534</th>\n",
       "      <th>6</th>\n",
       "      <th>free</th>\n",
       "      <td>202</td>\n",
       "    </tr>\n",
       "    <tr>\n",
       "      <th>8</th>\n",
       "      <th>free</th>\n",
       "      <td>484</td>\n",
       "    </tr>\n",
       "    <tr>\n",
       "      <th>9</th>\n",
       "      <th>free</th>\n",
       "      <td>234</td>\n",
       "    </tr>\n",
       "    <tr>\n",
       "      <th>11</th>\n",
       "      <th>free</th>\n",
       "      <td>824</td>\n",
       "    </tr>\n",
       "    <tr>\n",
       "      <th>12</th>\n",
       "      <th>free</th>\n",
       "      <td>178</td>\n",
       "    </tr>\n",
       "  </tbody>\n",
       "</table>\n",
       "<p>11145 rows × 1 columns</p>\n",
       "</div>"
      ],
      "text/plain": [
       "                                 gain\n",
       "user_id month subscription_type      \n",
       "1       1     ultra               451\n",
       "        4     ultra               241\n",
       "        8     ultra               475\n",
       "        10    ultra               391\n",
       "        11    ultra               535\n",
       "...                               ...\n",
       "1534    6     free                202\n",
       "        8     free                484\n",
       "        9     free                234\n",
       "        11    free                824\n",
       "        12    free                178\n",
       "\n",
       "[11145 rows x 1 columns]"
      ]
     },
     "execution_count": 37,
     "metadata": {},
     "output_type": "execute_result"
    }
   ],
   "source": [
    "data_pivot_month = data_pivot.pivot_table(index= ['user_id', 'month', 'subscription_type'],\n",
    "                                          values = 'gain', aggfunc={'gain':'sum'})\n",
    "data_pivot_month"
   ]
  },
  {
   "cell_type": "code",
   "execution_count": 38,
   "id": "b70ef580",
   "metadata": {
    "scrolled": true
   },
   "outputs": [
    {
     "name": "stdout",
     "output_type": "stream",
     "text": [
      "p-значение: 2.193711654406523e-39\n",
      "Отвергаем нулевую гипотезу\n"
     ]
    }
   ],
   "source": [
    "results = st.ttest_ind(data_pivot_month.query('subscription_type == \"ultra\"')['gain'],\n",
    "                       data_pivot_month.query('subscription_type == \"free\"')['gain'],\n",
    "                       equal_var = False, alternative='greater')\n",
    "\n",
    "alpha = 0.05\n",
    "\n",
    "print('p-значение:', results.pvalue)\n",
    "\n",
    "if (results.pvalue < alpha):\n",
    "    print(\"Отвергаем нулевую гипотезу\")\n",
    "else:\n",
    "    print(\"Не получилось отвергнуть нулевую гипотезу\")"
   ]
  },
  {
   "cell_type": "markdown",
   "id": "55319411",
   "metadata": {},
   "source": [
    "Делаем вывод, что помесячная выручка от пользователей с подпиской больше помесячной выручки от пользователей без подписки."
   ]
  },
  {
   "cell_type": "markdown",
   "id": "d4a5499c",
   "metadata": {},
   "source": [
    "###  \n",
    "\n",
    "Представьте такую ситуацию: техническая команда сервиса обновила сервера, с которыми взаимодействует мобильное приложение. Она надеется, что из-за этого количество обращений в техподдержку значимо снизилось. Некоторый файл содержит для каждого пользователя данные о количестве обращений до обновления и после него. Какой тест вам понадобился бы для проверки этой гипотезы?"
   ]
  },
  {
   "cell_type": "markdown",
   "id": "0da1148d",
   "metadata": {},
   "source": [
    " В данном случае нам понадобится тест, который проверит гипотезу о равенстве средних зависимых(парных) выборок, так как мы будем анализировать одну генеральную совокупность, с которой произошли некоторые изменения, другими словами выборки зависимы. Должна быть использована функция **scipy.stats.ttest_rel()**."
   ]
  },
  {
   "cell_type": "markdown",
   "id": "44502544",
   "metadata": {},
   "source": [
    "### Вывод\n",
    "**Проверив три гипотезы, мы теперь знаем, что:**\n",
    "- пользователи с подпиской тратят больше времени на поездки;\n",
    "- возможно поездки пользователей с подпиской составляет оптимальное с точки зрения износа самоката расстояние - до 3130 метров;\n",
    "- помесячная выручка от пользователей с подпиской больше помесячной выручки от пользователей без подписки."
   ]
  },
  {
   "cell_type": "markdown",
   "id": "b173807a",
   "metadata": {},
   "source": [
    "## Общий вывод"
   ]
  },
  {
   "cell_type": "markdown",
   "id": "e1c73fc0",
   "metadata": {},
   "source": [
    "**В ходе исследования была проделана следующая работа:**\n",
    "- мы сделали предобработку данных для очистки датафрейма от дубликатов и выбросов;\n",
    "- выполнили исследовательский анализ данных, в ходе которого выяснили следующее:\n",
    "    - больше всего пользователей из Пятигорска;\n",
    "    - доля пользователей с подпиской составляет 46% от общего числа пользователей;\n",
    "    - возраст основной массы пользователей 22-27 лет;\n",
    "    - пользователи с подпиской совершают меньше коротких поездок, и обычно проезжат в районе 3 км за поездку;\n",
    "    - чаще всего пользователи тратят на поездку от 15-22 минут вне зависимости от наличия подписки;\n",
    "- посчитали помесячную выручку каждого пользователя;\n",
    "- проверили три гипотезы и сделали следующие выводы:\n",
    "    - пользователи с подпиской тратят больше времени на поездки;\n",
    "    - возможно поездки пользователей с подпиской составляет оптимальное с точки зрения износа самоката расстояние - до 3130 метров;\n",
    "    - помесячная выручка от пользователей с подпиской больше помесячной выручки от пользователей без подписки.\n",
    "    \n",
    "**Вывод**\n",
    "Проанализировав данные можно сделать вывод, что пользователи с подпиской Ultra являются более выгодными для компании так как:\n",
    "- выручка от пользователей с подпиской Ultra больше, чем выручка от пользователей без подписки\n",
    "- пользователи с подпиской совершают мало коротких поездок и обычно проезжают примерное оптимальное расстояние для износа самоката.\n"
   ]
  }
 ],
 "metadata": {
  "ExecuteTimeLog": [
   {
    "duration": 46,
    "start_time": "2023-05-21T08:26:19.481Z"
   },
   {
    "duration": 392,
    "start_time": "2023-05-21T08:26:25.363Z"
   },
   {
    "duration": 284,
    "start_time": "2023-05-21T08:26:27.106Z"
   },
   {
    "duration": 112,
    "start_time": "2023-05-21T08:27:09.066Z"
   },
   {
    "duration": 81,
    "start_time": "2023-05-21T08:27:36.211Z"
   },
   {
    "duration": 88,
    "start_time": "2023-05-21T08:28:47.588Z"
   },
   {
    "duration": 89,
    "start_time": "2023-05-21T08:31:34.466Z"
   },
   {
    "duration": 16,
    "start_time": "2023-05-21T08:33:03.609Z"
   },
   {
    "duration": 14,
    "start_time": "2023-05-21T08:33:06.865Z"
   },
   {
    "duration": 11,
    "start_time": "2023-05-21T08:33:09.565Z"
   },
   {
    "duration": 63,
    "start_time": "2023-05-21T08:33:20.384Z"
   },
   {
    "duration": 8,
    "start_time": "2023-05-21T08:39:35.557Z"
   },
   {
    "duration": 10,
    "start_time": "2023-05-21T08:39:57.581Z"
   },
   {
    "duration": 6,
    "start_time": "2023-05-21T08:43:20.773Z"
   },
   {
    "duration": 22,
    "start_time": "2023-05-21T08:43:28.665Z"
   },
   {
    "duration": 10,
    "start_time": "2023-05-21T09:12:42.965Z"
   },
   {
    "duration": 13,
    "start_time": "2023-05-21T09:12:55.407Z"
   },
   {
    "duration": 7,
    "start_time": "2023-05-21T09:13:18.067Z"
   },
   {
    "duration": 11,
    "start_time": "2023-05-21T09:16:47.889Z"
   },
   {
    "duration": 8,
    "start_time": "2023-05-21T09:17:14.968Z"
   },
   {
    "duration": 8,
    "start_time": "2023-05-21T09:17:25.875Z"
   },
   {
    "duration": 9,
    "start_time": "2023-05-21T09:18:34.778Z"
   },
   {
    "duration": 21,
    "start_time": "2023-05-21T09:18:40.385Z"
   },
   {
    "duration": 23,
    "start_time": "2023-05-21T09:19:58.654Z"
   },
   {
    "duration": 22,
    "start_time": "2023-05-21T09:20:03.159Z"
   },
   {
    "duration": 3,
    "start_time": "2023-05-21T09:20:06.863Z"
   },
   {
    "duration": 78,
    "start_time": "2023-05-21T09:20:06.868Z"
   },
   {
    "duration": 15,
    "start_time": "2023-05-21T09:20:06.948Z"
   },
   {
    "duration": 31,
    "start_time": "2023-05-21T09:20:06.964Z"
   },
   {
    "duration": 12,
    "start_time": "2023-05-21T09:20:06.998Z"
   },
   {
    "duration": 9,
    "start_time": "2023-05-21T09:20:07.012Z"
   },
   {
    "duration": 27,
    "start_time": "2023-05-21T09:20:07.023Z"
   },
   {
    "duration": 18,
    "start_time": "2023-05-21T09:20:07.052Z"
   },
   {
    "duration": 15,
    "start_time": "2023-05-21T09:20:32.891Z"
   },
   {
    "duration": 5,
    "start_time": "2023-05-21T09:20:37.184Z"
   },
   {
    "duration": 2,
    "start_time": "2023-05-21T09:20:39.776Z"
   },
   {
    "duration": 285,
    "start_time": "2023-05-21T09:20:39.780Z"
   },
   {
    "duration": 14,
    "start_time": "2023-05-21T09:20:40.067Z"
   },
   {
    "duration": 17,
    "start_time": "2023-05-21T09:20:40.083Z"
   },
   {
    "duration": 11,
    "start_time": "2023-05-21T09:20:40.102Z"
   },
   {
    "duration": 9,
    "start_time": "2023-05-21T09:20:40.115Z"
   },
   {
    "duration": 28,
    "start_time": "2023-05-21T09:20:40.125Z"
   },
   {
    "duration": 6,
    "start_time": "2023-05-21T09:20:40.155Z"
   },
   {
    "duration": 16,
    "start_time": "2023-05-21T09:20:40.162Z"
   },
   {
    "duration": 8,
    "start_time": "2023-05-21T09:50:51.044Z"
   },
   {
    "duration": 9,
    "start_time": "2023-05-21T09:51:11.343Z"
   },
   {
    "duration": 5,
    "start_time": "2023-05-21T09:51:27.519Z"
   },
   {
    "duration": 5,
    "start_time": "2023-05-21T09:52:31.459Z"
   },
   {
    "duration": 5,
    "start_time": "2023-05-21T09:53:32.705Z"
   },
   {
    "duration": 8,
    "start_time": "2023-05-21T09:54:17.924Z"
   },
   {
    "duration": 6,
    "start_time": "2023-05-21T09:57:35.126Z"
   },
   {
    "duration": 8,
    "start_time": "2023-05-21T09:57:39.859Z"
   },
   {
    "duration": 434,
    "start_time": "2023-05-21T10:07:11.003Z"
   },
   {
    "duration": 15,
    "start_time": "2023-05-21T10:11:21.699Z"
   },
   {
    "duration": 22,
    "start_time": "2023-05-21T10:12:26.668Z"
   },
   {
    "duration": 1269,
    "start_time": "2023-05-21T10:12:39.552Z"
   },
   {
    "duration": 1185,
    "start_time": "2023-05-21T10:13:32.787Z"
   },
   {
    "duration": 1237,
    "start_time": "2023-05-21T10:13:41.064Z"
   },
   {
    "duration": 7,
    "start_time": "2023-05-21T10:13:53.517Z"
   },
   {
    "duration": 1251,
    "start_time": "2023-05-21T10:13:57.764Z"
   },
   {
    "duration": 15,
    "start_time": "2023-05-21T10:16:39.188Z"
   },
   {
    "duration": 760,
    "start_time": "2023-05-21T10:17:17.452Z"
   },
   {
    "duration": 3,
    "start_time": "2023-05-21T10:17:19.871Z"
   },
   {
    "duration": 53,
    "start_time": "2023-05-21T10:17:24.616Z"
   },
   {
    "duration": 3,
    "start_time": "2023-05-21T10:17:29.713Z"
   },
   {
    "duration": 71,
    "start_time": "2023-05-21T10:17:29.718Z"
   },
   {
    "duration": 14,
    "start_time": "2023-05-21T10:17:29.790Z"
   },
   {
    "duration": 18,
    "start_time": "2023-05-21T10:17:29.806Z"
   },
   {
    "duration": 10,
    "start_time": "2023-05-21T10:17:29.825Z"
   },
   {
    "duration": 7,
    "start_time": "2023-05-21T10:17:29.837Z"
   },
   {
    "duration": 9,
    "start_time": "2023-05-21T10:17:29.845Z"
   },
   {
    "duration": 10,
    "start_time": "2023-05-21T10:17:29.856Z"
   },
   {
    "duration": 13,
    "start_time": "2023-05-21T10:17:29.868Z"
   },
   {
    "duration": 3,
    "start_time": "2023-05-21T10:17:29.884Z"
   },
   {
    "duration": 8,
    "start_time": "2023-05-21T10:17:29.889Z"
   },
   {
    "duration": 18,
    "start_time": "2023-05-21T10:17:29.899Z"
   },
   {
    "duration": 5,
    "start_time": "2023-05-21T10:34:30.108Z"
   },
   {
    "duration": 14,
    "start_time": "2023-05-21T10:45:57.358Z"
   },
   {
    "duration": 3,
    "start_time": "2023-05-21T10:46:41.878Z"
   },
   {
    "duration": 5,
    "start_time": "2023-05-21T10:46:49.362Z"
   },
   {
    "duration": 10,
    "start_time": "2023-05-21T10:52:45.350Z"
   },
   {
    "duration": 98,
    "start_time": "2023-05-21T10:54:42.362Z"
   },
   {
    "duration": 75,
    "start_time": "2023-05-21T10:55:13.082Z"
   },
   {
    "duration": 70,
    "start_time": "2023-05-21T11:06:39.661Z"
   },
   {
    "duration": 165,
    "start_time": "2023-05-21T11:06:45.342Z"
   },
   {
    "duration": 20,
    "start_time": "2023-05-21T11:07:14.878Z"
   },
   {
    "duration": 3,
    "start_time": "2023-05-21T11:07:49.401Z"
   },
   {
    "duration": 67,
    "start_time": "2023-05-21T11:07:49.405Z"
   },
   {
    "duration": 15,
    "start_time": "2023-05-21T11:07:49.473Z"
   },
   {
    "duration": 14,
    "start_time": "2023-05-21T11:07:49.491Z"
   },
   {
    "duration": 11,
    "start_time": "2023-05-21T11:07:49.506Z"
   },
   {
    "duration": 9,
    "start_time": "2023-05-21T11:07:49.519Z"
   },
   {
    "duration": 24,
    "start_time": "2023-05-21T11:07:49.529Z"
   },
   {
    "duration": 6,
    "start_time": "2023-05-21T11:07:49.555Z"
   },
   {
    "duration": 13,
    "start_time": "2023-05-21T11:07:49.563Z"
   },
   {
    "duration": 4,
    "start_time": "2023-05-21T11:07:49.579Z"
   },
   {
    "duration": 9,
    "start_time": "2023-05-21T11:07:49.584Z"
   },
   {
    "duration": 17,
    "start_time": "2023-05-21T11:07:49.594Z"
   },
   {
    "duration": 18,
    "start_time": "2023-05-21T11:08:07.890Z"
   },
   {
    "duration": 19,
    "start_time": "2023-05-21T11:08:18.059Z"
   },
   {
    "duration": 183,
    "start_time": "2023-05-21T11:08:36.991Z"
   },
   {
    "duration": 133,
    "start_time": "2023-05-21T11:10:09.449Z"
   },
   {
    "duration": 152,
    "start_time": "2023-05-21T11:10:29.798Z"
   },
   {
    "duration": 161,
    "start_time": "2023-05-21T11:10:58.774Z"
   },
   {
    "duration": 234,
    "start_time": "2023-05-21T11:11:25.084Z"
   },
   {
    "duration": 126,
    "start_time": "2023-05-21T11:13:03.664Z"
   },
   {
    "duration": 160,
    "start_time": "2023-05-21T11:15:32.525Z"
   },
   {
    "duration": 181,
    "start_time": "2023-05-21T11:15:46.420Z"
   },
   {
    "duration": 177,
    "start_time": "2023-05-21T11:16:00.945Z"
   },
   {
    "duration": 175,
    "start_time": "2023-05-21T11:16:12.872Z"
   },
   {
    "duration": 171,
    "start_time": "2023-05-21T11:16:21.167Z"
   },
   {
    "duration": 160,
    "start_time": "2023-05-21T11:16:29.369Z"
   },
   {
    "duration": 163,
    "start_time": "2023-05-21T11:17:01.153Z"
   },
   {
    "duration": 86,
    "start_time": "2023-05-21T11:17:16.833Z"
   },
   {
    "duration": 188,
    "start_time": "2023-05-21T11:17:27.172Z"
   },
   {
    "duration": 176,
    "start_time": "2023-05-21T11:21:22.901Z"
   },
   {
    "duration": 267,
    "start_time": "2023-05-21T11:21:35.338Z"
   },
   {
    "duration": 164,
    "start_time": "2023-05-21T11:26:18.660Z"
   },
   {
    "duration": 140,
    "start_time": "2023-05-21T11:27:01.234Z"
   },
   {
    "duration": 145,
    "start_time": "2023-05-21T11:27:39.026Z"
   },
   {
    "duration": 160,
    "start_time": "2023-05-21T11:29:12.476Z"
   },
   {
    "duration": 155,
    "start_time": "2023-05-21T11:30:16.208Z"
   },
   {
    "duration": 287,
    "start_time": "2023-05-21T11:52:42.631Z"
   },
   {
    "duration": 123,
    "start_time": "2023-05-21T11:53:20.929Z"
   },
   {
    "duration": 125,
    "start_time": "2023-05-21T11:53:23.756Z"
   },
   {
    "duration": 366,
    "start_time": "2023-05-21T11:53:34.886Z"
   },
   {
    "duration": 161,
    "start_time": "2023-05-21T11:53:43.503Z"
   },
   {
    "duration": 235,
    "start_time": "2023-05-21T11:53:58.203Z"
   },
   {
    "duration": 210,
    "start_time": "2023-05-21T11:54:16.972Z"
   },
   {
    "duration": 168,
    "start_time": "2023-05-21T11:54:28.607Z"
   },
   {
    "duration": 190,
    "start_time": "2023-05-21T11:55:02.834Z"
   },
   {
    "duration": 201,
    "start_time": "2023-05-21T11:56:33.790Z"
   },
   {
    "duration": 224,
    "start_time": "2023-05-21T11:56:37.874Z"
   },
   {
    "duration": 233,
    "start_time": "2023-05-21T11:57:00.403Z"
   },
   {
    "duration": 1148,
    "start_time": "2023-05-21T12:01:50.964Z"
   },
   {
    "duration": 323,
    "start_time": "2023-05-21T12:02:12.016Z"
   },
   {
    "duration": 261,
    "start_time": "2023-05-21T12:03:42.150Z"
   },
   {
    "duration": 245,
    "start_time": "2023-05-21T12:04:50.397Z"
   },
   {
    "duration": 234,
    "start_time": "2023-05-21T12:06:15.083Z"
   },
   {
    "duration": 344,
    "start_time": "2023-05-21T12:06:50.756Z"
   },
   {
    "duration": 167,
    "start_time": "2023-05-21T12:08:02.940Z"
   },
   {
    "duration": 2,
    "start_time": "2023-05-21T12:08:05.315Z"
   },
   {
    "duration": 95,
    "start_time": "2023-05-21T12:08:05.319Z"
   },
   {
    "duration": 15,
    "start_time": "2023-05-21T12:08:05.416Z"
   },
   {
    "duration": 22,
    "start_time": "2023-05-21T12:08:05.433Z"
   },
   {
    "duration": 23,
    "start_time": "2023-05-21T12:08:05.456Z"
   },
   {
    "duration": 7,
    "start_time": "2023-05-21T12:08:05.481Z"
   },
   {
    "duration": 6,
    "start_time": "2023-05-21T12:08:05.489Z"
   },
   {
    "duration": 6,
    "start_time": "2023-05-21T12:08:05.496Z"
   },
   {
    "duration": 14,
    "start_time": "2023-05-21T12:08:05.505Z"
   },
   {
    "duration": 30,
    "start_time": "2023-05-21T12:08:05.520Z"
   },
   {
    "duration": 8,
    "start_time": "2023-05-21T12:08:05.552Z"
   },
   {
    "duration": 187,
    "start_time": "2023-05-21T12:08:05.563Z"
   },
   {
    "duration": 161,
    "start_time": "2023-05-21T12:08:05.752Z"
   },
   {
    "duration": 209,
    "start_time": "2023-05-21T12:08:05.914Z"
   },
   {
    "duration": 227,
    "start_time": "2023-05-21T12:08:06.125Z"
   },
   {
    "duration": 232,
    "start_time": "2023-05-21T12:08:06.354Z"
   },
   {
    "duration": 299,
    "start_time": "2023-05-21T12:08:31.182Z"
   },
   {
    "duration": 187,
    "start_time": "2023-05-21T12:08:44.031Z"
   },
   {
    "duration": 174,
    "start_time": "2023-05-21T12:08:58.565Z"
   },
   {
    "duration": 15,
    "start_time": "2023-05-21T12:10:35.657Z"
   },
   {
    "duration": 33,
    "start_time": "2023-05-21T12:10:43.920Z"
   },
   {
    "duration": 18,
    "start_time": "2023-05-21T12:11:40.076Z"
   },
   {
    "duration": 41,
    "start_time": "2023-05-21T12:12:02.477Z"
   },
   {
    "duration": 207,
    "start_time": "2023-05-21T12:22:25.260Z"
   },
   {
    "duration": 194,
    "start_time": "2023-05-21T12:23:02.058Z"
   },
   {
    "duration": 199,
    "start_time": "2023-05-21T12:23:40.658Z"
   },
   {
    "duration": 178,
    "start_time": "2023-05-21T12:23:47.890Z"
   },
   {
    "duration": 327,
    "start_time": "2023-05-21T12:24:01.576Z"
   },
   {
    "duration": 299,
    "start_time": "2023-05-21T12:26:21.927Z"
   },
   {
    "duration": 446,
    "start_time": "2023-05-21T12:26:30.232Z"
   },
   {
    "duration": 312,
    "start_time": "2023-05-21T12:27:24.781Z"
   },
   {
    "duration": 311,
    "start_time": "2023-05-21T12:28:08.755Z"
   },
   {
    "duration": 72,
    "start_time": "2023-05-21T12:28:49.417Z"
   },
   {
    "duration": 316,
    "start_time": "2023-05-21T12:28:54.997Z"
   },
   {
    "duration": 304,
    "start_time": "2023-05-21T12:29:21.950Z"
   },
   {
    "duration": 241,
    "start_time": "2023-05-21T12:29:28.915Z"
   },
   {
    "duration": 305,
    "start_time": "2023-05-21T12:30:12.572Z"
   },
   {
    "duration": 309,
    "start_time": "2023-05-21T12:30:39.290Z"
   },
   {
    "duration": 11,
    "start_time": "2023-05-21T12:31:04.001Z"
   },
   {
    "duration": 320,
    "start_time": "2023-05-21T12:31:49.557Z"
   },
   {
    "duration": 309,
    "start_time": "2023-05-21T12:33:49.546Z"
   },
   {
    "duration": 441,
    "start_time": "2023-05-21T12:34:11.552Z"
   },
   {
    "duration": 320,
    "start_time": "2023-05-21T12:34:28.862Z"
   },
   {
    "duration": 313,
    "start_time": "2023-05-21T12:34:39.804Z"
   },
   {
    "duration": 96,
    "start_time": "2023-05-21T12:35:00.482Z"
   },
   {
    "duration": 319,
    "start_time": "2023-05-21T12:35:10.904Z"
   },
   {
    "duration": 325,
    "start_time": "2023-05-21T12:35:34.977Z"
   },
   {
    "duration": 490,
    "start_time": "2023-05-21T12:37:35.478Z"
   },
   {
    "duration": 4,
    "start_time": "2023-05-21T12:39:17.267Z"
   },
   {
    "duration": 22,
    "start_time": "2023-05-21T12:39:30.115Z"
   },
   {
    "duration": 6,
    "start_time": "2023-05-21T12:40:50.980Z"
   },
   {
    "duration": 383,
    "start_time": "2023-05-21T12:41:16.122Z"
   },
   {
    "duration": 340,
    "start_time": "2023-05-21T12:41:33.905Z"
   },
   {
    "duration": 334,
    "start_time": "2023-05-21T12:41:52.140Z"
   },
   {
    "duration": 407,
    "start_time": "2023-05-21T12:43:24.000Z"
   },
   {
    "duration": 301,
    "start_time": "2023-05-21T12:44:12.959Z"
   },
   {
    "duration": 426,
    "start_time": "2023-05-21T12:45:40.013Z"
   },
   {
    "duration": 3,
    "start_time": "2023-05-21T12:45:57.802Z"
   },
   {
    "duration": 63,
    "start_time": "2023-05-21T12:45:57.807Z"
   },
   {
    "duration": 18,
    "start_time": "2023-05-21T12:45:57.872Z"
   },
   {
    "duration": 26,
    "start_time": "2023-05-21T12:45:57.891Z"
   },
   {
    "duration": 10,
    "start_time": "2023-05-21T12:45:57.919Z"
   },
   {
    "duration": 20,
    "start_time": "2023-05-21T12:45:57.931Z"
   },
   {
    "duration": 4,
    "start_time": "2023-05-21T12:45:57.953Z"
   },
   {
    "duration": 5,
    "start_time": "2023-05-21T12:45:57.959Z"
   },
   {
    "duration": 15,
    "start_time": "2023-05-21T12:45:57.965Z"
   },
   {
    "duration": 4,
    "start_time": "2023-05-21T12:45:57.982Z"
   },
   {
    "duration": 8,
    "start_time": "2023-05-21T12:45:57.988Z"
   },
   {
    "duration": 342,
    "start_time": "2023-05-21T12:45:57.997Z"
   },
   {
    "duration": 292,
    "start_time": "2023-05-21T12:45:58.341Z"
   },
   {
    "duration": 310,
    "start_time": "2023-05-21T12:45:58.635Z"
   },
   {
    "duration": 290,
    "start_time": "2023-05-21T12:45:58.947Z"
   },
   {
    "duration": 280,
    "start_time": "2023-05-21T12:45:59.239Z"
   },
   {
    "duration": 157,
    "start_time": "2023-05-21T12:45:59.520Z"
   },
   {
    "duration": 210,
    "start_time": "2023-05-21T12:45:59.678Z"
   },
   {
    "duration": 220,
    "start_time": "2023-05-21T12:45:59.890Z"
   },
   {
    "duration": 206,
    "start_time": "2023-05-21T12:46:00.111Z"
   },
   {
    "duration": 10,
    "start_time": "2023-05-21T13:01:33.602Z"
   },
   {
    "duration": 33,
    "start_time": "2023-05-21T13:01:38.049Z"
   },
   {
    "duration": 207,
    "start_time": "2023-05-21T13:01:59.233Z"
   },
   {
    "duration": 305,
    "start_time": "2023-05-21T13:02:14.100Z"
   },
   {
    "duration": 4,
    "start_time": "2023-05-21T13:02:32.672Z"
   },
   {
    "duration": 95,
    "start_time": "2023-05-21T13:02:32.678Z"
   },
   {
    "duration": 20,
    "start_time": "2023-05-21T13:02:32.774Z"
   },
   {
    "duration": 27,
    "start_time": "2023-05-21T13:02:32.796Z"
   },
   {
    "duration": 11,
    "start_time": "2023-05-21T13:02:32.825Z"
   },
   {
    "duration": 32,
    "start_time": "2023-05-21T13:02:32.838Z"
   },
   {
    "duration": 6,
    "start_time": "2023-05-21T13:02:32.871Z"
   },
   {
    "duration": 7,
    "start_time": "2023-05-21T13:02:32.879Z"
   },
   {
    "duration": 21,
    "start_time": "2023-05-21T13:02:32.888Z"
   },
   {
    "duration": 5,
    "start_time": "2023-05-21T13:02:32.912Z"
   },
   {
    "duration": 38,
    "start_time": "2023-05-21T13:02:32.919Z"
   },
   {
    "duration": 368,
    "start_time": "2023-05-21T13:02:32.959Z"
   },
   {
    "duration": 459,
    "start_time": "2023-05-21T13:02:33.329Z"
   },
   {
    "duration": 385,
    "start_time": "2023-05-21T13:02:33.794Z"
   },
   {
    "duration": 432,
    "start_time": "2023-05-21T13:02:34.181Z"
   },
   {
    "duration": 180,
    "start_time": "2023-05-21T13:02:34.615Z"
   },
   {
    "duration": 191,
    "start_time": "2023-05-21T13:02:34.797Z"
   },
   {
    "duration": 219,
    "start_time": "2023-05-21T13:02:34.990Z"
   },
   {
    "duration": 288,
    "start_time": "2023-05-21T13:02:35.210Z"
   },
   {
    "duration": 303,
    "start_time": "2023-05-21T13:02:35.500Z"
   },
   {
    "duration": 24,
    "start_time": "2023-05-21T13:02:35.805Z"
   },
   {
    "duration": 171,
    "start_time": "2023-05-21T13:03:09.334Z"
   },
   {
    "duration": 445,
    "start_time": "2023-05-21T13:03:24.718Z"
   },
   {
    "duration": 297,
    "start_time": "2023-05-21T13:05:39.602Z"
   },
   {
    "duration": 363,
    "start_time": "2023-05-21T13:05:48.272Z"
   },
   {
    "duration": 3,
    "start_time": "2023-05-21T13:05:52.836Z"
   },
   {
    "duration": 68,
    "start_time": "2023-05-21T13:05:52.841Z"
   },
   {
    "duration": 21,
    "start_time": "2023-05-21T13:05:52.911Z"
   },
   {
    "duration": 29,
    "start_time": "2023-05-21T13:05:52.934Z"
   },
   {
    "duration": 17,
    "start_time": "2023-05-21T13:05:52.965Z"
   },
   {
    "duration": 21,
    "start_time": "2023-05-21T13:05:52.984Z"
   },
   {
    "duration": 27,
    "start_time": "2023-05-21T13:05:53.007Z"
   },
   {
    "duration": 18,
    "start_time": "2023-05-21T13:05:53.037Z"
   },
   {
    "duration": 33,
    "start_time": "2023-05-21T13:05:53.057Z"
   },
   {
    "duration": 5,
    "start_time": "2023-05-21T13:05:53.093Z"
   },
   {
    "duration": 21,
    "start_time": "2023-05-21T13:05:53.100Z"
   },
   {
    "duration": 345,
    "start_time": "2023-05-21T13:05:53.123Z"
   },
   {
    "duration": 340,
    "start_time": "2023-05-21T13:05:53.470Z"
   },
   {
    "duration": 565,
    "start_time": "2023-05-21T13:05:53.811Z"
   },
   {
    "duration": 379,
    "start_time": "2023-05-21T13:05:54.378Z"
   },
   {
    "duration": 216,
    "start_time": "2023-05-21T13:05:54.758Z"
   },
   {
    "duration": 209,
    "start_time": "2023-05-21T13:05:54.978Z"
   },
   {
    "duration": 254,
    "start_time": "2023-05-21T13:05:55.189Z"
   },
   {
    "duration": 281,
    "start_time": "2023-05-21T13:05:55.445Z"
   },
   {
    "duration": 318,
    "start_time": "2023-05-21T13:05:55.728Z"
   },
   {
    "duration": 31,
    "start_time": "2023-05-21T13:05:56.050Z"
   },
   {
    "duration": 419,
    "start_time": "2023-05-21T13:07:51.511Z"
   },
   {
    "duration": 343,
    "start_time": "2023-05-21T13:08:11.071Z"
   },
   {
    "duration": 3,
    "start_time": "2023-05-21T13:08:23.149Z"
   },
   {
    "duration": 66,
    "start_time": "2023-05-21T13:08:23.155Z"
   },
   {
    "duration": 19,
    "start_time": "2023-05-21T13:08:23.223Z"
   },
   {
    "duration": 28,
    "start_time": "2023-05-21T13:08:23.244Z"
   },
   {
    "duration": 12,
    "start_time": "2023-05-21T13:08:23.275Z"
   },
   {
    "duration": 8,
    "start_time": "2023-05-21T13:08:23.289Z"
   },
   {
    "duration": 6,
    "start_time": "2023-05-21T13:08:23.298Z"
   },
   {
    "duration": 5,
    "start_time": "2023-05-21T13:08:23.306Z"
   },
   {
    "duration": 56,
    "start_time": "2023-05-21T13:08:23.313Z"
   },
   {
    "duration": 5,
    "start_time": "2023-05-21T13:08:23.371Z"
   },
   {
    "duration": 14,
    "start_time": "2023-05-21T13:08:23.378Z"
   },
   {
    "duration": 412,
    "start_time": "2023-05-21T13:08:23.395Z"
   },
   {
    "duration": 347,
    "start_time": "2023-05-21T13:08:23.808Z"
   },
   {
    "duration": 376,
    "start_time": "2023-05-21T13:08:24.158Z"
   },
   {
    "duration": 454,
    "start_time": "2023-05-21T13:08:24.536Z"
   },
   {
    "duration": 186,
    "start_time": "2023-05-21T13:08:24.992Z"
   },
   {
    "duration": 171,
    "start_time": "2023-05-21T13:08:25.180Z"
   },
   {
    "duration": 208,
    "start_time": "2023-05-21T13:08:25.353Z"
   },
   {
    "duration": 235,
    "start_time": "2023-05-21T13:08:25.564Z"
   },
   {
    "duration": 249,
    "start_time": "2023-05-21T13:08:25.801Z"
   },
   {
    "duration": 38,
    "start_time": "2023-05-21T13:08:26.052Z"
   },
   {
    "duration": 37,
    "start_time": "2023-05-21T13:09:58.705Z"
   },
   {
    "duration": 38,
    "start_time": "2023-05-21T13:10:05.213Z"
   },
   {
    "duration": 37,
    "start_time": "2023-05-21T13:11:08.670Z"
   },
   {
    "duration": 27,
    "start_time": "2023-05-21T13:11:16.604Z"
   },
   {
    "duration": 3,
    "start_time": "2023-05-21T13:11:20.107Z"
   },
   {
    "duration": 78,
    "start_time": "2023-05-21T13:11:20.113Z"
   },
   {
    "duration": 28,
    "start_time": "2023-05-21T13:11:20.194Z"
   },
   {
    "duration": 30,
    "start_time": "2023-05-21T13:11:20.225Z"
   },
   {
    "duration": 19,
    "start_time": "2023-05-21T13:11:20.257Z"
   },
   {
    "duration": 12,
    "start_time": "2023-05-21T13:11:20.278Z"
   },
   {
    "duration": 8,
    "start_time": "2023-05-21T13:11:20.292Z"
   },
   {
    "duration": 7,
    "start_time": "2023-05-21T13:11:20.301Z"
   },
   {
    "duration": 60,
    "start_time": "2023-05-21T13:11:20.311Z"
   },
   {
    "duration": 6,
    "start_time": "2023-05-21T13:11:20.373Z"
   },
   {
    "duration": 12,
    "start_time": "2023-05-21T13:11:20.382Z"
   },
   {
    "duration": 493,
    "start_time": "2023-05-21T13:11:20.396Z"
   },
   {
    "duration": 361,
    "start_time": "2023-05-21T13:11:20.891Z"
   },
   {
    "duration": 549,
    "start_time": "2023-05-21T13:11:21.254Z"
   },
   {
    "duration": 395,
    "start_time": "2023-05-21T13:11:21.805Z"
   },
   {
    "duration": 223,
    "start_time": "2023-05-21T13:11:22.202Z"
   },
   {
    "duration": 200,
    "start_time": "2023-05-21T13:11:22.427Z"
   },
   {
    "duration": 242,
    "start_time": "2023-05-21T13:11:22.629Z"
   },
   {
    "duration": 283,
    "start_time": "2023-05-21T13:11:22.873Z"
   },
   {
    "duration": 269,
    "start_time": "2023-05-21T13:11:23.158Z"
   },
   {
    "duration": 37,
    "start_time": "2023-05-21T13:11:23.429Z"
   },
   {
    "duration": 18,
    "start_time": "2023-05-21T13:15:10.000Z"
   },
   {
    "duration": 22,
    "start_time": "2023-05-21T13:15:19.291Z"
   },
   {
    "duration": 27,
    "start_time": "2023-05-21T13:16:02.557Z"
   },
   {
    "duration": 32,
    "start_time": "2023-05-21T13:16:16.773Z"
   },
   {
    "duration": 27,
    "start_time": "2023-05-21T13:18:48.146Z"
   },
   {
    "duration": 27,
    "start_time": "2023-05-21T13:18:51.388Z"
   },
   {
    "duration": 21,
    "start_time": "2023-05-21T13:27:56.790Z"
   },
   {
    "duration": 21,
    "start_time": "2023-05-21T13:28:04.545Z"
   },
   {
    "duration": 36,
    "start_time": "2023-05-21T13:28:17.269Z"
   },
   {
    "duration": 18,
    "start_time": "2023-05-21T13:28:25.468Z"
   },
   {
    "duration": 22,
    "start_time": "2023-05-21T13:28:30.861Z"
   },
   {
    "duration": 18,
    "start_time": "2023-05-21T13:28:40.678Z"
   },
   {
    "duration": 27,
    "start_time": "2023-05-21T13:29:06.589Z"
   },
   {
    "duration": 25,
    "start_time": "2023-05-21T13:30:23.753Z"
   },
   {
    "duration": 20,
    "start_time": "2023-05-21T13:32:39.431Z"
   },
   {
    "duration": 17,
    "start_time": "2023-05-21T13:32:51.951Z"
   },
   {
    "duration": 39,
    "start_time": "2023-05-21T13:33:01.017Z"
   },
   {
    "duration": 26,
    "start_time": "2023-05-21T13:36:05.199Z"
   },
   {
    "duration": 37,
    "start_time": "2023-05-21T13:36:17.080Z"
   },
   {
    "duration": 28,
    "start_time": "2023-05-21T13:36:35.875Z"
   },
   {
    "duration": 4,
    "start_time": "2023-05-21T13:36:40.467Z"
   },
   {
    "duration": 63,
    "start_time": "2023-05-21T13:36:40.474Z"
   },
   {
    "duration": 24,
    "start_time": "2023-05-21T13:36:40.539Z"
   },
   {
    "duration": 29,
    "start_time": "2023-05-21T13:36:40.565Z"
   },
   {
    "duration": 16,
    "start_time": "2023-05-21T13:36:40.597Z"
   },
   {
    "duration": 9,
    "start_time": "2023-05-21T13:36:40.615Z"
   },
   {
    "duration": 25,
    "start_time": "2023-05-21T13:36:40.625Z"
   },
   {
    "duration": 7,
    "start_time": "2023-05-21T13:36:40.652Z"
   },
   {
    "duration": 18,
    "start_time": "2023-05-21T13:36:40.660Z"
   },
   {
    "duration": 5,
    "start_time": "2023-05-21T13:36:40.679Z"
   },
   {
    "duration": 9,
    "start_time": "2023-05-21T13:36:40.685Z"
   },
   {
    "duration": 402,
    "start_time": "2023-05-21T13:36:40.696Z"
   },
   {
    "duration": 458,
    "start_time": "2023-05-21T13:36:41.100Z"
   },
   {
    "duration": 339,
    "start_time": "2023-05-21T13:36:41.562Z"
   },
   {
    "duration": 332,
    "start_time": "2023-05-21T13:36:41.902Z"
   },
   {
    "duration": 179,
    "start_time": "2023-05-21T13:36:42.236Z"
   },
   {
    "duration": 184,
    "start_time": "2023-05-21T13:36:42.417Z"
   },
   {
    "duration": 216,
    "start_time": "2023-05-21T13:36:42.603Z"
   },
   {
    "duration": 230,
    "start_time": "2023-05-21T13:36:42.821Z"
   },
   {
    "duration": 234,
    "start_time": "2023-05-21T13:36:43.053Z"
   },
   {
    "duration": 26,
    "start_time": "2023-05-21T13:36:43.289Z"
   },
   {
    "duration": 30,
    "start_time": "2023-05-21T13:36:56.720Z"
   },
   {
    "duration": 57,
    "start_time": "2023-05-21T13:37:02.231Z"
   },
   {
    "duration": 15,
    "start_time": "2023-05-21T13:37:45.814Z"
   },
   {
    "duration": 36,
    "start_time": "2023-05-21T13:38:01.480Z"
   },
   {
    "duration": 38,
    "start_time": "2023-05-21T13:38:09.620Z"
   },
   {
    "duration": 53,
    "start_time": "2023-05-21T13:39:16.505Z"
   },
   {
    "duration": 59,
    "start_time": "2023-05-21T13:39:53.218Z"
   },
   {
    "duration": 56,
    "start_time": "2023-05-21T13:40:01.661Z"
   },
   {
    "duration": 26,
    "start_time": "2023-05-21T13:41:43.847Z"
   },
   {
    "duration": 26,
    "start_time": "2023-05-21T13:42:28.834Z"
   },
   {
    "duration": 17,
    "start_time": "2023-05-21T13:42:35.926Z"
   },
   {
    "duration": 32,
    "start_time": "2023-05-21T13:42:42.877Z"
   },
   {
    "duration": 32,
    "start_time": "2023-05-21T13:43:20.985Z"
   },
   {
    "duration": 37,
    "start_time": "2023-05-21T13:43:35.852Z"
   },
   {
    "duration": 37,
    "start_time": "2023-05-21T13:43:49.880Z"
   },
   {
    "duration": 415,
    "start_time": "2023-05-21T13:44:41.165Z"
   },
   {
    "duration": 3,
    "start_time": "2023-05-21T13:44:49.141Z"
   },
   {
    "duration": 77,
    "start_time": "2023-05-21T13:44:49.146Z"
   },
   {
    "duration": 18,
    "start_time": "2023-05-21T13:44:49.224Z"
   },
   {
    "duration": 27,
    "start_time": "2023-05-21T13:44:49.244Z"
   },
   {
    "duration": 11,
    "start_time": "2023-05-21T13:44:49.273Z"
   },
   {
    "duration": 10,
    "start_time": "2023-05-21T13:44:49.286Z"
   },
   {
    "duration": 5,
    "start_time": "2023-05-21T13:44:49.297Z"
   },
   {
    "duration": 11,
    "start_time": "2023-05-21T13:44:49.303Z"
   },
   {
    "duration": 36,
    "start_time": "2023-05-21T13:44:49.316Z"
   },
   {
    "duration": 5,
    "start_time": "2023-05-21T13:44:49.354Z"
   },
   {
    "duration": 11,
    "start_time": "2023-05-21T13:44:49.361Z"
   },
   {
    "duration": 344,
    "start_time": "2023-05-21T13:44:49.374Z"
   },
   {
    "duration": 306,
    "start_time": "2023-05-21T13:44:49.720Z"
   },
   {
    "duration": 322,
    "start_time": "2023-05-21T13:44:50.028Z"
   },
   {
    "duration": 329,
    "start_time": "2023-05-21T13:44:50.352Z"
   },
   {
    "duration": 185,
    "start_time": "2023-05-21T13:44:50.683Z"
   },
   {
    "duration": 154,
    "start_time": "2023-05-21T13:44:50.869Z"
   },
   {
    "duration": 336,
    "start_time": "2023-05-21T13:44:51.025Z"
   },
   {
    "duration": 235,
    "start_time": "2023-05-21T13:44:51.362Z"
   },
   {
    "duration": 245,
    "start_time": "2023-05-21T13:44:51.598Z"
   },
   {
    "duration": 43,
    "start_time": "2023-05-21T13:44:51.845Z"
   },
   {
    "duration": 13,
    "start_time": "2023-05-21T13:46:46.250Z"
   },
   {
    "duration": 3,
    "start_time": "2023-05-21T13:47:14.002Z"
   },
   {
    "duration": 70,
    "start_time": "2023-05-21T13:47:14.007Z"
   },
   {
    "duration": 19,
    "start_time": "2023-05-21T13:47:14.078Z"
   },
   {
    "duration": 26,
    "start_time": "2023-05-21T13:47:14.099Z"
   },
   {
    "duration": 23,
    "start_time": "2023-05-21T13:47:14.128Z"
   },
   {
    "duration": 10,
    "start_time": "2023-05-21T13:47:14.153Z"
   },
   {
    "duration": 6,
    "start_time": "2023-05-21T13:47:14.165Z"
   },
   {
    "duration": 8,
    "start_time": "2023-05-21T13:47:14.173Z"
   },
   {
    "duration": 19,
    "start_time": "2023-05-21T13:47:14.183Z"
   },
   {
    "duration": 6,
    "start_time": "2023-05-21T13:47:14.206Z"
   },
   {
    "duration": 48,
    "start_time": "2023-05-21T13:47:14.214Z"
   },
   {
    "duration": 398,
    "start_time": "2023-05-21T13:47:14.264Z"
   },
   {
    "duration": 13,
    "start_time": "2023-05-21T13:47:14.665Z"
   },
   {
    "duration": 0,
    "start_time": "2023-05-21T13:47:14.680Z"
   },
   {
    "duration": 0,
    "start_time": "2023-05-21T13:47:14.681Z"
   },
   {
    "duration": 0,
    "start_time": "2023-05-21T13:47:14.683Z"
   },
   {
    "duration": 0,
    "start_time": "2023-05-21T13:47:14.684Z"
   },
   {
    "duration": 0,
    "start_time": "2023-05-21T13:47:14.686Z"
   },
   {
    "duration": 0,
    "start_time": "2023-05-21T13:47:14.687Z"
   },
   {
    "duration": 0,
    "start_time": "2023-05-21T13:47:14.688Z"
   },
   {
    "duration": 0,
    "start_time": "2023-05-21T13:47:14.689Z"
   },
   {
    "duration": 11,
    "start_time": "2023-05-21T13:48:35.477Z"
   },
   {
    "duration": 10,
    "start_time": "2023-05-21T13:54:38.907Z"
   },
   {
    "duration": 3,
    "start_time": "2023-05-21T13:54:48.962Z"
   },
   {
    "duration": 66,
    "start_time": "2023-05-21T13:54:48.968Z"
   },
   {
    "duration": 20,
    "start_time": "2023-05-21T13:54:49.035Z"
   },
   {
    "duration": 42,
    "start_time": "2023-05-21T13:54:49.057Z"
   },
   {
    "duration": 14,
    "start_time": "2023-05-21T13:54:49.104Z"
   },
   {
    "duration": 8,
    "start_time": "2023-05-21T13:54:49.119Z"
   },
   {
    "duration": 5,
    "start_time": "2023-05-21T13:54:49.128Z"
   },
   {
    "duration": 19,
    "start_time": "2023-05-21T13:54:49.134Z"
   },
   {
    "duration": 22,
    "start_time": "2023-05-21T13:54:49.155Z"
   },
   {
    "duration": 4,
    "start_time": "2023-05-21T13:54:49.179Z"
   },
   {
    "duration": 23,
    "start_time": "2023-05-21T13:54:49.185Z"
   },
   {
    "duration": 341,
    "start_time": "2023-05-21T13:54:49.210Z"
   },
   {
    "duration": 15,
    "start_time": "2023-05-21T13:54:49.553Z"
   },
   {
    "duration": 0,
    "start_time": "2023-05-21T13:54:49.570Z"
   },
   {
    "duration": 0,
    "start_time": "2023-05-21T13:54:49.571Z"
   },
   {
    "duration": 0,
    "start_time": "2023-05-21T13:54:49.572Z"
   },
   {
    "duration": 0,
    "start_time": "2023-05-21T13:54:49.574Z"
   },
   {
    "duration": 0,
    "start_time": "2023-05-21T13:54:49.575Z"
   },
   {
    "duration": 0,
    "start_time": "2023-05-21T13:54:49.577Z"
   },
   {
    "duration": 0,
    "start_time": "2023-05-21T13:54:49.578Z"
   },
   {
    "duration": 0,
    "start_time": "2023-05-21T13:54:49.579Z"
   },
   {
    "duration": 396,
    "start_time": "2023-05-21T13:55:04.080Z"
   },
   {
    "duration": 414,
    "start_time": "2023-05-21T13:55:40.209Z"
   },
   {
    "duration": 15,
    "start_time": "2023-05-21T13:56:04.689Z"
   },
   {
    "duration": 15,
    "start_time": "2023-05-21T13:56:15.681Z"
   },
   {
    "duration": 16,
    "start_time": "2023-05-21T13:56:19.375Z"
   },
   {
    "duration": 15,
    "start_time": "2023-05-21T13:56:21.599Z"
   },
   {
    "duration": 3,
    "start_time": "2023-05-21T13:56:24.693Z"
   },
   {
    "duration": 65,
    "start_time": "2023-05-21T13:56:24.697Z"
   },
   {
    "duration": 17,
    "start_time": "2023-05-21T13:56:24.764Z"
   },
   {
    "duration": 24,
    "start_time": "2023-05-21T13:56:24.782Z"
   },
   {
    "duration": 10,
    "start_time": "2023-05-21T13:56:24.808Z"
   },
   {
    "duration": 8,
    "start_time": "2023-05-21T13:56:24.820Z"
   },
   {
    "duration": 21,
    "start_time": "2023-05-21T13:56:24.829Z"
   },
   {
    "duration": 7,
    "start_time": "2023-05-21T13:56:24.853Z"
   },
   {
    "duration": 15,
    "start_time": "2023-05-21T13:56:24.862Z"
   },
   {
    "duration": 4,
    "start_time": "2023-05-21T13:56:24.878Z"
   },
   {
    "duration": 9,
    "start_time": "2023-05-21T13:56:24.884Z"
   },
   {
    "duration": 346,
    "start_time": "2023-05-21T13:56:24.894Z"
   },
   {
    "duration": 307,
    "start_time": "2023-05-21T13:56:25.243Z"
   },
   {
    "duration": 323,
    "start_time": "2023-05-21T13:56:25.553Z"
   },
   {
    "duration": 321,
    "start_time": "2023-05-21T13:56:25.877Z"
   },
   {
    "duration": 187,
    "start_time": "2023-05-21T13:56:26.199Z"
   },
   {
    "duration": 182,
    "start_time": "2023-05-21T13:56:26.388Z"
   },
   {
    "duration": 350,
    "start_time": "2023-05-21T13:56:26.572Z"
   },
   {
    "duration": 225,
    "start_time": "2023-05-21T13:56:26.924Z"
   },
   {
    "duration": 221,
    "start_time": "2023-05-21T13:56:27.151Z"
   },
   {
    "duration": 36,
    "start_time": "2023-05-21T13:56:27.374Z"
   },
   {
    "duration": 317,
    "start_time": "2023-05-21T13:57:30.473Z"
   },
   {
    "duration": 3,
    "start_time": "2023-05-21T13:57:42.817Z"
   },
   {
    "duration": 80,
    "start_time": "2023-05-21T13:57:42.822Z"
   },
   {
    "duration": 18,
    "start_time": "2023-05-21T13:57:42.903Z"
   },
   {
    "duration": 24,
    "start_time": "2023-05-21T13:57:42.923Z"
   },
   {
    "duration": 13,
    "start_time": "2023-05-21T13:57:42.949Z"
   },
   {
    "duration": 10,
    "start_time": "2023-05-21T13:57:42.963Z"
   },
   {
    "duration": 5,
    "start_time": "2023-05-21T13:57:42.975Z"
   },
   {
    "duration": 5,
    "start_time": "2023-05-21T13:57:42.981Z"
   },
   {
    "duration": 13,
    "start_time": "2023-05-21T13:57:42.988Z"
   },
   {
    "duration": 3,
    "start_time": "2023-05-21T13:57:43.004Z"
   },
   {
    "duration": 43,
    "start_time": "2023-05-21T13:57:43.009Z"
   },
   {
    "duration": 350,
    "start_time": "2023-05-21T13:57:43.053Z"
   },
   {
    "duration": 306,
    "start_time": "2023-05-21T13:57:43.404Z"
   },
   {
    "duration": 494,
    "start_time": "2023-05-21T13:57:43.712Z"
   },
   {
    "duration": 15,
    "start_time": "2023-05-21T13:57:44.208Z"
   },
   {
    "duration": 0,
    "start_time": "2023-05-21T13:57:44.225Z"
   },
   {
    "duration": 0,
    "start_time": "2023-05-21T13:57:44.226Z"
   },
   {
    "duration": 0,
    "start_time": "2023-05-21T13:57:44.228Z"
   },
   {
    "duration": 0,
    "start_time": "2023-05-21T13:57:44.229Z"
   },
   {
    "duration": 0,
    "start_time": "2023-05-21T13:57:44.231Z"
   },
   {
    "duration": 0,
    "start_time": "2023-05-21T13:57:44.231Z"
   },
   {
    "duration": 323,
    "start_time": "2023-05-21T13:57:53.152Z"
   },
   {
    "duration": 304,
    "start_time": "2023-05-21T13:59:23.436Z"
   },
   {
    "duration": 329,
    "start_time": "2023-05-21T13:59:52.315Z"
   },
   {
    "duration": 3,
    "start_time": "2023-05-21T13:59:59.201Z"
   },
   {
    "duration": 70,
    "start_time": "2023-05-21T13:59:59.206Z"
   },
   {
    "duration": 18,
    "start_time": "2023-05-21T13:59:59.278Z"
   },
   {
    "duration": 25,
    "start_time": "2023-05-21T13:59:59.299Z"
   },
   {
    "duration": 11,
    "start_time": "2023-05-21T13:59:59.326Z"
   },
   {
    "duration": 9,
    "start_time": "2023-05-21T13:59:59.351Z"
   },
   {
    "duration": 5,
    "start_time": "2023-05-21T13:59:59.362Z"
   },
   {
    "duration": 5,
    "start_time": "2023-05-21T13:59:59.369Z"
   },
   {
    "duration": 16,
    "start_time": "2023-05-21T13:59:59.376Z"
   },
   {
    "duration": 10,
    "start_time": "2023-05-21T13:59:59.394Z"
   },
   {
    "duration": 9,
    "start_time": "2023-05-21T13:59:59.405Z"
   },
   {
    "duration": 352,
    "start_time": "2023-05-21T13:59:59.416Z"
   },
   {
    "duration": 429,
    "start_time": "2023-05-21T13:59:59.769Z"
   },
   {
    "duration": 347,
    "start_time": "2023-05-21T14:00:00.199Z"
   },
   {
    "duration": 332,
    "start_time": "2023-05-21T14:00:00.549Z"
   },
   {
    "duration": 187,
    "start_time": "2023-05-21T14:00:00.883Z"
   },
   {
    "duration": 171,
    "start_time": "2023-05-21T14:00:01.072Z"
   },
   {
    "duration": 219,
    "start_time": "2023-05-21T14:00:01.245Z"
   },
   {
    "duration": 231,
    "start_time": "2023-05-21T14:00:01.466Z"
   },
   {
    "duration": 309,
    "start_time": "2023-05-21T14:00:01.699Z"
   },
   {
    "duration": 54,
    "start_time": "2023-05-21T14:00:02.010Z"
   },
   {
    "duration": 38,
    "start_time": "2023-05-21T14:00:47.269Z"
   },
   {
    "duration": 96,
    "start_time": "2023-05-21T14:05:51.288Z"
   },
   {
    "duration": 100,
    "start_time": "2023-05-21T14:06:10.022Z"
   },
   {
    "duration": 68,
    "start_time": "2023-05-21T14:06:40.193Z"
   },
   {
    "duration": 72,
    "start_time": "2023-05-21T14:07:20.767Z"
   },
   {
    "duration": 11,
    "start_time": "2023-05-21T14:09:54.255Z"
   },
   {
    "duration": 92,
    "start_time": "2023-05-21T14:10:43.998Z"
   },
   {
    "duration": 11,
    "start_time": "2023-05-21T14:10:54.071Z"
   },
   {
    "duration": 35,
    "start_time": "2023-05-21T14:11:04.412Z"
   },
   {
    "duration": 33,
    "start_time": "2023-05-21T14:11:29.415Z"
   },
   {
    "duration": 28,
    "start_time": "2023-05-21T14:12:06.746Z"
   },
   {
    "duration": 27,
    "start_time": "2023-05-21T14:12:39.804Z"
   },
   {
    "duration": 23,
    "start_time": "2023-05-21T14:12:54.535Z"
   },
   {
    "duration": 215,
    "start_time": "2023-05-21T14:35:12.253Z"
   },
   {
    "duration": 1281,
    "start_time": "2023-05-21T14:35:52.980Z"
   },
   {
    "duration": 320,
    "start_time": "2023-05-21T14:36:42.816Z"
   },
   {
    "duration": 201,
    "start_time": "2023-05-21T14:37:08.869Z"
   },
   {
    "duration": 212,
    "start_time": "2023-05-21T14:37:35.701Z"
   },
   {
    "duration": 3,
    "start_time": "2023-05-21T14:48:12.287Z"
   },
   {
    "duration": 4,
    "start_time": "2023-05-21T14:48:22.165Z"
   },
   {
    "duration": 3,
    "start_time": "2023-05-21T14:48:31.511Z"
   },
   {
    "duration": 4,
    "start_time": "2023-05-21T14:50:01.076Z"
   },
   {
    "duration": 3,
    "start_time": "2023-05-21T14:50:06.512Z"
   },
   {
    "duration": 95,
    "start_time": "2023-05-21T14:50:24.090Z"
   },
   {
    "duration": 4,
    "start_time": "2023-05-21T14:50:28.816Z"
   },
   {
    "duration": 189,
    "start_time": "2023-05-21T14:50:56.158Z"
   },
   {
    "duration": 16,
    "start_time": "2023-05-21T14:52:08.254Z"
   },
   {
    "duration": 515,
    "start_time": "2023-05-21T14:56:07.652Z"
   },
   {
    "duration": 532,
    "start_time": "2023-05-21T14:56:14.856Z"
   },
   {
    "duration": 531,
    "start_time": "2023-05-21T14:56:21.453Z"
   },
   {
    "duration": 481,
    "start_time": "2023-05-21T15:49:15.415Z"
   },
   {
    "duration": 866,
    "start_time": "2023-05-21T15:50:03.031Z"
   },
   {
    "duration": 926,
    "start_time": "2023-05-21T15:50:18.903Z"
   },
   {
    "duration": 527,
    "start_time": "2023-05-21T15:52:56.330Z"
   },
   {
    "duration": 472,
    "start_time": "2023-05-21T15:53:04.511Z"
   },
   {
    "duration": 822,
    "start_time": "2023-05-21T15:53:52.582Z"
   },
   {
    "duration": 10,
    "start_time": "2023-05-21T16:02:36.163Z"
   },
   {
    "duration": 11,
    "start_time": "2023-05-21T16:02:40.172Z"
   },
   {
    "duration": 3,
    "start_time": "2023-05-21T16:02:55.506Z"
   },
   {
    "duration": 11,
    "start_time": "2023-05-21T16:03:01.196Z"
   },
   {
    "duration": 10,
    "start_time": "2023-05-21T16:03:04.899Z"
   },
   {
    "duration": 11,
    "start_time": "2023-05-21T16:03:07.154Z"
   },
   {
    "duration": 3,
    "start_time": "2023-05-21T16:03:10.882Z"
   },
   {
    "duration": 65,
    "start_time": "2023-05-21T16:03:10.887Z"
   },
   {
    "duration": 17,
    "start_time": "2023-05-21T16:03:10.954Z"
   },
   {
    "duration": 47,
    "start_time": "2023-05-21T16:03:10.974Z"
   },
   {
    "duration": 11,
    "start_time": "2023-05-21T16:03:11.023Z"
   },
   {
    "duration": 17,
    "start_time": "2023-05-21T16:03:11.035Z"
   },
   {
    "duration": 5,
    "start_time": "2023-05-21T16:03:11.054Z"
   },
   {
    "duration": 20,
    "start_time": "2023-05-21T16:03:11.061Z"
   },
   {
    "duration": 20,
    "start_time": "2023-05-21T16:03:11.083Z"
   },
   {
    "duration": 4,
    "start_time": "2023-05-21T16:03:11.105Z"
   },
   {
    "duration": 36,
    "start_time": "2023-05-21T16:03:11.110Z"
   },
   {
    "duration": 322,
    "start_time": "2023-05-21T16:03:11.147Z"
   },
   {
    "duration": 298,
    "start_time": "2023-05-21T16:03:11.471Z"
   },
   {
    "duration": 310,
    "start_time": "2023-05-21T16:03:11.770Z"
   },
   {
    "duration": 441,
    "start_time": "2023-05-21T16:03:12.082Z"
   },
   {
    "duration": 179,
    "start_time": "2023-05-21T16:03:12.526Z"
   },
   {
    "duration": 158,
    "start_time": "2023-05-21T16:03:12.706Z"
   },
   {
    "duration": 204,
    "start_time": "2023-05-21T16:03:12.866Z"
   },
   {
    "duration": 223,
    "start_time": "2023-05-21T16:03:13.072Z"
   },
   {
    "duration": 236,
    "start_time": "2023-05-21T16:03:13.297Z"
   },
   {
    "duration": 53,
    "start_time": "2023-05-21T16:03:13.535Z"
   },
   {
    "duration": 13,
    "start_time": "2023-05-21T16:03:13.591Z"
   },
   {
    "duration": 211,
    "start_time": "2023-05-21T16:03:13.606Z"
   },
   {
    "duration": 248,
    "start_time": "2023-05-21T16:03:13.819Z"
   },
   {
    "duration": 245,
    "start_time": "2023-05-21T16:03:14.069Z"
   },
   {
    "duration": 217,
    "start_time": "2023-05-21T16:03:14.317Z"
   },
   {
    "duration": 831,
    "start_time": "2023-05-21T16:03:14.536Z"
   },
   {
    "duration": 6,
    "start_time": "2023-05-21T16:03:15.369Z"
   },
   {
    "duration": 16,
    "start_time": "2023-05-21T16:03:43.351Z"
   },
   {
    "duration": 3,
    "start_time": "2023-05-21T16:03:46.160Z"
   },
   {
    "duration": 64,
    "start_time": "2023-05-21T16:03:46.165Z"
   },
   {
    "duration": 17,
    "start_time": "2023-05-21T16:03:46.231Z"
   },
   {
    "duration": 26,
    "start_time": "2023-05-21T16:03:46.250Z"
   },
   {
    "duration": 11,
    "start_time": "2023-05-21T16:03:46.278Z"
   },
   {
    "duration": 7,
    "start_time": "2023-05-21T16:03:46.291Z"
   },
   {
    "duration": 5,
    "start_time": "2023-05-21T16:03:46.300Z"
   },
   {
    "duration": 6,
    "start_time": "2023-05-21T16:03:46.306Z"
   },
   {
    "duration": 174,
    "start_time": "2023-05-21T16:03:46.314Z"
   },
   {
    "duration": 5,
    "start_time": "2023-05-21T16:03:46.490Z"
   },
   {
    "duration": 11,
    "start_time": "2023-05-21T16:03:46.496Z"
   },
   {
    "duration": 336,
    "start_time": "2023-05-21T16:03:46.509Z"
   },
   {
    "duration": 309,
    "start_time": "2023-05-21T16:03:46.850Z"
   },
   {
    "duration": 314,
    "start_time": "2023-05-21T16:03:47.163Z"
   },
   {
    "duration": 315,
    "start_time": "2023-05-21T16:03:47.479Z"
   },
   {
    "duration": 186,
    "start_time": "2023-05-21T16:03:47.795Z"
   },
   {
    "duration": 159,
    "start_time": "2023-05-21T16:03:47.983Z"
   },
   {
    "duration": 217,
    "start_time": "2023-05-21T16:03:48.144Z"
   },
   {
    "duration": 365,
    "start_time": "2023-05-21T16:03:48.362Z"
   },
   {
    "duration": 225,
    "start_time": "2023-05-21T16:03:48.729Z"
   },
   {
    "duration": 32,
    "start_time": "2023-05-21T16:03:48.956Z"
   },
   {
    "duration": 12,
    "start_time": "2023-05-21T16:03:48.989Z"
   },
   {
    "duration": 237,
    "start_time": "2023-05-21T16:03:49.002Z"
   },
   {
    "duration": 223,
    "start_time": "2023-05-21T16:03:49.240Z"
   },
   {
    "duration": 191,
    "start_time": "2023-05-21T16:03:49.464Z"
   },
   {
    "duration": 202,
    "start_time": "2023-05-21T16:03:49.657Z"
   },
   {
    "duration": 865,
    "start_time": "2023-05-21T16:03:49.861Z"
   },
   {
    "duration": 24,
    "start_time": "2023-05-21T16:03:50.727Z"
   },
   {
    "duration": 23,
    "start_time": "2023-05-21T16:08:57.020Z"
   },
   {
    "duration": 19,
    "start_time": "2023-05-21T16:09:35.652Z"
   },
   {
    "duration": 858,
    "start_time": "2023-05-21T16:09:43.287Z"
   },
   {
    "duration": 810,
    "start_time": "2023-05-21T16:09:52.854Z"
   },
   {
    "duration": 5,
    "start_time": "2023-05-21T16:10:27.485Z"
   },
   {
    "duration": 9,
    "start_time": "2023-05-21T16:10:52.592Z"
   },
   {
    "duration": 9,
    "start_time": "2023-05-21T16:10:55.317Z"
   },
   {
    "duration": 6,
    "start_time": "2023-05-21T16:11:01.172Z"
   },
   {
    "duration": 10,
    "start_time": "2023-05-21T16:11:07.147Z"
   },
   {
    "duration": 5,
    "start_time": "2023-05-21T16:11:13.035Z"
   },
   {
    "duration": 10,
    "start_time": "2023-05-21T16:11:34.911Z"
   },
   {
    "duration": 6,
    "start_time": "2023-05-21T16:11:38.783Z"
   },
   {
    "duration": 5,
    "start_time": "2023-05-21T16:12:11.517Z"
   },
   {
    "duration": 6,
    "start_time": "2023-05-21T16:12:20.677Z"
   },
   {
    "duration": 3,
    "start_time": "2023-05-21T16:13:26.679Z"
   },
   {
    "duration": 1156,
    "start_time": "2023-05-21T16:13:46.650Z"
   },
   {
    "duration": 1166,
    "start_time": "2023-05-21T16:13:51.476Z"
   },
   {
    "duration": 6,
    "start_time": "2023-05-21T16:14:25.674Z"
   },
   {
    "duration": 6,
    "start_time": "2023-05-21T16:15:34.576Z"
   },
   {
    "duration": 7,
    "start_time": "2023-05-21T16:15:45.231Z"
   },
   {
    "duration": 11,
    "start_time": "2023-05-21T16:21:30.476Z"
   },
   {
    "duration": 5,
    "start_time": "2023-05-21T16:21:33.866Z"
   },
   {
    "duration": 90,
    "start_time": "2023-05-21T16:22:17.661Z"
   },
   {
    "duration": 71,
    "start_time": "2023-05-21T16:22:28.063Z"
   },
   {
    "duration": 12,
    "start_time": "2023-05-21T16:22:37.976Z"
   },
   {
    "duration": 53,
    "start_time": "2023-05-22T09:16:47.543Z"
   },
   {
    "duration": 1551,
    "start_time": "2023-05-22T09:16:51.975Z"
   },
   {
    "duration": 201,
    "start_time": "2023-05-22T09:16:53.528Z"
   },
   {
    "duration": 22,
    "start_time": "2023-05-22T09:16:53.731Z"
   },
   {
    "duration": 28,
    "start_time": "2023-05-22T09:16:53.755Z"
   },
   {
    "duration": 14,
    "start_time": "2023-05-22T09:16:53.785Z"
   },
   {
    "duration": 26,
    "start_time": "2023-05-22T09:16:53.800Z"
   },
   {
    "duration": 14,
    "start_time": "2023-05-22T09:16:53.828Z"
   },
   {
    "duration": 32,
    "start_time": "2023-05-22T09:16:53.844Z"
   },
   {
    "duration": 22,
    "start_time": "2023-05-22T09:16:53.878Z"
   },
   {
    "duration": 6,
    "start_time": "2023-05-22T09:16:53.904Z"
   },
   {
    "duration": 25,
    "start_time": "2023-05-22T09:16:53.911Z"
   },
   {
    "duration": 15,
    "start_time": "2023-05-22T09:16:53.938Z"
   },
   {
    "duration": 360,
    "start_time": "2023-05-22T09:16:53.955Z"
   },
   {
    "duration": 319,
    "start_time": "2023-05-22T09:16:54.317Z"
   },
   {
    "duration": 403,
    "start_time": "2023-05-22T09:16:54.638Z"
   },
   {
    "duration": 327,
    "start_time": "2023-05-22T09:16:55.046Z"
   },
   {
    "duration": 190,
    "start_time": "2023-05-22T09:16:55.375Z"
   },
   {
    "duration": 172,
    "start_time": "2023-05-22T09:16:55.566Z"
   },
   {
    "duration": 214,
    "start_time": "2023-05-22T09:16:55.740Z"
   },
   {
    "duration": 225,
    "start_time": "2023-05-22T09:16:55.956Z"
   },
   {
    "duration": 230,
    "start_time": "2023-05-22T09:16:56.183Z"
   },
   {
    "duration": 39,
    "start_time": "2023-05-22T09:16:56.414Z"
   },
   {
    "duration": 13,
    "start_time": "2023-05-22T09:16:56.455Z"
   },
   {
    "duration": 240,
    "start_time": "2023-05-22T09:16:56.469Z"
   },
   {
    "duration": 234,
    "start_time": "2023-05-22T09:16:56.711Z"
   },
   {
    "duration": 295,
    "start_time": "2023-05-22T09:16:56.947Z"
   },
   {
    "duration": 213,
    "start_time": "2023-05-22T09:16:57.246Z"
   },
   {
    "duration": 837,
    "start_time": "2023-05-22T09:16:57.462Z"
   },
   {
    "duration": 17,
    "start_time": "2023-05-22T09:16:58.301Z"
   },
   {
    "duration": 213,
    "start_time": "2023-05-22T09:17:30.485Z"
   },
   {
    "duration": 186,
    "start_time": "2023-05-22T09:17:46.396Z"
   },
   {
    "duration": 207,
    "start_time": "2023-05-22T09:17:59.346Z"
   },
   {
    "duration": 206,
    "start_time": "2023-05-22T09:18:24.756Z"
   },
   {
    "duration": 842,
    "start_time": "2023-05-22T17:02:59.262Z"
   },
   {
    "duration": 15,
    "start_time": "2023-05-22T17:04:07.181Z"
   },
   {
    "duration": 4,
    "start_time": "2023-05-22T17:30:24.290Z"
   },
   {
    "duration": 74,
    "start_time": "2023-05-22T17:36:31.402Z"
   },
   {
    "duration": 87,
    "start_time": "2023-05-22T17:36:47.416Z"
   },
   {
    "duration": 20,
    "start_time": "2023-05-22T17:37:46.339Z"
   },
   {
    "duration": 11,
    "start_time": "2023-05-22T17:40:30.449Z"
   },
   {
    "duration": 6,
    "start_time": "2023-05-22T17:40:43.588Z"
   },
   {
    "duration": 6,
    "start_time": "2023-05-22T17:41:50.073Z"
   },
   {
    "duration": 7,
    "start_time": "2023-05-22T17:42:02.397Z"
   },
   {
    "duration": 8,
    "start_time": "2023-05-22T17:42:15.488Z"
   },
   {
    "duration": 8,
    "start_time": "2023-05-22T17:43:00.466Z"
   },
   {
    "duration": 9,
    "start_time": "2023-05-22T17:43:16.786Z"
   },
   {
    "duration": 63,
    "start_time": "2023-05-22T18:00:52.070Z"
   },
   {
    "duration": 69,
    "start_time": "2023-05-22T18:01:09.737Z"
   },
   {
    "duration": 4,
    "start_time": "2023-05-22T18:01:19.569Z"
   },
   {
    "duration": 26,
    "start_time": "2023-05-22T18:02:37.376Z"
   },
   {
    "duration": 23,
    "start_time": "2023-05-22T18:04:10.558Z"
   },
   {
    "duration": 46,
    "start_time": "2023-05-22T18:04:40.650Z"
   },
   {
    "duration": 4,
    "start_time": "2023-05-22T18:04:51.540Z"
   },
   {
    "duration": 20,
    "start_time": "2023-05-22T18:04:58.078Z"
   },
   {
    "duration": 33,
    "start_time": "2023-05-22T18:05:26.889Z"
   },
   {
    "duration": 3,
    "start_time": "2023-05-22T18:05:35.421Z"
   },
   {
    "duration": 75,
    "start_time": "2023-05-22T18:05:35.427Z"
   },
   {
    "duration": 20,
    "start_time": "2023-05-22T18:05:35.504Z"
   },
   {
    "duration": 26,
    "start_time": "2023-05-22T18:05:35.526Z"
   },
   {
    "duration": 12,
    "start_time": "2023-05-22T18:05:35.554Z"
   },
   {
    "duration": 10,
    "start_time": "2023-05-22T18:05:35.569Z"
   },
   {
    "duration": 16,
    "start_time": "2023-05-22T18:05:35.580Z"
   },
   {
    "duration": 18,
    "start_time": "2023-05-22T18:05:35.598Z"
   },
   {
    "duration": 34,
    "start_time": "2023-05-22T18:05:35.619Z"
   },
   {
    "duration": 4,
    "start_time": "2023-05-22T18:05:35.655Z"
   },
   {
    "duration": 19,
    "start_time": "2023-05-22T18:05:35.661Z"
   },
   {
    "duration": 15,
    "start_time": "2023-05-22T18:05:35.681Z"
   },
   {
    "duration": 371,
    "start_time": "2023-05-22T18:05:35.698Z"
   },
   {
    "duration": 351,
    "start_time": "2023-05-22T18:05:36.070Z"
   },
   {
    "duration": 466,
    "start_time": "2023-05-22T18:05:36.422Z"
   },
   {
    "duration": 342,
    "start_time": "2023-05-22T18:05:36.890Z"
   },
   {
    "duration": 200,
    "start_time": "2023-05-22T18:05:37.233Z"
   },
   {
    "duration": 180,
    "start_time": "2023-05-22T18:05:37.435Z"
   },
   {
    "duration": 221,
    "start_time": "2023-05-22T18:05:37.617Z"
   },
   {
    "duration": 239,
    "start_time": "2023-05-22T18:05:37.840Z"
   },
   {
    "duration": 237,
    "start_time": "2023-05-22T18:05:38.081Z"
   },
   {
    "duration": 45,
    "start_time": "2023-05-22T18:05:38.321Z"
   },
   {
    "duration": 15,
    "start_time": "2023-05-22T18:05:38.368Z"
   },
   {
    "duration": 255,
    "start_time": "2023-05-22T18:05:38.386Z"
   },
   {
    "duration": 337,
    "start_time": "2023-05-22T18:05:38.646Z"
   },
   {
    "duration": 202,
    "start_time": "2023-05-22T18:05:38.985Z"
   },
   {
    "duration": 204,
    "start_time": "2023-05-22T18:05:39.189Z"
   },
   {
    "duration": 957,
    "start_time": "2023-05-22T18:05:39.395Z"
   },
   {
    "duration": 17,
    "start_time": "2023-05-22T18:05:40.354Z"
   },
   {
    "duration": 20,
    "start_time": "2023-05-22T18:05:40.374Z"
   },
   {
    "duration": 20,
    "start_time": "2023-05-22T18:06:04.640Z"
   },
   {
    "duration": 167,
    "start_time": "2023-05-22T18:07:04.647Z"
   },
   {
    "duration": 174,
    "start_time": "2023-05-22T18:07:15.026Z"
   },
   {
    "duration": 175,
    "start_time": "2023-05-22T18:31:26.528Z"
   },
   {
    "duration": 952,
    "start_time": "2023-05-22T18:33:07.379Z"
   },
   {
    "duration": 2,
    "start_time": "2023-05-22T18:33:13.701Z"
   },
   {
    "duration": 122,
    "start_time": "2023-05-22T18:33:13.705Z"
   },
   {
    "duration": 30,
    "start_time": "2023-05-22T18:33:13.829Z"
   },
   {
    "duration": 42,
    "start_time": "2023-05-22T18:33:13.861Z"
   },
   {
    "duration": 32,
    "start_time": "2023-05-22T18:33:13.905Z"
   },
   {
    "duration": 27,
    "start_time": "2023-05-22T18:33:13.938Z"
   },
   {
    "duration": 16,
    "start_time": "2023-05-22T18:33:13.967Z"
   },
   {
    "duration": 18,
    "start_time": "2023-05-22T18:33:13.985Z"
   },
   {
    "duration": 28,
    "start_time": "2023-05-22T18:33:14.007Z"
   },
   {
    "duration": 41,
    "start_time": "2023-05-22T18:33:14.038Z"
   },
   {
    "duration": 22,
    "start_time": "2023-05-22T18:33:14.081Z"
   },
   {
    "duration": 26,
    "start_time": "2023-05-22T18:33:14.105Z"
   },
   {
    "duration": 363,
    "start_time": "2023-05-22T18:33:14.133Z"
   },
   {
    "duration": 323,
    "start_time": "2023-05-22T18:33:14.498Z"
   },
   {
    "duration": 348,
    "start_time": "2023-05-22T18:33:14.823Z"
   },
   {
    "duration": 426,
    "start_time": "2023-05-22T18:33:15.173Z"
   },
   {
    "duration": 185,
    "start_time": "2023-05-22T18:33:15.600Z"
   },
   {
    "duration": 175,
    "start_time": "2023-05-22T18:33:15.787Z"
   },
   {
    "duration": 216,
    "start_time": "2023-05-22T18:33:15.964Z"
   },
   {
    "duration": 235,
    "start_time": "2023-05-22T18:33:16.182Z"
   },
   {
    "duration": 255,
    "start_time": "2023-05-22T18:33:16.418Z"
   },
   {
    "duration": 31,
    "start_time": "2023-05-22T18:33:16.674Z"
   },
   {
    "duration": 11,
    "start_time": "2023-05-22T18:33:16.707Z"
   },
   {
    "duration": 261,
    "start_time": "2023-05-22T18:33:16.721Z"
   },
   {
    "duration": 241,
    "start_time": "2023-05-22T18:33:16.984Z"
   },
   {
    "duration": 232,
    "start_time": "2023-05-22T18:33:17.226Z"
   },
   {
    "duration": 207,
    "start_time": "2023-05-22T18:33:17.460Z"
   },
   {
    "duration": 924,
    "start_time": "2023-05-22T18:33:17.669Z"
   },
   {
    "duration": 16,
    "start_time": "2023-05-22T18:33:18.595Z"
   },
   {
    "duration": 199,
    "start_time": "2023-05-22T18:33:18.613Z"
   },
   {
    "duration": 20,
    "start_time": "2023-05-22T18:39:48.451Z"
   },
   {
    "duration": 163,
    "start_time": "2023-05-22T18:40:18.580Z"
   },
   {
    "duration": 16,
    "start_time": "2023-05-22T19:00:04.975Z"
   },
   {
    "duration": 8,
    "start_time": "2023-05-22T19:00:15.398Z"
   },
   {
    "duration": 14,
    "start_time": "2023-05-22T19:00:32.220Z"
   },
   {
    "duration": 2,
    "start_time": "2023-05-22T19:01:18.200Z"
   },
   {
    "duration": 28,
    "start_time": "2023-05-22T19:01:28.959Z"
   },
   {
    "duration": 16,
    "start_time": "2023-05-22T19:06:10.322Z"
   },
   {
    "duration": 12,
    "start_time": "2023-05-22T19:06:22.416Z"
   },
   {
    "duration": 9,
    "start_time": "2023-05-22T19:08:53.928Z"
   },
   {
    "duration": 11,
    "start_time": "2023-05-22T19:10:24.773Z"
   },
   {
    "duration": 5,
    "start_time": "2023-05-22T19:25:24.823Z"
   },
   {
    "duration": 4,
    "start_time": "2023-05-22T19:29:34.116Z"
   },
   {
    "duration": 14,
    "start_time": "2023-05-22T19:33:20.658Z"
   },
   {
    "duration": 13,
    "start_time": "2023-05-22T19:37:20.206Z"
   },
   {
    "duration": 22,
    "start_time": "2023-05-22T19:37:56.832Z"
   },
   {
    "duration": 14,
    "start_time": "2023-05-22T19:38:12.343Z"
   },
   {
    "duration": 79,
    "start_time": "2023-05-22T19:41:25.379Z"
   },
   {
    "duration": 50,
    "start_time": "2023-05-22T19:41:48.258Z"
   },
   {
    "duration": 14,
    "start_time": "2023-05-22T19:42:13.873Z"
   },
   {
    "duration": 13,
    "start_time": "2023-05-22T19:42:31.988Z"
   },
   {
    "duration": 27,
    "start_time": "2023-05-22T19:42:43.743Z"
   },
   {
    "duration": 27,
    "start_time": "2023-05-22T19:43:52.679Z"
   },
   {
    "duration": 19,
    "start_time": "2023-05-22T19:44:09.839Z"
   },
   {
    "duration": 20,
    "start_time": "2023-05-22T19:44:53.780Z"
   },
   {
    "duration": 15,
    "start_time": "2023-05-22T19:50:57.040Z"
   },
   {
    "duration": 10,
    "start_time": "2023-05-22T19:51:59.910Z"
   },
   {
    "duration": 10,
    "start_time": "2023-05-22T19:52:55.735Z"
   },
   {
    "duration": 11,
    "start_time": "2023-05-22T19:53:33.868Z"
   },
   {
    "duration": 11,
    "start_time": "2023-05-22T19:54:03.318Z"
   },
   {
    "duration": 13,
    "start_time": "2023-05-22T19:54:40.301Z"
   },
   {
    "duration": 12,
    "start_time": "2023-05-22T19:56:22.350Z"
   },
   {
    "duration": 10,
    "start_time": "2023-05-22T19:58:18.514Z"
   },
   {
    "duration": 9,
    "start_time": "2023-05-22T19:59:23.130Z"
   },
   {
    "duration": 13,
    "start_time": "2023-05-22T19:59:42.659Z"
   },
   {
    "duration": 16,
    "start_time": "2023-05-22T20:06:13.593Z"
   },
   {
    "duration": 3,
    "start_time": "2023-05-22T20:06:23.225Z"
   },
   {
    "duration": 77,
    "start_time": "2023-05-22T20:06:23.230Z"
   },
   {
    "duration": 18,
    "start_time": "2023-05-22T20:06:23.309Z"
   },
   {
    "duration": 32,
    "start_time": "2023-05-22T20:06:23.329Z"
   },
   {
    "duration": 12,
    "start_time": "2023-05-22T20:06:23.363Z"
   },
   {
    "duration": 13,
    "start_time": "2023-05-22T20:06:23.376Z"
   },
   {
    "duration": 10,
    "start_time": "2023-05-22T20:06:23.390Z"
   },
   {
    "duration": 6,
    "start_time": "2023-05-22T20:06:23.402Z"
   },
   {
    "duration": 36,
    "start_time": "2023-05-22T20:06:23.411Z"
   },
   {
    "duration": 4,
    "start_time": "2023-05-22T20:06:23.449Z"
   },
   {
    "duration": 19,
    "start_time": "2023-05-22T20:06:23.455Z"
   },
   {
    "duration": 14,
    "start_time": "2023-05-22T20:06:23.475Z"
   },
   {
    "duration": 436,
    "start_time": "2023-05-22T20:06:23.490Z"
   },
   {
    "duration": 296,
    "start_time": "2023-05-22T20:06:23.927Z"
   },
   {
    "duration": 329,
    "start_time": "2023-05-22T20:06:24.224Z"
   },
   {
    "duration": 328,
    "start_time": "2023-05-22T20:06:24.555Z"
   },
   {
    "duration": 187,
    "start_time": "2023-05-22T20:06:24.886Z"
   },
   {
    "duration": 161,
    "start_time": "2023-05-22T20:06:25.075Z"
   },
   {
    "duration": 311,
    "start_time": "2023-05-22T20:06:25.238Z"
   },
   {
    "duration": 228,
    "start_time": "2023-05-22T20:06:25.551Z"
   },
   {
    "duration": 233,
    "start_time": "2023-05-22T20:06:25.780Z"
   },
   {
    "duration": 38,
    "start_time": "2023-05-22T20:06:26.015Z"
   },
   {
    "duration": 12,
    "start_time": "2023-05-22T20:06:26.054Z"
   },
   {
    "duration": 234,
    "start_time": "2023-05-22T20:06:26.069Z"
   },
   {
    "duration": 241,
    "start_time": "2023-05-22T20:06:26.305Z"
   },
   {
    "duration": 207,
    "start_time": "2023-05-22T20:06:26.548Z"
   },
   {
    "duration": 238,
    "start_time": "2023-05-22T20:06:26.757Z"
   },
   {
    "duration": 871,
    "start_time": "2023-05-22T20:06:26.997Z"
   },
   {
    "duration": 15,
    "start_time": "2023-05-22T20:06:27.870Z"
   },
   {
    "duration": 181,
    "start_time": "2023-05-22T20:06:27.886Z"
   },
   {
    "duration": 12,
    "start_time": "2023-05-22T20:06:28.068Z"
   },
   {
    "duration": 13,
    "start_time": "2023-05-22T20:06:28.081Z"
   },
   {
    "duration": 0,
    "start_time": "2023-05-22T20:06:28.096Z"
   },
   {
    "duration": 0,
    "start_time": "2023-05-22T20:06:28.096Z"
   },
   {
    "duration": 16,
    "start_time": "2023-05-22T20:08:14.902Z"
   },
   {
    "duration": 7,
    "start_time": "2023-05-22T20:08:36.713Z"
   },
   {
    "duration": 1467,
    "start_time": "2023-05-22T20:08:51.503Z"
   },
   {
    "duration": 6,
    "start_time": "2023-05-22T20:09:41.133Z"
   },
   {
    "duration": 24,
    "start_time": "2023-05-22T20:10:24.281Z"
   },
   {
    "duration": 1529,
    "start_time": "2023-05-22T20:11:42.688Z"
   },
   {
    "duration": 14,
    "start_time": "2023-05-22T20:12:06.364Z"
   },
   {
    "duration": 9,
    "start_time": "2023-05-22T20:12:28.686Z"
   },
   {
    "duration": 9,
    "start_time": "2023-05-22T20:14:48.547Z"
   },
   {
    "duration": 11,
    "start_time": "2023-05-22T20:15:51.795Z"
   },
   {
    "duration": 13,
    "start_time": "2023-05-22T20:18:42.358Z"
   },
   {
    "duration": 12,
    "start_time": "2023-05-22T20:21:59.736Z"
   },
   {
    "duration": 12,
    "start_time": "2023-05-22T20:22:05.638Z"
   },
   {
    "duration": 11,
    "start_time": "2023-05-22T20:22:14.957Z"
   },
   {
    "duration": 11,
    "start_time": "2023-05-22T20:22:20.339Z"
   },
   {
    "duration": 9,
    "start_time": "2023-05-22T21:25:50.135Z"
   },
   {
    "duration": 22,
    "start_time": "2023-05-22T21:26:03.148Z"
   },
   {
    "duration": 18,
    "start_time": "2023-05-22T21:26:09.385Z"
   },
   {
    "duration": 12,
    "start_time": "2023-05-22T21:26:22.624Z"
   },
   {
    "duration": 90,
    "start_time": "2023-05-22T21:29:30.252Z"
   },
   {
    "duration": 5,
    "start_time": "2023-05-22T21:31:37.308Z"
   },
   {
    "duration": 5,
    "start_time": "2023-05-22T21:31:53.901Z"
   },
   {
    "duration": 52,
    "start_time": "2023-05-22T21:32:43.849Z"
   },
   {
    "duration": 313,
    "start_time": "2023-05-22T21:40:46.760Z"
   },
   {
    "duration": 326,
    "start_time": "2023-05-22T21:41:08.655Z"
   },
   {
    "duration": 4,
    "start_time": "2023-05-22T21:41:15.647Z"
   },
   {
    "duration": 88,
    "start_time": "2023-05-22T21:41:15.652Z"
   },
   {
    "duration": 19,
    "start_time": "2023-05-22T21:41:15.742Z"
   },
   {
    "duration": 36,
    "start_time": "2023-05-22T21:41:15.763Z"
   },
   {
    "duration": 11,
    "start_time": "2023-05-22T21:41:15.801Z"
   },
   {
    "duration": 55,
    "start_time": "2023-05-22T21:41:15.814Z"
   },
   {
    "duration": 26,
    "start_time": "2023-05-22T21:41:15.871Z"
   },
   {
    "duration": 62,
    "start_time": "2023-05-22T21:41:15.899Z"
   },
   {
    "duration": 52,
    "start_time": "2023-05-22T21:41:15.963Z"
   },
   {
    "duration": 39,
    "start_time": "2023-05-22T21:41:16.016Z"
   },
   {
    "duration": 5,
    "start_time": "2023-05-22T21:41:16.157Z"
   },
   {
    "duration": 23,
    "start_time": "2023-05-22T21:41:16.164Z"
   },
   {
    "duration": 398,
    "start_time": "2023-05-22T21:41:16.189Z"
   },
   {
    "duration": 333,
    "start_time": "2023-05-22T21:41:16.589Z"
   },
   {
    "duration": 332,
    "start_time": "2023-05-22T21:41:16.924Z"
   },
   {
    "duration": 331,
    "start_time": "2023-05-22T21:41:17.258Z"
   },
   {
    "duration": 194,
    "start_time": "2023-05-22T21:41:17.591Z"
   },
   {
    "duration": 269,
    "start_time": "2023-05-22T21:41:17.787Z"
   },
   {
    "duration": 220,
    "start_time": "2023-05-22T21:41:18.057Z"
   },
   {
    "duration": 241,
    "start_time": "2023-05-22T21:41:18.279Z"
   },
   {
    "duration": 237,
    "start_time": "2023-05-22T21:41:18.522Z"
   },
   {
    "duration": 31,
    "start_time": "2023-05-22T21:41:18.761Z"
   },
   {
    "duration": 12,
    "start_time": "2023-05-22T21:41:18.794Z"
   },
   {
    "duration": 251,
    "start_time": "2023-05-22T21:41:18.808Z"
   },
   {
    "duration": 253,
    "start_time": "2023-05-22T21:41:19.061Z"
   },
   {
    "duration": 217,
    "start_time": "2023-05-22T21:41:19.316Z"
   },
   {
    "duration": 232,
    "start_time": "2023-05-22T21:41:19.535Z"
   },
   {
    "duration": 942,
    "start_time": "2023-05-22T21:41:19.769Z"
   },
   {
    "duration": 19,
    "start_time": "2023-05-22T21:41:20.716Z"
   },
   {
    "duration": 171,
    "start_time": "2023-05-22T21:41:20.747Z"
   },
   {
    "duration": 12,
    "start_time": "2023-05-22T21:41:20.920Z"
   },
   {
    "duration": 25,
    "start_time": "2023-05-22T21:41:20.947Z"
   },
   {
    "duration": 11,
    "start_time": "2023-05-22T21:41:20.974Z"
   },
   {
    "duration": 45,
    "start_time": "2023-05-22T21:41:20.987Z"
   },
   {
    "duration": 10,
    "start_time": "2023-05-22T21:41:21.035Z"
   },
   {
    "duration": 333,
    "start_time": "2023-05-22T21:45:47.387Z"
   },
   {
    "duration": 5,
    "start_time": "2023-05-22T21:46:12.464Z"
   },
   {
    "duration": 435,
    "start_time": "2023-05-22T21:46:24.480Z"
   },
   {
    "duration": 356,
    "start_time": "2023-05-22T21:46:43.164Z"
   },
   {
    "duration": 358,
    "start_time": "2023-05-22T21:46:51.707Z"
   },
   {
    "duration": 3,
    "start_time": "2023-05-22T21:47:33.181Z"
   },
   {
    "duration": 98,
    "start_time": "2023-05-22T21:47:33.187Z"
   },
   {
    "duration": 20,
    "start_time": "2023-05-22T21:47:33.287Z"
   },
   {
    "duration": 28,
    "start_time": "2023-05-22T21:47:33.308Z"
   },
   {
    "duration": 19,
    "start_time": "2023-05-22T21:47:33.345Z"
   },
   {
    "duration": 16,
    "start_time": "2023-05-22T21:47:33.365Z"
   },
   {
    "duration": 6,
    "start_time": "2023-05-22T21:47:33.383Z"
   },
   {
    "duration": 11,
    "start_time": "2023-05-22T21:47:33.390Z"
   },
   {
    "duration": 30,
    "start_time": "2023-05-22T21:47:33.402Z"
   },
   {
    "duration": 19,
    "start_time": "2023-05-22T21:47:33.433Z"
   },
   {
    "duration": 7,
    "start_time": "2023-05-22T21:47:33.456Z"
   },
   {
    "duration": 20,
    "start_time": "2023-05-22T21:47:33.465Z"
   },
   {
    "duration": 395,
    "start_time": "2023-05-22T21:47:33.486Z"
   },
   {
    "duration": 441,
    "start_time": "2023-05-22T21:47:33.882Z"
   },
   {
    "duration": 435,
    "start_time": "2023-05-22T21:47:34.325Z"
   },
   {
    "duration": 339,
    "start_time": "2023-05-22T21:47:34.763Z"
   },
   {
    "duration": 198,
    "start_time": "2023-05-22T21:47:35.104Z"
   },
   {
    "duration": 175,
    "start_time": "2023-05-22T21:47:35.304Z"
   },
   {
    "duration": 228,
    "start_time": "2023-05-22T21:47:35.481Z"
   },
   {
    "duration": 259,
    "start_time": "2023-05-22T21:47:35.711Z"
   },
   {
    "duration": 349,
    "start_time": "2023-05-22T21:47:35.972Z"
   },
   {
    "duration": 49,
    "start_time": "2023-05-22T21:47:36.323Z"
   },
   {
    "duration": 14,
    "start_time": "2023-05-22T21:47:36.373Z"
   },
   {
    "duration": 240,
    "start_time": "2023-05-22T21:47:36.389Z"
   },
   {
    "duration": 270,
    "start_time": "2023-05-22T21:47:36.631Z"
   },
   {
    "duration": 216,
    "start_time": "2023-05-22T21:47:36.903Z"
   },
   {
    "duration": 243,
    "start_time": "2023-05-22T21:47:37.121Z"
   },
   {
    "duration": 1024,
    "start_time": "2023-05-22T21:47:37.366Z"
   },
   {
    "duration": 15,
    "start_time": "2023-05-22T21:47:38.393Z"
   },
   {
    "duration": 191,
    "start_time": "2023-05-22T21:47:38.409Z"
   },
   {
    "duration": 12,
    "start_time": "2023-05-22T21:47:38.601Z"
   },
   {
    "duration": 37,
    "start_time": "2023-05-22T21:47:38.615Z"
   },
   {
    "duration": 14,
    "start_time": "2023-05-22T21:47:38.654Z"
   },
   {
    "duration": 22,
    "start_time": "2023-05-22T21:47:38.669Z"
   },
   {
    "duration": 17,
    "start_time": "2023-05-22T21:47:38.692Z"
   },
   {
    "duration": 321,
    "start_time": "2023-05-22T21:56:49.094Z"
   },
   {
    "duration": 4,
    "start_time": "2023-05-22T21:57:21.862Z"
   },
   {
    "duration": 100,
    "start_time": "2023-05-22T21:57:21.870Z"
   },
   {
    "duration": 18,
    "start_time": "2023-05-22T21:57:21.972Z"
   },
   {
    "duration": 47,
    "start_time": "2023-05-22T21:57:21.992Z"
   },
   {
    "duration": 12,
    "start_time": "2023-05-22T21:57:22.041Z"
   },
   {
    "duration": 32,
    "start_time": "2023-05-22T21:57:22.055Z"
   },
   {
    "duration": 27,
    "start_time": "2023-05-22T21:57:22.089Z"
   },
   {
    "duration": 29,
    "start_time": "2023-05-22T21:57:22.118Z"
   },
   {
    "duration": 26,
    "start_time": "2023-05-22T21:57:22.149Z"
   },
   {
    "duration": 18,
    "start_time": "2023-05-22T21:57:22.177Z"
   },
   {
    "duration": 29,
    "start_time": "2023-05-22T21:57:22.198Z"
   },
   {
    "duration": 25,
    "start_time": "2023-05-22T21:57:22.229Z"
   },
   {
    "duration": 433,
    "start_time": "2023-05-22T21:57:22.256Z"
   },
   {
    "duration": 432,
    "start_time": "2023-05-22T21:57:22.691Z"
   },
   {
    "duration": 333,
    "start_time": "2023-05-22T21:57:23.125Z"
   },
   {
    "duration": 328,
    "start_time": "2023-05-22T21:57:23.460Z"
   },
   {
    "duration": 193,
    "start_time": "2023-05-22T21:57:23.790Z"
   },
   {
    "duration": 172,
    "start_time": "2023-05-22T21:57:23.984Z"
   },
   {
    "duration": 219,
    "start_time": "2023-05-22T21:57:24.158Z"
   },
   {
    "duration": 216,
    "start_time": "2023-05-22T21:57:24.379Z"
   },
   {
    "duration": 222,
    "start_time": "2023-05-22T21:57:24.597Z"
   },
   {
    "duration": 42,
    "start_time": "2023-05-22T21:57:24.821Z"
   },
   {
    "duration": 14,
    "start_time": "2023-05-22T21:57:24.865Z"
   },
   {
    "duration": 327,
    "start_time": "2023-05-22T21:57:24.880Z"
   },
   {
    "duration": 237,
    "start_time": "2023-05-22T21:57:25.208Z"
   },
   {
    "duration": 206,
    "start_time": "2023-05-22T21:57:25.447Z"
   },
   {
    "duration": 218,
    "start_time": "2023-05-22T21:57:25.655Z"
   },
   {
    "duration": 892,
    "start_time": "2023-05-22T21:57:25.875Z"
   },
   {
    "duration": 15,
    "start_time": "2023-05-22T21:57:26.771Z"
   },
   {
    "duration": 167,
    "start_time": "2023-05-22T21:57:26.788Z"
   },
   {
    "duration": 11,
    "start_time": "2023-05-22T21:57:26.957Z"
   },
   {
    "duration": 27,
    "start_time": "2023-05-22T21:57:26.969Z"
   },
   {
    "duration": 9,
    "start_time": "2023-05-22T21:57:26.998Z"
   },
   {
    "duration": 18,
    "start_time": "2023-05-22T21:57:27.008Z"
   },
   {
    "duration": 28,
    "start_time": "2023-05-22T21:57:27.028Z"
   },
   {
    "duration": 296,
    "start_time": "2023-05-22T22:02:34.950Z"
   },
   {
    "duration": 798,
    "start_time": "2023-05-22T22:06:11.602Z"
   },
   {
    "duration": 172,
    "start_time": "2023-05-22T22:06:32.611Z"
   },
   {
    "duration": 154,
    "start_time": "2023-05-22T22:07:17.158Z"
   },
   {
    "duration": 222,
    "start_time": "2023-05-22T22:07:50.506Z"
   },
   {
    "duration": 258,
    "start_time": "2023-05-22T22:08:22.441Z"
   },
   {
    "duration": 217,
    "start_time": "2023-05-22T22:09:22.672Z"
   },
   {
    "duration": 299,
    "start_time": "2023-05-22T22:09:39.038Z"
   },
   {
    "duration": 263,
    "start_time": "2023-05-22T22:12:12.572Z"
   },
   {
    "duration": 185,
    "start_time": "2023-05-22T22:12:34.965Z"
   },
   {
    "duration": 1392,
    "start_time": "2023-05-23T07:31:09.356Z"
   },
   {
    "duration": 370,
    "start_time": "2023-05-23T07:31:10.749Z"
   },
   {
    "duration": 21,
    "start_time": "2023-05-23T07:31:11.121Z"
   },
   {
    "duration": 28,
    "start_time": "2023-05-23T07:31:11.143Z"
   },
   {
    "duration": 11,
    "start_time": "2023-05-23T07:31:11.174Z"
   },
   {
    "duration": 19,
    "start_time": "2023-05-23T07:31:11.187Z"
   },
   {
    "duration": 5,
    "start_time": "2023-05-23T07:31:11.208Z"
   },
   {
    "duration": 7,
    "start_time": "2023-05-23T07:31:11.214Z"
   },
   {
    "duration": 15,
    "start_time": "2023-05-23T07:31:11.222Z"
   },
   {
    "duration": 8,
    "start_time": "2023-05-23T07:31:11.238Z"
   },
   {
    "duration": 4,
    "start_time": "2023-05-23T07:31:11.247Z"
   },
   {
    "duration": 5,
    "start_time": "2023-05-23T07:31:11.253Z"
   },
   {
    "duration": 394,
    "start_time": "2023-05-23T07:31:11.259Z"
   },
   {
    "duration": 301,
    "start_time": "2023-05-23T07:31:11.656Z"
   },
   {
    "duration": 396,
    "start_time": "2023-05-23T07:31:11.958Z"
   },
   {
    "duration": 374,
    "start_time": "2023-05-23T07:31:12.356Z"
   },
   {
    "duration": 161,
    "start_time": "2023-05-23T07:31:12.732Z"
   },
   {
    "duration": 162,
    "start_time": "2023-05-23T07:31:12.895Z"
   },
   {
    "duration": 247,
    "start_time": "2023-05-23T07:31:13.059Z"
   },
   {
    "duration": 214,
    "start_time": "2023-05-23T07:31:13.308Z"
   },
   {
    "duration": 198,
    "start_time": "2023-05-23T07:31:13.523Z"
   },
   {
    "duration": 31,
    "start_time": "2023-05-23T07:31:13.723Z"
   },
   {
    "duration": 11,
    "start_time": "2023-05-23T07:31:13.755Z"
   },
   {
    "duration": 220,
    "start_time": "2023-05-23T07:31:13.767Z"
   },
   {
    "duration": 199,
    "start_time": "2023-05-23T07:31:13.988Z"
   },
   {
    "duration": 193,
    "start_time": "2023-05-23T07:31:14.189Z"
   },
   {
    "duration": 285,
    "start_time": "2023-05-23T07:31:14.383Z"
   },
   {
    "duration": 709,
    "start_time": "2023-05-23T07:31:14.670Z"
   },
   {
    "duration": 12,
    "start_time": "2023-05-23T07:31:15.380Z"
   },
   {
    "duration": 150,
    "start_time": "2023-05-23T07:31:15.394Z"
   },
   {
    "duration": 9,
    "start_time": "2023-05-23T07:31:15.546Z"
   },
   {
    "duration": 24,
    "start_time": "2023-05-23T07:31:15.557Z"
   },
   {
    "duration": 8,
    "start_time": "2023-05-23T07:31:15.583Z"
   },
   {
    "duration": 15,
    "start_time": "2023-05-23T07:31:15.606Z"
   },
   {
    "duration": 8,
    "start_time": "2023-05-23T07:31:15.622Z"
   },
   {
    "duration": 48,
    "start_time": "2023-05-23T13:25:38.534Z"
   },
   {
    "duration": 1843,
    "start_time": "2023-05-23T13:25:57.811Z"
   },
   {
    "duration": 201,
    "start_time": "2023-05-23T13:25:59.656Z"
   },
   {
    "duration": 20,
    "start_time": "2023-05-23T13:25:59.859Z"
   },
   {
    "duration": 36,
    "start_time": "2023-05-23T13:25:59.881Z"
   },
   {
    "duration": 11,
    "start_time": "2023-05-23T13:25:59.918Z"
   },
   {
    "duration": 29,
    "start_time": "2023-05-23T13:25:59.930Z"
   },
   {
    "duration": 5,
    "start_time": "2023-05-23T13:25:59.960Z"
   },
   {
    "duration": 27,
    "start_time": "2023-05-23T13:25:59.967Z"
   },
   {
    "duration": 35,
    "start_time": "2023-05-23T13:25:59.996Z"
   },
   {
    "duration": 33,
    "start_time": "2023-05-23T13:26:00.034Z"
   },
   {
    "duration": 62,
    "start_time": "2023-05-23T13:26:00.069Z"
   },
   {
    "duration": 30,
    "start_time": "2023-05-23T13:26:00.133Z"
   },
   {
    "duration": 391,
    "start_time": "2023-05-23T13:26:00.165Z"
   },
   {
    "duration": 295,
    "start_time": "2023-05-23T13:26:00.558Z"
   },
   {
    "duration": 447,
    "start_time": "2023-05-23T13:26:00.855Z"
   },
   {
    "duration": 323,
    "start_time": "2023-05-23T13:26:01.304Z"
   },
   {
    "duration": 207,
    "start_time": "2023-05-23T13:26:01.629Z"
   },
   {
    "duration": 165,
    "start_time": "2023-05-23T13:26:01.838Z"
   },
   {
    "duration": 206,
    "start_time": "2023-05-23T13:26:02.005Z"
   },
   {
    "duration": 202,
    "start_time": "2023-05-23T13:26:02.213Z"
   },
   {
    "duration": 190,
    "start_time": "2023-05-23T13:26:02.425Z"
   },
   {
    "duration": 34,
    "start_time": "2023-05-23T13:26:02.616Z"
   },
   {
    "duration": 11,
    "start_time": "2023-05-23T13:26:02.652Z"
   },
   {
    "duration": 209,
    "start_time": "2023-05-23T13:26:02.665Z"
   },
   {
    "duration": 223,
    "start_time": "2023-05-23T13:26:02.875Z"
   },
   {
    "duration": 209,
    "start_time": "2023-05-23T13:26:03.100Z"
   },
   {
    "duration": 294,
    "start_time": "2023-05-23T13:26:03.312Z"
   },
   {
    "duration": 815,
    "start_time": "2023-05-23T13:26:03.609Z"
   },
   {
    "duration": 13,
    "start_time": "2023-05-23T13:26:04.426Z"
   },
   {
    "duration": 159,
    "start_time": "2023-05-23T13:26:04.440Z"
   },
   {
    "duration": 10,
    "start_time": "2023-05-23T13:26:04.600Z"
   },
   {
    "duration": 32,
    "start_time": "2023-05-23T13:26:04.624Z"
   },
   {
    "duration": 28,
    "start_time": "2023-05-23T13:26:04.657Z"
   },
   {
    "duration": 74,
    "start_time": "2023-05-23T13:26:04.686Z"
   },
   {
    "duration": 22,
    "start_time": "2023-05-23T13:26:04.762Z"
   },
   {
    "duration": 244,
    "start_time": "2023-05-23T13:29:25.204Z"
   },
   {
    "duration": 218,
    "start_time": "2023-05-23T13:29:39.901Z"
   },
   {
    "duration": 200,
    "start_time": "2023-05-23T13:29:56.727Z"
   },
   {
    "duration": 203,
    "start_time": "2023-05-23T13:30:29.282Z"
   },
   {
    "duration": 1610,
    "start_time": "2023-05-23T15:03:51.010Z"
   },
   {
    "duration": 80,
    "start_time": "2023-05-23T15:03:52.622Z"
   },
   {
    "duration": 30,
    "start_time": "2023-05-23T15:03:52.704Z"
   },
   {
    "duration": 42,
    "start_time": "2023-05-23T15:03:52.738Z"
   },
   {
    "duration": 12,
    "start_time": "2023-05-23T15:03:52.781Z"
   },
   {
    "duration": 13,
    "start_time": "2023-05-23T15:03:52.795Z"
   },
   {
    "duration": 57,
    "start_time": "2023-05-23T15:03:52.809Z"
   },
   {
    "duration": 17,
    "start_time": "2023-05-23T15:03:52.867Z"
   },
   {
    "duration": 21,
    "start_time": "2023-05-23T15:03:52.886Z"
   },
   {
    "duration": 11,
    "start_time": "2023-05-23T15:03:52.910Z"
   },
   {
    "duration": 21,
    "start_time": "2023-05-23T15:03:52.922Z"
   },
   {
    "duration": 17,
    "start_time": "2023-05-23T15:03:52.945Z"
   },
   {
    "duration": 416,
    "start_time": "2023-05-23T15:03:52.964Z"
   },
   {
    "duration": 352,
    "start_time": "2023-05-23T15:03:53.382Z"
   },
   {
    "duration": 446,
    "start_time": "2023-05-23T15:03:53.743Z"
   },
   {
    "duration": 361,
    "start_time": "2023-05-23T15:03:54.191Z"
   },
   {
    "duration": 234,
    "start_time": "2023-05-23T15:03:54.554Z"
   },
   {
    "duration": 257,
    "start_time": "2023-05-23T15:03:54.794Z"
   },
   {
    "duration": 249,
    "start_time": "2023-05-23T15:03:55.059Z"
   },
   {
    "duration": 301,
    "start_time": "2023-05-23T15:03:55.310Z"
   },
   {
    "duration": 350,
    "start_time": "2023-05-23T15:03:55.613Z"
   },
   {
    "duration": 44,
    "start_time": "2023-05-23T15:03:55.966Z"
   },
   {
    "duration": 28,
    "start_time": "2023-05-23T15:03:56.013Z"
   },
   {
    "duration": 334,
    "start_time": "2023-05-23T15:03:56.047Z"
   },
   {
    "duration": 246,
    "start_time": "2023-05-23T15:03:56.384Z"
   },
   {
    "duration": 213,
    "start_time": "2023-05-23T15:03:56.637Z"
   },
   {
    "duration": 333,
    "start_time": "2023-05-23T15:03:56.852Z"
   },
   {
    "duration": 918,
    "start_time": "2023-05-23T15:03:57.188Z"
   },
   {
    "duration": 32,
    "start_time": "2023-05-23T15:03:58.108Z"
   },
   {
    "duration": 180,
    "start_time": "2023-05-23T15:03:58.142Z"
   },
   {
    "duration": 23,
    "start_time": "2023-05-23T15:03:58.324Z"
   },
   {
    "duration": 59,
    "start_time": "2023-05-23T15:03:58.349Z"
   },
   {
    "duration": 11,
    "start_time": "2023-05-23T15:03:58.410Z"
   },
   {
    "duration": 79,
    "start_time": "2023-05-23T15:03:58.423Z"
   },
   {
    "duration": 56,
    "start_time": "2023-05-23T15:03:58.504Z"
   },
   {
    "duration": 13,
    "start_time": "2023-05-23T15:11:06.975Z"
   },
   {
    "duration": 117,
    "start_time": "2023-05-23T15:11:47.273Z"
   },
   {
    "duration": 6,
    "start_time": "2023-05-23T15:11:50.249Z"
   },
   {
    "duration": 123,
    "start_time": "2023-05-23T15:17:26.573Z"
   },
   {
    "duration": 6,
    "start_time": "2023-05-23T15:17:33.397Z"
   },
   {
    "duration": 7,
    "start_time": "2023-05-23T15:21:37.680Z"
   },
   {
    "duration": 9,
    "start_time": "2023-05-23T15:21:52.114Z"
   },
   {
    "duration": 6,
    "start_time": "2023-05-23T15:24:14.801Z"
   },
   {
    "duration": 65,
    "start_time": "2023-05-24T07:30:51.923Z"
   },
   {
    "duration": 1454,
    "start_time": "2023-05-24T07:30:55.674Z"
   },
   {
    "duration": 598,
    "start_time": "2023-05-24T07:30:57.131Z"
   },
   {
    "duration": 26,
    "start_time": "2023-05-24T07:30:57.730Z"
   },
   {
    "duration": 25,
    "start_time": "2023-05-24T07:30:57.757Z"
   },
   {
    "duration": 10,
    "start_time": "2023-05-24T07:30:57.784Z"
   },
   {
    "duration": 10,
    "start_time": "2023-05-24T07:30:57.796Z"
   },
   {
    "duration": 10,
    "start_time": "2023-05-24T07:30:57.812Z"
   },
   {
    "duration": 5,
    "start_time": "2023-05-24T07:30:57.824Z"
   },
   {
    "duration": 13,
    "start_time": "2023-05-24T07:30:57.830Z"
   },
   {
    "duration": 6,
    "start_time": "2023-05-24T07:30:57.845Z"
   },
   {
    "duration": 8,
    "start_time": "2023-05-24T07:30:57.852Z"
   },
   {
    "duration": 4,
    "start_time": "2023-05-24T07:30:57.862Z"
   },
   {
    "duration": 362,
    "start_time": "2023-05-24T07:30:57.867Z"
   },
   {
    "duration": 268,
    "start_time": "2023-05-24T07:30:58.232Z"
   },
   {
    "duration": 445,
    "start_time": "2023-05-24T07:30:58.506Z"
   },
   {
    "duration": 340,
    "start_time": "2023-05-24T07:30:58.953Z"
   },
   {
    "duration": 12,
    "start_time": "2023-05-24T07:30:59.295Z"
   },
   {
    "duration": 198,
    "start_time": "2023-05-24T07:30:59.310Z"
   },
   {
    "duration": 178,
    "start_time": "2023-05-24T07:30:59.509Z"
   },
   {
    "duration": 243,
    "start_time": "2023-05-24T07:30:59.689Z"
   },
   {
    "duration": 216,
    "start_time": "2023-05-24T07:30:59.933Z"
   },
   {
    "duration": 223,
    "start_time": "2023-05-24T07:31:00.151Z"
   },
   {
    "duration": 41,
    "start_time": "2023-05-24T07:31:00.376Z"
   },
   {
    "duration": 12,
    "start_time": "2023-05-24T07:31:00.419Z"
   },
   {
    "duration": 305,
    "start_time": "2023-05-24T07:31:00.433Z"
   },
   {
    "duration": 206,
    "start_time": "2023-05-24T07:31:00.739Z"
   },
   {
    "duration": 185,
    "start_time": "2023-05-24T07:31:00.946Z"
   },
   {
    "duration": 317,
    "start_time": "2023-05-24T07:31:01.133Z"
   },
   {
    "duration": 925,
    "start_time": "2023-05-24T07:31:01.452Z"
   },
   {
    "duration": 13,
    "start_time": "2023-05-24T07:31:02.379Z"
   },
   {
    "duration": 259,
    "start_time": "2023-05-24T07:31:02.394Z"
   },
   {
    "duration": 13,
    "start_time": "2023-05-24T07:31:02.655Z"
   },
   {
    "duration": 31,
    "start_time": "2023-05-24T07:31:02.669Z"
   },
   {
    "duration": 10,
    "start_time": "2023-05-24T07:31:02.705Z"
   },
   {
    "duration": 20,
    "start_time": "2023-05-24T07:31:02.717Z"
   },
   {
    "duration": 8,
    "start_time": "2023-05-24T07:31:02.738Z"
   },
   {
    "duration": 33,
    "start_time": "2023-05-24T07:31:57.295Z"
   },
   {
    "duration": 13,
    "start_time": "2023-05-24T07:47:04.887Z"
   },
   {
    "duration": 7,
    "start_time": "2023-05-24T07:48:31.617Z"
   },
   {
    "duration": 6,
    "start_time": "2023-05-24T07:48:54.810Z"
   },
   {
    "duration": 68,
    "start_time": "2023-05-24T07:49:42.665Z"
   },
   {
    "duration": 18,
    "start_time": "2023-05-24T07:50:12.805Z"
   },
   {
    "duration": 31,
    "start_time": "2023-05-24T07:50:28.220Z"
   },
   {
    "duration": 155,
    "start_time": "2023-05-24T07:54:20.190Z"
   },
   {
    "duration": 113,
    "start_time": "2023-05-24T07:54:54.946Z"
   },
   {
    "duration": 132,
    "start_time": "2023-05-24T07:55:00.062Z"
   },
   {
    "duration": 190,
    "start_time": "2023-05-24T07:55:42.462Z"
   },
   {
    "duration": 128,
    "start_time": "2023-05-24T07:56:10.288Z"
   },
   {
    "duration": 254,
    "start_time": "2023-05-24T08:18:16.086Z"
   },
   {
    "duration": 288,
    "start_time": "2023-05-24T08:18:24.101Z"
   },
   {
    "duration": 3,
    "start_time": "2023-05-24T08:18:39.160Z"
   },
   {
    "duration": 83,
    "start_time": "2023-05-24T08:18:39.164Z"
   },
   {
    "duration": 17,
    "start_time": "2023-05-24T08:18:39.249Z"
   },
   {
    "duration": 26,
    "start_time": "2023-05-24T08:18:39.268Z"
   },
   {
    "duration": 14,
    "start_time": "2023-05-24T08:18:39.297Z"
   },
   {
    "duration": 9,
    "start_time": "2023-05-24T08:18:39.313Z"
   },
   {
    "duration": 16,
    "start_time": "2023-05-24T08:18:39.324Z"
   },
   {
    "duration": 6,
    "start_time": "2023-05-24T08:18:39.342Z"
   },
   {
    "duration": 22,
    "start_time": "2023-05-24T08:18:39.350Z"
   },
   {
    "duration": 7,
    "start_time": "2023-05-24T08:18:39.373Z"
   },
   {
    "duration": 8,
    "start_time": "2023-05-24T08:18:39.381Z"
   },
   {
    "duration": 6,
    "start_time": "2023-05-24T08:18:39.390Z"
   },
   {
    "duration": 400,
    "start_time": "2023-05-24T08:18:39.397Z"
   },
   {
    "duration": 246,
    "start_time": "2023-05-24T08:18:39.805Z"
   },
   {
    "duration": 277,
    "start_time": "2023-05-24T08:18:40.052Z"
   },
   {
    "duration": 265,
    "start_time": "2023-05-24T08:18:40.331Z"
   },
   {
    "duration": 19,
    "start_time": "2023-05-24T08:18:40.597Z"
   },
   {
    "duration": 137,
    "start_time": "2023-05-24T08:18:40.617Z"
   },
   {
    "duration": 135,
    "start_time": "2023-05-24T08:18:40.755Z"
   },
   {
    "duration": 176,
    "start_time": "2023-05-24T08:18:40.892Z"
   },
   {
    "duration": 262,
    "start_time": "2023-05-24T08:18:41.070Z"
   },
   {
    "duration": 182,
    "start_time": "2023-05-24T08:18:41.334Z"
   },
   {
    "duration": 25,
    "start_time": "2023-05-24T08:18:41.518Z"
   },
   {
    "duration": 26,
    "start_time": "2023-05-24T08:18:41.544Z"
   },
   {
    "duration": 174,
    "start_time": "2023-05-24T08:18:41.572Z"
   },
   {
    "duration": 178,
    "start_time": "2023-05-24T08:18:41.748Z"
   },
   {
    "duration": 165,
    "start_time": "2023-05-24T08:18:41.928Z"
   },
   {
    "duration": 176,
    "start_time": "2023-05-24T08:18:42.094Z"
   },
   {
    "duration": 805,
    "start_time": "2023-05-24T08:18:42.271Z"
   },
   {
    "duration": 13,
    "start_time": "2023-05-24T08:18:43.077Z"
   },
   {
    "duration": 150,
    "start_time": "2023-05-24T08:18:43.092Z"
   },
   {
    "duration": 10,
    "start_time": "2023-05-24T08:18:43.244Z"
   },
   {
    "duration": 30,
    "start_time": "2023-05-24T08:18:43.256Z"
   },
   {
    "duration": 10,
    "start_time": "2023-05-24T08:18:43.288Z"
   },
   {
    "duration": 14,
    "start_time": "2023-05-24T08:18:43.307Z"
   },
   {
    "duration": 8,
    "start_time": "2023-05-24T08:18:43.322Z"
   },
   {
    "duration": 4,
    "start_time": "2023-05-24T08:22:38.160Z"
   },
   {
    "duration": 9,
    "start_time": "2023-05-24T08:29:12.880Z"
   },
   {
    "duration": 8,
    "start_time": "2023-05-24T08:29:18.895Z"
   },
   {
    "duration": 318,
    "start_time": "2023-05-24T08:30:05.323Z"
   },
   {
    "duration": 15,
    "start_time": "2023-05-24T08:30:19.962Z"
   },
   {
    "duration": 18,
    "start_time": "2023-05-24T08:30:39.084Z"
   },
   {
    "duration": 140,
    "start_time": "2023-05-24T08:30:53.914Z"
   },
   {
    "duration": 166,
    "start_time": "2023-05-24T08:31:06.585Z"
   },
   {
    "duration": 0,
    "start_time": "2023-05-24T08:33:28.484Z"
   },
   {
    "duration": 0,
    "start_time": "2023-05-24T08:33:28.486Z"
   },
   {
    "duration": 0,
    "start_time": "2023-05-24T08:33:28.506Z"
   },
   {
    "duration": 0,
    "start_time": "2023-05-24T08:33:28.507Z"
   },
   {
    "duration": 0,
    "start_time": "2023-05-24T08:33:28.508Z"
   },
   {
    "duration": 0,
    "start_time": "2023-05-24T08:33:28.510Z"
   },
   {
    "duration": 0,
    "start_time": "2023-05-24T08:33:28.511Z"
   },
   {
    "duration": 0,
    "start_time": "2023-05-24T08:33:28.513Z"
   },
   {
    "duration": 0,
    "start_time": "2023-05-24T08:33:28.514Z"
   },
   {
    "duration": 0,
    "start_time": "2023-05-24T08:33:28.515Z"
   },
   {
    "duration": 0,
    "start_time": "2023-05-24T08:33:28.516Z"
   },
   {
    "duration": 0,
    "start_time": "2023-05-24T08:33:28.518Z"
   },
   {
    "duration": 0,
    "start_time": "2023-05-24T08:33:28.519Z"
   },
   {
    "duration": 0,
    "start_time": "2023-05-24T08:33:28.520Z"
   },
   {
    "duration": 0,
    "start_time": "2023-05-24T08:33:28.522Z"
   },
   {
    "duration": 0,
    "start_time": "2023-05-24T08:33:28.523Z"
   },
   {
    "duration": 0,
    "start_time": "2023-05-24T08:33:28.524Z"
   },
   {
    "duration": 0,
    "start_time": "2023-05-24T08:33:28.525Z"
   },
   {
    "duration": 0,
    "start_time": "2023-05-24T08:33:28.528Z"
   },
   {
    "duration": 0,
    "start_time": "2023-05-24T08:33:28.529Z"
   },
   {
    "duration": 0,
    "start_time": "2023-05-24T08:33:28.530Z"
   },
   {
    "duration": 0,
    "start_time": "2023-05-24T08:33:28.531Z"
   },
   {
    "duration": 0,
    "start_time": "2023-05-24T08:33:28.532Z"
   },
   {
    "duration": 0,
    "start_time": "2023-05-24T08:33:28.533Z"
   },
   {
    "duration": 0,
    "start_time": "2023-05-24T08:33:28.534Z"
   },
   {
    "duration": 0,
    "start_time": "2023-05-24T08:33:28.536Z"
   },
   {
    "duration": 0,
    "start_time": "2023-05-24T08:33:28.537Z"
   },
   {
    "duration": 0,
    "start_time": "2023-05-24T08:33:28.538Z"
   },
   {
    "duration": 0,
    "start_time": "2023-05-24T08:33:28.539Z"
   },
   {
    "duration": 0,
    "start_time": "2023-05-24T08:33:28.540Z"
   },
   {
    "duration": 0,
    "start_time": "2023-05-24T08:33:28.541Z"
   },
   {
    "duration": 0,
    "start_time": "2023-05-24T08:33:28.543Z"
   },
   {
    "duration": 0,
    "start_time": "2023-05-24T08:33:28.544Z"
   },
   {
    "duration": 0,
    "start_time": "2023-05-24T08:33:28.545Z"
   },
   {
    "duration": 0,
    "start_time": "2023-05-24T08:33:28.605Z"
   },
   {
    "duration": 0,
    "start_time": "2023-05-24T08:33:28.610Z"
   },
   {
    "duration": 0,
    "start_time": "2023-05-24T08:33:28.612Z"
   },
   {
    "duration": 0,
    "start_time": "2023-05-24T08:33:28.613Z"
   },
   {
    "duration": 29,
    "start_time": "2023-05-24T08:33:44.266Z"
   },
   {
    "duration": 25,
    "start_time": "2023-05-24T08:33:57.778Z"
   },
   {
    "duration": 12,
    "start_time": "2023-05-24T08:34:17.986Z"
   },
   {
    "duration": 11,
    "start_time": "2023-05-24T08:34:37.588Z"
   },
   {
    "duration": 34,
    "start_time": "2023-05-24T08:35:19.083Z"
   },
   {
    "duration": 0,
    "start_time": "2023-05-24T08:35:52.202Z"
   },
   {
    "duration": 1264,
    "start_time": "2023-05-24T08:35:53.858Z"
   },
   {
    "duration": 1347,
    "start_time": "2023-05-24T08:36:42.578Z"
   },
   {
    "duration": 11,
    "start_time": "2023-05-24T08:37:00.170Z"
   },
   {
    "duration": 134,
    "start_time": "2023-05-24T08:37:25.702Z"
   },
   {
    "duration": 18,
    "start_time": "2023-05-24T08:38:32.454Z"
   },
   {
    "duration": 15,
    "start_time": "2023-05-24T08:38:41.886Z"
   },
   {
    "duration": 17,
    "start_time": "2023-05-24T08:38:50.578Z"
   },
   {
    "duration": 19,
    "start_time": "2023-05-24T08:43:14.278Z"
   },
   {
    "duration": 163,
    "start_time": "2023-05-24T08:43:36.456Z"
   },
   {
    "duration": 3,
    "start_time": "2023-05-24T08:43:46.262Z"
   },
   {
    "duration": 71,
    "start_time": "2023-05-24T08:43:46.269Z"
   },
   {
    "duration": 17,
    "start_time": "2023-05-24T08:43:46.342Z"
   },
   {
    "duration": 26,
    "start_time": "2023-05-24T08:43:46.361Z"
   },
   {
    "duration": 18,
    "start_time": "2023-05-24T08:43:46.388Z"
   },
   {
    "duration": 8,
    "start_time": "2023-05-24T08:43:46.408Z"
   },
   {
    "duration": 19,
    "start_time": "2023-05-24T08:43:46.417Z"
   },
   {
    "duration": 17,
    "start_time": "2023-05-24T08:43:46.438Z"
   },
   {
    "duration": 16,
    "start_time": "2023-05-24T08:43:46.456Z"
   },
   {
    "duration": 12,
    "start_time": "2023-05-24T08:43:46.473Z"
   },
   {
    "duration": 6,
    "start_time": "2023-05-24T08:43:46.487Z"
   },
   {
    "duration": 20,
    "start_time": "2023-05-24T08:43:46.495Z"
   },
   {
    "duration": 373,
    "start_time": "2023-05-24T08:43:46.517Z"
   },
   {
    "duration": 849,
    "start_time": "2023-05-24T08:43:46.892Z"
   },
   {
    "duration": 297,
    "start_time": "2023-05-24T08:43:47.744Z"
   },
   {
    "duration": 298,
    "start_time": "2023-05-24T08:43:48.042Z"
   },
   {
    "duration": 12,
    "start_time": "2023-05-24T08:43:48.341Z"
   },
   {
    "duration": 5,
    "start_time": "2023-05-24T08:43:48.354Z"
   },
   {
    "duration": 136,
    "start_time": "2023-05-24T08:43:48.360Z"
   },
   {
    "duration": 151,
    "start_time": "2023-05-24T08:43:48.498Z"
   },
   {
    "duration": 140,
    "start_time": "2023-05-24T08:43:48.651Z"
   },
   {
    "duration": 208,
    "start_time": "2023-05-24T08:43:48.793Z"
   },
   {
    "duration": 235,
    "start_time": "2023-05-24T08:43:49.003Z"
   },
   {
    "duration": 182,
    "start_time": "2023-05-24T08:43:49.240Z"
   },
   {
    "duration": 30,
    "start_time": "2023-05-24T08:43:49.424Z"
   },
   {
    "duration": 11,
    "start_time": "2023-05-24T08:43:49.455Z"
   },
   {
    "duration": 210,
    "start_time": "2023-05-24T08:43:49.467Z"
   },
   {
    "duration": 198,
    "start_time": "2023-05-24T08:43:49.678Z"
   },
   {
    "duration": 189,
    "start_time": "2023-05-24T08:43:49.877Z"
   },
   {
    "duration": 190,
    "start_time": "2023-05-24T08:43:50.067Z"
   },
   {
    "duration": 898,
    "start_time": "2023-05-24T08:43:50.258Z"
   },
   {
    "duration": 14,
    "start_time": "2023-05-24T08:43:51.157Z"
   },
   {
    "duration": 179,
    "start_time": "2023-05-24T08:43:51.172Z"
   },
   {
    "duration": 9,
    "start_time": "2023-05-24T08:43:51.353Z"
   },
   {
    "duration": 25,
    "start_time": "2023-05-24T08:43:51.364Z"
   },
   {
    "duration": 16,
    "start_time": "2023-05-24T08:43:51.391Z"
   },
   {
    "duration": 23,
    "start_time": "2023-05-24T08:43:51.415Z"
   },
   {
    "duration": 9,
    "start_time": "2023-05-24T08:43:51.439Z"
   },
   {
    "duration": 162,
    "start_time": "2023-05-24T08:44:22.382Z"
   },
   {
    "duration": 156,
    "start_time": "2023-05-24T08:44:36.482Z"
   },
   {
    "duration": 145,
    "start_time": "2023-05-24T08:45:06.778Z"
   },
   {
    "duration": 12,
    "start_time": "2023-05-24T08:47:14.837Z"
   },
   {
    "duration": 9,
    "start_time": "2023-05-24T08:47:22.184Z"
   },
   {
    "duration": 61,
    "start_time": "2023-05-24T08:47:28.174Z"
   },
   {
    "duration": 99,
    "start_time": "2023-05-24T08:47:53.089Z"
   },
   {
    "duration": 157,
    "start_time": "2023-05-24T08:48:04.562Z"
   },
   {
    "duration": 131,
    "start_time": "2023-05-24T08:48:14.654Z"
   },
   {
    "duration": 141,
    "start_time": "2023-05-24T08:48:22.454Z"
   },
   {
    "duration": 83,
    "start_time": "2023-05-24T08:49:33.154Z"
   },
   {
    "duration": 16,
    "start_time": "2023-05-24T08:49:45.520Z"
   },
   {
    "duration": 120,
    "start_time": "2023-05-24T08:49:56.962Z"
   },
   {
    "duration": 161,
    "start_time": "2023-05-24T08:51:11.185Z"
   },
   {
    "duration": 131,
    "start_time": "2023-05-24T08:51:25.925Z"
   },
   {
    "duration": 138,
    "start_time": "2023-05-24T08:52:09.162Z"
   },
   {
    "duration": 12,
    "start_time": "2023-05-24T08:52:53.674Z"
   },
   {
    "duration": 147,
    "start_time": "2023-05-24T08:53:14.582Z"
   },
   {
    "duration": 148,
    "start_time": "2023-05-24T08:53:23.268Z"
   },
   {
    "duration": 151,
    "start_time": "2023-05-24T08:53:40.400Z"
   },
   {
    "duration": 164,
    "start_time": "2023-05-24T08:54:25.000Z"
   },
   {
    "duration": 157,
    "start_time": "2023-05-24T08:54:32.302Z"
   },
   {
    "duration": 137,
    "start_time": "2023-05-24T08:59:21.795Z"
   },
   {
    "duration": 138,
    "start_time": "2023-05-24T08:59:29.505Z"
   },
   {
    "duration": 8,
    "start_time": "2023-05-24T09:07:10.088Z"
   },
   {
    "duration": 10,
    "start_time": "2023-05-24T09:08:21.081Z"
   },
   {
    "duration": 58,
    "start_time": "2023-05-24T09:08:54.510Z"
   },
   {
    "duration": 61,
    "start_time": "2023-05-24T09:08:54.569Z"
   },
   {
    "duration": 17,
    "start_time": "2023-05-24T09:08:54.631Z"
   },
   {
    "duration": 25,
    "start_time": "2023-05-24T09:08:54.650Z"
   },
   {
    "duration": 11,
    "start_time": "2023-05-24T09:08:54.677Z"
   },
   {
    "duration": 17,
    "start_time": "2023-05-24T09:08:54.689Z"
   },
   {
    "duration": 12,
    "start_time": "2023-05-24T09:08:54.707Z"
   },
   {
    "duration": 5,
    "start_time": "2023-05-24T09:08:54.720Z"
   },
   {
    "duration": 13,
    "start_time": "2023-05-24T09:08:54.726Z"
   },
   {
    "duration": 16,
    "start_time": "2023-05-24T09:08:54.740Z"
   },
   {
    "duration": 10,
    "start_time": "2023-05-24T09:08:54.757Z"
   },
   {
    "duration": 7,
    "start_time": "2023-05-24T09:08:54.769Z"
   },
   {
    "duration": 324,
    "start_time": "2023-05-24T09:08:54.777Z"
   },
   {
    "duration": 260,
    "start_time": "2023-05-24T09:08:55.107Z"
   },
   {
    "duration": 280,
    "start_time": "2023-05-24T09:08:55.369Z"
   },
   {
    "duration": 264,
    "start_time": "2023-05-24T09:08:55.651Z"
   },
   {
    "duration": 13,
    "start_time": "2023-05-24T09:08:55.917Z"
   },
   {
    "duration": 3,
    "start_time": "2023-05-24T09:08:55.931Z"
   },
   {
    "duration": 153,
    "start_time": "2023-05-24T09:08:55.936Z"
   },
   {
    "duration": 141,
    "start_time": "2023-05-24T09:08:56.091Z"
   },
   {
    "duration": 181,
    "start_time": "2023-05-24T09:08:56.234Z"
   },
   {
    "duration": 214,
    "start_time": "2023-05-24T09:08:56.416Z"
   },
   {
    "duration": 179,
    "start_time": "2023-05-24T09:08:56.632Z"
   },
   {
    "duration": 27,
    "start_time": "2023-05-24T09:08:56.813Z"
   },
   {
    "duration": 9,
    "start_time": "2023-05-24T09:08:56.842Z"
   },
   {
    "duration": 14,
    "start_time": "2023-05-24T09:08:56.852Z"
   },
   {
    "duration": 0,
    "start_time": "2023-05-24T09:08:56.867Z"
   },
   {
    "duration": 0,
    "start_time": "2023-05-24T09:08:56.868Z"
   },
   {
    "duration": 0,
    "start_time": "2023-05-24T09:08:56.869Z"
   },
   {
    "duration": 0,
    "start_time": "2023-05-24T09:08:56.870Z"
   },
   {
    "duration": 0,
    "start_time": "2023-05-24T09:08:56.871Z"
   },
   {
    "duration": 0,
    "start_time": "2023-05-24T09:08:56.872Z"
   },
   {
    "duration": 0,
    "start_time": "2023-05-24T09:08:56.873Z"
   },
   {
    "duration": 0,
    "start_time": "2023-05-24T09:08:56.907Z"
   },
   {
    "duration": 0,
    "start_time": "2023-05-24T09:08:56.908Z"
   },
   {
    "duration": 0,
    "start_time": "2023-05-24T09:08:56.909Z"
   },
   {
    "duration": 0,
    "start_time": "2023-05-24T09:08:56.909Z"
   },
   {
    "duration": 0,
    "start_time": "2023-05-24T09:08:56.910Z"
   },
   {
    "duration": 10,
    "start_time": "2023-05-24T09:10:02.881Z"
   },
   {
    "duration": 3,
    "start_time": "2023-05-24T09:10:22.990Z"
   },
   {
    "duration": 10,
    "start_time": "2023-05-24T09:10:55.804Z"
   },
   {
    "duration": 445,
    "start_time": "2023-05-24T09:11:11.819Z"
   },
   {
    "duration": 3,
    "start_time": "2023-05-24T09:18:07.404Z"
   },
   {
    "duration": 16,
    "start_time": "2023-05-24T09:31:28.569Z"
   },
   {
    "duration": 4,
    "start_time": "2023-05-24T09:37:32.463Z"
   },
   {
    "duration": 143,
    "start_time": "2023-05-24T09:38:21.760Z"
   },
   {
    "duration": 130,
    "start_time": "2023-05-24T09:38:40.261Z"
   },
   {
    "duration": 3,
    "start_time": "2023-05-24T09:39:13.006Z"
   },
   {
    "duration": 74,
    "start_time": "2023-05-24T09:39:13.013Z"
   },
   {
    "duration": 21,
    "start_time": "2023-05-24T09:39:13.089Z"
   },
   {
    "duration": 30,
    "start_time": "2023-05-24T09:39:13.112Z"
   },
   {
    "duration": 14,
    "start_time": "2023-05-24T09:39:13.144Z"
   },
   {
    "duration": 7,
    "start_time": "2023-05-24T09:39:13.159Z"
   },
   {
    "duration": 17,
    "start_time": "2023-05-24T09:39:13.167Z"
   },
   {
    "duration": 6,
    "start_time": "2023-05-24T09:39:13.206Z"
   },
   {
    "duration": 52,
    "start_time": "2023-05-24T09:39:13.213Z"
   },
   {
    "duration": 12,
    "start_time": "2023-05-24T09:39:13.266Z"
   },
   {
    "duration": 8,
    "start_time": "2023-05-24T09:39:13.281Z"
   },
   {
    "duration": 17,
    "start_time": "2023-05-24T09:39:13.290Z"
   },
   {
    "duration": 360,
    "start_time": "2023-05-24T09:39:13.309Z"
   },
   {
    "duration": 328,
    "start_time": "2023-05-24T09:39:13.670Z"
   },
   {
    "duration": 348,
    "start_time": "2023-05-24T09:39:14.001Z"
   },
   {
    "duration": 298,
    "start_time": "2023-05-24T09:39:14.350Z"
   },
   {
    "duration": 12,
    "start_time": "2023-05-24T09:39:14.650Z"
   },
   {
    "duration": 7,
    "start_time": "2023-05-24T09:39:14.664Z"
   },
   {
    "duration": 175,
    "start_time": "2023-05-24T09:39:14.673Z"
   },
   {
    "duration": 156,
    "start_time": "2023-05-24T09:39:14.850Z"
   },
   {
    "duration": 219,
    "start_time": "2023-05-24T09:39:15.009Z"
   },
   {
    "duration": 197,
    "start_time": "2023-05-24T09:39:15.229Z"
   },
   {
    "duration": 179,
    "start_time": "2023-05-24T09:39:15.427Z"
   },
   {
    "duration": 27,
    "start_time": "2023-05-24T09:39:15.608Z"
   },
   {
    "duration": 10,
    "start_time": "2023-05-24T09:39:15.636Z"
   },
   {
    "duration": 161,
    "start_time": "2023-05-24T09:39:15.647Z"
   },
   {
    "duration": 208,
    "start_time": "2023-05-24T09:39:15.810Z"
   },
   {
    "duration": 208,
    "start_time": "2023-05-24T09:39:16.019Z"
   },
   {
    "duration": 185,
    "start_time": "2023-05-24T09:39:16.231Z"
   },
   {
    "duration": 205,
    "start_time": "2023-05-24T09:39:16.418Z"
   },
   {
    "duration": 773,
    "start_time": "2023-05-24T09:39:16.625Z"
   },
   {
    "duration": 22,
    "start_time": "2023-05-24T09:39:17.399Z"
   },
   {
    "duration": 172,
    "start_time": "2023-05-24T09:39:17.423Z"
   },
   {
    "duration": 16,
    "start_time": "2023-05-24T09:39:17.596Z"
   },
   {
    "duration": 23,
    "start_time": "2023-05-24T09:39:17.614Z"
   },
   {
    "duration": 10,
    "start_time": "2023-05-24T09:39:17.639Z"
   },
   {
    "duration": 71,
    "start_time": "2023-05-24T09:39:17.651Z"
   },
   {
    "duration": 20,
    "start_time": "2023-05-24T09:39:17.724Z"
   },
   {
    "duration": 124,
    "start_time": "2023-05-24T09:40:17.273Z"
   },
   {
    "duration": 1234,
    "start_time": "2023-05-24T09:41:29.478Z"
   },
   {
    "duration": 11,
    "start_time": "2023-05-24T09:42:03.321Z"
   },
   {
    "duration": 9,
    "start_time": "2023-05-24T09:42:08.801Z"
   },
   {
    "duration": 9,
    "start_time": "2023-05-24T09:42:15.857Z"
   },
   {
    "duration": 119,
    "start_time": "2023-05-24T09:42:32.299Z"
   },
   {
    "duration": 112,
    "start_time": "2023-05-24T09:43:41.957Z"
   },
   {
    "duration": 110,
    "start_time": "2023-05-24T09:44:45.486Z"
   },
   {
    "duration": 121,
    "start_time": "2023-05-24T09:47:17.853Z"
   },
   {
    "duration": 141,
    "start_time": "2023-05-24T09:47:34.589Z"
   },
   {
    "duration": 141,
    "start_time": "2023-05-24T09:47:57.204Z"
   },
   {
    "duration": 121,
    "start_time": "2023-05-24T09:49:17.105Z"
   },
   {
    "duration": 172,
    "start_time": "2023-05-24T09:49:30.391Z"
   },
   {
    "duration": 102,
    "start_time": "2023-05-24T09:50:09.533Z"
   },
   {
    "duration": 121,
    "start_time": "2023-05-24T09:50:15.657Z"
   },
   {
    "duration": 165,
    "start_time": "2023-05-24T09:51:21.909Z"
   },
   {
    "duration": 156,
    "start_time": "2023-05-24T09:51:27.566Z"
   },
   {
    "duration": 121,
    "start_time": "2023-05-24T09:51:44.994Z"
   },
   {
    "duration": 162,
    "start_time": "2023-05-24T09:52:00.177Z"
   },
   {
    "duration": 131,
    "start_time": "2023-05-24T09:52:48.897Z"
   },
   {
    "duration": 167,
    "start_time": "2023-05-24T09:52:58.473Z"
   },
   {
    "duration": 160,
    "start_time": "2023-05-24T09:58:47.272Z"
   },
   {
    "duration": 96,
    "start_time": "2023-05-24T10:02:23.965Z"
   },
   {
    "duration": 113,
    "start_time": "2023-05-24T10:03:17.261Z"
   },
   {
    "duration": 172,
    "start_time": "2023-05-24T10:03:22.277Z"
   },
   {
    "duration": 184,
    "start_time": "2023-05-24T10:03:28.158Z"
   },
   {
    "duration": 228,
    "start_time": "2023-05-24T10:04:37.069Z"
   },
   {
    "duration": 214,
    "start_time": "2023-05-24T10:05:28.365Z"
   },
   {
    "duration": 240,
    "start_time": "2023-05-24T10:06:26.287Z"
   },
   {
    "duration": 14,
    "start_time": "2023-05-24T10:10:02.976Z"
   },
   {
    "duration": 708,
    "start_time": "2023-05-24T10:10:06.300Z"
   },
   {
    "duration": 5,
    "start_time": "2023-05-24T10:10:27.253Z"
   },
   {
    "duration": 68,
    "start_time": "2023-05-24T10:10:27.259Z"
   },
   {
    "duration": 18,
    "start_time": "2023-05-24T10:10:27.329Z"
   },
   {
    "duration": 26,
    "start_time": "2023-05-24T10:10:27.348Z"
   },
   {
    "duration": 30,
    "start_time": "2023-05-24T10:10:27.376Z"
   },
   {
    "duration": 6,
    "start_time": "2023-05-24T10:10:27.408Z"
   },
   {
    "duration": 8,
    "start_time": "2023-05-24T10:10:27.416Z"
   },
   {
    "duration": 19,
    "start_time": "2023-05-24T10:10:27.425Z"
   },
   {
    "duration": 24,
    "start_time": "2023-05-24T10:10:27.445Z"
   },
   {
    "duration": 11,
    "start_time": "2023-05-24T10:10:27.470Z"
   },
   {
    "duration": 7,
    "start_time": "2023-05-24T10:10:27.482Z"
   },
   {
    "duration": 16,
    "start_time": "2023-05-24T10:10:27.491Z"
   },
   {
    "duration": 307,
    "start_time": "2023-05-24T10:10:27.508Z"
   },
   {
    "duration": 278,
    "start_time": "2023-05-24T10:10:27.817Z"
   },
   {
    "duration": 293,
    "start_time": "2023-05-24T10:10:28.096Z"
   },
   {
    "duration": 289,
    "start_time": "2023-05-24T10:10:28.391Z"
   },
   {
    "duration": 13,
    "start_time": "2023-05-24T10:10:28.682Z"
   },
   {
    "duration": 12,
    "start_time": "2023-05-24T10:10:28.696Z"
   },
   {
    "duration": 141,
    "start_time": "2023-05-24T10:10:28.710Z"
   },
   {
    "duration": 141,
    "start_time": "2023-05-24T10:10:28.852Z"
   },
   {
    "duration": 183,
    "start_time": "2023-05-24T10:10:28.995Z"
   },
   {
    "duration": 198,
    "start_time": "2023-05-24T10:10:29.179Z"
   },
   {
    "duration": 186,
    "start_time": "2023-05-24T10:10:29.378Z"
   },
   {
    "duration": 27,
    "start_time": "2023-05-24T10:10:29.566Z"
   },
   {
    "duration": 20,
    "start_time": "2023-05-24T10:10:29.595Z"
   },
   {
    "duration": 233,
    "start_time": "2023-05-24T10:10:29.617Z"
   },
   {
    "duration": 1980,
    "start_time": "2023-05-24T10:10:29.852Z"
   },
   {
    "duration": 14,
    "start_time": "2023-05-24T10:10:31.834Z"
   },
   {
    "duration": 827,
    "start_time": "2023-05-24T10:10:31.850Z"
   },
   {
    "duration": 153,
    "start_time": "2023-05-24T10:10:32.679Z"
   },
   {
    "duration": 10,
    "start_time": "2023-05-24T10:10:32.834Z"
   },
   {
    "duration": 21,
    "start_time": "2023-05-24T10:10:32.846Z"
   },
   {
    "duration": 9,
    "start_time": "2023-05-24T10:10:32.868Z"
   },
   {
    "duration": 35,
    "start_time": "2023-05-24T10:10:32.879Z"
   },
   {
    "duration": 10,
    "start_time": "2023-05-24T10:10:32.915Z"
   },
   {
    "duration": 1199,
    "start_time": "2023-05-24T10:11:25.665Z"
   },
   {
    "duration": 1193,
    "start_time": "2023-05-24T10:11:27.896Z"
   },
   {
    "duration": 2,
    "start_time": "2023-05-24T10:11:30.575Z"
   },
   {
    "duration": 119,
    "start_time": "2023-05-24T10:11:30.579Z"
   },
   {
    "duration": 20,
    "start_time": "2023-05-24T10:11:30.699Z"
   },
   {
    "duration": 85,
    "start_time": "2023-05-24T10:11:30.721Z"
   },
   {
    "duration": 63,
    "start_time": "2023-05-24T10:11:30.808Z"
   },
   {
    "duration": 41,
    "start_time": "2023-05-24T10:11:30.873Z"
   },
   {
    "duration": 27,
    "start_time": "2023-05-24T10:11:30.915Z"
   },
   {
    "duration": 50,
    "start_time": "2023-05-24T10:11:30.945Z"
   },
   {
    "duration": 30,
    "start_time": "2023-05-24T10:11:30.997Z"
   },
   {
    "duration": 31,
    "start_time": "2023-05-24T10:11:31.029Z"
   },
   {
    "duration": 14,
    "start_time": "2023-05-24T10:11:31.062Z"
   },
   {
    "duration": 42,
    "start_time": "2023-05-24T10:11:31.077Z"
   },
   {
    "duration": 331,
    "start_time": "2023-05-24T10:11:31.121Z"
   },
   {
    "duration": 267,
    "start_time": "2023-05-24T10:11:31.454Z"
   },
   {
    "duration": 316,
    "start_time": "2023-05-24T10:11:31.723Z"
   },
   {
    "duration": 278,
    "start_time": "2023-05-24T10:11:32.041Z"
   },
   {
    "duration": 12,
    "start_time": "2023-05-24T10:11:32.321Z"
   },
   {
    "duration": 9,
    "start_time": "2023-05-24T10:11:32.335Z"
   },
   {
    "duration": 172,
    "start_time": "2023-05-24T10:11:32.346Z"
   },
   {
    "duration": 186,
    "start_time": "2023-05-24T10:11:32.520Z"
   },
   {
    "duration": 184,
    "start_time": "2023-05-24T10:11:32.708Z"
   },
   {
    "duration": 206,
    "start_time": "2023-05-24T10:11:32.894Z"
   },
   {
    "duration": 180,
    "start_time": "2023-05-24T10:11:33.102Z"
   },
   {
    "duration": 34,
    "start_time": "2023-05-24T10:11:33.284Z"
   },
   {
    "duration": 10,
    "start_time": "2023-05-24T10:11:33.320Z"
   },
   {
    "duration": 395,
    "start_time": "2023-05-24T10:11:33.332Z"
   },
   {
    "duration": 254,
    "start_time": "2023-05-24T10:11:33.728Z"
   },
   {
    "duration": 1152,
    "start_time": "2023-05-24T10:11:33.984Z"
   },
   {
    "duration": 0,
    "start_time": "2023-05-24T10:11:35.137Z"
   },
   {
    "duration": 0,
    "start_time": "2023-05-24T10:11:35.138Z"
   },
   {
    "duration": 0,
    "start_time": "2023-05-24T10:11:35.139Z"
   },
   {
    "duration": 0,
    "start_time": "2023-05-24T10:11:35.140Z"
   },
   {
    "duration": 0,
    "start_time": "2023-05-24T10:11:35.141Z"
   },
   {
    "duration": 0,
    "start_time": "2023-05-24T10:11:35.142Z"
   },
   {
    "duration": 0,
    "start_time": "2023-05-24T10:11:35.143Z"
   },
   {
    "duration": 1210,
    "start_time": "2023-05-24T10:12:01.153Z"
   },
   {
    "duration": 26,
    "start_time": "2023-05-24T10:12:10.582Z"
   },
   {
    "duration": 743,
    "start_time": "2023-05-24T10:12:25.412Z"
   },
   {
    "duration": 168,
    "start_time": "2023-05-24T10:12:47.557Z"
   },
   {
    "duration": 1182,
    "start_time": "2023-05-24T10:24:45.455Z"
   },
   {
    "duration": 12,
    "start_time": "2023-05-24T10:24:57.050Z"
   },
   {
    "duration": 11,
    "start_time": "2023-05-24T10:26:13.520Z"
   },
   {
    "duration": 26,
    "start_time": "2023-05-24T10:28:38.779Z"
   },
   {
    "duration": 25,
    "start_time": "2023-05-24T10:30:10.262Z"
   },
   {
    "duration": 25,
    "start_time": "2023-05-24T10:30:36.520Z"
   },
   {
    "duration": 19,
    "start_time": "2023-05-24T10:31:15.299Z"
   },
   {
    "duration": 16,
    "start_time": "2023-05-24T10:31:24.489Z"
   },
   {
    "duration": 25,
    "start_time": "2023-05-24T10:31:28.412Z"
   },
   {
    "duration": 40,
    "start_time": "2023-05-24T10:31:44.999Z"
   },
   {
    "duration": 31,
    "start_time": "2023-05-24T10:32:07.015Z"
   },
   {
    "duration": 14,
    "start_time": "2023-05-24T10:32:11.374Z"
   },
   {
    "duration": 9,
    "start_time": "2023-05-24T10:37:09.876Z"
   },
   {
    "duration": 137,
    "start_time": "2023-05-24T12:25:28.471Z"
   },
   {
    "duration": 71,
    "start_time": "2023-05-24T12:26:14.093Z"
   },
   {
    "duration": 173,
    "start_time": "2023-05-24T12:26:29.646Z"
   },
   {
    "duration": 188,
    "start_time": "2023-05-24T12:26:55.450Z"
   },
   {
    "duration": 289,
    "start_time": "2023-05-24T12:34:02.621Z"
   },
   {
    "duration": 235,
    "start_time": "2023-05-24T12:34:30.285Z"
   },
   {
    "duration": 375,
    "start_time": "2023-05-24T12:35:57.472Z"
   },
   {
    "duration": 9,
    "start_time": "2023-05-24T12:39:45.610Z"
   },
   {
    "duration": 7,
    "start_time": "2023-05-24T12:39:47.949Z"
   },
   {
    "duration": 66,
    "start_time": "2023-05-24T12:41:15.117Z"
   },
   {
    "duration": 17,
    "start_time": "2023-05-24T12:41:29.363Z"
   },
   {
    "duration": 7,
    "start_time": "2023-05-24T12:41:43.157Z"
   },
   {
    "duration": 59,
    "start_time": "2023-05-24T12:41:55.818Z"
   },
   {
    "duration": 5,
    "start_time": "2023-05-24T12:42:22.157Z"
   },
   {
    "duration": 1233,
    "start_time": "2023-05-24T12:42:30.659Z"
   },
   {
    "duration": 12,
    "start_time": "2023-05-24T12:43:26.759Z"
   },
   {
    "duration": 145,
    "start_time": "2023-05-24T12:44:01.006Z"
   },
   {
    "duration": 223,
    "start_time": "2023-05-24T12:48:20.967Z"
   },
   {
    "duration": 189,
    "start_time": "2023-05-24T12:49:37.718Z"
   },
   {
    "duration": 12,
    "start_time": "2023-05-24T12:53:30.304Z"
   },
   {
    "duration": 156,
    "start_time": "2023-05-24T12:53:38.828Z"
   },
   {
    "duration": 161,
    "start_time": "2023-05-24T12:54:54.063Z"
   },
   {
    "duration": 147,
    "start_time": "2023-05-24T12:55:01.914Z"
   },
   {
    "duration": 236,
    "start_time": "2023-05-24T12:55:14.164Z"
   },
   {
    "duration": 193,
    "start_time": "2023-05-24T12:55:35.579Z"
   },
   {
    "duration": 110,
    "start_time": "2023-05-24T12:56:29.416Z"
   },
   {
    "duration": 98,
    "start_time": "2023-05-24T12:56:42.599Z"
   },
   {
    "duration": 331,
    "start_time": "2023-05-24T12:56:50.303Z"
   },
   {
    "duration": 194,
    "start_time": "2023-05-24T12:57:45.159Z"
   },
   {
    "duration": 257,
    "start_time": "2023-05-24T12:58:20.399Z"
   },
   {
    "duration": 12,
    "start_time": "2023-05-24T12:58:48.259Z"
   },
   {
    "duration": 247,
    "start_time": "2023-05-24T12:59:08.521Z"
   },
   {
    "duration": 9,
    "start_time": "2023-05-24T13:07:04.683Z"
   },
   {
    "duration": 9,
    "start_time": "2023-05-24T13:07:37.283Z"
   },
   {
    "duration": 9,
    "start_time": "2023-05-24T13:08:39.491Z"
   },
   {
    "duration": 11,
    "start_time": "2023-05-24T13:09:17.459Z"
   },
   {
    "duration": 11,
    "start_time": "2023-05-24T13:09:28.582Z"
   },
   {
    "duration": 13,
    "start_time": "2023-05-24T13:09:32.906Z"
   },
   {
    "duration": 4,
    "start_time": "2023-05-24T13:09:44.673Z"
   },
   {
    "duration": 70,
    "start_time": "2023-05-24T13:09:44.679Z"
   },
   {
    "duration": 21,
    "start_time": "2023-05-24T13:09:44.751Z"
   },
   {
    "duration": 33,
    "start_time": "2023-05-24T13:09:44.774Z"
   },
   {
    "duration": 13,
    "start_time": "2023-05-24T13:09:44.809Z"
   },
   {
    "duration": 6,
    "start_time": "2023-05-24T13:09:44.823Z"
   },
   {
    "duration": 11,
    "start_time": "2023-05-24T13:09:44.831Z"
   },
   {
    "duration": 8,
    "start_time": "2023-05-24T13:09:44.844Z"
   },
   {
    "duration": 15,
    "start_time": "2023-05-24T13:09:44.853Z"
   },
   {
    "duration": 38,
    "start_time": "2023-05-24T13:09:44.870Z"
   },
   {
    "duration": 8,
    "start_time": "2023-05-24T13:09:44.909Z"
   },
   {
    "duration": 6,
    "start_time": "2023-05-24T13:09:44.918Z"
   },
   {
    "duration": 341,
    "start_time": "2023-05-24T13:09:44.926Z"
   },
   {
    "duration": 408,
    "start_time": "2023-05-24T13:09:45.270Z"
   },
   {
    "duration": 304,
    "start_time": "2023-05-24T13:09:45.680Z"
   },
   {
    "duration": 301,
    "start_time": "2023-05-24T13:09:45.986Z"
   },
   {
    "duration": 20,
    "start_time": "2023-05-24T13:09:46.288Z"
   },
   {
    "duration": 18,
    "start_time": "2023-05-24T13:09:46.310Z"
   },
   {
    "duration": 142,
    "start_time": "2023-05-24T13:09:46.330Z"
   },
   {
    "duration": 173,
    "start_time": "2023-05-24T13:09:46.474Z"
   },
   {
    "duration": 193,
    "start_time": "2023-05-24T13:09:46.649Z"
   },
   {
    "duration": 201,
    "start_time": "2023-05-24T13:09:46.844Z"
   },
   {
    "duration": 194,
    "start_time": "2023-05-24T13:09:47.047Z"
   },
   {
    "duration": 43,
    "start_time": "2023-05-24T13:09:47.243Z"
   },
   {
    "duration": 22,
    "start_time": "2023-05-24T13:09:47.288Z"
   },
   {
    "duration": 0,
    "start_time": "2023-05-24T13:09:47.312Z"
   },
   {
    "duration": 0,
    "start_time": "2023-05-24T13:09:47.314Z"
   },
   {
    "duration": 0,
    "start_time": "2023-05-24T13:09:47.315Z"
   },
   {
    "duration": 0,
    "start_time": "2023-05-24T13:09:47.316Z"
   },
   {
    "duration": 0,
    "start_time": "2023-05-24T13:09:47.317Z"
   },
   {
    "duration": 0,
    "start_time": "2023-05-24T13:09:47.319Z"
   },
   {
    "duration": 0,
    "start_time": "2023-05-24T13:09:47.320Z"
   },
   {
    "duration": 0,
    "start_time": "2023-05-24T13:09:47.321Z"
   },
   {
    "duration": 0,
    "start_time": "2023-05-24T13:09:47.323Z"
   },
   {
    "duration": 0,
    "start_time": "2023-05-24T13:09:47.324Z"
   },
   {
    "duration": 0,
    "start_time": "2023-05-24T13:09:47.325Z"
   },
   {
    "duration": 0,
    "start_time": "2023-05-24T13:09:47.326Z"
   },
   {
    "duration": 11,
    "start_time": "2023-05-24T13:10:07.763Z"
   },
   {
    "duration": 10,
    "start_time": "2023-05-24T13:10:36.871Z"
   },
   {
    "duration": 4,
    "start_time": "2023-05-24T13:10:53.804Z"
   },
   {
    "duration": 4,
    "start_time": "2023-05-24T13:11:11.227Z"
   },
   {
    "duration": 4,
    "start_time": "2023-05-24T13:11:51.696Z"
   },
   {
    "duration": 10,
    "start_time": "2023-05-24T13:12:36.493Z"
   },
   {
    "duration": 14,
    "start_time": "2023-05-24T13:13:57.093Z"
   },
   {
    "duration": 17,
    "start_time": "2023-05-24T13:14:10.165Z"
   },
   {
    "duration": 20,
    "start_time": "2023-05-24T13:23:13.693Z"
   },
   {
    "duration": 8,
    "start_time": "2023-05-24T13:23:27.179Z"
   },
   {
    "duration": 1399,
    "start_time": "2023-05-24T13:27:02.259Z"
   },
   {
    "duration": 69,
    "start_time": "2023-05-24T13:27:37.591Z"
   },
   {
    "duration": 70,
    "start_time": "2023-05-24T13:28:57.806Z"
   },
   {
    "duration": 1459,
    "start_time": "2023-05-24T13:29:09.221Z"
   },
   {
    "duration": 220,
    "start_time": "2023-05-24T13:29:40.406Z"
   },
   {
    "duration": 75,
    "start_time": "2023-05-24T13:31:04.022Z"
   },
   {
    "duration": 77,
    "start_time": "2023-05-24T13:31:54.123Z"
   },
   {
    "duration": 106,
    "start_time": "2023-05-24T13:32:39.486Z"
   },
   {
    "duration": 83,
    "start_time": "2023-05-24T13:33:59.176Z"
   },
   {
    "duration": 295,
    "start_time": "2023-05-24T13:34:30.372Z"
   },
   {
    "duration": 3,
    "start_time": "2023-05-24T13:56:35.385Z"
   },
   {
    "duration": 88,
    "start_time": "2023-05-24T13:56:35.390Z"
   },
   {
    "duration": 18,
    "start_time": "2023-05-24T13:56:35.479Z"
   },
   {
    "duration": 40,
    "start_time": "2023-05-24T13:56:35.499Z"
   },
   {
    "duration": 13,
    "start_time": "2023-05-24T13:56:35.541Z"
   },
   {
    "duration": 20,
    "start_time": "2023-05-24T13:56:35.555Z"
   },
   {
    "duration": 19,
    "start_time": "2023-05-24T13:56:35.577Z"
   },
   {
    "duration": 10,
    "start_time": "2023-05-24T13:56:35.597Z"
   },
   {
    "duration": 15,
    "start_time": "2023-05-24T13:56:35.609Z"
   },
   {
    "duration": 7,
    "start_time": "2023-05-24T13:56:35.626Z"
   },
   {
    "duration": 6,
    "start_time": "2023-05-24T13:56:35.634Z"
   },
   {
    "duration": 15,
    "start_time": "2023-05-24T13:56:35.641Z"
   },
   {
    "duration": 326,
    "start_time": "2023-05-24T13:56:35.657Z"
   },
   {
    "duration": 385,
    "start_time": "2023-05-24T13:56:35.986Z"
   },
   {
    "duration": 295,
    "start_time": "2023-05-24T13:56:36.372Z"
   },
   {
    "duration": 263,
    "start_time": "2023-05-24T13:56:36.668Z"
   },
   {
    "duration": 11,
    "start_time": "2023-05-24T13:56:36.932Z"
   },
   {
    "duration": 13,
    "start_time": "2023-05-24T13:56:36.945Z"
   },
   {
    "duration": 136,
    "start_time": "2023-05-24T13:56:36.959Z"
   },
   {
    "duration": 133,
    "start_time": "2023-05-24T13:56:37.096Z"
   },
   {
    "duration": 175,
    "start_time": "2023-05-24T13:56:37.231Z"
   },
   {
    "duration": 178,
    "start_time": "2023-05-24T13:56:37.407Z"
   },
   {
    "duration": 173,
    "start_time": "2023-05-24T13:56:37.586Z"
   },
   {
    "duration": 26,
    "start_time": "2023-05-24T13:56:37.761Z"
   },
   {
    "duration": 21,
    "start_time": "2023-05-24T13:56:37.789Z"
   },
   {
    "duration": 10,
    "start_time": "2023-05-24T13:56:37.811Z"
   },
   {
    "duration": 342,
    "start_time": "2023-05-24T13:56:37.823Z"
   },
   {
    "duration": 234,
    "start_time": "2023-05-24T13:56:38.166Z"
   },
   {
    "duration": 17,
    "start_time": "2023-05-24T13:56:38.406Z"
   },
   {
    "duration": 680,
    "start_time": "2023-05-24T13:56:38.424Z"
   },
   {
    "duration": 6,
    "start_time": "2023-05-24T13:56:39.106Z"
   },
   {
    "duration": 274,
    "start_time": "2023-05-24T13:56:39.114Z"
   },
   {
    "duration": 18,
    "start_time": "2023-05-24T13:56:39.390Z"
   },
   {
    "duration": 19,
    "start_time": "2023-05-24T13:56:39.409Z"
   },
   {
    "duration": 8,
    "start_time": "2023-05-24T13:56:39.429Z"
   },
   {
    "duration": 20,
    "start_time": "2023-05-24T13:56:39.439Z"
   },
   {
    "duration": 10,
    "start_time": "2023-05-24T13:56:39.460Z"
   },
   {
    "duration": 12,
    "start_time": "2023-05-24T13:56:54.373Z"
   },
   {
    "duration": 270,
    "start_time": "2023-05-24T13:57:15.003Z"
   },
   {
    "duration": 740,
    "start_time": "2023-05-24T13:57:23.872Z"
   },
   {
    "duration": 11,
    "start_time": "2023-05-24T13:57:34.171Z"
   },
   {
    "duration": 25,
    "start_time": "2023-05-24T13:58:14.307Z"
   },
   {
    "duration": 51,
    "start_time": "2023-05-24T16:10:43.766Z"
   },
   {
    "duration": 1714,
    "start_time": "2023-05-24T16:10:49.875Z"
   },
   {
    "duration": 72,
    "start_time": "2023-05-24T16:10:51.591Z"
   },
   {
    "duration": 30,
    "start_time": "2023-05-24T16:10:51.665Z"
   },
   {
    "duration": 36,
    "start_time": "2023-05-24T16:10:51.697Z"
   },
   {
    "duration": 44,
    "start_time": "2023-05-24T16:10:51.734Z"
   },
   {
    "duration": 18,
    "start_time": "2023-05-24T16:10:51.780Z"
   },
   {
    "duration": 22,
    "start_time": "2023-05-24T16:10:51.800Z"
   },
   {
    "duration": 9,
    "start_time": "2023-05-24T16:10:51.824Z"
   },
   {
    "duration": 27,
    "start_time": "2023-05-24T16:10:51.835Z"
   },
   {
    "duration": 9,
    "start_time": "2023-05-24T16:10:51.865Z"
   },
   {
    "duration": 5,
    "start_time": "2023-05-24T16:10:51.876Z"
   },
   {
    "duration": 9,
    "start_time": "2023-05-24T16:10:51.882Z"
   },
   {
    "duration": 413,
    "start_time": "2023-05-24T16:10:51.893Z"
   },
   {
    "duration": 338,
    "start_time": "2023-05-24T16:10:52.308Z"
   },
   {
    "duration": 444,
    "start_time": "2023-05-24T16:10:52.648Z"
   },
   {
    "duration": 331,
    "start_time": "2023-05-24T16:10:53.094Z"
   },
   {
    "duration": 14,
    "start_time": "2023-05-24T16:10:53.427Z"
   },
   {
    "duration": 9,
    "start_time": "2023-05-24T16:10:53.443Z"
   },
   {
    "duration": 175,
    "start_time": "2023-05-24T16:10:53.454Z"
   },
   {
    "duration": 170,
    "start_time": "2023-05-24T16:10:53.631Z"
   },
   {
    "duration": 238,
    "start_time": "2023-05-24T16:10:53.803Z"
   },
   {
    "duration": 231,
    "start_time": "2023-05-24T16:10:54.043Z"
   },
   {
    "duration": 240,
    "start_time": "2023-05-24T16:10:54.276Z"
   },
   {
    "duration": 27,
    "start_time": "2023-05-24T16:10:54.518Z"
   },
   {
    "duration": 30,
    "start_time": "2023-05-24T16:10:54.547Z"
   },
   {
    "duration": 14,
    "start_time": "2023-05-24T16:10:54.578Z"
   },
   {
    "duration": 299,
    "start_time": "2023-05-24T16:10:54.594Z"
   },
   {
    "duration": 430,
    "start_time": "2023-05-24T16:10:54.897Z"
   },
   {
    "duration": 14,
    "start_time": "2023-05-24T16:10:55.328Z"
   },
   {
    "duration": 1051,
    "start_time": "2023-05-24T16:10:55.345Z"
   },
   {
    "duration": 11,
    "start_time": "2023-05-24T16:10:56.398Z"
   },
   {
    "duration": 422,
    "start_time": "2023-05-24T16:10:56.411Z"
   },
   {
    "duration": 7,
    "start_time": "2023-05-24T16:10:56.835Z"
   },
   {
    "duration": 37,
    "start_time": "2023-05-24T16:10:56.844Z"
   },
   {
    "duration": 20,
    "start_time": "2023-05-24T16:10:56.885Z"
   },
   {
    "duration": 16,
    "start_time": "2023-05-24T16:10:56.907Z"
   },
   {
    "duration": 50,
    "start_time": "2023-05-24T16:10:56.925Z"
   },
   {
    "duration": 13,
    "start_time": "2023-05-24T16:10:56.977Z"
   },
   {
    "duration": 8,
    "start_time": "2023-05-24T16:11:12.796Z"
   }
  ],
  "kernelspec": {
   "display_name": "Python 3 (ipykernel)",
   "language": "python",
   "name": "python3"
  },
  "language_info": {
   "codemirror_mode": {
    "name": "ipython",
    "version": 3
   },
   "file_extension": ".py",
   "mimetype": "text/x-python",
   "name": "python",
   "nbconvert_exporter": "python",
   "pygments_lexer": "ipython3",
   "version": "3.9.13"
  },
  "toc": {
   "base_numbering": 1,
   "nav_menu": {},
   "number_sections": true,
   "sideBar": true,
   "skip_h1_title": true,
   "title_cell": "Table of Contents",
   "title_sidebar": "Contents",
   "toc_cell": true,
   "toc_position": {
    "height": "calc(100% - 180px)",
    "left": "10px",
    "top": "150px",
    "width": "251.726px"
   },
   "toc_section_display": true,
   "toc_window_display": false
  },
  "varInspector": {
   "cols": {
    "lenName": 16,
    "lenType": 16,
    "lenVar": 40
   },
   "kernels_config": {
    "python": {
     "delete_cmd_postfix": "",
     "delete_cmd_prefix": "del ",
     "library": "var_list.py",
     "varRefreshCmd": "print(var_dic_list())"
    },
    "r": {
     "delete_cmd_postfix": ") ",
     "delete_cmd_prefix": "rm(",
     "library": "var_list.r",
     "varRefreshCmd": "cat(var_dic_list()) "
    }
   },
   "types_to_exclude": [
    "module",
    "function",
    "builtin_function_or_method",
    "instance",
    "_Feature"
   ],
   "window_display": false
  }
 },
 "nbformat": 4,
 "nbformat_minor": 5
}
